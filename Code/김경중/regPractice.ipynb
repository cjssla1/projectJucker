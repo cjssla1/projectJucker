{
  "nbformat": 4,
  "nbformat_minor": 0,
  "metadata": {
    "colab": {
      "name": "regPractice.ipynb",
      "provenance": [],
      "collapsed_sections": [],
      "authorship_tag": "ABX9TyP0dV6Xe23K/7bw5fhhttXv"
    },
    "kernelspec": {
      "name": "python3",
      "display_name": "Python 3"
    }
  },
  "cells": [
    {
      "cell_type": "code",
      "metadata": {
        "id": "Nx04U5ab9uaC",
        "colab_type": "code",
        "outputId": "9728aca9-240a-460b-c125-b18a28cd610e",
        "colab": {
          "base_uri": "https://localhost:8080/",
          "height": 89
        }
      },
      "source": [
        "#파이토치 인스톨\n",
        "!pip install -q torch==1.4.0 torchvision\n",
        "!pip install beautifulsoup4\n",
        "import torch\n",
        "print(torch.__version__)"
      ],
      "execution_count": 145,
      "outputs": [
        {
          "output_type": "stream",
          "text": [
            "Requirement already satisfied: beautifulsoup4 in /usr/local/lib/python3.6/dist-packages (4.6.3)\n",
            "1.4.0\n",
            "Requirement already satisfied: beautifulsoup4 in /usr/local/lib/python3.6/dist-packages (4.6.3)\n",
            "1.4.0\n"
          ],
          "name": "stdout"
        }
      ]
    },
    {
      "cell_type": "code",
      "metadata": {
        "id": "FYjn1Z4e96kx",
        "colab_type": "code",
        "outputId": "f572c3ac-b0d5-41cb-d8f7-67d444cdd83e",
        "colab": {
          "base_uri": "https://localhost:8080/",
          "height": 35
        }
      },
      "source": [
        "%matplotlib inline\n",
        "#데이터 생성과 화면 표시를 위한 라이브러리 호출\n",
        "import numpy as np\n",
        "import matplotlib.pyplot as plt\n",
        "from mpl_toolkits import mplot3d\n",
        "\n",
        "#실험결과 비교를 위해 시드 고정\n",
        "seed = 444\n",
        "np.random.seed(seed)\n",
        "torch.manual_seed(seed)"
      ],
      "execution_count": 146,
      "outputs": [
        {
          "output_type": "execute_result",
          "data": {
            "text/plain": [
              "<torch._C.Generator at 0x7f165983fd30>"
            ]
          },
          "metadata": {
            "tags": []
          },
          "execution_count": 146
        }
      ]
    },
    {
      "cell_type": "code",
      "metadata": {
        "id": "3rkRLj2_-504",
        "colab_type": "code",
        "colab": {}
      },
      "source": [
        "class proData:\n",
        "    \n",
        "    #데이터 쪼개기, 학습, 평가, 테스트 3개부분으로\n",
        "    def splitData(self,x,y):\n",
        "        origin = len(x)\n",
        "        trainn = int(origin*0.6)\n",
        "        valn = int(origin*0.8)\n",
        "\n",
        "        # 경향성을 없애기 위한 셔플\n",
        "        s = np.arange(x.shape[0])\n",
        "        np.random.shuffle(s)\n",
        "        x = x[s]\n",
        "        y = y[s]\n",
        "\n",
        "        trainX, trainY = x[:trainn, :], y[:trainn]\n",
        "        valX, valY = x[trainn:valn,:], y[trainn:valn]\n",
        "        testX,testY = x[valn:,:], y[valn:]\n",
        "\n",
        "        return trainX,trainY,valX,valY,testX,testY"
      ],
      "execution_count": 0,
      "outputs": []
    },
    {
      "cell_type": "code",
      "metadata": {
        "id": "r8qxu117W9cQ",
        "colab_type": "code",
        "colab": {}
      },
      "source": [
        "import torch.nn as nn\n",
        "# 모델 정의\n",
        "    \n",
        "class MLPModel(nn.Module):\n",
        "    # input = 입력값 개수, output = 출력값 개수\n",
        "    def __init__(self,_input,_output,_hidden_layers): \n",
        "        super(MLPModel, self).__init__()\n",
        "        self.inputv = _input\n",
        "        self.outputv = _output\n",
        "        nodes = [_input] + _hidden_layers + [_output]\n",
        "        self.depth = len(nodes)\n",
        "        linears = [nn.Linear(nodes[i], nodes[i+1]) for i in range(self.depth-1)]\n",
        "        self.linears = nn.ModuleList(linears)\n",
        "        self.relu = nn.ReLU()\n",
        "        \n",
        "    \n",
        "    def forward(self, x):\n",
        "    # 인스턴스(샘플) x가 인풋으로 들어왔을 때 모델이 예측하는 y값을 리턴합니다.\n",
        "        for linear in self.linears[:-1]: \n",
        "          x = linear(x)\n",
        "          x = self.relu(x)\n",
        "        x = self.linears[-1](x)\n",
        "\n",
        "        return x"
      ],
      "execution_count": 0,
      "outputs": []
    },
    {
      "cell_type": "code",
      "metadata": {
        "id": "OANyPaziXbLe",
        "colab_type": "code",
        "colab": {}
      },
      "source": [
        "class pltClass():\n",
        "\n",
        "    def __init__(self,_list_epoch, _list_train_loss, _list_val_loss, _list_mae_epoch, _list_mae):\n",
        "        self.list_epoch = _list_epoch\n",
        "        self.list_train_loss = _list_train_loss\n",
        "        self.list_val_loss = _list_val_loss\n",
        "        self.list_mae_epoch = _list_mae_epoch\n",
        "        self.list_mae = _list_mae\n",
        "\n",
        "\n",
        "    def printFigure(self):\n",
        "        fig = plt.figure(figsize=(15,5))\n",
        "\n",
        "        # ====== Loss Fluctuation ====== #\n",
        "        ax1 = fig.add_subplot(1, 2, 1)\n",
        "        ax1.plot(self.list_epoch, self.list_train_loss, label='train_loss')\n",
        "        ax1.plot(self.list_epoch, self.list_val_loss, '--', label='val_loss')\n",
        "        ax1.set_xlabel('epoch')\n",
        "        ax1.set_ylabel('loss')\n",
        "        #ax1.set_ylim(0, 5)\n",
        "        ax1.grid()\n",
        "        ax1.legend()\n",
        "        ax1.set_title('epoch vs loss')\n",
        "\n",
        "        # ====== Metric Fluctuation ====== #\n",
        "        ax2 = fig.add_subplot(1, 2, 2)\n",
        "        ax2.plot(self.list_mae_epoch, self.list_mae, marker='x', label='mae metric')\n",
        "\n",
        "        ax2.set_xlabel('epoch')\n",
        "        ax2.set_ylabel('mae')\n",
        "        ax2.grid()\n",
        "        ax2.legend()\n",
        "        ax2.set_title('epoch vs mae')\n",
        "\n",
        "\n",
        "        plt.show()\n",
        "\n"
      ],
      "execution_count": 0,
      "outputs": []
    },
    {
      "cell_type": "code",
      "metadata": {
        "id": "EYZEB6mrFOif",
        "colab_type": "code",
        "colab": {}
      },
      "source": [
        "class epochClass():\n",
        "\n",
        "    def __init__(self,_model,_optimizer):\n",
        "        self.model = _model\n",
        "        self.optimizer = _optimizer\n",
        "        self.reg_loss = nn.MSELoss()\n",
        "        self.list_epoch = []\n",
        "        self.list_train_loss = []\n",
        "        self.list_val_loss = []\n",
        "        self.list_mae = []\n",
        "        self.list_mae_epoch = []\n",
        "\n",
        "    def getModelOptim(self):\n",
        "        return self.model, self.optimizer\n",
        "\n",
        "    def getEpochList(self):\n",
        "        return self.list_epoch, self.list_train_loss, self.list_val_loss, self.list_mae, self.list_mae_epoch\n",
        "\n",
        "    def startEpoch(self,epoch,interval,train_X,train_y,val_X,val_y,test_X,test_y):\n",
        "        for i in range(epoch):    \n",
        "            # ====== Train ====== #\n",
        "            self.model.train() # model을 train 모드로 세팅합니다. 반대로 향후 모델을 평가할 때는 eval() 모드로 변경할 겁니다 (나중 실습에서 쓸 겁니다)\n",
        "            self.optimizer.zero_grad() # optimizer에 남아있을 수도 있는 잔여 그라디언트를 0으로 다 초기화해줍니다.\n",
        "            \n",
        "            input_x = torch.Tensor(train_X)\n",
        "            true_y = torch.Tensor(train_y)\n",
        "            pred_y = model(input_x)\n",
        "            #print(input_x.shape, true_y.shape, pred_y.shape) # 각 인풋과 아웃풋의 차원을 체크해봅니다.\n",
        "            \n",
        "            loss = self.reg_loss(pred_y.squeeze(), true_y)\n",
        "            loss.backward() # backward()를 통해서 그라디언트를 구해줍니다.\n",
        "            optimizer.step() # step()을 통해서 그라디언틀르 바탕으로 파라미터를 업데이트 해줍니다. \n",
        "            self.list_epoch.append(i)\n",
        "            self.list_train_loss.append(loss.detach().numpy())\n",
        "            \n",
        "            \n",
        "            # ====== Validation ====== #\n",
        "            model.eval()\n",
        "            optimizer.zero_grad()\n",
        "            input_x = torch.Tensor(val_X)\n",
        "            true_y = torch.Tensor(val_y)\n",
        "            pred_y = model(input_x)   \n",
        "            loss = self.reg_loss(pred_y.squeeze(), true_y)\n",
        "            self.list_val_loss.append(loss.detach().numpy())\n",
        "            \n",
        "\n",
        "            # ====== Evaluation ======= #\n",
        "            if i % interval == 0: # 200회의 학습마다 실제 데이터 분포와 모델이 예측한 분포를 그려봅니다.\n",
        "                \n",
        "                # ====== Calculate MAE ====== #\n",
        "                model.eval()\n",
        "                optimizer.zero_grad()\n",
        "                input_x = torch.Tensor(test_X)\n",
        "                true_y = torch.Tensor(test_y)\n",
        "                pred_y = model(input_x).detach().numpy() \n",
        "                mae = mean_absolute_error(true_y, pred_y) # sklearn 쪽 함수들은 true_y 가 먼저, pred_y가 나중에 인자로 들어가는 것에 주의합시다\n",
        "                self.list_mae.append(mae)\n",
        "                self.list_mae_epoch.append(i)\n",
        "                \n",
        "                print(i, loss)"
      ],
      "execution_count": 0,
      "outputs": []
    },
    {
      "cell_type": "code",
      "metadata": {
        "id": "pLZKEfpiwXFW",
        "colab_type": "code",
        "colab": {}
      },
      "source": [
        "#데이터 생성#\n",
        "from bs4 import BeautifulSoup\n",
        "import urllib.request\n",
        "import urllib.parse\n",
        "import requests\n",
        "\n",
        "with urllib.request.urlopen('https://github.com/cjssla1/projectJucker/blob/master/Result/StockInven/data.txt') as response:\n",
        "    html = response.read()\n",
        "    soup = BeautifulSoup(html, 'html.parser')\n",
        "\n",
        "    X = []\n",
        "    y = []\n",
        "    for i in range(1,1498):\n",
        "        line = str(i)\n",
        "        t = soup.find(id='LC'+line)\n",
        "        temp = t.text.split(',')\n",
        "        ttoint = []\n",
        "        for j in range(1,7):\n",
        "            ttoint.append(int(temp[j]))\n",
        "        X.append(ttoint[:5])\n",
        "        y.append(ttoint[-1])"
      ],
      "execution_count": 0,
      "outputs": []
    },
    {
      "cell_type": "code",
      "metadata": {
        "id": "goXTOmnP-GXf",
        "colab_type": "code",
        "colab": {
          "base_uri": "https://localhost:8080/",
          "height": 161
        },
        "outputId": "ec3de63d-9160-4e2a-b848-68ccafd0b469"
      },
      "source": [
        "\n",
        "inX = np.array(X)\n",
        "iny = np.array(y).T\n",
        "\n",
        "print(inX)\n",
        "print(iny)\n",
        "p = proData()\n",
        "train_X, train_y, val_X, val_y, test_X, test_y = p.splitData(inX,iny)"
      ],
      "execution_count": 152,
      "outputs": [
        {
          "output_type": "stream",
          "text": [
            "[[   49250    48950    49250    48650 17793724]\n",
            " [   84100    84000    84400    83000  3652884]\n",
            " [  559000   500000   603000   494500  2991087]\n",
            " ...\n",
            " [   22850    22100    22950    21900   687011]\n",
            " [   27500    27800    28200    27200   113276]\n",
            " [  289500   295000   296000   284500    42176]]\n",
            "[ 48300  81400 539000 ...  22650  27200 290500]\n"
          ],
          "name": "stdout"
        }
      ]
    },
    {
      "cell_type": "code",
      "metadata": {
        "id": "slENN0UDXQFC",
        "colab_type": "code",
        "outputId": "18433351-1b0e-4e7c-88c7-4d289aa3dcc9",
        "colab": {
          "base_uri": "https://localhost:8080/",
          "height": 35
        }
      },
      "source": [
        "import torch.optim as optim\n",
        "from sklearn.metrics import mean_absolute_error\n",
        "# 학습에 필요한 파라미터 정의\n",
        "\n",
        "model = MLPModel(5,1,[50,25,10]) # Model을 생성해줍니다.\n",
        "print('{} parameters'.format(sum(p.numel() for p in model.parameters() if p.requires_grad))) # 복잡해보이지만 간단히 모델 내에 학습을 당할 파라미터 수를 카운팅하는 코드입니다.\n",
        "\n",
        "# ===== Construct Optimizer ====== #\n",
        "lr = 0.005 # Learning Rate를 하나 정해줍니다. (원할한 학습을 위해 손을 많이 탑니다)\n",
        "optimizer = optim.Adam(model.parameters(), lr=lr) # Optimizer를 생성해줍니다.\n"
      ],
      "execution_count": 153,
      "outputs": [
        {
          "output_type": "stream",
          "text": [
            "1846 parameters\n"
          ],
          "name": "stdout"
        }
      ]
    },
    {
      "cell_type": "code",
      "metadata": {
        "id": "3OAz78sNJHsA",
        "colab_type": "code",
        "outputId": "14a25ee5-d657-452d-a882-e4923dc9fd7b",
        "colab": {
          "base_uri": "https://localhost:8080/",
          "height": 737
        }
      },
      "source": [
        "# 학습 시작\n",
        "ep = epochClass(model,optimizer)\n",
        "ep.startEpoch(4000,100,train_X,train_y,val_X,val_y,test_X,test_y)"
      ],
      "execution_count": 154,
      "outputs": [
        {
          "output_type": "stream",
          "text": [
            "0 tensor(6.1714e+09, grad_fn=<MseLossBackward>)\n",
            "100 tensor(4663557., grad_fn=<MseLossBackward>)\n",
            "200 tensor(2797798.2500, grad_fn=<MseLossBackward>)\n",
            "300 tensor(2448730.5000, grad_fn=<MseLossBackward>)\n",
            "400 tensor(6635256.5000, grad_fn=<MseLossBackward>)\n",
            "500 tensor(2182398.2500, grad_fn=<MseLossBackward>)\n",
            "600 tensor(2017211.5000, grad_fn=<MseLossBackward>)\n",
            "700 tensor(2235101.7500, grad_fn=<MseLossBackward>)\n",
            "800 tensor(1947136.8750, grad_fn=<MseLossBackward>)\n",
            "900 tensor(18489960., grad_fn=<MseLossBackward>)\n",
            "1000 tensor(4174442.5000, grad_fn=<MseLossBackward>)\n",
            "1100 tensor(2390428.2500, grad_fn=<MseLossBackward>)\n",
            "1200 tensor(2175139., grad_fn=<MseLossBackward>)\n",
            "1300 tensor(2041040.5000, grad_fn=<MseLossBackward>)\n",
            "1400 tensor(1964556., grad_fn=<MseLossBackward>)\n",
            "1500 tensor(1919738.8750, grad_fn=<MseLossBackward>)\n",
            "1600 tensor(2958701.2500, grad_fn=<MseLossBackward>)\n",
            "1700 tensor(1980883.7500, grad_fn=<MseLossBackward>)\n",
            "1800 tensor(1975746.3750, grad_fn=<MseLossBackward>)\n",
            "1900 tensor(2734050.5000, grad_fn=<MseLossBackward>)\n",
            "2000 tensor(1982391., grad_fn=<MseLossBackward>)\n",
            "2100 tensor(1972501.3750, grad_fn=<MseLossBackward>)\n",
            "2200 tensor(1975223.2500, grad_fn=<MseLossBackward>)\n",
            "2300 tensor(1979131.7500, grad_fn=<MseLossBackward>)\n",
            "2400 tensor(2034391.1250, grad_fn=<MseLossBackward>)\n",
            "2500 tensor(1968625.5000, grad_fn=<MseLossBackward>)\n",
            "2600 tensor(1958586.6250, grad_fn=<MseLossBackward>)\n",
            "2700 tensor(1952869.2500, grad_fn=<MseLossBackward>)\n",
            "2800 tensor(3856767.2500, grad_fn=<MseLossBackward>)\n",
            "2900 tensor(2752060.2500, grad_fn=<MseLossBackward>)\n",
            "3000 tensor(2329326.2500, grad_fn=<MseLossBackward>)\n",
            "3100 tensor(2197537.5000, grad_fn=<MseLossBackward>)\n",
            "3200 tensor(2152360.7500, grad_fn=<MseLossBackward>)\n",
            "3300 tensor(2127139.5000, grad_fn=<MseLossBackward>)\n",
            "3400 tensor(2123799.2500, grad_fn=<MseLossBackward>)\n",
            "3500 tensor(2119954.5000, grad_fn=<MseLossBackward>)\n",
            "3600 tensor(2117385., grad_fn=<MseLossBackward>)\n",
            "3700 tensor(2114618.7500, grad_fn=<MseLossBackward>)\n",
            "3800 tensor(2159019.7500, grad_fn=<MseLossBackward>)\n",
            "3900 tensor(2173094.5000, grad_fn=<MseLossBackward>)\n"
          ],
          "name": "stdout"
        }
      ]
    },
    {
      "cell_type": "code",
      "metadata": {
        "id": "egasKQaTrHJ_",
        "colab_type": "code",
        "outputId": "3fc1558b-f4c1-4d3f-ede4-b7e19f23b219",
        "colab": {
          "base_uri": "https://localhost:8080/",
          "height": 350
        }
      },
      "source": [
        "# 학습결과 차트로 보여주기\n",
        "list_epoch,list_train_loss,list_val_loss,list_mae,list_mae_epoch = ep.getEpochList()\n",
        "\n",
        "pltc = pltClass(list_epoch,list_train_loss,list_val_loss,list_mae_epoch,list_mae)\n",
        "pltc.printFigure()"
      ],
      "execution_count": 155,
      "outputs": [
        {
          "output_type": "display_data",
          "data": {
            "image/png": "[encoded data removed]",
            "text/plain": [
              "<Figure size 1080x360 with 2 Axes>"
            ]
          },
          "metadata": {
            "tags": [],
            "needs_background": "light"
          }
        }
      ]
    },
    {
      "cell_type": "code",
      "metadata": {
        "id": "evdZZfvlBPOl",
        "colab_type": "code",
        "colab": {
          "base_uri": "https://localhost:8080/",
          "height": 35
        },
        "outputId": "c0453a9f-e48f-41b3-f4b9-fc937390f3c6"
      },
      "source": [
        "model.eval()\n",
        "# 13일 삼성전자 종 48300, 거래량 14343135, 시가 48650, 고가 48900, 저가48300\n",
        "prediction = model(torch.Tensor([48300,48650,48900,48300,1434135]))\n",
        "\n",
        "print('삼성 14일 예상가격:'+str(prediction))"
      ],
      "execution_count": 161,
      "outputs": [
        {
          "output_type": "stream",
          "text": [
            "삼성 14일 예상가격:tensor([47218.5898], grad_fn=<AddBackward0>)\n"
          ],
          "name": "stdout"
        }
      ]
    }
  ]
}