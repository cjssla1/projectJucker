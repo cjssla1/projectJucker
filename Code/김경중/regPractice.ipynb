{
  "nbformat": 4,
  "nbformat_minor": 0,
  "metadata": {
    "colab": {
      "name": "regPractice.ipynb",
      "provenance": [],
      "collapsed_sections": [],
      "authorship_tag": "ABX9TyNDxvus5VGjhXINfF3bMGy2"
    },
    "kernelspec": {
      "name": "python3",
      "display_name": "Python 3"
    },
    "accelerator": "GPU"
  },
  "cells": [
    {
      "cell_type": "code",
      "metadata": {
        "id": "Nx04U5ab9uaC",
        "colab_type": "code",
        "outputId": "e9afc078-2734-49e6-9f28-4a1a5350dd7a",
        "colab": {
          "base_uri": "https://localhost:8080/",
          "height": 35
        }
      },
      "source": [
        "#파이토치 인스톨\n",
        "!pip install -q torch==1.4.0 torchvision\n",
        "import torch\n",
        "print(torch.__version__)"
      ],
      "execution_count": 204,
      "outputs": [
        {
          "output_type": "stream",
          "text": [
            "1.4.0\n"
          ],
          "name": "stdout"
        }
      ]
    },
    {
      "cell_type": "code",
      "metadata": {
        "id": "FYjn1Z4e96kx",
        "colab_type": "code",
        "outputId": "79720b45-3160-4598-8fa3-01f9c7ef8089",
        "colab": {
          "base_uri": "https://localhost:8080/",
          "height": 35
        }
      },
      "source": [
        "%matplotlib inline\n",
        "#데이터 생성과 화면 표시를 위한 라이브러리 호출\n",
        "import numpy as np\n",
        "import matplotlib.pyplot as plt\n",
        "from mpl_toolkits import mplot3d\n",
        "\n",
        "#실험결과 비교를 위해 시드 고정\n",
        "seed = 444\n",
        "np.random.seed(seed)\n",
        "torch.manual_seed(seed)"
      ],
      "execution_count": 205,
      "outputs": [
        {
          "output_type": "execute_result",
          "data": {
            "text/plain": [
              "<torch._C.Generator at 0x7f04ed3ebdf0>"
            ]
          },
          "metadata": {
            "tags": []
          },
          "execution_count": 205
        }
      ]
    },
    {
      "cell_type": "code",
      "metadata": {
        "id": "3rkRLj2_-504",
        "colab_type": "code",
        "colab": {}
      },
      "source": [
        "class proData:\n",
        "    \n",
        "    #데이터 쪼개기, 학습, 평가, 테스트 3개부분으로\n",
        "    def splitData(self,x,y):\n",
        "        origin = len(x)\n",
        "        trainn = int(origin*0.6)\n",
        "        valn = int(origin*0.8)\n",
        "\n",
        "        # 경향성을 없애기 위한 셔플\n",
        "        s = np.arange(x.shape[0])\n",
        "        np.random.shuffle(s)\n",
        "        x = x[s]\n",
        "        y = y[s]\n",
        "\n",
        "        trainX, trainY = x[:trainn, :], y[:trainn]\n",
        "        valX, valY = x[trainn:valn,:], y[trainn:valn]\n",
        "        testX,testY = x[valn:,:], y[valn:]\n",
        "\n",
        "        return trainX,trainY,valX,valY,testX,testY"
      ],
      "execution_count": 0,
      "outputs": []
    },
    {
      "cell_type": "code",
      "metadata": {
        "id": "r8qxu117W9cQ",
        "colab_type": "code",
        "colab": {}
      },
      "source": [
        "import torch.nn as nn\n",
        "# 모델 정의\n",
        "    \n",
        "class MLPModel(nn.Module):\n",
        "    # input = 입력값 개수, output = 출력값 개수\n",
        "    def __init__(self,_input,_output,_hidden_layers): \n",
        "        super(MLPModel, self).__init__()\n",
        "        self.inputv = _input\n",
        "        self.outputv = _output\n",
        "        nodes = [_input] + _hidden_layers + [_output]\n",
        "        self.depth = len(nodes)\n",
        "        linears = [nn.Linear(nodes[i], nodes[i+1]) for i in range(self.depth-1)]\n",
        "        self.linears = nn.ModuleList(linears)\n",
        "        self.relu = nn.ReLU()\n",
        "        \n",
        "    \n",
        "    def forward(self, x):\n",
        "    # 인스턴스(샘플) x가 인풋으로 들어왔을 때 모델이 예측하는 y값을 리턴합니다.\n",
        "        for linear in self.linears[:-1]: \n",
        "          x = linear(x)\n",
        "          x = self.relu(x)\n",
        "        x = self.linears[-1](x)\n",
        "\n",
        "        return x"
      ],
      "execution_count": 0,
      "outputs": []
    },
    {
      "cell_type": "code",
      "metadata": {
        "id": "OANyPaziXbLe",
        "colab_type": "code",
        "colab": {}
      },
      "source": [
        "class pltClass():\n",
        "\n",
        "    def __init__(self,_list_epoch, _list_train_loss, _list_val_loss, _list_mae_epoch, _list_mae):\n",
        "        self.list_epoch = _list_epoch\n",
        "        self.list_train_loss = _list_train_loss\n",
        "        self.list_val_loss = _list_val_loss\n",
        "        self.list_mae_epoch = _list_mae_epoch\n",
        "        self.list_mae = _list_mae\n",
        "\n",
        "\n",
        "    def printFigure(self):\n",
        "        fig = plt.figure(figsize=(15,5))\n",
        "\n",
        "        # ====== Loss Fluctuation ====== #\n",
        "        ax1 = fig.add_subplot(1, 2, 1)\n",
        "        ax1.plot(self.list_epoch, self.list_train_loss, label='train_loss')\n",
        "        ax1.plot(self.list_epoch, self.list_val_loss, '--', label='val_loss')\n",
        "        ax1.set_xlabel('epoch')\n",
        "        ax1.set_ylabel('loss')\n",
        "        #ax1.set_ylim(0, 5)\n",
        "        ax1.grid()\n",
        "        ax1.legend()\n",
        "        ax1.set_title('epoch vs loss')\n",
        "\n",
        "        # ====== Metric Fluctuation ====== #\n",
        "        ax2 = fig.add_subplot(1, 2, 2)\n",
        "        ax2.plot(self.list_mae_epoch, self.list_mae, marker='x', label='mae metric')\n",
        "\n",
        "        ax2.set_xlabel('epoch')\n",
        "        ax2.set_ylabel('mae')\n",
        "        ax2.grid()\n",
        "        ax2.legend()\n",
        "        ax2.set_title('epoch vs mae')\n",
        "\n",
        "\n",
        "        plt.show()\n",
        "\n"
      ],
      "execution_count": 0,
      "outputs": []
    },
    {
      "cell_type": "code",
      "metadata": {
        "id": "EYZEB6mrFOif",
        "colab_type": "code",
        "colab": {}
      },
      "source": [
        "class epochClass():\n",
        "\n",
        "    def __init__(self,_model,_optimizer,_device):\n",
        "        self.model = _model\n",
        "        self.optimizer = _optimizer\n",
        "        self.reg_loss = nn.MSELoss()\n",
        "        self.device = _device\n",
        "        self.list_epoch = []\n",
        "        self.list_train_loss = []\n",
        "        self.list_val_loss = []\n",
        "        self.list_mae = []\n",
        "        self.list_mae_epoch = []\n",
        "\n",
        "    def getModelOptim(self):\n",
        "        return self.model, self.optimizer\n",
        "\n",
        "    def getEpochList(self):\n",
        "        return self.list_epoch, self.list_train_loss, self.list_val_loss, self.list_mae, self.list_mae_epoch\n",
        "\n",
        "    def startEpoch(self,epoch,interval,train_X,train_y,val_X,val_y,test_X,test_y):\n",
        "    \n",
        "\n",
        "        for i in range(epoch):    \n",
        "            # ====== Train ====== #\n",
        "            self.model.train() # model을 train 모드로 세팅합니다. 반대로 향후 모델을 평가할 때는 eval() 모드로 변경할 겁니다 (나중 실습에서 쓸 겁니다)\n",
        "            self.optimizer.zero_grad() # optimizer에 남아있을 수도 있는 잔여 그라디언트를 0으로 다 초기화해줍니다.\n",
        "            \n",
        "            input_x = torch.Tensor(train_X)\n",
        "            true_y = torch.Tensor(train_y)\n",
        "            #\n",
        "            input_x = input_x.to(device)\n",
        "            true_y = true_y.to(device)\n",
        "            #\n",
        "            pred_y = self.model(input_x)\n",
        "            #\n",
        "            #print(input_x.shape, true_y.shape, pred_y.shape) # 각 인풋과 아웃풋의 차원을 체크해봅니다.\n",
        "            \n",
        "            loss = self.reg_loss(pred_y.squeeze(), true_y)\n",
        "            loss.backward() # backward()를 통해서 그라디언트를 구해줍니다.\n",
        "            self.optimizer.step() # step()을 통해서 그라디언틀르 바탕으로 파라미터를 업데이트 해줍니다. \n",
        "            self.list_epoch.append(i)\n",
        "            self.list_train_loss.append(loss.item())\n",
        "            \n",
        "            \n",
        "            # ====== Validation ====== #\n",
        "            self.model.eval()\n",
        "            self.optimizer.zero_grad()\n",
        "            input_x = torch.Tensor(val_X)\n",
        "            true_y = torch.Tensor(val_y)\n",
        "            #\n",
        "            input_x = input_x.to(device)\n",
        "            true_y = true_y.to(device)\n",
        "            #\n",
        "            pred_y = self.model(input_x)   \n",
        "            loss = self.reg_loss(pred_y.squeeze(), true_y)\n",
        "            self.list_val_loss.append(loss.item())\n",
        "            \n",
        "\n",
        "            # ====== Evaluation ======= #\n",
        "            if i % interval == 0: # 200회의 학습마다 실제 데이터 분포와 모델이 예측한 분포를 그려봅니다.\n",
        "                \n",
        "                # ====== Calculate MAE ====== #\n",
        "                self.model.eval()\n",
        "                self.optimizer.zero_grad()\n",
        "                input_x = torch.Tensor(test_X)\n",
        "                true_y = torch.Tensor(test_y)\n",
        "                #\n",
        "                input_x = input_x.to(device)\n",
        "                true_y = true_y.to(device)\n",
        "                #\n",
        "                pred_y = self.model(input_x)\n",
        "                mae = self.reg_loss(true_y, pred_y) # sklearn 쪽 함수들은 true_y 가 먼저, pred_y가 나중에 인자로 들어가는 것에 주의합시다\n",
        "                self.list_mae.append(mae)\n",
        "                self.list_mae_epoch.append(i)\n",
        "                \n",
        "                print(i, loss)"
      ],
      "execution_count": 0,
      "outputs": []
    },
    {
      "cell_type": "code",
      "metadata": {
        "id": "a9I--WR6wvdp",
        "colab_type": "code",
        "outputId": "5211c75c-0a52-4e52-cc70-cfd707207976",
        "colab": {
          "base_uri": "https://localhost:8080/",
          "height": 35
        }
      },
      "source": [
        "from google.colab import drive\n",
        "drive.mount('/content/gdrive')\n",
        "\n",
        "class DataLoader():\n",
        "    \n",
        "    def fileload(self,PATH):\n",
        "        x = []\n",
        "        y = []\n",
        "        with open(PATH,'r') as f:\n",
        "            lines = f.readlines()\n",
        "            for line in lines:\n",
        "                line = line[:-1]\n",
        "                temp = line.split(',')\n",
        "                temp = temp[1:]\n",
        "                x.append([int(temp[0]),int(temp[1]),int(temp[2]),int(temp[3]),int(temp[4])])\n",
        "                y.append(int(temp[-1]))\n",
        "        return x,y"
      ],
      "execution_count": 210,
      "outputs": [
        {
          "output_type": "stream",
          "text": [
            "Drive already mounted at /content/gdrive; to attempt to forcibly remount, call drive.mount(\"/content/gdrive\", force_remount=True).\n"
          ],
          "name": "stdout"
        }
      ]
    },
    {
      "cell_type": "code",
      "metadata": {
        "id": "D6iylmdeyGHL",
        "colab_type": "code",
        "colab": {}
      },
      "source": [
        "d = DataLoader()\n",
        "x1,y1 = d.fileload('/content/gdrive/My Drive/data.txt')\n",
        "x2,y2 = d.fileload('/content/gdrive/My Drive/data1.txt')\n",
        "x3,y3 = d.fileload('/content/gdrive/My Drive/data2.txt')"
      ],
      "execution_count": 0,
      "outputs": []
    },
    {
      "cell_type": "code",
      "metadata": {
        "id": "6139B9pw5JTG",
        "colab_type": "code",
        "colab": {}
      },
      "source": [
        "X = x1 + x2 + x3\n",
        "y = y1 + y2 + y3"
      ],
      "execution_count": 0,
      "outputs": []
    },
    {
      "cell_type": "code",
      "metadata": {
        "id": "goXTOmnP-GXf",
        "colab_type": "code",
        "outputId": "8314598d-e89f-450d-b0f1-dea8724b25b5",
        "colab": {
          "base_uri": "https://localhost:8080/",
          "height": 161
        }
      },
      "source": [
        "\n",
        "inX = np.array(X)\n",
        "iny = np.array(y).T\n",
        "\n",
        "print(inX)\n",
        "print(iny)\n",
        "p = proData()\n",
        "train_X, train_y, val_X, val_y, test_X, test_y = p.splitData(inX,iny)"
      ],
      "execution_count": 213,
      "outputs": [
        {
          "output_type": "stream",
          "text": [
            "[[   49250    48950    49250    48650 17793724]\n",
            " [   84100    84000    84400    83000  3652884]\n",
            " [  559000   500000   603000   494500  2991087]\n",
            " ...\n",
            " [    2615     2605     2690     2570  4724637]\n",
            " [    5850     5510     6060     5340    71259]\n",
            " [   17450    17400    17900    17350    32135]]\n",
            "[ 48300  81400 539000 ...   2425   5800  17400]\n"
          ],
          "name": "stdout"
        }
      ]
    },
    {
      "cell_type": "code",
      "metadata": {
        "id": "slENN0UDXQFC",
        "colab_type": "code",
        "outputId": "fc44f84a-8680-4458-ab60-99e3fc171420",
        "colab": {
          "base_uri": "https://localhost:8080/",
          "height": 35
        }
      },
      "source": [
        "import torch.optim as optim\n",
        "from sklearn.metrics import mean_absolute_error\n",
        "# 학습에 필요한 파라미터 정의\n",
        "\n",
        "model = MLPModel(5,1,[200,150,100,50,25,10]) # Model을 생성해줍니다.\n",
        "device = 'cuda:0' if torch.cuda.is_available() else 'cpu'\n",
        "model = model.to(device)\n",
        "print('{} parameters'.format(sum(p.numel() for p in model.parameters() if p.requires_grad))) # 복잡해보이지만 간단히 모델 내에 학습을 당할 파라미터 수를 카운팅하는 코드입니다.\n",
        "\n",
        "# ===== Construct Optimizer ====== #\n",
        "lr = 0.005 # Learning Rate를 하나 정해줍니다. (원할한 학습을 위해 손을 많이 탑니다)\n",
        "optimizer = optim.Adam(model.parameters(), lr=lr) # Optimizer를 생성해줍니다.\n"
      ],
      "execution_count": 220,
      "outputs": [
        {
          "output_type": "stream",
          "text": [
            "53046 parameters\n"
          ],
          "name": "stdout"
        }
      ]
    },
    {
      "cell_type": "code",
      "metadata": {
        "id": "3OAz78sNJHsA",
        "colab_type": "code",
        "outputId": "8ad9c73a-b78d-4ca0-91c9-cba07a0033a8",
        "colab": {
          "base_uri": "https://localhost:8080/",
          "height": 433
        }
      },
      "source": [
        "# 학습 시작\n",
        "ep = epochClass(model,optimizer,device)\n",
        "ep.startEpoch(4000,200,train_X,train_y,val_X,val_y,test_X,test_y)"
      ],
      "execution_count": 221,
      "outputs": [
        {
          "output_type": "stream",
          "text": [
            "/usr/local/lib/python3.6/dist-packages/torch/nn/modules/loss.py:431: UserWarning: Using a target size (torch.Size([899, 1])) that is different to the input size (torch.Size([899])). This will likely lead to incorrect results due to broadcasting. Please ensure they have the same size.\n",
            "  return F.mse_loss(input, target, reduction=self.reduction)\n"
          ],
          "name": "stderr"
        },
        {
          "output_type": "stream",
          "text": [
            "0 tensor(1.7122e+10, device='cuda:0', grad_fn=<MseLossBackward>)\n",
            "200 tensor(4294508.5000, device='cuda:0', grad_fn=<MseLossBackward>)\n",
            "400 tensor(5481739.5000, device='cuda:0', grad_fn=<MseLossBackward>)\n",
            "600 tensor(4320279.5000, device='cuda:0', grad_fn=<MseLossBackward>)\n",
            "800 tensor(4239913., device='cuda:0', grad_fn=<MseLossBackward>)\n",
            "1000 tensor(3481882.5000, device='cuda:0', grad_fn=<MseLossBackward>)\n",
            "1200 tensor(3390737.7500, device='cuda:0', grad_fn=<MseLossBackward>)\n",
            "1400 tensor(4327348.5000, device='cuda:0', grad_fn=<MseLossBackward>)\n",
            "1600 tensor(11990852., device='cuda:0', grad_fn=<MseLossBackward>)\n",
            "1800 tensor(4224636.5000, device='cuda:0', grad_fn=<MseLossBackward>)\n",
            "2000 tensor(3556436.2500, device='cuda:0', grad_fn=<MseLossBackward>)\n",
            "2200 tensor(4587075., device='cuda:0', grad_fn=<MseLossBackward>)\n",
            "2400 tensor(4562324., device='cuda:0', grad_fn=<MseLossBackward>)\n",
            "2600 tensor(3699369., device='cuda:0', grad_fn=<MseLossBackward>)\n",
            "2800 tensor(6018581., device='cuda:0', grad_fn=<MseLossBackward>)\n",
            "3000 tensor(3314699.7500, device='cuda:0', grad_fn=<MseLossBackward>)\n",
            "3200 tensor(4610747., device='cuda:0', grad_fn=<MseLossBackward>)\n",
            "3400 tensor(3428040.5000, device='cuda:0', grad_fn=<MseLossBackward>)\n",
            "3600 tensor(3448418.7500, device='cuda:0', grad_fn=<MseLossBackward>)\n",
            "3800 tensor(3827148.5000, device='cuda:0', grad_fn=<MseLossBackward>)\n"
          ],
          "name": "stdout"
        }
      ]
    },
    {
      "cell_type": "code",
      "metadata": {
        "id": "egasKQaTrHJ_",
        "colab_type": "code",
        "outputId": "932973c5-9b7b-4e4e-aa05-05b819a5c56b",
        "colab": {
          "base_uri": "https://localhost:8080/",
          "height": 350
        }
      },
      "source": [
        "# 학습결과 차트로 보여주기\n",
        "list_epoch,list_train_loss,list_val_loss,list_mae,list_mae_epoch = ep.getEpochList()\n",
        "\n",
        "pltc = pltClass(list_epoch,list_train_loss,list_val_loss,list_mae_epoch,list_mae)\n",
        "pltc.printFigure()"
      ],
      "execution_count": 222,
      "outputs": [
        {
          "output_type": "display_data",
          "data": {
            "image/png": "[encoded data removed]",
            "text/plain": [
              "<Figure size 1080x360 with 2 Axes>"
            ]
          },
          "metadata": {
            "tags": [],
            "needs_background": "light"
          }
        }
      ]
    },
    {
      "cell_type": "code",
      "metadata": {
        "id": "evdZZfvlBPOl",
        "colab_type": "code",
        "outputId": "84794be6-dc20-459d-ef0a-e7b25d8199d7",
        "colab": {
          "base_uri": "https://localhost:8080/",
          "height": 35
        }
      },
      "source": [
        "model.to('cpu')\n",
        "model.eval()\n",
        "\n",
        "# 17일 삼성전자 51,400\t50,800\t52,000\t50,300\t31,741,979\n",
        "prediction = model(torch.Tensor([51400,50800,52000,50300,31741261]))\n",
        "\n",
        "print('삼성 18일 예상가격:'+str(prediction))"
      ],
      "execution_count": 223,
      "outputs": [
        {
          "output_type": "stream",
          "text": [
            "삼성 18일 예상가격:tensor([36694.2266], grad_fn=<AddBackward0>)\n"
          ],
          "name": "stdout"
        }
      ]
    },
    {
      "cell_type": "code",
      "metadata": {
        "id": "KRUkytQIntur",
        "colab_type": "code",
        "colab": {}
      },
      "source": [
        "modelPath = '/content/gdrive/My Drive/model.pt'\n",
        "torch.save(model.state_dict(), modelPath)\n",
        "#model.load_state_dict(torch.load(path))"
      ],
      "execution_count": 0,
      "outputs": []
    }
  ]
}