{
  "nbformat": 4,
  "nbformat_minor": 0,
  "metadata": {
    "colab": {
      "name": "regPractice.ipynb",
      "provenance": [],
      "collapsed_sections": [],
      "authorship_tag": "ABX9TyNe7sRLF/1vez+Mwv169XFA"
    },
    "kernelspec": {
      "name": "python3",
      "display_name": "Python 3"
    },
    "accelerator": "GPU"
  },
  "cells": [
    {
      "cell_type": "code",
      "metadata": {
        "id": "Nx04U5ab9uaC",
        "colab_type": "code",
        "outputId": "dedb9a21-6f3c-4421-c28f-70b40427c070",
        "colab": {
          "base_uri": "https://localhost:8080/",
          "height": 125
        }
      },
      "source": [
        "#파이토치 인스톨\n",
        "!pip install torch torchvision\n",
        "import torch\n",
        "print(torch.__version__)"
      ],
      "execution_count": 0,
      "outputs": [
        {
          "output_type": "stream",
          "text": [
            "Requirement already satisfied: torch in /usr/local/lib/python3.6/dist-packages (1.5.0+cu101)\n",
            "Requirement already satisfied: torchvision in /usr/local/lib/python3.6/dist-packages (0.6.0+cu101)\n",
            "Requirement already satisfied: future in /usr/local/lib/python3.6/dist-packages (from torch) (0.16.0)\n",
            "Requirement already satisfied: numpy in /usr/local/lib/python3.6/dist-packages (from torch) (1.18.3)\n",
            "Requirement already satisfied: pillow>=4.1.1 in /usr/local/lib/python3.6/dist-packages (from torchvision) (7.0.0)\n",
            "1.5.0+cu101\n"
          ],
          "name": "stdout"
        }
      ]
    },
    {
      "cell_type": "code",
      "metadata": {
        "id": "FYjn1Z4e96kx",
        "colab_type": "code",
        "outputId": "23b08325-7d54-4f8e-f5ae-7e0970b85a7b",
        "colab": {
          "base_uri": "https://localhost:8080/",
          "height": 35
        }
      },
      "source": [
        "%matplotlib inline\n",
        "#데이터 생성과 화면 표시를 위한 라이브러리 호출\n",
        "import numpy as np\n",
        "import matplotlib.pyplot as plt\n",
        "from mpl_toolkits import mplot3d\n",
        "\n",
        "#실험결과 비교를 위해 시드 고정\n",
        "seed = 444\n",
        "np.random.seed(seed)\n",
        "torch.manual_seed(seed)"
      ],
      "execution_count": 0,
      "outputs": [
        {
          "output_type": "execute_result",
          "data": {
            "text/plain": [
              "<torch._C.Generator at 0x7feb356a9e50>"
            ]
          },
          "metadata": {
            "tags": []
          },
          "execution_count": 63
        }
      ]
    },
    {
      "cell_type": "code",
      "metadata": {
        "id": "3rkRLj2_-504",
        "colab_type": "code",
        "colab": {}
      },
      "source": [
        "class proData:\n",
        "    \n",
        "    #데이터 쪼개기, 학습, 평가, 테스트 3개부분으로\n",
        "    def splitData(self,x,y):\n",
        "        origin = len(x)\n",
        "        trainn = int(origin*0.8)\n",
        "        valn = int(origin*0.9)\n",
        "\n",
        "        # 경향성을 없애기 위한 셔플\n",
        "        s = np.arange(x.shape[0])\n",
        "        np.random.shuffle(s)\n",
        "        x = x[s]\n",
        "        y = y[s]\n",
        "\n",
        "        trainX, trainY = x[:trainn, :], y[:trainn]\n",
        "        valX, valY = x[trainn:valn,:], y[trainn:valn]\n",
        "        testX,testY = x[valn:,:], y[valn:]\n",
        "\n",
        "        return trainX,trainY,valX,valY,testX,testY"
      ],
      "execution_count": 0,
      "outputs": []
    },
    {
      "cell_type": "code",
      "metadata": {
        "id": "r8qxu117W9cQ",
        "colab_type": "code",
        "colab": {}
      },
      "source": [
        "import torch.nn as nn\n",
        "# 모델 정의\n",
        "    \n",
        "class MLPModel(nn.Module):\n",
        "    # input = 입력값 개수, output = 출력값 개수\n",
        "    def __init__(self,_input,_output,_hidden_layers): \n",
        "        super(MLPModel, self).__init__()\n",
        "        self.inputv = _input\n",
        "        self.outputv = _output\n",
        "        nodes = [_input] + _hidden_layers + [_output]\n",
        "        self.depth = len(nodes)\n",
        "        linears = [nn.Linear(nodes[i], nodes[i+1]) for i in range(self.depth-1)]\n",
        "        self.linears = nn.ModuleList(linears)\n",
        "        self.relu = nn.ReLU()\n",
        "        \n",
        "    \n",
        "    def forward(self, x):\n",
        "    # 인스턴스(샘플) x가 인풋으로 들어왔을 때 모델이 예측하는 y값을 리턴합니다.\n",
        "        for linear in self.linears[:-1]: \n",
        "          x = linear(x)\n",
        "          x = self.relu(x)\n",
        "        x = self.linears[-1](x)\n",
        "\n",
        "        return x"
      ],
      "execution_count": 0,
      "outputs": []
    },
    {
      "cell_type": "code",
      "metadata": {
        "id": "EYZEB6mrFOif",
        "colab_type": "code",
        "colab": {}
      },
      "source": [
        "class epochClass():\n",
        "\n",
        "    def __init__(self,_model,_optimizer,_device):\n",
        "        self.model = _model\n",
        "        self.optimizer = _optimizer\n",
        "        self.reg_loss = nn.MSELoss()\n",
        "        self.device = _device\n",
        "        self.list_epoch = []\n",
        "        self.list_val_loss = []\n",
        "        self.list_mae = []\n",
        "        self.list_mae_epoch = []\n",
        "\n",
        "    def getModelOptim(self):\n",
        "        return self.model, self.optimizer\n",
        "\n",
        "    def getEpochList(self):\n",
        "        return self.list_epoch, self.list_val_loss, self.list_mae, self.list_mae_epoch\n",
        "\n",
        "    def startEpoch(self,epoch,interval,train_X,train_y,val_X,val_y,test_X,test_y):\n",
        "    \n",
        "\n",
        "        for i in range(epoch):    \n",
        "            # ====== Train ====== #\n",
        "            self.model.train() # model을 train 모드로 세팅합니다. 반대로 향후 모델을 평가할 때는 eval() 모드로 변경할 겁니다 \n",
        "            self.optimizer.zero_grad() # optimizer에 남아있을 수도 있는 잔여 그라디언트를 0으로 다 초기화해줍니다.\n",
        "            \n",
        "            input_x = torch.Tensor(train_X)\n",
        "            true_y = torch.Tensor(train_y)\n",
        "            #Gpu로 데이터 옮기기\n",
        "            input_x = input_x.to(device)\n",
        "            true_y = true_y.to(device)\n",
        "            #\n",
        "            pred_y = self.model(input_x)\n",
        "            #\n",
        "            \n",
        "            loss = self.reg_loss(pred_y.squeeze(), true_y)\n",
        "            loss.backward() # backward()를 통해서 그라디언트를 구해줍니다.\n",
        "            self.optimizer.step() # step()을 통해서 그라디언틀르 바탕으로 파라미터를 업데이트 해줍니다. \n",
        "            self.list_epoch.append(i)\n",
        "            \n",
        "            # ====== Validation ====== #\n",
        "            self.model.eval()\n",
        "            self.optimizer.zero_grad()\n",
        "            input_x = torch.Tensor(val_X)\n",
        "            true_y = torch.Tensor(val_y)\n",
        "            #GPU로 데이터 옮기기\n",
        "            input_x = input_x.to(device)\n",
        "            true_y = true_y.to(device)\n",
        "            #\n",
        "            pred_y = self.model(input_x)   \n",
        "            loss = self.reg_loss(pred_y.squeeze(), true_y)\n",
        "            self.list_val_loss.append(loss.item())\n",
        "            \n",
        "\n",
        "            # ====== Evaluation ======= #\n",
        "            if i % interval == 0: # 200회의 학습마다 실제 데이터 분포와 모델이 예측한 분포를 그려봅니다.\n",
        "                \n",
        "                # ====== Calculate MAE ====== #\n",
        "                self.model.eval()\n",
        "                self.optimizer.zero_grad()\n",
        "                input_x = torch.Tensor(test_X)\n",
        "                true_y = torch.Tensor(test_y)\n",
        "                #\n",
        "                input_x = input_x.to(device)\n",
        "                true_y = true_y.to(device)\n",
        "                #\n",
        "                pred_y = self.model(input_x)\n",
        "                mae = self.reg_loss(true_y, pred_y.squeeze())\n",
        "                self.list_mae.append(mae)\n",
        "                self.list_mae_epoch.append(i)\n",
        "                \n",
        "                print(i, mae)"
      ],
      "execution_count": 0,
      "outputs": []
    },
    {
      "cell_type": "code",
      "metadata": {
        "id": "a9I--WR6wvdp",
        "colab_type": "code",
        "outputId": "9b77ad57-bace-4d78-f03e-792ea6b09403",
        "colab": {
          "base_uri": "https://localhost:8080/",
          "height": 35
        }
      },
      "source": [
        "from google.colab import drive\n",
        "drive.mount('/content/gdrive')\n",
        "\n",
        "class DataLoader():\n",
        "    \n",
        "    def fileload(self,PATH):\n",
        "        x = []\n",
        "        y = []\n",
        "        with open(PATH,'r') as f:\n",
        "            lines = f.readlines()\n",
        "            for line in lines:\n",
        "                line = line[:-1]\n",
        "                temp = line.split(',')\n",
        "                temp = temp[1:]\n",
        "                x.append([int(temp[0]),int(temp[1]),int(temp[2]),int(temp[3]),int(temp[4])])\n",
        "                y.append(int(temp[-1]))\n",
        "        return x,y\n",
        "\n",
        "    def fileloadn(self,PATH,n):\n",
        "        x = []\n",
        "        y = []\n",
        "        with open(PATH,'r') as f:\n",
        "            lines = f.readlines()\n",
        "            for line in lines:\n",
        "                line = line[:-1]\n",
        "                temp = line.split(',')\n",
        "                if len(temp) != n*5 + 2:\n",
        "                    continue\n",
        "                temp2 = []\n",
        "                for i in temp[1:-1]:\n",
        "                    temp2.append(int(i))\n",
        "                x.append(temp2)\n",
        "                y.append(int(temp[-1]))\n",
        "        return x,y"
      ],
      "execution_count": 0,
      "outputs": [
        {
          "output_type": "stream",
          "text": [
            "Drive already mounted at /content/gdrive; to attempt to forcibly remount, call drive.mount(\"/content/gdrive\", force_remount=True).\n"
          ],
          "name": "stdout"
        }
      ]
    },
    {
      "cell_type": "code",
      "metadata": {
        "id": "D6iylmdeyGHL",
        "colab_type": "code",
        "colab": {}
      },
      "source": [
        "d = DataLoader()\n",
        "X = [] \n",
        "y = []\n",
        "for i in range(1):\n",
        "    xt, yt = d.fileloadn('/content/gdrive/My Drive/datas/ndata'+str(i)+'.txt',3)\n",
        "    X = X + xt\n",
        "    y = y + yt"
      ],
      "execution_count": 0,
      "outputs": []
    },
    {
      "cell_type": "code",
      "metadata": {
        "id": "goXTOmnP-GXf",
        "colab_type": "code",
        "colab": {}
      },
      "source": [
        "\n",
        "inX = np.array(X)\n",
        "iny = np.array(y).T\n",
        "\n",
        "p = proData()\n",
        "train_X, train_y, val_X, val_y, test_X, test_y = p.splitData(inX,iny)"
      ],
      "execution_count": 0,
      "outputs": []
    },
    {
      "cell_type": "code",
      "metadata": {
        "id": "slENN0UDXQFC",
        "colab_type": "code",
        "colab": {}
      },
      "source": [
        "import torch.optim as optim\n",
        "from sklearn.metrics import mean_absolute_error\n",
        "# 학습에 필요한 파라미터 정의\n",
        "\n",
        "model = MLPModel(15,1,[200,150,100,50,25,10]) # Model을 생성해줍니다.\n",
        "device = 'cuda:0' if torch.cuda.is_available() else 'cpu'\n",
        "model = model.to(device)\n",
        "#modelPath = '/content/gdrive/My Drive/model.pt'\n",
        "#model.load_state_dict(torch.load(modelPath))\n",
        "# ===== Construct Optimizer ====== #\n",
        "lr = 0.005 # Learning Rate를 하나 정해줍니다. (원할한 학습을 위해 손을 많이 탑니다)\n",
        "optimizer = optim.Adam(model.parameters(), lr=lr) # Optimizer를 생성해줍니다.\n"
      ],
      "execution_count": 0,
      "outputs": []
    },
    {
      "cell_type": "code",
      "metadata": {
        "id": "3OAz78sNJHsA",
        "colab_type": "code",
        "outputId": "7db25779-6760-443a-fc8e-b6ba47fed8d8",
        "colab": {
          "base_uri": "https://localhost:8080/",
          "height": 433
        }
      },
      "source": [
        "# 학습 시작\n",
        "ep = epochClass(model,optimizer,device)\n",
        "ep.startEpoch(4000,200,train_X,train_y,val_X,val_y,test_X,test_y)"
      ],
      "execution_count": 0,
      "outputs": [
        {
          "output_type": "stream",
          "text": [
            "/usr/local/lib/python3.6/dist-packages/torch/nn/modules/loss.py:432: UserWarning: Using a target size (torch.Size([145, 1])) that is different to the input size (torch.Size([145])). This will likely lead to incorrect results due to broadcasting. Please ensure they have the same size.\n",
            "  return F.mse_loss(input, target, reduction=self.reduction)\n"
          ],
          "name": "stderr"
        },
        {
          "output_type": "stream",
          "text": [
            "0 tensor(8.2149e+09, device='cuda:0', grad_fn=<MeanBackward0>)\n",
            "200 tensor(1.0177e+10, device='cuda:0', grad_fn=<MeanBackward0>)\n",
            "400 tensor(1.0249e+10, device='cuda:0', grad_fn=<MeanBackward0>)\n",
            "600 tensor(1.0179e+10, device='cuda:0', grad_fn=<MeanBackward0>)\n",
            "800 tensor(1.0180e+10, device='cuda:0', grad_fn=<MeanBackward0>)\n",
            "1000 tensor(1.0216e+10, device='cuda:0', grad_fn=<MeanBackward0>)\n",
            "1200 tensor(1.0256e+10, device='cuda:0', grad_fn=<MeanBackward0>)\n",
            "1400 tensor(1.0352e+10, device='cuda:0', grad_fn=<MeanBackward0>)\n",
            "1600 tensor(1.0359e+10, device='cuda:0', grad_fn=<MeanBackward0>)\n",
            "1800 tensor(1.0344e+10, device='cuda:0', grad_fn=<MeanBackward0>)\n",
            "2000 tensor(1.0334e+10, device='cuda:0', grad_fn=<MeanBackward0>)\n",
            "2200 tensor(1.0329e+10, device='cuda:0', grad_fn=<MeanBackward0>)\n",
            "2400 tensor(1.0385e+10, device='cuda:0', grad_fn=<MeanBackward0>)\n",
            "2600 tensor(1.0381e+10, device='cuda:0', grad_fn=<MeanBackward0>)\n",
            "2800 tensor(1.0727e+10, device='cuda:0', grad_fn=<MeanBackward0>)\n",
            "3000 tensor(1.0390e+10, device='cuda:0', grad_fn=<MeanBackward0>)\n",
            "3200 tensor(1.0287e+10, device='cuda:0', grad_fn=<MeanBackward0>)\n",
            "3400 tensor(1.0402e+10, device='cuda:0', grad_fn=<MeanBackward0>)\n",
            "3600 tensor(1.0442e+10, device='cuda:0', grad_fn=<MeanBackward0>)\n",
            "3800 tensor(1.0419e+10, device='cuda:0', grad_fn=<MeanBackward0>)\n"
          ],
          "name": "stdout"
        }
      ]
    },
    {
      "cell_type": "code",
      "metadata": {
        "id": "JOXSCikiga8v",
        "colab_type": "code",
        "colab": {}
      },
      "source": [
        "# 학습결과 차트로 보여주기\n",
        "list_epoch,list_val_loss,list_mae,list_mae_epoch = ep.getEpochList()\n"
      ],
      "execution_count": 0,
      "outputs": []
    },
    {
      "cell_type": "code",
      "metadata": {
        "id": "OANyPaziXbLe",
        "colab_type": "code",
        "colab": {}
      },
      "source": [
        "class pltClass():\n",
        "\n",
        "    def __init__(self,_list_epoch, _list_val_loss, _list_mae_epoch, _list_mae):\n",
        "        self.list_epoch = _list_epoch\n",
        "        self.list_val_loss = _list_val_loss\n",
        "        self.list_mae_epoch = _list_mae_epoch\n",
        "        self.list_mae = _list_mae\n",
        "\n",
        "\n",
        "    def printFigure(self):\n",
        "        fig = plt.figure(figsize=(24,5))\n",
        "\n",
        "\n",
        "        # ====== valid plot ====== #\n",
        "        ax2 = fig.add_subplot(1, 2, 1)\n",
        "        ax2.plot(self.list_epoch, self.list_val_loss, '--', label='val')\n",
        "        ax2.set_xlabel('epoch')\n",
        "        ax2.set_ylabel('loss')\n",
        "        #ax1.set_ylim(0, 5)\n",
        "        ax2.grid()\n",
        "        ax2.legend()\n",
        "        ax2.set_title('epoch vs loss')\n",
        "\n",
        "        # ====== test plot ====== #\n",
        "        ax3 = fig.add_subplot(1, 2, 2)\n",
        "        ax3.plot(self.list_mae_epoch, self.list_mae, marker='x', label='test')\n",
        "\n",
        "        ax3.set_xlabel('epoch')\n",
        "        ax3.set_ylabel('mae')\n",
        "        ax3.grid()\n",
        "        ax3.legend()\n",
        "        ax3.set_title('epoch vs loss')\n",
        "\n",
        "\n",
        "        plt.show()\n",
        "\n"
      ],
      "execution_count": 0,
      "outputs": []
    },
    {
      "cell_type": "code",
      "metadata": {
        "id": "egasKQaTrHJ_",
        "colab_type": "code",
        "outputId": "2b7d0833-8c8f-40f4-9eb6-6da82148b6d0",
        "colab": {
          "base_uri": "https://localhost:8080/",
          "height": 350
        }
      },
      "source": [
        "\n",
        "pltc = pltClass(list_epoch,list_val_loss,list_mae_epoch,list_mae)\n",
        "pltc.printFigure()"
      ],
      "execution_count": 0,
      "outputs": [
        {
          "output_type": "display_data",
          "data": {
            "image/png": "[encoded data removed]",
            "text/plain": [
              "<Figure size 1728x360 with 2 Axes>"
            ]
          },
          "metadata": {
            "tags": [],
            "needs_background": "light"
          }
        }
      ]
    },
    {
      "cell_type": "code",
      "metadata": {
        "id": "evdZZfvlBPOl",
        "colab_type": "code",
        "outputId": "2d8e8571-2496-4a3e-f707-f52622303826",
        "colab": {
          "base_uri": "https://localhost:8080/",
          "height": 325
        }
      },
      "source": [
        "model.to('cpu')\n",
        "model.eval()\n",
        "\n",
        "prediction = model(torch.Tensor(test_X))\n",
        "pred = []\n",
        "real = test_y\n",
        "for i in prediction[:].T:\n",
        "    for j in i:\n",
        "        pred.append(j.item())\n",
        "\n",
        "print(real)\n",
        "print(pred)"
      ],
      "execution_count": 0,
      "outputs": [
        {
          "output_type": "stream",
          "text": [
            "[  8610   9410   6575   1880    967  10530   6115   9285   6060   9940\n",
            "   2790  30000   4000   8850   2470  10080  41350  12080  50700  26950\n",
            " 111500   6810   9085  10035  16500  25050  10710  16500   1910  16300\n",
            "  11500  70000  10835   2370  11185  13515   3210   7215   7035   7265\n",
            "  13500  10810  69800   3620   5025 113500   5375  12950  10430  10945\n",
            "  24300  43200   5020   7300   5230  12265  16220   1020  14955   2955\n",
            "   5850  13350  10815  12885 104660   7200  86500 800000 101500   7650\n",
            "   3385   9375  12125  11985  17350  17700  10290   3345   1950  24350\n",
            "  10375   4450  11475   3585  42850  25600   6840 149500   7480   6240\n",
            "  13850 130500   3440   8735   9365   4140   7580   1005  39100   8090\n",
            "  10325   3210    748 101460  12965 139315 128000    946   7500   3120\n",
            "  10865  57730   3670   7830   2200   1030   2830   1410  10775   9930\n",
            "   2370  24575   6575  20145   3530   7970  32500  15035   9100 124000\n",
            "  50800  12050   8675 215500   9310   1205 111575   4640   2730   8890\n",
            "  30100  10950   8930  11320   7350]\n",
            "[8427.8525390625, 9445.3671875, 16300.837890625, 1907.586181640625, 892.2467041015625, 10631.8955078125, 5783.22412109375, 9266.607421875, 6334.98486328125, 9832.9189453125, 2556.69580078125, 29354.888671875, 3758.220947265625, 9565.255859375, 2555.257080078125, 9982.1845703125, 40627.8359375, 12018.05078125, 50267.3359375, 27713.447265625, 113865.9375, 6608.09912109375, 8556.939453125, 10000.490234375, 16425.1953125, 25266.111328125, 10602.681640625, 16453.791015625, 1826.6546630859375, 16871.34375, 12162.2119140625, 67454.65625, 10921.27734375, 2503.750732421875, 11122.19140625, 13984.07421875, 3108.332763671875, 7125.67431640625, 7985.888671875, 7989.63671875, 13210.7783203125, 11639.126953125, 71699.0546875, 3641.981689453125, 5389.52685546875, 112544.546875, 5326.4365234375, 12783.66796875, 10320.6064453125, 10941.0849609375, 24387.9140625, 41084.7421875, 5090.24365234375, 7214.71826171875, 5303.95263671875, 12654.919921875, 16129.939453125, 1031.562255859375, 15138.7451171875, 3009.323974609375, 6058.224609375, 13149.1728515625, 10788.29296875, 13216.109375, 104124.1640625, 7050.01220703125, 85232.5390625, 757913.0, 101084.8046875, 7403.81005859375, 10750.0068359375, 9358.349609375, 11949.75390625, 11828.630859375, 17268.966796875, 17770.642578125, 10193.7578125, 22.610280990600586, 1951.056884765625, 24960.0390625, 9991.791015625, 4026.335693359375, 11464.30078125, 3461.189208984375, 41863.69140625, 25585.46484375, 7516.00439453125, 152888.953125, 7859.79248046875, 6158.87158203125, 13253.2734375, 130589.53125, 3400.535888671875, 8463.896484375, 9522.833984375, 4201.5693359375, 7926.318359375, 1007.8819580078125, 39331.79296875, 8088.37939453125, 10469.623046875, 3535.468994140625, 796.205322265625, 103973.828125, 13246.62109375, 137428.4375, 122660.7890625, 567.9649047851562, 3868.091064453125, 3159.148193359375, 10576.5751953125, 57890.3203125, 3822.098388671875, 8403.3671875, 2240.710205078125, 626.9729614257812, 2228.6337890625, 1191.0087890625, 10607.5673828125, 9639.73828125, 2361.635986328125, 24678.056640625, 7050.60302734375, 19865.3984375, 1330.4093017578125, 7775.49169921875, 32087.62890625, 15303.6435546875, 8677.3349609375, 121590.0859375, 49281.76953125, 11984.798828125, 9470.6171875, 222458.015625, 9295.837890625, 1193.27880859375, 111005.7734375, 213.7420196533203, 2717.0322265625, 8837.91015625, 31491.447265625, 10827.162109375, 8942.8095703125, 12313.376953125, 7244.37890625]\n"
          ],
          "name": "stdout"
        }
      ]
    },
    {
      "cell_type": "code",
      "metadata": {
        "id": "KRUkytQIntur",
        "colab_type": "code",
        "colab": {}
      },
      "source": [
        "modelPath = '/content/gdrive/My Drive/model.pt'\n",
        "torch.save(model.state_dict(), modelPath)"
      ],
      "execution_count": 0,
      "outputs": []
    },
    {
      "cell_type": "code",
      "metadata": {
        "id": "M-LdVdn_ThcK",
        "colab_type": "code",
        "outputId": "20ff70c3-1443-437b-bbd9-063eaaa8a7fe",
        "colab": {
          "base_uri": "https://localhost:8080/",
          "height": 639
        }
      },
      "source": [
        "fig = plt.figure(figsize=(20,10))\n",
        "xl = [n for n in range(1,len(pred)+1)]\n",
        "\n",
        "# ====== valid plot ====== #\n",
        "ax2 = fig.add_subplot(1, 1, 1)\n",
        "ax2.plot(xl, pred, 'o', label='pred')\n",
        "ax2.plot(xl, real, 'x', label='real')\n",
        "ax2.set_xlabel('len')\n",
        "ax2.set_ylabel('value')\n",
        "#ax1.set_ylim(0, 5)\n",
        "ax2.grid()\n",
        "ax2.legend()\n",
        "ax2.set_title('pred vs real')"
      ],
      "execution_count": 0,
      "outputs": [
        {
          "output_type": "execute_result",
          "data": {
            "text/plain": [
              "Text(0.5, 1.0, 'pred vs real')"
            ]
          },
          "metadata": {
            "tags": []
          },
          "execution_count": 181
        },
        {
          "output_type": "display_data",
          "data": {
            "image/png": "[encoded data removed]",
            "text/plain": [
              "<Figure size 1440x720 with 1 Axes>"
            ]
          },
          "metadata": {
            "tags": [],
            "needs_background": "light"
          }
        }
      ]
    }
  ]
}
