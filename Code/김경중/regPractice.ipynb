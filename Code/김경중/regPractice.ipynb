{
  "nbformat": 4,
  "nbformat_minor": 0,
  "metadata": {
    "colab": {
      "name": "regPractice.ipynb",
      "provenance": [],
      "collapsed_sections": [],
      "authorship_tag": "ABX9TyPNAA96DTIjBu8DIgWVNOXA",
      "include_colab_link": true
    },
    "kernelspec": {
      "name": "python3",
      "display_name": "Python 3"
    }
  },
  "cells": [
    {
      "cell_type": "markdown",
      "metadata": {
        "id": "view-in-github",
        "colab_type": "text"
      },
      "source": [
        "<a href=\"https://colab.research.google.com/github/cjssla1/projectJucker/blob/master/Code/%EA%B9%80%EA%B2%BD%EC%A4%91/regPractice.ipynb\" target=\"_parent\"><img src=\"https://colab.research.google.com/assets/colab-badge.svg\" alt=\"Open In Colab\"/></a>"
      ]
    },
    {
      "cell_type": "code",
      "metadata": {
        "id": "Nx04U5ab9uaC",
        "colab_type": "code",
        "outputId": "0996fe52-7d0c-4806-cb05-f1cfc1c109e4",
        "colab": {
          "base_uri": "https://localhost:8080/",
          "height": 35
        }
      },
      "source": [
        "#파이토치 인스톨\n",
        "!pip install -q torch==1.4.0 torchvision\n",
        "import torch\n",
        "print(torch.__version__)"
      ],
      "execution_count": 61,
      "outputs": [
        {
          "output_type": "stream",
          "text": [
            "1.4.0\n"
          ],
          "name": "stdout"
        }
      ]
    },
    {
      "cell_type": "code",
      "metadata": {
        "id": "FYjn1Z4e96kx",
        "colab_type": "code",
        "outputId": "8f2d475a-7ed3-4da4-e77d-945a792a886c",
        "colab": {
          "base_uri": "https://localhost:8080/",
          "height": 35
        }
      },
      "source": [
        "%matplotlib inline\n",
        "#데이터 생성과 화면 표시를 위한 라이브러리 호출\n",
        "import numpy as np\n",
        "import matplotlib.pyplot as plt\n",
        "from mpl_toolkits import mplot3d\n",
        "\n",
        "#실험결과 비교를 위해 시드 고정\n",
        "seed = 444\n",
        "np.random.seed(seed)\n",
        "torch.manual_seed(seed)"
      ],
      "execution_count": 62,
      "outputs": [
        {
          "output_type": "execute_result",
          "data": {
            "text/plain": [
              "<torch._C.Generator at 0x7f348b382170>"
            ]
          },
          "metadata": {
            "tags": []
          },
          "execution_count": 62
        }
      ]
    },
    {
      "cell_type": "code",
      "metadata": {
        "id": "3rkRLj2_-504",
        "colab_type": "code",
        "colab": {}
      },
      "source": [
        "class proData:\n",
        "    \n",
        "    #데이터 쪼개기, 학습, 평가, 테스트 3개부분으로\n",
        "    def splitData(self,x,y):\n",
        "        origin = len(x)\n",
        "        trainn = int(origin*0.6)\n",
        "        valn = int(origin*0.8)\n",
        "\n",
        "        # 경향성을 없애기 위한 셔플\n",
        "        s = np.arange(x.shape[0])\n",
        "        np.random.shuffle(s)\n",
        "        x = x[s]\n",
        "        y = y[s]\n",
        "\n",
        "        trainX, trainY = x[:trainn, :], y[:trainn]\n",
        "        valX, valY = x[trainn:valn,:], y[trainn:valn]\n",
        "        testX,testY = x[valn:,:], y[valn:]\n",
        "\n",
        "        return trainX,trainY,valX,valY,testX,testY"
      ],
      "execution_count": 0,
      "outputs": []
    },
    {
      "cell_type": "code",
      "metadata": {
        "id": "r8qxu117W9cQ",
        "colab_type": "code",
        "colab": {}
      },
      "source": [
        "import torch.nn as nn\n",
        "# 모델 정의\n",
        "    \n",
        "class MLPModel(nn.Module):\n",
        "    # input = 입력값 개수, output = 출력값 개수\n",
        "    def __init__(self,_input,_output,_hidden_layers): \n",
        "        super(MLPModel, self).__init__()\n",
        "        self.inputv = _input\n",
        "        self.outputv = _output\n",
        "        nodes = [_input] + _hidden_layers + [_output]\n",
        "        self.depth = len(nodes)\n",
        "        linears = [nn.Linear(nodes[i], nodes[i+1]) for i in range(self.depth-1)]\n",
        "        self.linears = nn.ModuleList(linears)\n",
        "        self.relu = nn.ReLU()\n",
        "        \n",
        "    \n",
        "    def forward(self, x):\n",
        "    # 인스턴스(샘플) x가 인풋으로 들어왔을 때 모델이 예측하는 y값을 리턴합니다.\n",
        "        for linear in self.linears[:-1]: \n",
        "          x = linear(x)\n",
        "          x = self.relu(x)\n",
        "        x = self.linears[-1](x)\n",
        "\n",
        "        return x"
      ],
      "execution_count": 0,
      "outputs": []
    },
    {
      "cell_type": "code",
      "metadata": {
        "id": "OANyPaziXbLe",
        "colab_type": "code",
        "colab": {}
      },
      "source": [
        "class pltClass():\n",
        "\n",
        "    def __init__(self,_list_epoch, _list_train_loss, _list_val_loss, _list_mae_epoch, _list_mae):\n",
        "        self.list_epoch = _list_epoch\n",
        "        self.list_train_loss = _list_train_loss\n",
        "        self.list_val_loss = _list_val_loss\n",
        "        self.list_mae_epoch = _list_mae_epoch\n",
        "        self.list_mae = _list_mae\n",
        "\n",
        "\n",
        "    def printFigure(self):\n",
        "        fig = plt.figure(figsize=(15,5))\n",
        "\n",
        "        # ====== Loss Fluctuation ====== #\n",
        "        ax1 = fig.add_subplot(1, 2, 1)\n",
        "        ax1.plot(self.list_epoch, self.list_train_loss, label='train_loss')\n",
        "        ax1.plot(self.list_epoch, self.list_val_loss, '--', label='val_loss')\n",
        "        ax1.set_xlabel('epoch')\n",
        "        ax1.set_ylabel('loss')\n",
        "        ax1.set_ylim(0, 5)\n",
        "        ax1.grid()\n",
        "        ax1.legend()\n",
        "        ax1.set_title('epoch vs loss')\n",
        "\n",
        "        # ====== Metric Fluctuation ====== #\n",
        "        ax2 = fig.add_subplot(1, 2, 2)\n",
        "        ax2.plot(self.list_mae_epoch, self.list_mae, marker='x', label='mae metric')\n",
        "\n",
        "        ax2.set_xlabel('epoch')\n",
        "        ax2.set_ylabel('mae')\n",
        "        ax2.grid()\n",
        "        ax2.legend()\n",
        "        ax2.set_title('epoch vs mae')\n",
        "\n",
        "\n",
        "        plt.show()\n",
        "\n"
      ],
      "execution_count": 0,
      "outputs": []
    },
    {
      "cell_type": "code",
      "metadata": {
        "id": "EYZEB6mrFOif",
        "colab_type": "code",
        "colab": {}
      },
      "source": [
        "class epochClass():\n",
        "\n",
        "    def __init__(self,_model,_optimizer):\n",
        "        self.model = _model\n",
        "        self.optimizer = _optimizer\n",
        "        self.reg_loss = nn.MSELoss()\n",
        "        self.list_epoch = []\n",
        "        self.list_train_loss = []\n",
        "        self.list_val_loss = []\n",
        "        self.list_mae = []\n",
        "        self.list_mae_epoch = []\n",
        "\n",
        "    def getModelOptim(self):\n",
        "        return self.model, self.optimizer\n",
        "\n",
        "    def getEpochList(self):\n",
        "        return self.list_epoch, self.list_train_loss, self.list_val_loss, self.list_mae, self.list_mae_epoch\n",
        "\n",
        "    def startEpoch(self,epoch,interval,input_x,train_X,train_y,val_X,val_y,test_X,test_y):\n",
        "        for i in range(epoch):    \n",
        "            # ====== Train ====== #\n",
        "            self.model.train() # model을 train 모드로 세팅합니다. 반대로 향후 모델을 평가할 때는 eval() 모드로 변경할 겁니다 (나중 실습에서 쓸 겁니다)\n",
        "            self.optimizer.zero_grad() # optimizer에 남아있을 수도 있는 잔여 그라디언트를 0으로 다 초기화해줍니다.\n",
        "            \n",
        "            input_x = torch.Tensor(train_X)\n",
        "            true_y = torch.Tensor(train_y)\n",
        "            pred_y = model(input_x)\n",
        "            #print(input_x.shape, true_y.shape, pred_y.shape) # 각 인풋과 아웃풋의 차원을 체크해봅니다.\n",
        "            \n",
        "            loss = reg_loss(pred_y.squeeze(), true_y)\n",
        "            loss.backward() # backward()를 통해서 그라디언트를 구해줍니다.\n",
        "            optimizer.step() # step()을 통해서 그라디언틀르 바탕으로 파라미터를 업데이트 해줍니다. \n",
        "            self.list_epoch.append(i)\n",
        "            self.list_train_loss.append(loss.detach().numpy())\n",
        "            \n",
        "            \n",
        "            # ====== Validation ====== #\n",
        "            model.eval()\n",
        "            optimizer.zero_grad()\n",
        "            input_x = torch.Tensor(val_X)\n",
        "            true_y = torch.Tensor(val_y)\n",
        "            pred_y = model(input_x)   \n",
        "            loss = reg_loss(pred_y.squeeze(), true_y)\n",
        "            self.list_val_loss.append(loss.detach().numpy())\n",
        "            \n",
        "\n",
        "            # ====== Evaluation ======= #\n",
        "            if i % interval == 0: # 200회의 학습마다 실제 데이터 분포와 모델이 예측한 분포를 그려봅니다.\n",
        "                \n",
        "                # ====== Calculate MAE ====== #\n",
        "                model.eval()\n",
        "                optimizer.zero_grad()\n",
        "                input_x = torch.Tensor(test_X)\n",
        "                true_y = torch.Tensor(test_y)\n",
        "                pred_y = model(input_x).detach().numpy() \n",
        "                mae = mean_absolute_error(true_y, pred_y) # sklearn 쪽 함수들은 true_y 가 먼저, pred_y가 나중에 인자로 들어가는 것에 주의합시다\n",
        "                self.list_mae.append(mae)\n",
        "                self.list_mae_epoch.append(i)\n",
        "                \n",
        "                print(i, loss)"
      ],
      "execution_count": 0,
      "outputs": []
    },
    {
      "cell_type": "code",
      "metadata": {
        "id": "goXTOmnP-GXf",
        "colab_type": "code",
        "colab": {}
      },
      "source": [
        "# ====== Generating Dataset ====== 데이터 생성# \n",
        "num_data = 2400\n",
        "x1 = np.random.rand(num_data) * 10\n",
        "x2 = np.random.rand(num_data) * 10\n",
        "e = np.random.normal(0, 0.5, num_data)                  \n",
        "X = np.array([x1, x2]).T\n",
        "y = 3*np.cos(x1) * np.sign(x2) + e\n",
        "\n",
        "p = proData()\n",
        "train_X, train_y, val_X, val_y, test_X, test_y = p.splitData(X,y)"
      ],
      "execution_count": 0,
      "outputs": []
    },
    {
      "cell_type": "code",
      "metadata": {
        "id": "slENN0UDXQFC",
        "colab_type": "code",
        "outputId": "22eb4184-abcd-41f5-f8b8-cc7243d44c4b",
        "colab": {
          "base_uri": "https://localhost:8080/",
          "height": 35
        }
      },
      "source": [
        "import torch.optim as optim\n",
        "from sklearn.metrics import mean_absolute_error\n",
        "# 학습에 필요한 파라미터 정의\n",
        "\n",
        "model = MLPModel(2,1,[200,150,100,50,25,10]) # Model을 생성해줍니다.\n",
        "print('{} parameters'.format(sum(p.numel() for p in model.parameters() if p.requires_grad))) # 복잡해보이지만 간단히 모델 내에 학습을 당할 파라미터 수를 카운팅하는 코드입니다.\n",
        "\n",
        "# ===== Construct Optimizer ====== #\n",
        "lr = 0.005 # Learning Rate를 하나 정해줍니다. (원할한 학습을 위해 손을 많이 탑니다)\n",
        "optimizer = optim.Adam(model.parameters(), lr=lr) # Optimizer를 생성해줍니다.\n"
      ],
      "execution_count": 67,
      "outputs": [
        {
          "output_type": "stream",
          "text": [
            "52446 parameters\n"
          ],
          "name": "stdout"
        }
      ]
    },
    {
      "cell_type": "code",
      "metadata": {
        "id": "3OAz78sNJHsA",
        "colab_type": "code",
        "colab": {
          "base_uri": "https://localhost:8080/",
          "height": 107
        },
        "outputId": "c9b96724-429f-4b7b-ee7c-4b1195e853cf"
      },
      "source": [
        "# 학습 시작\n",
        "ep = epochClass(model,optimizer)\n",
        "ep.startEpoch(1000,200,input_x,train_X,train_y,val_X,val_y,test_X,test_y)"
      ],
      "execution_count": 69,
      "outputs": [
        {
          "output_type": "stream",
          "text": [
            "0 tensor(4.7212, grad_fn=<MseLossBackward>)\n",
            "200 tensor(0.2555, grad_fn=<MseLossBackward>)\n",
            "400 tensor(0.2428, grad_fn=<MseLossBackward>)\n",
            "600 tensor(0.2448, grad_fn=<MseLossBackward>)\n",
            "800 tensor(0.2590, grad_fn=<MseLossBackward>)\n"
          ],
          "name": "stdout"
        }
      ]
    },
    {
      "cell_type": "code",
      "metadata": {
        "id": "egasKQaTrHJ_",
        "colab_type": "code",
        "outputId": "428f839e-cc20-495d-e65b-33a7df3e3366",
        "colab": {
          "base_uri": "https://localhost:8080/",
          "height": 350
        }
      },
      "source": [
        "# 학습결과 차트로 보여주기\n",
        "list_epoch,list_train_loss,list_val_loss,list_mae,list_mae_epoch = ep.getEpochList()\n",
        "pltc = pltClass(list_epoch,list_train_loss,list_val_loss,list_mae_epoch,list_mae)\n",
        "pltc.printFigure()"
      ],
      "execution_count": 70,
      "outputs": [
        {
          "output_type": "display_data",
          "data": {
            "image/png": "[encoded data removed]",
            "text/plain": [
              "<Figure size 1080x360 with 2 Axes>"
            ]
          },
          "metadata": {
            "tags": [],
            "needs_background": "light"
          }
        }
      ]
    }
  ]
}