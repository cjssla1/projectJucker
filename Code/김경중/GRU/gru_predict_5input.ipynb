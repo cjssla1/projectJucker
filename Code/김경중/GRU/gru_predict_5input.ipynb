{
  "nbformat": 4,
  "nbformat_minor": 0,
  "metadata": {
    "colab": {
      "name": "gru_predict_5input.ipynb",
      "provenance": [],
      "collapsed_sections": [],
      "authorship_tag": "ABX9TyP4doenQPstxdWKszN1fg6g"
    },
    "kernelspec": {
      "name": "python3",
      "display_name": "Python 3"
    },
    "accelerator": "GPU"
  },
  "cells": [
    {
      "cell_type": "code",
      "metadata": {
        "id": "7Lj99UuTmJP1",
        "outputId": "e6450bbf-242f-4d6b-a461-3145bb7e6feb",
        "colab": {
          "base_uri": "https://localhost:8080/",
          "height": 431
        }
      },
      "source": [
        "!pip install torch torchvision\n",
        "!pip install -U finance-datareader\n"
      ],
      "execution_count": 1,
      "outputs": [
        {
          "output_type": "stream",
          "text": [
            "Requirement already satisfied: torch in /usr/local/lib/python3.6/dist-packages (1.6.0+cu101)\n",
            "Requirement already satisfied: torchvision in /usr/local/lib/python3.6/dist-packages (0.7.0+cu101)\n",
            "Requirement already satisfied: future in /usr/local/lib/python3.6/dist-packages (from torch) (0.16.0)\n",
            "Requirement already satisfied: numpy in /usr/local/lib/python3.6/dist-packages (from torch) (1.18.5)\n",
            "Requirement already satisfied: pillow>=4.1.1 in /usr/local/lib/python3.6/dist-packages (from torchvision) (7.0.0)\n",
            "Collecting finance-datareader\n",
            "  Downloading https://files.pythonhosted.org/packages/ed/10/1f819839aae5d08e6cc7b29425d278c10104a18e0155282aa2ce552e3fa2/finance_datareader-0.9.10-py3-none-any.whl\n",
            "Requirement already satisfied, skipping upgrade: tqdm in /usr/local/lib/python3.6/dist-packages (from finance-datareader) (4.41.1)\n",
            "Collecting requests-file\n",
            "  Downloading https://files.pythonhosted.org/packages/77/86/cdb5e8eaed90796aa83a6d9f75cfbd37af553c47a291cd47bc410ef9bdb2/requests_file-1.5.1-py2.py3-none-any.whl\n",
            "Requirement already satisfied, skipping upgrade: requests>=2.3.0 in /usr/local/lib/python3.6/dist-packages (from finance-datareader) (2.23.0)\n",
            "Requirement already satisfied, skipping upgrade: lxml in /usr/local/lib/python3.6/dist-packages (from finance-datareader) (4.2.6)\n",
            "Requirement already satisfied, skipping upgrade: pandas>=0.19.2 in /usr/local/lib/python3.6/dist-packages (from finance-datareader) (1.1.2)\n",
            "Requirement already satisfied, skipping upgrade: six in /usr/local/lib/python3.6/dist-packages (from requests-file->finance-datareader) (1.15.0)\n",
            "Requirement already satisfied, skipping upgrade: idna<3,>=2.5 in /usr/local/lib/python3.6/dist-packages (from requests>=2.3.0->finance-datareader) (2.10)\n",
            "Requirement already satisfied, skipping upgrade: urllib3!=1.25.0,!=1.25.1,<1.26,>=1.21.1 in /usr/local/lib/python3.6/dist-packages (from requests>=2.3.0->finance-datareader) (1.24.3)\n",
            "Requirement already satisfied, skipping upgrade: certifi>=2017.4.17 in /usr/local/lib/python3.6/dist-packages (from requests>=2.3.0->finance-datareader) (2020.6.20)\n",
            "Requirement already satisfied, skipping upgrade: chardet<4,>=3.0.2 in /usr/local/lib/python3.6/dist-packages (from requests>=2.3.0->finance-datareader) (3.0.4)\n",
            "Requirement already satisfied, skipping upgrade: python-dateutil>=2.7.3 in /usr/local/lib/python3.6/dist-packages (from pandas>=0.19.2->finance-datareader) (2.8.1)\n",
            "Requirement already satisfied, skipping upgrade: numpy>=1.15.4 in /usr/local/lib/python3.6/dist-packages (from pandas>=0.19.2->finance-datareader) (1.18.5)\n",
            "Requirement already satisfied, skipping upgrade: pytz>=2017.2 in /usr/local/lib/python3.6/dist-packages (from pandas>=0.19.2->finance-datareader) (2018.9)\n",
            "Installing collected packages: requests-file, finance-datareader\n",
            "Successfully installed finance-datareader-0.9.10 requests-file-1.5.1\n"
          ],
          "name": "stdout"
        }
      ]
    },
    {
      "cell_type": "code",
      "metadata": {
        "id": "cewIb01TmOBe"
      },
      "source": [
        "import pandas as pd\n",
        "import pandas_datareader as pdr\n",
        "import FinanceDataReader as fdr\n",
        "import datetime\n",
        "import torch\n",
        "import torch.nn as nn\n",
        "from torch.utils.data import Dataset, DataLoader\n",
        "import torch.optim as optim\n",
        "import numpy as np\n",
        "import argparse\n",
        "import time\n",
        "from copy import deepcopy # Add Deepcopy for args\n",
        "from sklearn.metrics import mean_absolute_error\n",
        "from sklearn.preprocessing import MinMaxScaler"
      ],
      "execution_count": 2,
      "outputs": []
    },
    {
      "cell_type": "code",
      "metadata": {
        "id": "BvQXGWmIhJpB",
        "outputId": "c8724df0-3123-4b3a-b310-f86f6c671360",
        "colab": {
          "base_uri": "https://localhost:8080/",
          "height": 35
        }
      },
      "source": [
        "from google.colab import drive\n",
        "drive.mount('/content/gdrive')"
      ],
      "execution_count": 3,
      "outputs": [
        {
          "output_type": "stream",
          "text": [
            "Mounted at /content/gdrive\n"
          ],
          "name": "stdout"
        }
      ]
    },
    {
      "cell_type": "code",
      "metadata": {
        "id": "fZK6OKYvqElS",
        "outputId": "6eefadfd-e27a-4a91-d1c8-870807336bd2",
        "colab": {
          "base_uri": "https://localhost:8080/",
          "height": 89
        }
      },
      "source": [
        "x_frames = 7\n",
        "'''\n",
        "start = datetime.datetime.now() - datetime.timedelta(days=(x_frames*3))\n",
        "end = datetime.date.today()\n",
        "df_du = pdr.DataReader('POILDUBUSDM', 'fred', start=datetime.datetime.now() - datetime.timedelta(days=(100)), end=end)#석유\n",
        "df_gold = pdr.DataReader('GOLDAMGBD228NLBM', 'fred', start=start, end=end)#금값\n",
        "df_kospi = fdr.DataReader('KS11', start, end)#코스피\n",
        "df_dollar = fdr.DataReader('USD/KRW', start, end)#원달러환율\n",
        "\n",
        "df_kospi['gold'] = df_gold\n",
        "df_kospi['dollar'] = df_dollar['Close']\n",
        "#oil 채우기\n",
        "du = [df_du.values[-1] for i in range(x_frames)]\n",
        "\n",
        "#gold 채우기\n",
        "df_kospi = df_kospi.fillna(value=-1)\n",
        "for i,val in enumerate(df_kospi['gold']):\n",
        "    if val == -1:\n",
        "        df_kospi['gold'][i] = df_kospi['gold'][i-1]\n",
        "df_kospi = df_kospi.tail(x_frames)\n",
        "df_kospi['oil'] = pd.DataFrame(data=du, index=df_kospi.index, columns=['oil'])\n",
        "'''"
      ],
      "execution_count": 4,
      "outputs": [
        {
          "output_type": "execute_result",
          "data": {
            "application/vnd.google.colaboratory.intrinsic+json": {
              "type": "string"
            },
            "text/plain": [
              "\"\\nstart = datetime.datetime.now() - datetime.timedelta(days=(x_frames*3))\\nend = datetime.date.today()\\ndf_du = pdr.DataReader('POILDUBUSDM', 'fred', start=datetime.datetime.now() - datetime.timedelta(days=(100)), end=end)#석유\\ndf_gold = pdr.DataReader('GOLDAMGBD228NLBM', 'fred', start=start, end=end)#금값\\ndf_kospi = fdr.DataReader('KS11', start, end)#코스피\\ndf_dollar = fdr.DataReader('USD/KRW', start, end)#원달러환율\\n\\ndf_kospi['gold'] = df_gold\\ndf_kospi['dollar'] = df_dollar['Close']\\n#oil 채우기\\ndu = [df_du.values[-1] for i in range(x_frames)]\\n\\n#gold 채우기\\ndf_kospi = df_kospi.fillna(value=-1)\\nfor i,val in enumerate(df_kospi['gold']):\\n    if val == -1:\\n        df_kospi['gold'][i] = df_kospi['gold'][i-1]\\ndf_kospi = df_kospi.tail(x_frames)\\ndf_kospi['oil'] = pd.DataFrame(data=du, index=df_kospi.index, columns=['oil'])\\n\""
            ]
          },
          "metadata": {
            "tags": []
          },
          "execution_count": 4
        }
      ]
    },
    {
      "cell_type": "code",
      "metadata": {
        "id": "kJMqB3BUHoWY"
      },
      "source": [
        "class predict_Dataset(Dataset):\n",
        "    \n",
        "    def __init__(self, symbol, x_frames):\n",
        "        \n",
        "        self.symbol = symbol\n",
        "        self.x_frames = x_frames\n",
        "        \n",
        "        self.start = datetime.datetime.now() - datetime.timedelta(days=(x_frames*3))\n",
        "        self.end = datetime.date.today()\n",
        "\n",
        "        self.scaler = MinMaxScaler()\n",
        "        self.data = fdr.DataReader(self.symbol, self.start, self.end)#주식 6가지 특징, 고,시,저,종,거,변\n",
        "        \n",
        "        if len(self.data.index) == 0:\n",
        "            print(self.symbol,' is zero')\n",
        "            return None\n",
        "        self.y_max = max(self.data['Close'])\n",
        "        self.y_min = min(self.data['Close'])\n",
        "        self.data = self.data.tail(x_frames)\n",
        "        self.data = pd.DataFrame(self.scaler.fit_transform(self.data))\n",
        "        \n",
        "        \n",
        "    def __len__(self):\n",
        "        return len(self.data) - x_frames + 1\n",
        "    \n",
        "    def __getitem__(self, idx):\n",
        "        data = self.data[[0,1,2,3,4]]\n",
        "        X = data.values\n",
        "        #X = data[:]\n",
        "        \n",
        "        return X, self.y_max, self.y_min"
      ],
      "execution_count": 13,
      "outputs": []
    },
    {
      "cell_type": "code",
      "metadata": {
        "id": "3_Bk-ZX4mcnL"
      },
      "source": [
        "class GRU(nn.Module):\n",
        "    \n",
        "    def __init__(self, input_dim, hidden_dim, output_dim, num_layers, batch_size, dropout, use_bn):\n",
        "        super(GRU, self).__init__()\n",
        "        self.input_dim = input_dim \n",
        "        self.hidden_dim = hidden_dim\n",
        "        self.output_dim = output_dim\n",
        "        self.num_layers = num_layers\n",
        "\n",
        "        self.batch_size = batch_size\n",
        "        self.dropout = dropout\n",
        "        self.use_bn = use_bn \n",
        "        self.gru = nn.GRU(self.input_dim, self.hidden_dim*2, self.num_layers)\n",
        "        self.gru2 = nn.GRU(self.hidden_dim*2, self.hidden_dim, self.num_layers)\n",
        "        self.regressor = self.make_regressor()\n",
        "\n",
        "    def make_regressor(self):\n",
        "        layers = []\n",
        "        if self.use_bn:\n",
        "            layers.append(nn.BatchNorm1d(self.hidden_dim))\n",
        "        layers.append(nn.Dropout(self.dropout))\n",
        "        \n",
        "        layers.append(nn.Linear(self.hidden_dim, self.hidden_dim//2))\n",
        "        layers.append(nn.ReLU())\n",
        "        layers.append(nn.Linear(self.hidden_dim//2, self.output_dim))\n",
        "        regressor = nn.Sequential(*layers)\n",
        "        return regressor\n",
        "    \n",
        "    def forward(self, x):\n",
        "        x, _ = self.gru(x)\n",
        "        x, _ = self.gru2(x)\n",
        "        y_pred = self.regressor(x[-1].view(self.batch_size, -1))\n",
        "        return y_pred"
      ],
      "execution_count": 6,
      "outputs": []
    },
    {
      "cell_type": "code",
      "metadata": {
        "id": "jaYA8Fntf-_k",
        "outputId": "3f496beb-cdd7-44c3-d1f8-5f98d9a6c83f",
        "colab": {
          "base_uri": "https://localhost:8080/",
          "height": 53
        }
      },
      "source": [
        "#주식정보들\n",
        "Symbols = ['005930','000660','035420','207940','051910','005935','005380','068270','035720','006400','051900','012330','000270','028260']\n",
        "'''\n",
        "with open('/content/gdrive/My Drive/Symbols.txt', 'r') as f:\n",
        "    data = f.readline()\n",
        "    Symbols = data.split(',')\n",
        "print(len(Symbols))\n",
        "'''\n",
        "'''\n",
        "005930   삼성전자\n",
        "000660   SK하이닉스\n",
        "035420   NAVER\n",
        "207940   삼성바이오로직스\n",
        "051910   LG화학\n",
        "005935   삼성전자우\n",
        "005380   현대차\n",
        "068270   셀트리온\n",
        "035720   카카오\n",
        "006400   삼성SDI\n",
        "051900   LG생활건강\n",
        "012330   현대모비스\n",
        "000270   기아차\n",
        "028260   삼성물산\n",
        "'''"
      ],
      "execution_count": 7,
      "outputs": [
        {
          "output_type": "execute_result",
          "data": {
            "application/vnd.google.colaboratory.intrinsic+json": {
              "type": "string"
            },
            "text/plain": [
              "'\\n005930   삼성전자\\n000660   SK하이닉스\\n035420   NAVER\\n207940   삼성바이오로직스\\n051910   LG화학\\n005935   삼성전자우\\n005380   현대차\\n068270   셀트리온\\n035720   카카오\\n006400   삼성SDI\\n051900   LG생활건강\\n012330   현대모비스\\n000270   기아차\\n028260   삼성물산\\n'"
            ]
          },
          "metadata": {
            "tags": []
          },
          "execution_count": 7
        }
      ]
    },
    {
      "cell_type": "code",
      "metadata": {
        "id": "T-w0sPLzMK3i",
        "outputId": "fa07c46b-4235-4785-9f08-3956e2dcce83",
        "colab": {
          "base_uri": "https://localhost:8080/",
          "height": 215
        }
      },
      "source": [
        "batch_size = 1\n",
        "input_dim = 5\n",
        "hidden_dim = 64\n",
        "num_layers = 2\n",
        "input_frame = 7\n",
        "output_frame = 7\n",
        "dropout = 1.0\n",
        "use_bn = True\n",
        "\n",
        "model = GRU(input_dim,hidden_dim,output_frame,num_layers,batch_size,dropout,use_bn)\n",
        "modelPath = '/content/gdrive/My Drive/GRUmodel/GRU_5_model.pt'\n",
        "model.load_state_dict(torch.load(modelPath))\n",
        "device = 'cuda' if torch.cuda.is_available() else 'cpu'\n",
        "\n",
        "model.to(device)"
      ],
      "execution_count": 8,
      "outputs": [
        {
          "output_type": "execute_result",
          "data": {
            "text/plain": [
              "GRU(\n",
              "  (gru): GRU(5, 128, num_layers=2)\n",
              "  (gru2): GRU(128, 64, num_layers=2)\n",
              "  (regressor): Sequential(\n",
              "    (0): BatchNorm1d(64, eps=1e-05, momentum=0.1, affine=True, track_running_stats=True)\n",
              "    (1): Dropout(p=1.0, inplace=False)\n",
              "    (2): Linear(in_features=64, out_features=32, bias=True)\n",
              "    (3): ReLU()\n",
              "    (4): Linear(in_features=32, out_features=7, bias=True)\n",
              "  )\n",
              ")"
            ]
          },
          "metadata": {
            "tags": []
          },
          "execution_count": 8
        }
      ]
    },
    {
      "cell_type": "code",
      "metadata": {
        "id": "tfTMmwCehpm7"
      },
      "source": [
        "predicts = {}\n",
        "i = 0\n",
        "for sb in Symbols:\n",
        "    i += 1\n",
        "    if i % 100 == 0:\n",
        "        print(i)\n",
        "    pset = predict_Dataset(sb,input_frame)\n",
        "    model.eval()\n",
        "    loader = DataLoader(pset,batch_size,shuffle=False)\n",
        "    for X, y_max, y_min in loader:\n",
        "        X = X.transpose(0, 1).float().to(device)\n",
        "        y_pred = model(X)\n",
        "        y_pred = y_pred.view(-1)\n",
        "        predicts[sb] = int(y_pred[-1]*(y_max.to(device)-y_min.to(device))+y_min.to(device))\n"
      ],
      "execution_count": 14,
      "outputs": []
    },
    {
      "cell_type": "code",
      "metadata": {
        "id": "W4LHtC4ovoVA",
        "outputId": "cedbc404-d032-4cab-e9cb-ebd4683864b3",
        "colab": {
          "base_uri": "https://localhost:8080/",
          "height": 71
        }
      },
      "source": [
        "print(predicts)\n",
        "'''\n",
        "005930   삼성전자\n",
        "000660   SK하이닉스\n",
        "035420   NAVER\n",
        "207940   삼성바이오로직스\n",
        "051910   LG화학\n",
        "005935   삼성전자우\n",
        "005380   현대차\n",
        "068270   셀트리온\n",
        "035720   카카오\n",
        "006400   삼성SDI\n",
        "051900   LG생활건강\n",
        "012330   현대모비스\n",
        "000270   기아차\n",
        "028260   삼성물산\n",
        "'''\n"
      ],
      "execution_count": 15,
      "outputs": [
        {
          "output_type": "stream",
          "text": [
            "{'005930': 58639, '000660': 85342, '035420': 293876, '207940': 689667, '051910': 635953, '005935': 53002, '005380': 173989, '068270': 256892, '035720': 360477, '006400': 423212, '051900': 1561707, '012330': 227351, '000270': 46206, '028260': 102420}\n"
          ],
          "name": "stdout"
        },
        {
          "output_type": "execute_result",
          "data": {
            "application/vnd.google.colaboratory.intrinsic+json": {
              "type": "string"
            },
            "text/plain": [
              "'\\n005930   삼성전자\\n000660   SK하이닉스\\n035420   NAVER\\n207940   삼성바이오로직스\\n051910   LG화학\\n005935   삼성전자우\\n005380   현대차\\n068270   셀트리온\\n035720   카카오\\n006400   삼성SDI\\n051900   LG생활건강\\n012330   현대모비스\\n000270   기아차\\n028260   삼성물산\\n'"
            ]
          },
          "metadata": {
            "tags": []
          },
          "execution_count": 15
        }
      ]
    },
    {
      "cell_type": "code",
      "metadata": {
        "id": "949zvzQo5kOe"
      },
      "source": [
        "'''\n",
        "!pip install pymysql\n",
        "import pymysql\n",
        "'''"
      ],
      "execution_count": null,
      "outputs": []
    },
    {
      "cell_type": "code",
      "metadata": {
        "id": "3CxcydMg64Tp"
      },
      "source": [
        "conn = pymysql.connect(host='jukerdb.cwhsnjoqybdo.ap-northeast-2.rds.amazonaws.com', user='admin', password='',\n",
        "                       db='WEB', charset='utf8')\n",
        " \n",
        "# Connection 으로부터 Cursor 생성\n",
        "curs = conn.cursor()\n",
        " \n",
        "\n",
        "for sb in result:\n",
        "    #table : stockpreidct\n",
        "    #symbol, value, type, day\n",
        "    # SQL문 실행\n",
        "    sql = \"\"\"INSERT INTO stockpredict VALUES(%s,%s,%s,NOW())\"\"\"\n",
        "    val = (sb,result[sb],'L')\n",
        "    curs.execute(sql,val)\n",
        "    conn.commit()\n",
        "\n",
        "sql = \"select * from stockpredict\"\n",
        "curs.execute(sql)\n",
        "rows = curs.fetchall()\n",
        "print(rows)     # 전체 rows\n",
        "\n",
        "# Connection 닫기\n",
        "conn.close()"
      ],
      "execution_count": null,
      "outputs": []
    },
    {
      "cell_type": "code",
      "metadata": {
        "id": "j32SAzEXZUG4"
      },
      "source": [
        ""
      ],
      "execution_count": null,
      "outputs": []
    }
  ]
}