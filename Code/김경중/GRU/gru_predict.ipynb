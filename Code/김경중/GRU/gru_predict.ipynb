{
  "nbformat": 4,
  "nbformat_minor": 0,
  "metadata": {
    "colab": {
      "name": "gru_predict.ipynb",
      "provenance": [],
      "collapsed_sections": [],
      "authorship_tag": "ABX9TyPhlwc0dry/r5q+MuwYykt3"
    },
    "kernelspec": {
      "name": "python3",
      "display_name": "Python 3"
    },
    "accelerator": "GPU"
  },
  "cells": [
    {
      "cell_type": "code",
      "metadata": {
        "id": "7Lj99UuTmJP1",
        "outputId": "0180171d-e53f-4e1d-bf34-d7d1521c94f7",
        "colab": {
          "base_uri": "https://localhost:8080/",
          "height": 431
        }
      },
      "source": [
        "!pip install torch torchvision\n",
        "!pip install -U finance-datareader\n"
      ],
      "execution_count": 1,
      "outputs": [
        {
          "output_type": "stream",
          "text": [
            "Requirement already satisfied: torch in /usr/local/lib/python3.6/dist-packages (1.6.0+cu101)\n",
            "Requirement already satisfied: torchvision in /usr/local/lib/python3.6/dist-packages (0.7.0+cu101)\n",
            "Requirement already satisfied: future in /usr/local/lib/python3.6/dist-packages (from torch) (0.16.0)\n",
            "Requirement already satisfied: numpy in /usr/local/lib/python3.6/dist-packages (from torch) (1.18.5)\n",
            "Requirement already satisfied: pillow>=4.1.1 in /usr/local/lib/python3.6/dist-packages (from torchvision) (7.0.0)\n",
            "Collecting finance-datareader\n",
            "  Downloading https://files.pythonhosted.org/packages/ed/10/1f819839aae5d08e6cc7b29425d278c10104a18e0155282aa2ce552e3fa2/finance_datareader-0.9.10-py3-none-any.whl\n",
            "Requirement already satisfied, skipping upgrade: pandas>=0.19.2 in /usr/local/lib/python3.6/dist-packages (from finance-datareader) (1.1.2)\n",
            "Requirement already satisfied, skipping upgrade: requests>=2.3.0 in /usr/local/lib/python3.6/dist-packages (from finance-datareader) (2.23.0)\n",
            "Requirement already satisfied, skipping upgrade: lxml in /usr/local/lib/python3.6/dist-packages (from finance-datareader) (4.2.6)\n",
            "Collecting requests-file\n",
            "  Downloading https://files.pythonhosted.org/packages/77/86/cdb5e8eaed90796aa83a6d9f75cfbd37af553c47a291cd47bc410ef9bdb2/requests_file-1.5.1-py2.py3-none-any.whl\n",
            "Requirement already satisfied, skipping upgrade: tqdm in /usr/local/lib/python3.6/dist-packages (from finance-datareader) (4.41.1)\n",
            "Requirement already satisfied, skipping upgrade: pytz>=2017.2 in /usr/local/lib/python3.6/dist-packages (from pandas>=0.19.2->finance-datareader) (2018.9)\n",
            "Requirement already satisfied, skipping upgrade: python-dateutil>=2.7.3 in /usr/local/lib/python3.6/dist-packages (from pandas>=0.19.2->finance-datareader) (2.8.1)\n",
            "Requirement already satisfied, skipping upgrade: numpy>=1.15.4 in /usr/local/lib/python3.6/dist-packages (from pandas>=0.19.2->finance-datareader) (1.18.5)\n",
            "Requirement already satisfied, skipping upgrade: certifi>=2017.4.17 in /usr/local/lib/python3.6/dist-packages (from requests>=2.3.0->finance-datareader) (2020.6.20)\n",
            "Requirement already satisfied, skipping upgrade: chardet<4,>=3.0.2 in /usr/local/lib/python3.6/dist-packages (from requests>=2.3.0->finance-datareader) (3.0.4)\n",
            "Requirement already satisfied, skipping upgrade: idna<3,>=2.5 in /usr/local/lib/python3.6/dist-packages (from requests>=2.3.0->finance-datareader) (2.10)\n",
            "Requirement already satisfied, skipping upgrade: urllib3!=1.25.0,!=1.25.1,<1.26,>=1.21.1 in /usr/local/lib/python3.6/dist-packages (from requests>=2.3.0->finance-datareader) (1.24.3)\n",
            "Requirement already satisfied, skipping upgrade: six in /usr/local/lib/python3.6/dist-packages (from requests-file->finance-datareader) (1.15.0)\n",
            "Installing collected packages: requests-file, finance-datareader\n",
            "Successfully installed finance-datareader-0.9.10 requests-file-1.5.1\n"
          ],
          "name": "stdout"
        }
      ]
    },
    {
      "cell_type": "code",
      "metadata": {
        "id": "cewIb01TmOBe"
      },
      "source": [
        "import pandas as pd\n",
        "import pandas_datareader as pdr\n",
        "import FinanceDataReader as fdr\n",
        "import datetime\n",
        "import torch\n",
        "import torch.nn as nn\n",
        "from torch.utils.data import Dataset, DataLoader\n",
        "import torch.optim as optim\n",
        "import numpy as np\n",
        "import argparse\n",
        "import time\n",
        "from copy import deepcopy # Add Deepcopy for args\n",
        "from sklearn.metrics import mean_absolute_error\n",
        "from sklearn.preprocessing import MinMaxScaler"
      ],
      "execution_count": 2,
      "outputs": []
    },
    {
      "cell_type": "code",
      "metadata": {
        "id": "BvQXGWmIhJpB",
        "outputId": "d958ff0d-76d1-4d48-e746-476ba232bb58",
        "colab": {
          "base_uri": "https://localhost:8080/",
          "height": 35
        }
      },
      "source": [
        "from google.colab import drive\n",
        "drive.mount('/content/gdrive')"
      ],
      "execution_count": 3,
      "outputs": [
        {
          "output_type": "stream",
          "text": [
            "Mounted at /content/gdrive\n"
          ],
          "name": "stdout"
        }
      ]
    },
    {
      "cell_type": "code",
      "metadata": {
        "id": "fZK6OKYvqElS"
      },
      "source": [
        "x_frames = 7\n",
        "start = datetime.datetime.now() - datetime.timedelta(days=(x_frames*3))\n",
        "end = datetime.date.today()\n",
        "df_du = pdr.DataReader('POILDUBUSDM', 'fred', start=datetime.datetime.now() - datetime.timedelta(days=(100)), end=end)#석유\n",
        "df_gold = pdr.DataReader('GOLDAMGBD228NLBM', 'fred', start=start, end=end)#금값\n",
        "df_kospi = fdr.DataReader('KS11', start, end)#코스피\n",
        "df_dollar = fdr.DataReader('USD/KRW', start, end)#원달러환율\n",
        "\n",
        "df_kospi['gold'] = df_gold\n",
        "df_kospi['dollar'] = df_dollar['Close']\n",
        "#oil 채우기\n",
        "du = [df_du.values[-1] for i in range(x_frames)]\n",
        "\n",
        "#gold 채우기\n",
        "df_kospi = df_kospi.fillna(value=-1)\n",
        "for i,val in enumerate(df_kospi['gold']):\n",
        "    if val == -1:\n",
        "        df_kospi['gold'][i] = df_kospi['gold'][i-1]\n",
        "df_kospi = df_kospi.tail(x_frames)\n",
        "df_kospi['oil'] = pd.DataFrame(data=du, index=df_kospi.index, columns=['oil'])\n"
      ],
      "execution_count": 35,
      "outputs": []
    },
    {
      "cell_type": "code",
      "metadata": {
        "id": "acIrhrf_834v",
        "outputId": "83ae9f0b-3c8a-47c6-9229-588920a16408",
        "colab": {
          "base_uri": "https://localhost:8080/",
          "height": 297
        }
      },
      "source": [
        "df_kospi"
      ],
      "execution_count": 36,
      "outputs": [
        {
          "output_type": "execute_result",
          "data": {
            "text/html": [
              "<div>\n",
              "<style scoped>\n",
              "    .dataframe tbody tr th:only-of-type {\n",
              "        vertical-align: middle;\n",
              "    }\n",
              "\n",
              "    .dataframe tbody tr th {\n",
              "        vertical-align: top;\n",
              "    }\n",
              "\n",
              "    .dataframe thead th {\n",
              "        text-align: right;\n",
              "    }\n",
              "</style>\n",
              "<table border=\"1\" class=\"dataframe\">\n",
              "  <thead>\n",
              "    <tr style=\"text-align: right;\">\n",
              "      <th></th>\n",
              "      <th>Close</th>\n",
              "      <th>Open</th>\n",
              "      <th>High</th>\n",
              "      <th>Low</th>\n",
              "      <th>Volume</th>\n",
              "      <th>Change</th>\n",
              "      <th>gold</th>\n",
              "      <th>dollar</th>\n",
              "      <th>oil</th>\n",
              "    </tr>\n",
              "    <tr>\n",
              "      <th>Date</th>\n",
              "      <th></th>\n",
              "      <th></th>\n",
              "      <th></th>\n",
              "      <th></th>\n",
              "      <th></th>\n",
              "      <th></th>\n",
              "      <th></th>\n",
              "      <th></th>\n",
              "      <th></th>\n",
              "    </tr>\n",
              "  </thead>\n",
              "  <tbody>\n",
              "    <tr>\n",
              "      <th>2020-09-25</th>\n",
              "      <td>2278.79</td>\n",
              "      <td>2295.19</td>\n",
              "      <td>2296.36</td>\n",
              "      <td>2267.63</td>\n",
              "      <td>697960000.0</td>\n",
              "      <td>0.0027</td>\n",
              "      <td>1870.05</td>\n",
              "      <td>1174.32</td>\n",
              "      <td>43.705238</td>\n",
              "    </tr>\n",
              "    <tr>\n",
              "      <th>2020-09-28</th>\n",
              "      <td>2308.08</td>\n",
              "      <td>2301.16</td>\n",
              "      <td>2314.81</td>\n",
              "      <td>2291.32</td>\n",
              "      <td>605980000.0</td>\n",
              "      <td>0.0129</td>\n",
              "      <td>1850.95</td>\n",
              "      <td>1166.85</td>\n",
              "      <td>43.705238</td>\n",
              "    </tr>\n",
              "    <tr>\n",
              "      <th>2020-09-29</th>\n",
              "      <td>2327.89</td>\n",
              "      <td>2331.51</td>\n",
              "      <td>2339.83</td>\n",
              "      <td>2320.04</td>\n",
              "      <td>646220000.0</td>\n",
              "      <td>0.0086</td>\n",
              "      <td>1882.40</td>\n",
              "      <td>1168.73</td>\n",
              "      <td>43.705238</td>\n",
              "    </tr>\n",
              "    <tr>\n",
              "      <th>2020-10-05</th>\n",
              "      <td>2358.00</td>\n",
              "      <td>2330.55</td>\n",
              "      <td>2364.73</td>\n",
              "      <td>2327.83</td>\n",
              "      <td>763620000.0</td>\n",
              "      <td>0.0129</td>\n",
              "      <td>1899.65</td>\n",
              "      <td>1157.12</td>\n",
              "      <td>43.705238</td>\n",
              "    </tr>\n",
              "    <tr>\n",
              "      <th>2020-10-06</th>\n",
              "      <td>2365.90</td>\n",
              "      <td>2369.17</td>\n",
              "      <td>2378.28</td>\n",
              "      <td>2355.39</td>\n",
              "      <td>861750000.0</td>\n",
              "      <td>0.0034</td>\n",
              "      <td>1912.50</td>\n",
              "      <td>1164.37</td>\n",
              "      <td>43.705238</td>\n",
              "    </tr>\n",
              "    <tr>\n",
              "      <th>2020-10-07</th>\n",
              "      <td>2386.94</td>\n",
              "      <td>2350.82</td>\n",
              "      <td>2387.45</td>\n",
              "      <td>2347.82</td>\n",
              "      <td>737990000.0</td>\n",
              "      <td>0.0089</td>\n",
              "      <td>1888.00</td>\n",
              "      <td>1157.26</td>\n",
              "      <td>43.705238</td>\n",
              "    </tr>\n",
              "    <tr>\n",
              "      <th>2020-10-08</th>\n",
              "      <td>2391.96</td>\n",
              "      <td>2408.49</td>\n",
              "      <td>2409.01</td>\n",
              "      <td>2383.82</td>\n",
              "      <td>961730000.0</td>\n",
              "      <td>0.0021</td>\n",
              "      <td>1891.35</td>\n",
              "      <td>1151.11</td>\n",
              "      <td>43.705238</td>\n",
              "    </tr>\n",
              "  </tbody>\n",
              "</table>\n",
              "</div>"
            ],
            "text/plain": [
              "              Close     Open     High  ...     gold   dollar        oil\n",
              "Date                                   ...                             \n",
              "2020-09-25  2278.79  2295.19  2296.36  ...  1870.05  1174.32  43.705238\n",
              "2020-09-28  2308.08  2301.16  2314.81  ...  1850.95  1166.85  43.705238\n",
              "2020-09-29  2327.89  2331.51  2339.83  ...  1882.40  1168.73  43.705238\n",
              "2020-10-05  2358.00  2330.55  2364.73  ...  1899.65  1157.12  43.705238\n",
              "2020-10-06  2365.90  2369.17  2378.28  ...  1912.50  1164.37  43.705238\n",
              "2020-10-07  2386.94  2350.82  2387.45  ...  1888.00  1157.26  43.705238\n",
              "2020-10-08  2391.96  2408.49  2409.01  ...  1891.35  1151.11  43.705238\n",
              "\n",
              "[7 rows x 9 columns]"
            ]
          },
          "metadata": {
            "tags": []
          },
          "execution_count": 36
        }
      ]
    },
    {
      "cell_type": "code",
      "metadata": {
        "id": "kJMqB3BUHoWY"
      },
      "source": [
        "class predict_Dataset(Dataset):\n",
        "    \n",
        "    def __init__(self, symbol, x_frames,df_kospi):\n",
        "        \n",
        "        self.symbol = symbol\n",
        "        self.x_frames = x_frames\n",
        "        \n",
        "        self.start = datetime.datetime.now() - datetime.timedelta(days=(x_frames*3))\n",
        "        self.end = datetime.date.today()\n",
        "\n",
        "        self.scaler = MinMaxScaler()\n",
        "        self.data = fdr.DataReader(self.symbol, self.start, self.end)#주식 6가지 특징, 고,시,저,종,거,변\n",
        "        \n",
        "        if len(self.data.index) == 0:\n",
        "            print(self.symbol,' is zero')\n",
        "            return None\n",
        "        self.data['dollar'] = df_dollar[['Close']]\n",
        "        self.data['kospi'] = df_kospi[['Close']]\n",
        "        self.data['oil'] = df_kospi[['oil']]\n",
        "        self.data['gold'] = df_kospi[['gold']]\n",
        "        self.data = pd.DataFrame(self.scaler.fit_transform(self.data))\n",
        "        self.data = self.data.tail(x_frames)\n",
        "        \n",
        "    def __len__(self):\n",
        "        return len(self.data) - x_frames + 1\n",
        "    \n",
        "    def __getitem__(self, idx):\n",
        "        data = self.data.values\n",
        "        X = data[:]\n",
        "        \n",
        "        return X"
      ],
      "execution_count": 67,
      "outputs": []
    },
    {
      "cell_type": "code",
      "metadata": {
        "id": "3_Bk-ZX4mcnL"
      },
      "source": [
        "class GRU(nn.Module):\n",
        "    \n",
        "    def __init__(self, input_dim, hidden_dim, output_dim, num_layers, batch_size, dropout, use_bn):\n",
        "        super(GRU, self).__init__()\n",
        "        self.input_dim = input_dim \n",
        "        self.hidden_dim = hidden_dim\n",
        "        self.output_dim = output_dim\n",
        "        self.num_layers = num_layers\n",
        "\n",
        "        self.batch_size = batch_size\n",
        "        self.dropout = dropout\n",
        "        self.use_bn = use_bn \n",
        "        self.gru = nn.GRU(self.input_dim, self.hidden_dim*2, self.num_layers)\n",
        "        self.gru2 = nn.GRU(self.hidden_dim*2, self.hidden_dim, self.num_layers)\n",
        "        self.regressor = self.make_regressor()\n",
        "\n",
        "    def make_regressor(self):\n",
        "        layers = []\n",
        "        if self.use_bn:\n",
        "            layers.append(nn.BatchNorm1d(self.hidden_dim))\n",
        "        layers.append(nn.Dropout(self.dropout))\n",
        "        \n",
        "        layers.append(nn.Linear(self.hidden_dim, self.hidden_dim//2))\n",
        "        layers.append(nn.ReLU())\n",
        "        layers.append(nn.Linear(self.hidden_dim//2, self.output_dim))\n",
        "        regressor = nn.Sequential(*layers)\n",
        "        return regressor\n",
        "    \n",
        "    def forward(self, x):\n",
        "        x, _ = self.gru(x)\n",
        "        x, _ = self.gru2(x)\n",
        "        y_pred = self.regressor(x[-1].view(self.batch_size, -1))\n",
        "        return y_pred"
      ],
      "execution_count": 38,
      "outputs": []
    },
    {
      "cell_type": "code",
      "metadata": {
        "id": "jaYA8Fntf-_k",
        "outputId": "a5b9c8cc-07c0-4252-c517-7a811a02a251",
        "colab": {
          "base_uri": "https://localhost:8080/",
          "height": 35
        }
      },
      "source": [
        "#주식정보들\n",
        "Symbols = []\n",
        "with open('/content/gdrive/My Drive/Symbols.txt', 'r') as f:\n",
        "    data = f.readline()\n",
        "    Symbols = data.split(',')\n",
        "print(len(Symbols))"
      ],
      "execution_count": 39,
      "outputs": [
        {
          "output_type": "stream",
          "text": [
            "795\n"
          ],
          "name": "stdout"
        }
      ]
    },
    {
      "cell_type": "code",
      "metadata": {
        "id": "T-w0sPLzMK3i",
        "outputId": "05e14154-1ec0-4025-d56e-5ce49825146e",
        "colab": {
          "base_uri": "https://localhost:8080/",
          "height": 215
        }
      },
      "source": [
        "batch_size = 1\n",
        "input_dim = 10\n",
        "hidden_dim = 64\n",
        "num_layers = 2\n",
        "input_frame = 7\n",
        "output_frame = 7\n",
        "dropout = 1.0\n",
        "use_bn = True\n",
        "\n",
        "model = GRU(input_dim,hidden_dim,output_frame,num_layers,batch_size,dropout,use_bn)\n",
        "modelPath = '/content/gdrive/My Drive/GRUmodel/GRU_Best_model.pt'\n",
        "model.load_state_dict(torch.load(modelPath))\n",
        "device = 'cuda' if torch.cuda.is_available() else 'cpu'\n",
        "\n",
        "model.to(device)"
      ],
      "execution_count": 40,
      "outputs": [
        {
          "output_type": "execute_result",
          "data": {
            "text/plain": [
              "GRU(\n",
              "  (gru): GRU(10, 128, num_layers=2)\n",
              "  (gru2): GRU(128, 64, num_layers=2)\n",
              "  (regressor): Sequential(\n",
              "    (0): BatchNorm1d(64, eps=1e-05, momentum=0.1, affine=True, track_running_stats=True)\n",
              "    (1): Dropout(p=1.0, inplace=False)\n",
              "    (2): Linear(in_features=64, out_features=32, bias=True)\n",
              "    (3): ReLU()\n",
              "    (4): Linear(in_features=32, out_features=7, bias=True)\n",
              "  )\n",
              ")"
            ]
          },
          "metadata": {
            "tags": []
          },
          "execution_count": 40
        }
      ]
    },
    {
      "cell_type": "code",
      "metadata": {
        "id": "OAd8_zNA0ahF",
        "outputId": "cd3b42e9-85c5-4b11-ad39-0cd359fefbcc",
        "colab": {
          "base_uri": "https://localhost:8080/",
          "height": 514
        }
      },
      "source": [
        "df_gold"
      ],
      "execution_count": 41,
      "outputs": [
        {
          "output_type": "execute_result",
          "data": {
            "text/html": [
              "<div>\n",
              "<style scoped>\n",
              "    .dataframe tbody tr th:only-of-type {\n",
              "        vertical-align: middle;\n",
              "    }\n",
              "\n",
              "    .dataframe tbody tr th {\n",
              "        vertical-align: top;\n",
              "    }\n",
              "\n",
              "    .dataframe thead th {\n",
              "        text-align: right;\n",
              "    }\n",
              "</style>\n",
              "<table border=\"1\" class=\"dataframe\">\n",
              "  <thead>\n",
              "    <tr style=\"text-align: right;\">\n",
              "      <th></th>\n",
              "      <th>GOLDAMGBD228NLBM</th>\n",
              "    </tr>\n",
              "    <tr>\n",
              "      <th>DATE</th>\n",
              "      <th></th>\n",
              "    </tr>\n",
              "  </thead>\n",
              "  <tbody>\n",
              "    <tr>\n",
              "      <th>2020-09-21</th>\n",
              "      <td>1930.90</td>\n",
              "    </tr>\n",
              "    <tr>\n",
              "      <th>2020-09-22</th>\n",
              "      <td>1903.10</td>\n",
              "    </tr>\n",
              "    <tr>\n",
              "      <th>2020-09-23</th>\n",
              "      <td>1888.10</td>\n",
              "    </tr>\n",
              "    <tr>\n",
              "      <th>2020-09-24</th>\n",
              "      <td>1850.75</td>\n",
              "    </tr>\n",
              "    <tr>\n",
              "      <th>2020-09-25</th>\n",
              "      <td>1870.05</td>\n",
              "    </tr>\n",
              "    <tr>\n",
              "      <th>2020-09-28</th>\n",
              "      <td>1850.95</td>\n",
              "    </tr>\n",
              "    <tr>\n",
              "      <th>2020-09-29</th>\n",
              "      <td>1882.40</td>\n",
              "    </tr>\n",
              "    <tr>\n",
              "      <th>2020-09-30</th>\n",
              "      <td>1883.40</td>\n",
              "    </tr>\n",
              "    <tr>\n",
              "      <th>2020-10-01</th>\n",
              "      <td>1895.55</td>\n",
              "    </tr>\n",
              "    <tr>\n",
              "      <th>2020-10-02</th>\n",
              "      <td>1906.40</td>\n",
              "    </tr>\n",
              "    <tr>\n",
              "      <th>2020-10-05</th>\n",
              "      <td>1899.65</td>\n",
              "    </tr>\n",
              "    <tr>\n",
              "      <th>2020-10-06</th>\n",
              "      <td>1912.50</td>\n",
              "    </tr>\n",
              "    <tr>\n",
              "      <th>2020-10-07</th>\n",
              "      <td>1888.00</td>\n",
              "    </tr>\n",
              "    <tr>\n",
              "      <th>2020-10-08</th>\n",
              "      <td>1891.35</td>\n",
              "    </tr>\n",
              "  </tbody>\n",
              "</table>\n",
              "</div>"
            ],
            "text/plain": [
              "            GOLDAMGBD228NLBM\n",
              "DATE                        \n",
              "2020-09-21           1930.90\n",
              "2020-09-22           1903.10\n",
              "2020-09-23           1888.10\n",
              "2020-09-24           1850.75\n",
              "2020-09-25           1870.05\n",
              "2020-09-28           1850.95\n",
              "2020-09-29           1882.40\n",
              "2020-09-30           1883.40\n",
              "2020-10-01           1895.55\n",
              "2020-10-02           1906.40\n",
              "2020-10-05           1899.65\n",
              "2020-10-06           1912.50\n",
              "2020-10-07           1888.00\n",
              "2020-10-08           1891.35"
            ]
          },
          "metadata": {
            "tags": []
          },
          "execution_count": 41
        }
      ]
    },
    {
      "cell_type": "code",
      "metadata": {
        "id": "DffEr0FfwK08",
        "outputId": "e3a1aa78-cded-498b-ee1e-8eecf4203e87",
        "colab": {
          "base_uri": "https://localhost:8080/",
          "height": 297
        }
      },
      "source": [
        "df_kospi"
      ],
      "execution_count": 42,
      "outputs": [
        {
          "output_type": "execute_result",
          "data": {
            "text/html": [
              "<div>\n",
              "<style scoped>\n",
              "    .dataframe tbody tr th:only-of-type {\n",
              "        vertical-align: middle;\n",
              "    }\n",
              "\n",
              "    .dataframe tbody tr th {\n",
              "        vertical-align: top;\n",
              "    }\n",
              "\n",
              "    .dataframe thead th {\n",
              "        text-align: right;\n",
              "    }\n",
              "</style>\n",
              "<table border=\"1\" class=\"dataframe\">\n",
              "  <thead>\n",
              "    <tr style=\"text-align: right;\">\n",
              "      <th></th>\n",
              "      <th>Close</th>\n",
              "      <th>Open</th>\n",
              "      <th>High</th>\n",
              "      <th>Low</th>\n",
              "      <th>Volume</th>\n",
              "      <th>Change</th>\n",
              "      <th>gold</th>\n",
              "      <th>dollar</th>\n",
              "      <th>oil</th>\n",
              "    </tr>\n",
              "    <tr>\n",
              "      <th>Date</th>\n",
              "      <th></th>\n",
              "      <th></th>\n",
              "      <th></th>\n",
              "      <th></th>\n",
              "      <th></th>\n",
              "      <th></th>\n",
              "      <th></th>\n",
              "      <th></th>\n",
              "      <th></th>\n",
              "    </tr>\n",
              "  </thead>\n",
              "  <tbody>\n",
              "    <tr>\n",
              "      <th>2020-09-25</th>\n",
              "      <td>2278.79</td>\n",
              "      <td>2295.19</td>\n",
              "      <td>2296.36</td>\n",
              "      <td>2267.63</td>\n",
              "      <td>697960000.0</td>\n",
              "      <td>0.0027</td>\n",
              "      <td>1870.05</td>\n",
              "      <td>1174.32</td>\n",
              "      <td>43.705238</td>\n",
              "    </tr>\n",
              "    <tr>\n",
              "      <th>2020-09-28</th>\n",
              "      <td>2308.08</td>\n",
              "      <td>2301.16</td>\n",
              "      <td>2314.81</td>\n",
              "      <td>2291.32</td>\n",
              "      <td>605980000.0</td>\n",
              "      <td>0.0129</td>\n",
              "      <td>1850.95</td>\n",
              "      <td>1166.85</td>\n",
              "      <td>43.705238</td>\n",
              "    </tr>\n",
              "    <tr>\n",
              "      <th>2020-09-29</th>\n",
              "      <td>2327.89</td>\n",
              "      <td>2331.51</td>\n",
              "      <td>2339.83</td>\n",
              "      <td>2320.04</td>\n",
              "      <td>646220000.0</td>\n",
              "      <td>0.0086</td>\n",
              "      <td>1882.40</td>\n",
              "      <td>1168.73</td>\n",
              "      <td>43.705238</td>\n",
              "    </tr>\n",
              "    <tr>\n",
              "      <th>2020-10-05</th>\n",
              "      <td>2358.00</td>\n",
              "      <td>2330.55</td>\n",
              "      <td>2364.73</td>\n",
              "      <td>2327.83</td>\n",
              "      <td>763620000.0</td>\n",
              "      <td>0.0129</td>\n",
              "      <td>1899.65</td>\n",
              "      <td>1157.12</td>\n",
              "      <td>43.705238</td>\n",
              "    </tr>\n",
              "    <tr>\n",
              "      <th>2020-10-06</th>\n",
              "      <td>2365.90</td>\n",
              "      <td>2369.17</td>\n",
              "      <td>2378.28</td>\n",
              "      <td>2355.39</td>\n",
              "      <td>861750000.0</td>\n",
              "      <td>0.0034</td>\n",
              "      <td>1912.50</td>\n",
              "      <td>1164.37</td>\n",
              "      <td>43.705238</td>\n",
              "    </tr>\n",
              "    <tr>\n",
              "      <th>2020-10-07</th>\n",
              "      <td>2386.94</td>\n",
              "      <td>2350.82</td>\n",
              "      <td>2387.45</td>\n",
              "      <td>2347.82</td>\n",
              "      <td>737990000.0</td>\n",
              "      <td>0.0089</td>\n",
              "      <td>1888.00</td>\n",
              "      <td>1157.26</td>\n",
              "      <td>43.705238</td>\n",
              "    </tr>\n",
              "    <tr>\n",
              "      <th>2020-10-08</th>\n",
              "      <td>2391.96</td>\n",
              "      <td>2408.49</td>\n",
              "      <td>2409.01</td>\n",
              "      <td>2383.82</td>\n",
              "      <td>961730000.0</td>\n",
              "      <td>0.0021</td>\n",
              "      <td>1891.35</td>\n",
              "      <td>1151.11</td>\n",
              "      <td>43.705238</td>\n",
              "    </tr>\n",
              "  </tbody>\n",
              "</table>\n",
              "</div>"
            ],
            "text/plain": [
              "              Close     Open     High  ...     gold   dollar        oil\n",
              "Date                                   ...                             \n",
              "2020-09-25  2278.79  2295.19  2296.36  ...  1870.05  1174.32  43.705238\n",
              "2020-09-28  2308.08  2301.16  2314.81  ...  1850.95  1166.85  43.705238\n",
              "2020-09-29  2327.89  2331.51  2339.83  ...  1882.40  1168.73  43.705238\n",
              "2020-10-05  2358.00  2330.55  2364.73  ...  1899.65  1157.12  43.705238\n",
              "2020-10-06  2365.90  2369.17  2378.28  ...  1912.50  1164.37  43.705238\n",
              "2020-10-07  2386.94  2350.82  2387.45  ...  1888.00  1157.26  43.705238\n",
              "2020-10-08  2391.96  2408.49  2409.01  ...  1891.35  1151.11  43.705238\n",
              "\n",
              "[7 rows x 9 columns]"
            ]
          },
          "metadata": {
            "tags": []
          },
          "execution_count": 42
        }
      ]
    },
    {
      "cell_type": "code",
      "metadata": {
        "id": "tfTMmwCehpm7",
        "outputId": "e99b25ce-5bef-43cc-e68e-3250f94d1032",
        "colab": {
          "base_uri": "https://localhost:8080/",
          "height": 305
        }
      },
      "source": [
        "predicts = {}\n",
        "i = 0\n",
        "for sb in Symbols:\n",
        "    i += 1\n",
        "    if i % 100 == 0:\n",
        "        print(i)\n",
        "    pset = predict_Dataset(sb,input_frame,df_kospi)\n",
        "    model.eval()\n",
        "    loader = DataLoader(pset,batch_size,shuffle=False)\n",
        "    for X in loader:\n",
        "        X = X.transpose(0, 1).float().to(device)\n",
        "        y_pred = model(X)\n",
        "        y_pred = y_pred.view(-1)\n",
        "        predicts[sb] = y_pred[-1]\n"
      ],
      "execution_count": 70,
      "outputs": [
        {
          "output_type": "stream",
          "text": [
            "tensor([[[0.0000, 0.0000, 0.0000, 0.0556, 0.1216, 0.6243, 1.0000, 0.0000,\n",
            "          0.0000, 0.3103],\n",
            "         [0.0769, 0.3200, 0.2632, 0.5556, 0.0238, 1.0000, 0.6782, 0.2588,\n",
            "          0.0000, 0.0000],\n",
            "         [0.3846, 0.4400, 0.5789, 0.5000, 0.0000, 0.5321, 0.7592, 0.4339,\n",
            "          0.0000, 0.5110],\n",
            "         [0.3077, 0.3200, 0.5263, 0.5556, 0.0470, 0.6223, 0.2589, 0.6999,\n",
            "          0.0000, 0.7912],\n",
            "         [0.4615, 0.4800, 0.5263, 0.5556, 0.2159, 0.5771, 0.5713, 0.7697,\n",
            "          0.0000, 1.0000],\n",
            "         [0.1923, 0.2400, 0.4737, 0.5000, 0.1675, 0.5321, 0.2650, 0.9556,\n",
            "          0.0000, 0.6019],\n",
            "         [0.5000, 0.4800, 0.6316, 0.6111, 0.4159, 0.6675, 0.0000, 1.0000,\n",
            "          0.0000, 0.6564]]], dtype=torch.float64)\n",
            "tensor([0.5711, 0.5724, 0.5716, 0.5693, 0.5694, 0.5668, 0.5674],\n",
            "       device='cuda:0', grad_fn=<ViewBackward>)\n"
          ],
          "name": "stdout"
        }
      ]
    },
    {
      "cell_type": "code",
      "metadata": {
        "id": "W4LHtC4ovoVA",
        "outputId": "18daff66-9370-419c-e898-38f340de0b98",
        "colab": {
          "base_uri": "https://localhost:8080/",
          "height": 35
        }
      },
      "source": [
        "print(predicts)"
      ],
      "execution_count": 71,
      "outputs": [
        {
          "output_type": "stream",
          "text": [
            "{'353200': tensor(0.5674, device='cuda:0', grad_fn=<SelectBackward>)}\n"
          ],
          "name": "stdout"
        }
      ]
    },
    {
      "cell_type": "code",
      "metadata": {
        "id": "949zvzQo5kOe"
      },
      "source": [
        "!pip install pymysql\n",
        "import pymysql"
      ],
      "execution_count": null,
      "outputs": []
    },
    {
      "cell_type": "code",
      "metadata": {
        "id": "3CxcydMg64Tp"
      },
      "source": [
        "conn = pymysql.connect(host='jukerdb.cwhsnjoqybdo.ap-northeast-2.rds.amazonaws.com', user='admin', password='',\n",
        "                       db='WEB', charset='utf8')\n",
        " \n",
        "# Connection 으로부터 Cursor 생성\n",
        "curs = conn.cursor()\n",
        " \n",
        "\n",
        "for sb in result:\n",
        "    #table : stockpreidct\n",
        "    #symbol, value, type, day\n",
        "    # SQL문 실행\n",
        "    sql = \"\"\"INSERT INTO stockpredict VALUES(%s,%s,%s,NOW())\"\"\"\n",
        "    val = (sb,result[sb],'L')\n",
        "    curs.execute(sql,val)\n",
        "    conn.commit()\n",
        "\n",
        "sql = \"select * from stockpredict\"\n",
        "curs.execute(sql)\n",
        "rows = curs.fetchall()\n",
        "print(rows)     # 전체 rows\n",
        "\n",
        "# Connection 닫기\n",
        "conn.close()"
      ],
      "execution_count": null,
      "outputs": []
    },
    {
      "cell_type": "code",
      "metadata": {
        "id": "j32SAzEXZUG4"
      },
      "source": [
        ""
      ],
      "execution_count": null,
      "outputs": []
    }
  ]
}