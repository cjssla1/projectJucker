{
  "nbformat": 4,
  "nbformat_minor": 0,
  "metadata": {
    "colab": {
      "name": "gru_predict.ipynb",
      "provenance": [],
      "collapsed_sections": [],
      "authorship_tag": "ABX9TyPz6qXiENae0SEzGbmHBHu6"
    },
    "kernelspec": {
      "name": "python3",
      "display_name": "Python 3"
    },
    "accelerator": "GPU"
  },
  "cells": [
    {
      "cell_type": "code",
      "metadata": {
        "id": "7Lj99UuTmJP1",
        "outputId": "d061d69e-b0da-44e5-c383-7ddcf1c02ee5",
        "colab": {
          "base_uri": "https://localhost:8080/"
        }
      },
      "source": [
        "!pip install torch torchvision\n",
        "!pip install -U finance-datareader\n"
      ],
      "execution_count": 1,
      "outputs": [
        {
          "output_type": "stream",
          "text": [
            "Requirement already satisfied: torch in /usr/local/lib/python3.6/dist-packages (1.6.0+cu101)\n",
            "Requirement already satisfied: torchvision in /usr/local/lib/python3.6/dist-packages (0.7.0+cu101)\n",
            "Requirement already satisfied: numpy in /usr/local/lib/python3.6/dist-packages (from torch) (1.18.5)\n",
            "Requirement already satisfied: future in /usr/local/lib/python3.6/dist-packages (from torch) (0.16.0)\n",
            "Requirement already satisfied: pillow>=4.1.1 in /usr/local/lib/python3.6/dist-packages (from torchvision) (7.0.0)\n",
            "Collecting finance-datareader\n",
            "  Downloading https://files.pythonhosted.org/packages/ed/10/1f819839aae5d08e6cc7b29425d278c10104a18e0155282aa2ce552e3fa2/finance_datareader-0.9.10-py3-none-any.whl\n",
            "Requirement already satisfied, skipping upgrade: tqdm in /usr/local/lib/python3.6/dist-packages (from finance-datareader) (4.41.1)\n",
            "Requirement already satisfied, skipping upgrade: pandas>=0.19.2 in /usr/local/lib/python3.6/dist-packages (from finance-datareader) (1.1.2)\n",
            "Collecting requests-file\n",
            "  Downloading https://files.pythonhosted.org/packages/77/86/cdb5e8eaed90796aa83a6d9f75cfbd37af553c47a291cd47bc410ef9bdb2/requests_file-1.5.1-py2.py3-none-any.whl\n",
            "Requirement already satisfied, skipping upgrade: requests>=2.3.0 in /usr/local/lib/python3.6/dist-packages (from finance-datareader) (2.23.0)\n",
            "Requirement already satisfied, skipping upgrade: lxml in /usr/local/lib/python3.6/dist-packages (from finance-datareader) (4.2.6)\n",
            "Requirement already satisfied, skipping upgrade: pytz>=2017.2 in /usr/local/lib/python3.6/dist-packages (from pandas>=0.19.2->finance-datareader) (2018.9)\n",
            "Requirement already satisfied, skipping upgrade: numpy>=1.15.4 in /usr/local/lib/python3.6/dist-packages (from pandas>=0.19.2->finance-datareader) (1.18.5)\n",
            "Requirement already satisfied, skipping upgrade: python-dateutil>=2.7.3 in /usr/local/lib/python3.6/dist-packages (from pandas>=0.19.2->finance-datareader) (2.8.1)\n",
            "Requirement already satisfied, skipping upgrade: six in /usr/local/lib/python3.6/dist-packages (from requests-file->finance-datareader) (1.15.0)\n",
            "Requirement already satisfied, skipping upgrade: certifi>=2017.4.17 in /usr/local/lib/python3.6/dist-packages (from requests>=2.3.0->finance-datareader) (2020.6.20)\n",
            "Requirement already satisfied, skipping upgrade: idna<3,>=2.5 in /usr/local/lib/python3.6/dist-packages (from requests>=2.3.0->finance-datareader) (2.10)\n",
            "Requirement already satisfied, skipping upgrade: urllib3!=1.25.0,!=1.25.1,<1.26,>=1.21.1 in /usr/local/lib/python3.6/dist-packages (from requests>=2.3.0->finance-datareader) (1.24.3)\n",
            "Requirement already satisfied, skipping upgrade: chardet<4,>=3.0.2 in /usr/local/lib/python3.6/dist-packages (from requests>=2.3.0->finance-datareader) (3.0.4)\n",
            "Installing collected packages: requests-file, finance-datareader\n",
            "Successfully installed finance-datareader-0.9.10 requests-file-1.5.1\n"
          ],
          "name": "stdout"
        }
      ]
    },
    {
      "cell_type": "code",
      "metadata": {
        "id": "cewIb01TmOBe"
      },
      "source": [
        "import pandas as pd\n",
        "import pandas_datareader as pdr\n",
        "import FinanceDataReader as fdr\n",
        "import datetime\n",
        "import torch\n",
        "import torch.nn as nn\n",
        "from torch.utils.data import Dataset, DataLoader\n",
        "import torch.optim as optim\n",
        "import numpy as np\n",
        "import argparse\n",
        "import time\n",
        "from copy import deepcopy # Add Deepcopy for args\n",
        "from sklearn.metrics import mean_absolute_error\n",
        "from sklearn.preprocessing import MinMaxScaler"
      ],
      "execution_count": 2,
      "outputs": []
    },
    {
      "cell_type": "code",
      "metadata": {
        "id": "BvQXGWmIhJpB",
        "outputId": "3faf9297-5865-4597-d164-37ef61413bce",
        "colab": {
          "base_uri": "https://localhost:8080/"
        }
      },
      "source": [
        "from google.colab import drive\n",
        "drive.mount('/content/gdrive')"
      ],
      "execution_count": 3,
      "outputs": [
        {
          "output_type": "stream",
          "text": [
            "Mounted at /content/gdrive\n"
          ],
          "name": "stdout"
        }
      ]
    },
    {
      "cell_type": "code",
      "metadata": {
        "id": "fZK6OKYvqElS"
      },
      "source": [
        "x_frames = 7\n",
        "start = datetime.datetime.now() - datetime.timedelta(days=(x_frames*3))\n",
        "end = datetime.date.today()\n",
        "df_du = pdr.DataReader('POILDUBUSDM', 'fred', start=datetime.datetime.now() - datetime.timedelta(days=(100)), end=end)#석유\n",
        "df_gold = pdr.DataReader('GOLDAMGBD228NLBM', 'fred', start=start, end=end)#금값\n",
        "df_kospi = fdr.DataReader('KS11', start, end)#코스피\n",
        "df_dollar = fdr.DataReader('USD/KRW', start, end)#원달러환율\n",
        "\n",
        "df_kospi['gold'] = df_gold\n",
        "df_kospi['dollar'] = df_dollar['Close']\n",
        "df_kospi['oil'] = df_du\n",
        "\n",
        "#gold 채우기\n",
        "df_kospi = df_kospi.fillna(value=-1)\n",
        "for i,val in enumerate(df_kospi['gold']):\n",
        "    if val == -1:\n",
        "        df_kospi['gold'][i] = df_kospi['gold'][i-1]\n",
        "df_kospi = df_kospi.tail(x_frames)\n",
        "\n",
        "#oil 채우기\n",
        "du = df_du.values[-1]\n",
        "ddu = [du for i in range(x_frames)]"
      ],
      "execution_count": 60,
      "outputs": []
    },
    {
      "cell_type": "code",
      "metadata": {
        "id": "acIrhrf_834v",
        "outputId": "ecfb3425-5f8f-4c67-95e9-22e110497912",
        "colab": {
          "base_uri": "https://localhost:8080/",
          "height": 297
        }
      },
      "source": [
        "df_kospi"
      ],
      "execution_count": 61,
      "outputs": [
        {
          "output_type": "execute_result",
          "data": {
            "text/html": [
              "<div>\n",
              "<style scoped>\n",
              "    .dataframe tbody tr th:only-of-type {\n",
              "        vertical-align: middle;\n",
              "    }\n",
              "\n",
              "    .dataframe tbody tr th {\n",
              "        vertical-align: top;\n",
              "    }\n",
              "\n",
              "    .dataframe thead th {\n",
              "        text-align: right;\n",
              "    }\n",
              "</style>\n",
              "<table border=\"1\" class=\"dataframe\">\n",
              "  <thead>\n",
              "    <tr style=\"text-align: right;\">\n",
              "      <th></th>\n",
              "      <th>Close</th>\n",
              "      <th>Open</th>\n",
              "      <th>High</th>\n",
              "      <th>Low</th>\n",
              "      <th>Volume</th>\n",
              "      <th>Change</th>\n",
              "      <th>gold</th>\n",
              "      <th>dollar</th>\n",
              "      <th>oil</th>\n",
              "    </tr>\n",
              "    <tr>\n",
              "      <th>Date</th>\n",
              "      <th></th>\n",
              "      <th></th>\n",
              "      <th></th>\n",
              "      <th></th>\n",
              "      <th></th>\n",
              "      <th></th>\n",
              "      <th></th>\n",
              "      <th></th>\n",
              "      <th></th>\n",
              "    </tr>\n",
              "  </thead>\n",
              "  <tbody>\n",
              "    <tr>\n",
              "      <th>2020-09-24</th>\n",
              "      <td>2272.70</td>\n",
              "      <td>2295.62</td>\n",
              "      <td>2309.74</td>\n",
              "      <td>2268.88</td>\n",
              "      <td>714880000.0</td>\n",
              "      <td>-0.0259</td>\n",
              "      <td>1850.75</td>\n",
              "      <td>1169.10</td>\n",
              "      <td>-1.0</td>\n",
              "    </tr>\n",
              "    <tr>\n",
              "      <th>2020-09-25</th>\n",
              "      <td>2278.79</td>\n",
              "      <td>2295.19</td>\n",
              "      <td>2296.36</td>\n",
              "      <td>2267.63</td>\n",
              "      <td>697960000.0</td>\n",
              "      <td>0.0027</td>\n",
              "      <td>1870.05</td>\n",
              "      <td>1174.32</td>\n",
              "      <td>-1.0</td>\n",
              "    </tr>\n",
              "    <tr>\n",
              "      <th>2020-09-28</th>\n",
              "      <td>2308.08</td>\n",
              "      <td>2301.16</td>\n",
              "      <td>2314.81</td>\n",
              "      <td>2291.32</td>\n",
              "      <td>605980000.0</td>\n",
              "      <td>0.0129</td>\n",
              "      <td>1850.95</td>\n",
              "      <td>1166.85</td>\n",
              "      <td>-1.0</td>\n",
              "    </tr>\n",
              "    <tr>\n",
              "      <th>2020-09-29</th>\n",
              "      <td>2327.89</td>\n",
              "      <td>2331.51</td>\n",
              "      <td>2339.83</td>\n",
              "      <td>2320.04</td>\n",
              "      <td>646220000.0</td>\n",
              "      <td>0.0086</td>\n",
              "      <td>1882.40</td>\n",
              "      <td>1168.73</td>\n",
              "      <td>-1.0</td>\n",
              "    </tr>\n",
              "    <tr>\n",
              "      <th>2020-10-05</th>\n",
              "      <td>2358.00</td>\n",
              "      <td>2330.55</td>\n",
              "      <td>2364.73</td>\n",
              "      <td>2327.83</td>\n",
              "      <td>763620000.0</td>\n",
              "      <td>0.0129</td>\n",
              "      <td>1899.65</td>\n",
              "      <td>1157.12</td>\n",
              "      <td>-1.0</td>\n",
              "    </tr>\n",
              "    <tr>\n",
              "      <th>2020-10-06</th>\n",
              "      <td>2365.90</td>\n",
              "      <td>2369.17</td>\n",
              "      <td>2378.28</td>\n",
              "      <td>2355.39</td>\n",
              "      <td>861750000.0</td>\n",
              "      <td>0.0034</td>\n",
              "      <td>1912.50</td>\n",
              "      <td>1164.37</td>\n",
              "      <td>-1.0</td>\n",
              "    </tr>\n",
              "    <tr>\n",
              "      <th>2020-10-07</th>\n",
              "      <td>2386.94</td>\n",
              "      <td>2350.82</td>\n",
              "      <td>2387.45</td>\n",
              "      <td>2347.82</td>\n",
              "      <td>722840.0</td>\n",
              "      <td>0.0089</td>\n",
              "      <td>1912.50</td>\n",
              "      <td>1157.84</td>\n",
              "      <td>-1.0</td>\n",
              "    </tr>\n",
              "  </tbody>\n",
              "</table>\n",
              "</div>"
            ],
            "text/plain": [
              "              Close     Open     High      Low  ...  Change     gold   dollar  oil\n",
              "Date                                            ...                               \n",
              "2020-09-24  2272.70  2295.62  2309.74  2268.88  ... -0.0259  1850.75  1169.10 -1.0\n",
              "2020-09-25  2278.79  2295.19  2296.36  2267.63  ...  0.0027  1870.05  1174.32 -1.0\n",
              "2020-09-28  2308.08  2301.16  2314.81  2291.32  ...  0.0129  1850.95  1166.85 -1.0\n",
              "2020-09-29  2327.89  2331.51  2339.83  2320.04  ...  0.0086  1882.40  1168.73 -1.0\n",
              "2020-10-05  2358.00  2330.55  2364.73  2327.83  ...  0.0129  1899.65  1157.12 -1.0\n",
              "2020-10-06  2365.90  2369.17  2378.28  2355.39  ...  0.0034  1912.50  1164.37 -1.0\n",
              "2020-10-07  2386.94  2350.82  2387.45  2347.82  ...  0.0089  1912.50  1157.84 -1.0\n",
              "\n",
              "[7 rows x 9 columns]"
            ]
          },
          "metadata": {
            "tags": []
          },
          "execution_count": 61
        }
      ]
    },
    {
      "cell_type": "code",
      "metadata": {
        "id": "ZZ-tEGCp9UqZ",
        "outputId": "3a27924f-b812-4fc7-d74f-8a62e49523ed",
        "colab": {
          "base_uri": "https://localhost:8080/",
          "height": 142
        }
      },
      "source": [
        "df_du"
      ],
      "execution_count": 62,
      "outputs": [
        {
          "output_type": "execute_result",
          "data": {
            "text/html": [
              "<div>\n",
              "<style scoped>\n",
              "    .dataframe tbody tr th:only-of-type {\n",
              "        vertical-align: middle;\n",
              "    }\n",
              "\n",
              "    .dataframe tbody tr th {\n",
              "        vertical-align: top;\n",
              "    }\n",
              "\n",
              "    .dataframe thead th {\n",
              "        text-align: right;\n",
              "    }\n",
              "</style>\n",
              "<table border=\"1\" class=\"dataframe\">\n",
              "  <thead>\n",
              "    <tr style=\"text-align: right;\">\n",
              "      <th></th>\n",
              "      <th>POILDUBUSDM</th>\n",
              "    </tr>\n",
              "    <tr>\n",
              "      <th>DATE</th>\n",
              "      <th></th>\n",
              "    </tr>\n",
              "  </thead>\n",
              "  <tbody>\n",
              "    <tr>\n",
              "      <th>2020-07-01</th>\n",
              "      <td>42.641304</td>\n",
              "    </tr>\n",
              "    <tr>\n",
              "      <th>2020-08-01</th>\n",
              "      <td>43.705238</td>\n",
              "    </tr>\n",
              "  </tbody>\n",
              "</table>\n",
              "</div>"
            ],
            "text/plain": [
              "            POILDUBUSDM\n",
              "DATE                   \n",
              "2020-07-01    42.641304\n",
              "2020-08-01    43.705238"
            ]
          },
          "metadata": {
            "tags": []
          },
          "execution_count": 62
        }
      ]
    },
    {
      "cell_type": "code",
      "metadata": {
        "id": "uWVJ_tpY827q"
      },
      "source": [
        ""
      ],
      "execution_count": null,
      "outputs": []
    },
    {
      "cell_type": "code",
      "metadata": {
        "id": "kJMqB3BUHoWY"
      },
      "source": [
        "class predict_Dataset(Dataset):\n",
        "    \n",
        "    def __init__(self, symbol, x_frames,gold,du,df_kospi,df_dollar):\n",
        "        \n",
        "        self.symbol = symbol\n",
        "        self.x_frames = x_frames\n",
        "        \n",
        "        self.start = datetime.datetime.now() - datetime.timedelta(days=(x_frames*2))\n",
        "        self.end = datetime.date.today()\n",
        "\n",
        "        self.scaler = MinMaxScaler()\n",
        "        self.data = fdr.DataReader(self.symbol, self.start, self.end)#주식 6가지 특징, 고,시,저,종,거,변\n",
        "        \n",
        "        if len(self.data.index) == 0:\n",
        "            print(self.symbol,' is zero')\n",
        "            return None\n",
        "        self.data['dollar'] = df_dollar[['Close']]\n",
        "        self.data['kospi'] = df_kospi[['Close']]\n",
        "        self.data['oil'] = pd.DataFrame(data=ddu, index=self.data.index, columns=['oil'])\n",
        "        self.data['gold'] = pd.DataFrame(data=gold, index=df_gold.index, columns=['gold'])\n",
        "        self.data = pd.DataFrame(self.scaler.fit_transform(self.data))\n",
        "        self.data = self.data.tail(x_frames)\n",
        "        print(self.data)\n",
        "        \n",
        "    def __len__(self):\n",
        "        if len(self.data.index) == 0:\n",
        "            return 0\n",
        "        return len(self.data) - self.x_frames + 1\n",
        "    \n",
        "    def __getitem__(self, idx):\n",
        "        idx += self.x_frames\n",
        "        data = self.data.iloc[idx-self.x_frames:idx]\n",
        "        data = data.values\n",
        "        X = data[:self.x_frames]\n",
        "        \n",
        "        return X"
      ],
      "execution_count": 38,
      "outputs": []
    },
    {
      "cell_type": "code",
      "metadata": {
        "id": "3_Bk-ZX4mcnL"
      },
      "source": [
        "class GRU(nn.Module):\n",
        "    \n",
        "    def __init__(self, input_dim, hidden_dim, output_dim, num_layers, batch_size, dropout, use_bn):\n",
        "        super(GRU, self).__init__()\n",
        "        self.input_dim = input_dim \n",
        "        self.hidden_dim = hidden_dim\n",
        "        self.output_dim = output_dim\n",
        "        self.num_layers = num_layers\n",
        "\n",
        "        self.batch_size = batch_size\n",
        "        self.dropout = dropout\n",
        "        self.use_bn = use_bn \n",
        "        self.gru = nn.GRU(self.input_dim, self.hidden_dim*2, self.num_layers)\n",
        "        self.gru2 = nn.GRU(self.hidden_dim*2, self.hidden_dim, self.num_layers)\n",
        "        self.regressor = self.make_regressor()\n",
        "\n",
        "    def make_regressor(self):\n",
        "        layers = []\n",
        "        if self.use_bn:\n",
        "            layers.append(nn.BatchNorm1d(self.hidden_dim))\n",
        "        layers.append(nn.Dropout(self.dropout))\n",
        "        \n",
        "        layers.append(nn.Linear(self.hidden_dim, self.hidden_dim//2))\n",
        "        layers.append(nn.ReLU())\n",
        "        layers.append(nn.Linear(self.hidden_dim//2, self.output_dim))\n",
        "        regressor = nn.Sequential(*layers)\n",
        "        return regressor\n",
        "    \n",
        "    def forward(self, x):\n",
        "        x, _ = self.gru(x)\n",
        "        x, _ = self.gru2(x)\n",
        "        y_pred = self.regressor(x[-1].view(self.batch_size, -1))\n",
        "        return y_pred"
      ],
      "execution_count": 17,
      "outputs": []
    },
    {
      "cell_type": "code",
      "metadata": {
        "id": "jaYA8Fntf-_k",
        "outputId": "58c70b79-e13e-40df-ee87-ec886e93bfde",
        "colab": {
          "base_uri": "https://localhost:8080/"
        }
      },
      "source": [
        "#주식정보들\n",
        "Symbols = []\n",
        "with open('/content/gdrive/My Drive/Symbols.txt', 'r') as f:\n",
        "    data = f.readline()\n",
        "    Symbols = data.split(',')\n",
        "print(len(Symbols))"
      ],
      "execution_count": 18,
      "outputs": [
        {
          "output_type": "stream",
          "text": [
            "795\n"
          ],
          "name": "stdout"
        }
      ]
    },
    {
      "cell_type": "code",
      "metadata": {
        "id": "T-w0sPLzMK3i",
        "outputId": "cd11cc79-4d1a-45d8-b185-b9c75ab95f42",
        "colab": {
          "base_uri": "https://localhost:8080/"
        }
      },
      "source": [
        "batch_size = 1\n",
        "input_dim = 10\n",
        "hidden_dim = 64\n",
        "num_layers = 2\n",
        "input_frame = 7\n",
        "output_frame = 7\n",
        "dropout = 1.0\n",
        "use_bn = True\n",
        "\n",
        "model = GRU(input_dim,hidden_dim,output_frame,num_layers,batch_size,dropout,use_bn)\n",
        "modelPath = '/content/gdrive/My Drive/GRUmodel/GRU_Best_model.pt'\n",
        "model.load_state_dict(torch.load(modelPath))\n",
        "device = 'cuda' if torch.cuda.is_available() else 'cpu'\n",
        "\n",
        "model.to(device)"
      ],
      "execution_count": 19,
      "outputs": [
        {
          "output_type": "execute_result",
          "data": {
            "text/plain": [
              "GRU(\n",
              "  (gru): GRU(10, 128, num_layers=2)\n",
              "  (gru2): GRU(128, 64, num_layers=2)\n",
              "  (regressor): Sequential(\n",
              "    (0): BatchNorm1d(64, eps=1e-05, momentum=0.1, affine=True, track_running_stats=True)\n",
              "    (1): Dropout(p=1.0, inplace=False)\n",
              "    (2): Linear(in_features=64, out_features=32, bias=True)\n",
              "    (3): ReLU()\n",
              "    (4): Linear(in_features=32, out_features=7, bias=True)\n",
              "  )\n",
              ")"
            ]
          },
          "metadata": {
            "tags": []
          },
          "execution_count": 19
        }
      ]
    },
    {
      "cell_type": "code",
      "metadata": {
        "id": "10kMOhiVwIcT",
        "outputId": "4374c079-08a6-4143-ead4-740b8b3975dc",
        "colab": {
          "base_uri": "https://localhost:8080/"
        }
      },
      "source": [
        "gold"
      ],
      "execution_count": 28,
      "outputs": [
        {
          "output_type": "execute_result",
          "data": {
            "text/plain": [
              "[1850.75, 1870.05, 1850.95, 1882.4, 1883.4, 1895.55, 1906.4, 1899.65, 1912.5]"
            ]
          },
          "metadata": {
            "tags": []
          },
          "execution_count": 28
        }
      ]
    },
    {
      "cell_type": "code",
      "metadata": {
        "id": "OAd8_zNA0ahF",
        "outputId": "014004af-a96e-4500-99fa-2b0f46df5081",
        "colab": {
          "base_uri": "https://localhost:8080/",
          "height": 359
        }
      },
      "source": [
        "df_gold"
      ],
      "execution_count": 40,
      "outputs": [
        {
          "output_type": "execute_result",
          "data": {
            "text/html": [
              "<div>\n",
              "<style scoped>\n",
              "    .dataframe tbody tr th:only-of-type {\n",
              "        vertical-align: middle;\n",
              "    }\n",
              "\n",
              "    .dataframe tbody tr th {\n",
              "        vertical-align: top;\n",
              "    }\n",
              "\n",
              "    .dataframe thead th {\n",
              "        text-align: right;\n",
              "    }\n",
              "</style>\n",
              "<table border=\"1\" class=\"dataframe\">\n",
              "  <thead>\n",
              "    <tr style=\"text-align: right;\">\n",
              "      <th></th>\n",
              "      <th>GOLDAMGBD228NLBM</th>\n",
              "    </tr>\n",
              "    <tr>\n",
              "      <th>DATE</th>\n",
              "      <th></th>\n",
              "    </tr>\n",
              "  </thead>\n",
              "  <tbody>\n",
              "    <tr>\n",
              "      <th>2020-09-24</th>\n",
              "      <td>1850.75</td>\n",
              "    </tr>\n",
              "    <tr>\n",
              "      <th>2020-09-25</th>\n",
              "      <td>1870.05</td>\n",
              "    </tr>\n",
              "    <tr>\n",
              "      <th>2020-09-28</th>\n",
              "      <td>1850.95</td>\n",
              "    </tr>\n",
              "    <tr>\n",
              "      <th>2020-09-29</th>\n",
              "      <td>1882.40</td>\n",
              "    </tr>\n",
              "    <tr>\n",
              "      <th>2020-09-30</th>\n",
              "      <td>1883.40</td>\n",
              "    </tr>\n",
              "    <tr>\n",
              "      <th>2020-10-01</th>\n",
              "      <td>1895.55</td>\n",
              "    </tr>\n",
              "    <tr>\n",
              "      <th>2020-10-02</th>\n",
              "      <td>1906.40</td>\n",
              "    </tr>\n",
              "    <tr>\n",
              "      <th>2020-10-05</th>\n",
              "      <td>1899.65</td>\n",
              "    </tr>\n",
              "    <tr>\n",
              "      <th>2020-10-06</th>\n",
              "      <td>1912.50</td>\n",
              "    </tr>\n",
              "  </tbody>\n",
              "</table>\n",
              "</div>"
            ],
            "text/plain": [
              "            GOLDAMGBD228NLBM\n",
              "DATE                        \n",
              "2020-09-24           1850.75\n",
              "2020-09-25           1870.05\n",
              "2020-09-28           1850.95\n",
              "2020-09-29           1882.40\n",
              "2020-09-30           1883.40\n",
              "2020-10-01           1895.55\n",
              "2020-10-02           1906.40\n",
              "2020-10-05           1899.65\n",
              "2020-10-06           1912.50"
            ]
          },
          "metadata": {
            "tags": []
          },
          "execution_count": 40
        }
      ]
    },
    {
      "cell_type": "code",
      "metadata": {
        "id": "DffEr0FfwK08",
        "outputId": "d98ab4c8-3508-4839-eb46-da4894853429",
        "colab": {
          "base_uri": "https://localhost:8080/",
          "height": 328
        }
      },
      "source": [
        "df_kospi"
      ],
      "execution_count": 27,
      "outputs": [
        {
          "output_type": "execute_result",
          "data": {
            "text/html": [
              "<div>\n",
              "<style scoped>\n",
              "    .dataframe tbody tr th:only-of-type {\n",
              "        vertical-align: middle;\n",
              "    }\n",
              "\n",
              "    .dataframe tbody tr th {\n",
              "        vertical-align: top;\n",
              "    }\n",
              "\n",
              "    .dataframe thead th {\n",
              "        text-align: right;\n",
              "    }\n",
              "</style>\n",
              "<table border=\"1\" class=\"dataframe\">\n",
              "  <thead>\n",
              "    <tr style=\"text-align: right;\">\n",
              "      <th></th>\n",
              "      <th>Close</th>\n",
              "      <th>Open</th>\n",
              "      <th>High</th>\n",
              "      <th>Low</th>\n",
              "      <th>Volume</th>\n",
              "      <th>Change</th>\n",
              "    </tr>\n",
              "    <tr>\n",
              "      <th>Date</th>\n",
              "      <th></th>\n",
              "      <th></th>\n",
              "      <th></th>\n",
              "      <th></th>\n",
              "      <th></th>\n",
              "      <th></th>\n",
              "    </tr>\n",
              "  </thead>\n",
              "  <tbody>\n",
              "    <tr>\n",
              "      <th>2020-09-23</th>\n",
              "      <td>2333.24</td>\n",
              "      <td>2352.56</td>\n",
              "      <td>2354.46</td>\n",
              "      <td>2287.44</td>\n",
              "      <td>735040000.0</td>\n",
              "      <td>0.0003</td>\n",
              "    </tr>\n",
              "    <tr>\n",
              "      <th>2020-09-24</th>\n",
              "      <td>2272.70</td>\n",
              "      <td>2295.62</td>\n",
              "      <td>2309.74</td>\n",
              "      <td>2268.88</td>\n",
              "      <td>714880000.0</td>\n",
              "      <td>-0.0259</td>\n",
              "    </tr>\n",
              "    <tr>\n",
              "      <th>2020-09-25</th>\n",
              "      <td>2278.79</td>\n",
              "      <td>2295.19</td>\n",
              "      <td>2296.36</td>\n",
              "      <td>2267.63</td>\n",
              "      <td>697960000.0</td>\n",
              "      <td>0.0027</td>\n",
              "    </tr>\n",
              "    <tr>\n",
              "      <th>2020-09-28</th>\n",
              "      <td>2308.08</td>\n",
              "      <td>2301.16</td>\n",
              "      <td>2314.81</td>\n",
              "      <td>2291.32</td>\n",
              "      <td>605980000.0</td>\n",
              "      <td>0.0129</td>\n",
              "    </tr>\n",
              "    <tr>\n",
              "      <th>2020-09-29</th>\n",
              "      <td>2327.89</td>\n",
              "      <td>2331.51</td>\n",
              "      <td>2339.83</td>\n",
              "      <td>2320.04</td>\n",
              "      <td>646220000.0</td>\n",
              "      <td>0.0086</td>\n",
              "    </tr>\n",
              "    <tr>\n",
              "      <th>2020-10-05</th>\n",
              "      <td>2358.00</td>\n",
              "      <td>2330.55</td>\n",
              "      <td>2364.73</td>\n",
              "      <td>2327.83</td>\n",
              "      <td>763620000.0</td>\n",
              "      <td>0.0129</td>\n",
              "    </tr>\n",
              "    <tr>\n",
              "      <th>2020-10-06</th>\n",
              "      <td>2365.90</td>\n",
              "      <td>2369.17</td>\n",
              "      <td>2378.28</td>\n",
              "      <td>2355.39</td>\n",
              "      <td>861750000.0</td>\n",
              "      <td>0.0034</td>\n",
              "    </tr>\n",
              "    <tr>\n",
              "      <th>2020-10-07</th>\n",
              "      <td>2386.94</td>\n",
              "      <td>2350.82</td>\n",
              "      <td>2387.45</td>\n",
              "      <td>2347.82</td>\n",
              "      <td>722840.0</td>\n",
              "      <td>0.0089</td>\n",
              "    </tr>\n",
              "  </tbody>\n",
              "</table>\n",
              "</div>"
            ],
            "text/plain": [
              "              Close     Open     High      Low       Volume  Change\n",
              "Date                                                               \n",
              "2020-09-23  2333.24  2352.56  2354.46  2287.44  735040000.0  0.0003\n",
              "2020-09-24  2272.70  2295.62  2309.74  2268.88  714880000.0 -0.0259\n",
              "2020-09-25  2278.79  2295.19  2296.36  2267.63  697960000.0  0.0027\n",
              "2020-09-28  2308.08  2301.16  2314.81  2291.32  605980000.0  0.0129\n",
              "2020-09-29  2327.89  2331.51  2339.83  2320.04  646220000.0  0.0086\n",
              "2020-10-05  2358.00  2330.55  2364.73  2327.83  763620000.0  0.0129\n",
              "2020-10-06  2365.90  2369.17  2378.28  2355.39  861750000.0  0.0034\n",
              "2020-10-07  2386.94  2350.82  2387.45  2347.82     722840.0  0.0089"
            ]
          },
          "metadata": {
            "tags": []
          },
          "execution_count": 27
        }
      ]
    },
    {
      "cell_type": "code",
      "metadata": {
        "id": "tfTMmwCehpm7",
        "outputId": "15031799-bceb-4652-a8d7-14b3f34607c6",
        "colab": {
          "base_uri": "https://localhost:8080/"
        }
      },
      "source": [
        "predicts = {}\n",
        "i = 0\n",
        "for sb in Symbols:\n",
        "    i += 1\n",
        "    if i % 100 == 0:\n",
        "        print(i)\n",
        "    pset = predict_Dataset(sb,input_frame,gold,du,df_kospi,df_dollar)\n",
        "\n",
        "    break\n",
        "    if len(pset) == 0:\n",
        "        continue\n",
        "    model.eval()\n",
        "    loader = DataLoader(pset,batch_size,shuffle=False)\n",
        "    for X in loader:\n",
        "        X = X.transpose(0, 1).float().to(device)\n",
        "        y_pred = model(X)\n",
        "        y_pred = y_pred.view(-1)\n",
        "        predicts[sb] = y_pred[-1]\n"
      ],
      "execution_count": 39,
      "outputs": [
        {
          "output_type": "stream",
          "text": [
            "          0         1         2    3  ...         6         7    8         9\n",
            "0  0.250000  0.250000  0.090909  0.0  ...  0.696512  0.000000  0.0  0.000000\n",
            "1  0.000000  0.000000  0.000000  0.1  ...  1.000000  0.053309  0.0  0.312551\n",
            "2  0.166667  0.666667  0.454545  1.0  ...  0.565698  0.309699  0.0  0.003239\n",
            "3  0.833333  0.916667  1.000000  0.9  ...  0.675000  0.483106  0.0  0.512551\n",
            "4  0.666667  0.666667  0.909091  1.0  ...  0.000000  0.746674  0.0  0.791903\n",
            "5  1.000000  1.000000  0.909091  1.0  ...  0.421512  0.815826  0.0  1.000000\n",
            "6  0.416667  0.500000  0.818182  0.9  ...  0.133721  1.000000  0.0       NaN\n",
            "\n",
            "[7 rows x 10 columns]\n"
          ],
          "name": "stdout"
        }
      ]
    },
    {
      "cell_type": "code",
      "metadata": {
        "id": "W4LHtC4ovoVA",
        "outputId": "5a665d93-a997-4ff5-dca1-d3adfb08a710",
        "colab": {
          "base_uri": "https://localhost:8080/"
        }
      },
      "source": [
        "print(predicts)"
      ],
      "execution_count": 23,
      "outputs": [
        {
          "output_type": "stream",
          "text": [
            "{'353200': tensor(nan, device='cuda:0', grad_fn=<SelectBackward>), '344820': tensor(nan, device='cuda:0', grad_fn=<SelectBackward>), '338100': tensor(nan, device='cuda:0', grad_fn=<SelectBackward>), '308170': tensor(nan, device='cuda:0', grad_fn=<SelectBackward>), '322000': tensor(nan, device='cuda:0', grad_fn=<SelectBackward>), '272210': tensor(nan, device='cuda:0', grad_fn=<SelectBackward>), '317400': tensor(nan, device='cuda:0', grad_fn=<SelectBackward>), '330590': tensor(nan, device='cuda:0', grad_fn=<SelectBackward>), '013890': tensor(nan, device='cuda:0', grad_fn=<SelectBackward>), '336370': tensor(nan, device='cuda:0', grad_fn=<SelectBackward>), '336260': tensor(nan, device='cuda:0', grad_fn=<SelectBackward>), '036420': tensor(nan, device='cuda:0', grad_fn=<SelectBackward>), '003670': tensor(nan, device='cuda:0', grad_fn=<SelectBackward>), '307950': tensor(nan, device='cuda:0', grad_fn=<SelectBackward>), '192650': tensor(nan, device='cuda:0', grad_fn=<SelectBackward>), '192080': tensor(nan, device='cuda:0', grad_fn=<SelectBackward>), '316140': tensor(nan, device='cuda:0', grad_fn=<SelectBackward>), '298690': tensor(nan, device='cuda:0', grad_fn=<SelectBackward>), '267850': tensor(nan, device='cuda:0', grad_fn=<SelectBackward>), '306200': tensor(nan, device='cuda:0', grad_fn=<SelectBackward>), '293480': tensor(nan, device='cuda:0', grad_fn=<SelectBackward>), '010400': tensor(nan, device='cuda:0', grad_fn=<SelectBackward>), '293940': tensor(nan, device='cuda:0', grad_fn=<SelectBackward>), '300720': tensor(nan, device='cuda:0', grad_fn=<SelectBackward>), '091810': tensor(nan, device='cuda:0', grad_fn=<SelectBackward>), '286940': tensor(nan, device='cuda:0', grad_fn=<SelectBackward>), '298040': tensor(nan, device='cuda:0', grad_fn=<SelectBackward>), '298050': tensor(nan, device='cuda:0', grad_fn=<SelectBackward>), '298020': tensor(nan, device='cuda:0', grad_fn=<SelectBackward>), '298000': tensor(nan, device='cuda:0', grad_fn=<SelectBackward>), '088260': tensor(nan, device='cuda:0', grad_fn=<SelectBackward>), '294870': tensor(nan, device='cuda:0', grad_fn=<SelectBackward>), '018250': tensor(nan, device='cuda:0', grad_fn=<SelectBackward>), '068270': tensor(nan, device='cuda:0', grad_fn=<SelectBackward>), '284740': tensor(nan, device='cuda:0', grad_fn=<SelectBackward>), '285130': tensor(nan, device='cuda:0', grad_fn=<SelectBackward>), '282330': tensor(nan, device='cuda:0', grad_fn=<SelectBackward>), '092780': tensor(nan, device='cuda:0', grad_fn=<SelectBackward>), '272450': tensor(nan, device='cuda:0', grad_fn=<SelectBackward>), '281820': tensor(nan, device='cuda:0', grad_fn=<SelectBackward>), '282690': tensor(nan, device='cuda:0', grad_fn=<SelectBackward>), '272550': tensor(nan, device='cuda:0', grad_fn=<SelectBackward>), '055490': tensor(nan, device='cuda:0', grad_fn=<SelectBackward>), '280360': tensor(nan, device='cuda:0', grad_fn=<SelectBackward>), '271980': tensor(nan, device='cuda:0', grad_fn=<SelectBackward>), '035720': tensor(nan, device='cuda:0', grad_fn=<SelectBackward>), '271560': tensor(nan, device='cuda:0', grad_fn=<SelectBackward>), '268280': tensor(nan, device='cuda:0', grad_fn=<SelectBackward>), '267290': tensor(nan, device='cuda:0', grad_fn=<SelectBackward>), '251270': tensor(nan, device='cuda:0', grad_fn=<SelectBackward>), '267270': tensor(nan, device='cuda:0', grad_fn=<SelectBackward>), '267260': tensor(nan, device='cuda:0', grad_fn=<SelectBackward>), '267250': tensor(nan, device='cuda:0', grad_fn=<SelectBackward>), '264900': tensor(nan, device='cuda:0', grad_fn=<SelectBackward>), '145720': tensor(nan, device='cuda:0', grad_fn=<SelectBackward>), '111110': tensor(nan, device='cuda:0', grad_fn=<SelectBackward>), '143210': tensor(nan, device='cuda:0', grad_fn=<SelectBackward>), '241560': tensor(nan, device='cuda:0', grad_fn=<SelectBackward>), '207940': tensor(nan, device='cuda:0', grad_fn=<SelectBackward>), '234080': tensor(nan, device='cuda:0', grad_fn=<SelectBackward>), '241590': tensor(nan, device='cuda:0', grad_fn=<SelectBackward>), '229640': tensor(nan, device='cuda:0', grad_fn=<SelectBackward>), '204210': tensor(nan, device='cuda:0', grad_fn=<SelectBackward>), '249420': tensor(nan, device='cuda:0', grad_fn=<SelectBackward>), '248170': tensor(nan, device='cuda:0', grad_fn=<SelectBackward>), '016740': tensor(nan, device='cuda:0', grad_fn=<SelectBackward>), '026960': tensor(nan, device='cuda:0', grad_fn=<SelectBackward>), '123890': tensor(nan, device='cuda:0', grad_fn=<SelectBackward>), '034830': tensor(nan, device='cuda:0', grad_fn=<SelectBackward>), '195870': tensor(nan, device='cuda:0', grad_fn=<SelectBackward>), '070960': tensor(nan, device='cuda:0', grad_fn=<SelectBackward>), '101530': tensor(nan, device='cuda:0', grad_fn=<SelectBackward>), '004440': tensor(nan, device='cuda:0', grad_fn=<SelectBackward>), '194370': tensor(nan, device='cuda:0', grad_fn=<SelectBackward>), '152330': tensor(nan, device='cuda:0', grad_fn=<SelectBackward>), '226320': tensor(nan, device='cuda:0', grad_fn=<SelectBackward>), '075580': tensor(nan, device='cuda:0', grad_fn=<SelectBackward>), '214330': tensor(nan, device='cuda:0', grad_fn=<SelectBackward>), '089590': tensor(nan, device='cuda:0', grad_fn=<SelectBackward>), '227840': tensor(nan, device='cuda:0', grad_fn=<SelectBackward>), '079550': tensor(nan, device='cuda:0', grad_fn=<SelectBackward>), '039570': tensor(nan, device='cuda:0', grad_fn=<SelectBackward>), '002690': tensor(nan, device='cuda:0', grad_fn=<SelectBackward>), '095570': tensor(nan, device='cuda:0', grad_fn=<SelectBackward>), '214320': tensor(nan, device='cuda:0', grad_fn=<SelectBackward>), '214420': tensor(nan, device='cuda:0', grad_fn=<SelectBackward>), '085620': tensor(nan, device='cuda:0', grad_fn=<SelectBackward>), '214390': tensor(nan, device='cuda:0', grad_fn=<SelectBackward>), '210980': tensor(nan, device='cuda:0', grad_fn=<SelectBackward>), '138250': tensor(nan, device='cuda:0', grad_fn=<SelectBackward>), '145210': tensor(nan, device='cuda:0', grad_fn=<SelectBackward>), '213500': tensor(nan, device='cuda:0', grad_fn=<SelectBackward>), '210540': tensor(nan, device='cuda:0', grad_fn=<SelectBackward>), '028260': tensor(nan, device='cuda:0', grad_fn=<SelectBackward>), '112610': tensor(nan, device='cuda:0', grad_fn=<SelectBackward>), '018260': tensor(nan, device='cuda:0', grad_fn=<SelectBackward>), '204320': tensor(nan, device='cuda:0', grad_fn=<SelectBackward>), '200880': tensor(nan, device='cuda:0', grad_fn=<SelectBackward>), '192400': tensor(nan, device='cuda:0', grad_fn=<SelectBackward>), '133820': tensor(nan, device='cuda:0', grad_fn=<SelectBackward>), '027410': tensor(nan, device='cuda:0', grad_fn=<SelectBackward>), '192820': tensor(nan, device='cuda:0', grad_fn=<SelectBackward>), '185750': tensor(nan, device='cuda:0', grad_fn=<SelectBackward>), '006880': tensor(nan, device='cuda:0', grad_fn=<SelectBackward>), '183190': tensor(nan, device='cuda:0', grad_fn=<SelectBackward>), '064350': tensor(nan, device='cuda:0', grad_fn=<SelectBackward>), '180640': tensor(nan, device='cuda:0', grad_fn=<SelectBackward>), '181710': tensor(nan, device='cuda:0', grad_fn=<SelectBackward>), '175330': tensor(nan, device='cuda:0', grad_fn=<SelectBackward>), '172580': tensor(nan, device='cuda:0', grad_fn=<SelectBackward>), '155660': tensor(nan, device='cuda:0', grad_fn=<SelectBackward>), '168490': tensor(nan, device='cuda:0', grad_fn=<SelectBackward>), '170900': tensor(nan, device='cuda:0', grad_fn=<SelectBackward>), '013870': tensor(nan, device='cuda:0', grad_fn=<SelectBackward>), '037560': tensor(nan, device='cuda:0', grad_fn=<SelectBackward>), '163560': tensor(nan, device='cuda:0', grad_fn=<SelectBackward>), '161890': tensor(nan, device='cuda:0', grad_fn=<SelectBackward>), '161390': tensor(nan, device='cuda:0', grad_fn=<SelectBackward>), '161000': tensor(nan, device='cuda:0', grad_fn=<SelectBackward>), '068400': tensor(nan, device='cuda:0', grad_fn=<SelectBackward>), '155900': tensor(nan, device='cuda:0', grad_fn=<SelectBackward>), '014710': tensor(nan, device='cuda:0', grad_fn=<SelectBackward>), '153360': tensor(nan, device='cuda:0', grad_fn=<SelectBackward>), '144620': tensor(nan, device='cuda:0', grad_fn=<SelectBackward>), '152550': tensor(nan, device='cuda:0', grad_fn=<SelectBackward>), '079980': tensor(nan, device='cuda:0', grad_fn=<SelectBackward>), '145270': tensor(nan, device='cuda:0', grad_fn=<SelectBackward>), '007070': tensor(nan, device='cuda:0', grad_fn=<SelectBackward>), '129260': tensor(nan, device='cuda:0', grad_fn=<SelectBackward>), '145990': tensor(nan, device='cuda:0', grad_fn=<SelectBackward>), '039130': tensor(nan, device='cuda:0', grad_fn=<SelectBackward>), '078520': tensor(nan, device='cuda:0', grad_fn=<SelectBackward>), '023000': tensor(nan, device='cuda:0', grad_fn=<SelectBackward>), '031430': tensor(nan, device='cuda:0', grad_fn=<SelectBackward>), '140910': tensor(nan, device='cuda:0', grad_fn=<SelectBackward>), '047810': tensor(nan, device='cuda:0', grad_fn=<SelectBackward>), '071840': tensor(nan, device='cuda:0', grad_fn=<SelectBackward>), '069640': tensor(nan, device='cuda:0', grad_fn=<SelectBackward>), '138490': tensor(nan, device='cuda:0', grad_fn=<SelectBackward>), '139480': tensor(nan, device='cuda:0', grad_fn=<SelectBackward>), '139130': tensor(nan, device='cuda:0', grad_fn=<SelectBackward>), '053210': tensor(nan, device='cuda:0', grad_fn=<SelectBackward>), '019440': tensor(nan, device='cuda:0', grad_fn=<SelectBackward>), '138040': tensor(nan, device='cuda:0', grad_fn=<SelectBackward>), '023350': tensor(nan, device='cuda:0', grad_fn=<SelectBackward>), '138930': tensor(nan, device='cuda:0', grad_fn=<SelectBackward>), '020150': tensor(nan, device='cuda:0', grad_fn=<SelectBackward>), '011210': tensor(nan, device='cuda:0', grad_fn=<SelectBackward>), '136490': tensor(nan, device='cuda:0', grad_fn=<SelectBackward>), '134380': tensor(nan, device='cuda:0', grad_fn=<SelectBackward>), '134790': tensor(nan, device='cuda:0', grad_fn=<SelectBackward>), '082740': tensor(nan, device='cuda:0', grad_fn=<SelectBackward>), '117580': tensor(nan, device='cuda:0', grad_fn=<SelectBackward>), '126560': tensor(nan, device='cuda:0', grad_fn=<SelectBackward>), '058860': tensor(nan, device='cuda:0', grad_fn=<SelectBackward>), '130660': tensor(nan, device='cuda:0', grad_fn=<SelectBackward>), '900140': tensor(nan, device='cuda:0', grad_fn=<SelectBackward>), '030790': tensor(nan, device='cuda:0', grad_fn=<SelectBackward>), '081660': tensor(nan, device='cuda:0', grad_fn=<SelectBackward>), '058850': tensor(nan, device='cuda:0', grad_fn=<SelectBackward>), '057050': tensor(nan, device='cuda:0', grad_fn=<SelectBackward>), '002150': tensor(nan, device='cuda:0', grad_fn=<SelectBackward>), '128820': tensor(nan, device='cuda:0', grad_fn=<SelectBackward>), '122900': tensor(nan, device='cuda:0', grad_fn=<SelectBackward>), '128940': tensor(nan, device='cuda:0', grad_fn=<SelectBackward>), '105840': tensor(nan, device='cuda:0', grad_fn=<SelectBackward>), '033920': tensor(nan, device='cuda:0', grad_fn=<SelectBackward>), '102460': tensor(nan, device='cuda:0', grad_fn=<SelectBackward>), '123690': tensor(nan, device='cuda:0', grad_fn=<SelectBackward>), '123700': tensor(nan, device='cuda:0', grad_fn=<SelectBackward>), '060980': tensor(nan, device='cuda:0', grad_fn=<SelectBackward>), '032830': tensor(nan, device='cuda:0', grad_fn=<SelectBackward>), '031440': tensor(nan, device='cuda:0', grad_fn=<SelectBackward>), '088350': tensor(nan, device='cuda:0', grad_fn=<SelectBackward>), '120030': tensor(nan, device='cuda:0', grad_fn=<SelectBackward>), '120110': tensor(nan, device='cuda:0', grad_fn=<SelectBackward>), '119650': tensor(nan, device='cuda:0', grad_fn=<SelectBackward>), '071320': tensor(nan, device='cuda:0', grad_fn=<SelectBackward>), '115390': tensor(nan, device='cuda:0', grad_fn=<SelectBackward>), '012160': tensor(nan, device='cuda:0', grad_fn=<SelectBackward>), '118000': tensor(nan, device='cuda:0', grad_fn=<SelectBackward>), '052690': tensor(nan, device='cuda:0', grad_fn=<SelectBackward>), '114090': tensor(nan, device='cuda:0', grad_fn=<SelectBackward>), '034730': tensor(nan, device='cuda:0', grad_fn=<SelectBackward>), '032560': tensor(nan, device='cuda:0', grad_fn=<SelectBackward>), '000080': tensor(nan, device='cuda:0', grad_fn=<SelectBackward>), '082640': tensor(nan, device='cuda:0', grad_fn=<SelectBackward>), '047400': tensor(nan, device='cuda:0', grad_fn=<SelectBackward>), '093240': tensor(nan, device='cuda:0', grad_fn=<SelectBackward>), '039490': tensor(nan, device='cuda:0', grad_fn=<SelectBackward>), '111770': tensor(nan, device='cuda:0', grad_fn=<SelectBackward>), '033660': tensor(nan, device='cuda:0', grad_fn=<SelectBackward>), '053690': tensor(nan, device='cuda:0', grad_fn=<SelectBackward>), '028100': tensor(nan, device='cuda:0', grad_fn=<SelectBackward>), '071970': tensor(nan, device='cuda:0', grad_fn=<SelectBackward>), '108670': tensor(nan, device='cuda:0', grad_fn=<SelectBackward>), '105630': tensor(nan, device='cuda:0', grad_fn=<SelectBackward>), '109070': tensor(nan, device='cuda:0', grad_fn=<SelectBackward>), '107590': tensor(nan, device='cuda:0', grad_fn=<SelectBackward>), '035420': tensor(nan, device='cuda:0', grad_fn=<SelectBackward>), '026940': tensor(nan, device='cuda:0', grad_fn=<SelectBackward>), '105560': tensor(nan, device='cuda:0', grad_fn=<SelectBackward>), '104700': tensor(nan, device='cuda:0', grad_fn=<SelectBackward>), '103590': tensor(nan, device='cuda:0', grad_fn=<SelectBackward>), '103140': tensor(nan, device='cuda:0', grad_fn=<SelectBackward>), '011070': tensor(nan, device='cuda:0', grad_fn=<SelectBackward>), '017180': tensor(nan, device='cuda:0', grad_fn=<SelectBackward>), '100220': tensor(nan, device='cuda:0', grad_fn=<SelectBackward>), '102260': tensor(nan, device='cuda:0', grad_fn=<SelectBackward>), '102280': tensor(nan, device='cuda:0', grad_fn=<SelectBackward>), '032640': tensor(nan, device='cuda:0', grad_fn=<SelectBackward>), '101140': tensor(nan, device='cuda:0', grad_fn=<SelectBackward>), '020560': tensor(nan, device='cuda:0', grad_fn=<SelectBackward>), '101060': tensor(nan, device='cuda:0', grad_fn=<SelectBackward>), '100840': tensor(nan, device='cuda:0', grad_fn=<SelectBackward>), '100250': tensor(nan, device='cuda:0', grad_fn=<SelectBackward>), '085310': tensor(nan, device='cuda:0', grad_fn=<SelectBackward>), '051600': tensor(nan, device='cuda:0', grad_fn=<SelectBackward>), '093230': tensor(nan, device='cuda:0', grad_fn=<SelectBackward>), '092440': tensor(nan, device='cuda:0', grad_fn=<SelectBackward>), '044450': tensor(nan, device='cuda:0', grad_fn=<SelectBackward>), '094280': tensor(nan, device='cuda:0', grad_fn=<SelectBackward>), '033270': tensor(nan, device='cuda:0', grad_fn=<SelectBackward>), '092200': tensor(nan, device='cuda:0', grad_fn=<SelectBackward>), '097950': tensor(nan, device='cuda:0', grad_fn=<SelectBackward>), '028670': tensor(nan, device='cuda:0', grad_fn=<SelectBackward>), '097230': tensor(nan, device='cuda:0', grad_fn=<SelectBackward>), '096760': tensor(nan, device='cuda:0', grad_fn=<SelectBackward>), '096770': tensor(nan, device='cuda:0', grad_fn=<SelectBackward>), '029780': tensor(nan, device='cuda:0', grad_fn=<SelectBackward>), '096300': tensor(nan, device='cuda:0', grad_fn=<SelectBackward>), '001780': tensor(nan, device='cuda:0', grad_fn=<SelectBackward>), '095720': tensor(nan, device='cuda:0', grad_fn=<SelectBackward>), '094800': tensor(nan, device='cuda:0', grad_fn=<SelectBackward>), '090370': tensor(nan, device='cuda:0', grad_fn=<SelectBackward>), '093370': tensor(nan, device='cuda:0', grad_fn=<SelectBackward>), '093050': tensor(nan, device='cuda:0', grad_fn=<SelectBackward>), '044380': tensor(nan, device='cuda:0', grad_fn=<SelectBackward>), '044820': tensor(nan, device='cuda:0', grad_fn=<SelectBackward>), '034590': tensor(nan, device='cuda:0', grad_fn=<SelectBackward>), '009770': tensor(nan, device='cuda:0', grad_fn=<SelectBackward>), '092220': tensor(nan, device='cuda:0', grad_fn=<SelectBackward>), '092230': tensor(nan, device='cuda:0', grad_fn=<SelectBackward>), '089470': tensor(nan, device='cuda:0', grad_fn=<SelectBackward>), '091090': tensor(nan, device='cuda:0', grad_fn=<SelectBackward>), '090350': tensor(nan, device='cuda:0', grad_fn=<SelectBackward>), '090430': tensor(nan, device='cuda:0', grad_fn=<SelectBackward>), '032350': tensor(nan, device='cuda:0', grad_fn=<SelectBackward>), '090080': tensor(nan, device='cuda:0', grad_fn=<SelectBackward>), '049800': tensor(nan, device='cuda:0', grad_fn=<SelectBackward>), '035510': tensor(nan, device='cuda:0', grad_fn=<SelectBackward>), '088790': tensor(nan, device='cuda:0', grad_fn=<SelectBackward>), '088980': tensor(nan, device='cuda:0', grad_fn=<SelectBackward>), '023530': tensor(nan, device='cuda:0', grad_fn=<SelectBackward>), '086280': tensor(nan, device='cuda:0', grad_fn=<SelectBackward>), '084870': tensor(nan, device='cuda:0', grad_fn=<SelectBackward>), '086790': tensor(nan, device='cuda:0', grad_fn=<SelectBackward>), '001560': tensor(nan, device='cuda:0', grad_fn=<SelectBackward>), '079430': tensor(nan, device='cuda:0', grad_fn=<SelectBackward>), '084010': tensor(nan, device='cuda:0', grad_fn=<SelectBackward>), '075180': tensor(nan, device='cuda:0', grad_fn=<SelectBackward>), '083420': tensor(nan, device='cuda:0', grad_fn=<SelectBackward>), '084690': tensor(nan, device='cuda:0', grad_fn=<SelectBackward>), '071950': tensor(nan, device='cuda:0', grad_fn=<SelectBackward>), '084680': tensor(nan, device='cuda:0', grad_fn=<SelectBackward>), '084670': tensor(nan, device='cuda:0', grad_fn=<SelectBackward>), '042700': tensor(nan, device='cuda:0', grad_fn=<SelectBackward>), '004890': tensor(nan, device='cuda:0', grad_fn=<SelectBackward>), '010960': tensor(nan, device='cuda:0', grad_fn=<SelectBackward>), '073240': tensor(nan, device='cuda:0', grad_fn=<SelectBackward>), '079160': tensor(nan, device='cuda:0', grad_fn=<SelectBackward>), '081000': tensor(nan, device='cuda:0', grad_fn=<SelectBackward>), '014830': tensor(nan, device='cuda:0', grad_fn=<SelectBackward>), '041650': tensor(nan, device='cuda:0', grad_fn=<SelectBackward>), '023810': tensor(nan, device='cuda:0', grad_fn=<SelectBackward>), '078930': tensor(nan, device='cuda:0', grad_fn=<SelectBackward>), '077500': tensor(nan, device='cuda:0', grad_fn=<SelectBackward>), '058730': tensor(nan, device='cuda:0', grad_fn=<SelectBackward>), '034220': tensor(nan, device='cuda:0', grad_fn=<SelectBackward>), '078000': tensor(nan, device='cuda:0', grad_fn=<SelectBackward>), '077970': tensor(nan, device='cuda:0', grad_fn=<SelectBackward>), '034310': tensor(nan, device='cuda:0', grad_fn=<SelectBackward>), '019680': tensor(nan, device='cuda:0', grad_fn=<SelectBackward>), '024110': tensor(nan, device='cuda:0', grad_fn=<SelectBackward>), '074610': tensor(nan, device='cuda:0', grad_fn=<SelectBackward>), '025750': tensor(nan, device='cuda:0', grad_fn=<SelectBackward>), '007660': tensor(nan, device='cuda:0', grad_fn=<SelectBackward>), '035250': tensor(nan, device='cuda:0', grad_fn=<SelectBackward>), '037270': tensor(nan, device='cuda:0', grad_fn=<SelectBackward>), '072710': tensor(nan, device='cuda:0', grad_fn=<SelectBackward>), '071050': tensor(nan, device='cuda:0', grad_fn=<SelectBackward>), '072130': tensor(nan, device='cuda:0', grad_fn=<SelectBackward>), '034120': tensor(nan, device='cuda:0', grad_fn=<SelectBackward>), '036570': tensor(nan, device='cuda:0', grad_fn=<SelectBackward>), '071090': tensor(nan, device='cuda:0', grad_fn=<SelectBackward>), '069730': tensor(nan, device='cuda:0', grad_fn=<SelectBackward>), '006890': tensor(nan, device='cuda:0', grad_fn=<SelectBackward>), '011500': tensor(nan, device='cuda:0', grad_fn=<SelectBackward>), '069960': tensor(nan, device='cuda:0', grad_fn=<SelectBackward>), '069460': tensor(nan, device='cuda:0', grad_fn=<SelectBackward>), '069620': tensor(nan, device='cuda:0', grad_fn=<SelectBackward>), '027740': tensor(nan, device='cuda:0', grad_fn=<SelectBackward>), '036530': tensor(nan, device='cuda:0', grad_fn=<SelectBackward>), '069260': tensor(nan, device='cuda:0', grad_fn=<SelectBackward>), '033530': tensor(nan, device='cuda:0', grad_fn=<SelectBackward>), '058430': tensor(nan, device='cuda:0', grad_fn=<SelectBackward>), '068290': tensor(nan, device='cuda:0', grad_fn=<SelectBackward>), '067830': tensor(nan, device='cuda:0', grad_fn=<SelectBackward>), '030610': tensor(nan, device='cuda:0', grad_fn=<SelectBackward>), '009240': tensor(nan, device='cuda:0', grad_fn=<SelectBackward>), '034300': tensor(nan, device='cuda:0', grad_fn=<SelectBackward>), '017370': tensor(nan, device='cuda:0', grad_fn=<SelectBackward>), '066570': tensor(nan, device='cuda:0', grad_fn=<SelectBackward>), '024720': tensor(nan, device='cuda:0', grad_fn=<SelectBackward>), '064960': tensor(nan, device='cuda:0', grad_fn=<SelectBackward>), '037710': tensor(nan, device='cuda:0', grad_fn=<SelectBackward>), '020760': tensor(nan, device='cuda:0', grad_fn=<SelectBackward>), '033180': tensor(nan, device='cuda:0', grad_fn=<SelectBackward>), '063160': tensor(nan, device='cuda:0', grad_fn=<SelectBackward>), '055550': tensor(nan, device='cuda:0', grad_fn=<SelectBackward>), '021240': tensor(nan, device='cuda:0', grad_fn=<SelectBackward>), '058650': tensor(nan, device='cuda:0', grad_fn=<SelectBackward>), '051900': tensor(nan, device='cuda:0', grad_fn=<SelectBackward>), '051910': tensor(nan, device='cuda:0', grad_fn=<SelectBackward>), '047040': tensor(nan, device='cuda:0', grad_fn=<SelectBackward>), '047050': tensor(nan, device='cuda:0', grad_fn=<SelectBackward>), '042660': tensor(nan, device='cuda:0', grad_fn=<SelectBackward>), '042670': tensor(nan, device='cuda:0', grad_fn=<SelectBackward>), '051630': tensor(nan, device='cuda:0', grad_fn=<SelectBackward>), '049770': tensor(nan, device='cuda:0', grad_fn=<SelectBackward>), '034020': tensor(nan, device='cuda:0', grad_fn=<SelectBackward>), '010040': tensor(nan, device='cuda:0', grad_fn=<SelectBackward>), '016450': tensor(nan, device='cuda:0', grad_fn=<SelectBackward>), '016710': tensor(nan, device='cuda:0', grad_fn=<SelectBackward>), '003220': tensor(nan, device='cuda:0', grad_fn=<SelectBackward>), '036460': tensor(nan, device='cuda:0', grad_fn=<SelectBackward>), '007120': tensor(nan, device='cuda:0', grad_fn=<SelectBackward>), '000850': tensor(nan, device='cuda:0', grad_fn=<SelectBackward>), '036580': tensor(nan, device='cuda:0', grad_fn=<SelectBackward>), '033780': tensor(nan, device='cuda:0', grad_fn=<SelectBackward>), '009540': tensor(nan, device='cuda:0', grad_fn=<SelectBackward>), '024090': tensor(nan, device='cuda:0', grad_fn=<SelectBackward>), '006840': tensor(nan, device='cuda:0', grad_fn=<SelectBackward>), '006650': tensor(nan, device='cuda:0', grad_fn=<SelectBackward>), '035150': tensor(nan, device='cuda:0', grad_fn=<SelectBackward>), '035000': tensor(nan, device='cuda:0', grad_fn=<SelectBackward>), '033250': tensor(nan, device='cuda:0', grad_fn=<SelectBackward>), '033240': tensor(nan, device='cuda:0', grad_fn=<SelectBackward>), '030200': tensor(nan, device='cuda:0', grad_fn=<SelectBackward>), '019490': tensor(nan, device='cuda:0', grad_fn=<SelectBackward>), '030000': tensor(nan, device='cuda:0', grad_fn=<SelectBackward>), '026890': tensor(nan, device='cuda:0', grad_fn=<SelectBackward>), '029460': tensor(nan, device='cuda:0', grad_fn=<SelectBackward>), '024890': tensor(nan, device='cuda:0', grad_fn=<SelectBackward>), '017940': tensor(nan, device='cuda:0', grad_fn=<SelectBackward>), '018670': tensor(nan, device='cuda:0', grad_fn=<SelectBackward>), '023590': tensor(nan, device='cuda:0', grad_fn=<SelectBackward>), '014440': tensor(nan, device='cuda:0', grad_fn=<SelectBackward>), '011790': tensor(nan, device='cuda:0', grad_fn=<SelectBackward>), '010600': tensor(nan, device='cuda:0', grad_fn=<SelectBackward>), '025890': tensor(nan, device='cuda:0', grad_fn=<SelectBackward>), '024900': tensor(nan, device='cuda:0', grad_fn=<SelectBackward>), '015350': tensor(nan, device='cuda:0', grad_fn=<SelectBackward>), '023960': tensor(nan, device='cuda:0', grad_fn=<SelectBackward>), '023800': tensor(nan, device='cuda:0', grad_fn=<SelectBackward>), '012320': tensor(nan, device='cuda:0', grad_fn=<SelectBackward>), '025530': tensor(nan, device='cuda:0', grad_fn=<SelectBackward>), '031820': tensor(nan, device='cuda:0', grad_fn=<SelectBackward>), '000660': tensor(nan, device='cuda:0', grad_fn=<SelectBackward>), '023150': tensor(nan, device='cuda:0', grad_fn=<SelectBackward>), '005320': tensor(nan, device='cuda:0', grad_fn=<SelectBackward>), '023450': tensor(nan, device='cuda:0', grad_fn=<SelectBackward>), '028050': tensor(nan, device='cuda:0', grad_fn=<SelectBackward>), '029530': tensor(nan, device='cuda:0', grad_fn=<SelectBackward>), '015360': tensor(nan, device='cuda:0', grad_fn=<SelectBackward>), '016800': tensor(nan, device='cuda:0', grad_fn=<SelectBackward>), '024070': tensor(nan, device='cuda:0', grad_fn=<SelectBackward>), '030720': tensor(nan, device='cuda:0', grad_fn=<SelectBackward>), '025560': tensor(nan, device='cuda:0', grad_fn=<SelectBackward>), '030210': tensor(nan, device='cuda:0', grad_fn=<SelectBackward>), '012630': tensor(nan, device='cuda:0', grad_fn=<SelectBackward>), '017900': tensor(nan, device='cuda:0', grad_fn=<SelectBackward>), '025540': tensor(nan, device='cuda:0', grad_fn=<SelectBackward>), '003160': tensor(nan, device='cuda:0', grad_fn=<SelectBackward>), '011930': tensor(nan, device='cuda:0', grad_fn=<SelectBackward>), '019180': tensor(nan, device='cuda:0', grad_fn=<SelectBackward>), '018880': tensor(nan, device='cuda:0', grad_fn=<SelectBackward>), '021820': tensor(nan, device='cuda:0', grad_fn=<SelectBackward>), '027970': tensor(nan, device='cuda:0', grad_fn=<SelectBackward>), '006740': tensor(nan, device='cuda:0', grad_fn=<SelectBackward>), '000910': tensor(nan, device='cuda:0', grad_fn=<SelectBackward>), '020120': tensor(nan, device='cuda:0', grad_fn=<SelectBackward>), '020000': tensor(nan, device='cuda:0', grad_fn=<SelectBackward>), '017800': tensor(nan, device='cuda:0', grad_fn=<SelectBackward>), '016580': tensor(nan, device='cuda:0', grad_fn=<SelectBackward>), '013580': tensor(nan, device='cuda:0', grad_fn=<SelectBackward>), '021050': tensor(nan, device='cuda:0', grad_fn=<SelectBackward>), '012750': tensor(nan, device='cuda:0', grad_fn=<SelectBackward>), '015890': tensor(nan, device='cuda:0', grad_fn=<SelectBackward>), '016590': tensor(nan, device='cuda:0', grad_fn=<SelectBackward>), '011690': tensor(nan, device='cuda:0', grad_fn=<SelectBackward>), '025860': tensor(nan, device='cuda:0', grad_fn=<SelectBackward>), '018500': tensor(nan, device='cuda:0', grad_fn=<SelectBackward>), '011300': tensor(nan, device='cuda:0', grad_fn=<SelectBackward>), '011200': tensor(nan, device='cuda:0', grad_fn=<SelectBackward>), '012610': tensor(nan, device='cuda:0', grad_fn=<SelectBackward>), '017810': tensor(nan, device='cuda:0', grad_fn=<SelectBackward>), '017390': tensor(nan, device='cuda:0', grad_fn=<SelectBackward>), '025820': tensor(nan, device='cuda:0', grad_fn=<SelectBackward>), '011090': tensor(nan, device='cuda:0', grad_fn=<SelectBackward>), '007460': tensor(nan, device='cuda:0', grad_fn=<SelectBackward>), '025620': tensor(nan, device='cuda:0', grad_fn=<SelectBackward>), '017960': tensor(nan, device='cuda:0', grad_fn=<SelectBackward>), '025000': tensor(nan, device='cuda:0', grad_fn=<SelectBackward>), '010580': tensor(nan, device='cuda:0', grad_fn=<SelectBackward>), '007980': tensor(nan, device='cuda:0', grad_fn=<SelectBackward>), '009440': tensor(nan, device='cuda:0', grad_fn=<SelectBackward>), '008420': tensor(nan, device='cuda:0', grad_fn=<SelectBackward>), '016880': tensor(nan, device='cuda:0', grad_fn=<SelectBackward>), '007310': tensor(nan, device='cuda:0', grad_fn=<SelectBackward>), '008500': tensor(nan, device='cuda:0', grad_fn=<SelectBackward>), '014790': tensor(nan, device='cuda:0', grad_fn=<SelectBackward>), '010120': tensor(nan, device='cuda:0', grad_fn=<SelectBackward>), '009190': tensor(nan, device='cuda:0', grad_fn=<SelectBackward>), '000760': tensor(nan, device='cuda:0', grad_fn=<SelectBackward>), '014820': tensor(nan, device='cuda:0', grad_fn=<SelectBackward>), '010140': tensor(nan, device='cuda:0', grad_fn=<SelectBackward>), '009680': tensor(nan, device='cuda:0', grad_fn=<SelectBackward>), '010690': tensor(nan, device='cuda:0', grad_fn=<SelectBackward>), '000390': tensor(nan, device='cuda:0', grad_fn=<SelectBackward>), '009450': tensor(nan, device='cuda:0', grad_fn=<SelectBackward>), '012030': tensor(nan, device='cuda:0', grad_fn=<SelectBackward>), '005090': tensor(nan, device='cuda:0', grad_fn=<SelectBackward>), '005750': tensor(nan, device='cuda:0', grad_fn=<SelectBackward>), '005880': tensor(nan, device='cuda:0', grad_fn=<SelectBackward>), '008560': tensor(nan, device='cuda:0', grad_fn=<SelectBackward>), '005870': tensor(nan, device='cuda:0', grad_fn=<SelectBackward>), '017550': tensor(nan, device='cuda:0', grad_fn=<SelectBackward>), '011170': tensor(nan, device='cuda:0', grad_fn=<SelectBackward>), '001430': tensor(nan, device='cuda:0', grad_fn=<SelectBackward>), '008770': tensor(nan, device='cuda:0', grad_fn=<SelectBackward>), '014580': tensor(nan, device='cuda:0', grad_fn=<SelectBackward>), '013520': tensor(nan, device='cuda:0', grad_fn=<SelectBackward>), '004080': tensor(nan, device='cuda:0', grad_fn=<SelectBackward>), '006060': tensor(nan, device='cuda:0', grad_fn=<SelectBackward>), '014530': tensor(nan, device='cuda:0', grad_fn=<SelectBackward>), '002140': tensor(nan, device='cuda:0', grad_fn=<SelectBackward>), '016090': tensor(nan, device='cuda:0', grad_fn=<SelectBackward>), '001620': tensor(nan, device='cuda:0', grad_fn=<SelectBackward>), '017040': tensor(nan, device='cuda:0', grad_fn=<SelectBackward>), '011390': tensor(nan, device='cuda:0', grad_fn=<SelectBackward>), '011810': tensor(nan, device='cuda:0', grad_fn=<SelectBackward>), '010130': tensor(nan, device='cuda:0', grad_fn=<SelectBackward>), '012600': tensor(nan, device='cuda:0', grad_fn=<SelectBackward>), '004720': tensor(nan, device='cuda:0', grad_fn=<SelectBackward>), '009200': tensor(nan, device='cuda:0', grad_fn=<SelectBackward>), '001500': tensor(nan, device='cuda:0', grad_fn=<SelectBackward>), '008870': tensor(nan, device='cuda:0', grad_fn=<SelectBackward>), '008110': tensor(nan, device='cuda:0', grad_fn=<SelectBackward>), '005820': tensor(nan, device='cuda:0', grad_fn=<SelectBackward>), '008490': tensor(nan, device='cuda:0', grad_fn=<SelectBackward>), '014910': tensor(nan, device='cuda:0', grad_fn=<SelectBackward>), '003580': tensor(nan, device='cuda:0', grad_fn=<SelectBackward>), '015860': tensor(nan, device='cuda:0', grad_fn=<SelectBackward>), '014160': tensor(nan, device='cuda:0', grad_fn=<SelectBackward>), '012280': tensor(nan, device='cuda:0', grad_fn=<SelectBackward>), '019170': tensor(nan, device='cuda:0', grad_fn=<SelectBackward>), '002210': tensor(nan, device='cuda:0', grad_fn=<SelectBackward>), '012170': tensor(nan, device='cuda:0', grad_fn=<SelectBackward>), '009420': tensor(nan, device='cuda:0', grad_fn=<SelectBackward>), '011330': tensor(nan, device='cuda:0', grad_fn=<SelectBackward>), '012800': tensor(nan, device='cuda:0', grad_fn=<SelectBackward>), '001140': tensor(nan, device='cuda:0', grad_fn=<SelectBackward>), '013360': tensor(nan, device='cuda:0', grad_fn=<SelectBackward>), '013700': tensor(nan, device='cuda:0', grad_fn=<SelectBackward>), '002760': tensor(nan, device='cuda:0', grad_fn=<SelectBackward>), '007610': tensor(nan, device='cuda:0', grad_fn=<SelectBackward>), '004920': tensor(nan, device='cuda:0', grad_fn=<SelectBackward>), '009290': tensor(nan, device='cuda:0', grad_fn=<SelectBackward>), '011420': tensor(nan, device='cuda:0', grad_fn=<SelectBackward>), '004270': tensor(nan, device='cuda:0', grad_fn=<SelectBackward>), '001940': tensor(nan, device='cuda:0', grad_fn=<SelectBackward>), '009410': tensor(nan, device='cuda:0', grad_fn=<SelectBackward>), '007280': tensor(nan, device='cuda:0', grad_fn=<SelectBackward>), '009180': tensor(nan, device='cuda:0', grad_fn=<SelectBackward>), '002170': tensor(nan, device='cuda:0', grad_fn=<SelectBackward>), '017670': tensor(nan, device='cuda:0', grad_fn=<SelectBackward>), '010640': tensor(nan, device='cuda:0', grad_fn=<SelectBackward>), '003650': tensor(nan, device='cuda:0', grad_fn=<SelectBackward>), '004380': tensor(nan, device='cuda:0', grad_fn=<SelectBackward>), '002840': tensor(nan, device='cuda:0', grad_fn=<SelectBackward>), '007860': tensor(nan, device='cuda:0', grad_fn=<SelectBackward>), '013000': tensor(nan, device='cuda:0', grad_fn=<SelectBackward>), '012330': tensor(nan, device='cuda:0', grad_fn=<SelectBackward>), '015540': tensor(nan, device='cuda:0', grad_fn=<SelectBackward>), '001390': tensor(nan, device='cuda:0', grad_fn=<SelectBackward>), '009320': tensor(nan, device='cuda:0', grad_fn=<SelectBackward>), '001450': tensor(nan, device='cuda:0', grad_fn=<SelectBackward>), '005440': tensor(nan, device='cuda:0', grad_fn=<SelectBackward>), '015760': tensor(nan, device='cuda:0', grad_fn=<SelectBackward>), '007690': tensor(nan, device='cuda:0', grad_fn=<SelectBackward>), '006280': tensor(nan, device='cuda:0', grad_fn=<SelectBackward>), '009160': tensor(nan, device='cuda:0', grad_fn=<SelectBackward>), '008600': tensor(nan, device='cuda:0', grad_fn=<SelectBackward>), '015230': tensor(nan, device='cuda:0', grad_fn=<SelectBackward>), '007160': tensor(nan, device='cuda:0', grad_fn=<SelectBackward>), '014130': tensor(nan, device='cuda:0', grad_fn=<SelectBackward>), '008040': tensor(nan, device='cuda:0', grad_fn=<SelectBackward>), '009140': tensor(nan, device='cuda:0', grad_fn=<SelectBackward>), '009580': tensor(nan, device='cuda:0', grad_fn=<SelectBackward>), '014990': tensor(nan, device='cuda:0', grad_fn=<SelectBackward>), '010420': tensor(nan, device='cuda:0', grad_fn=<SelectBackward>), '013570': tensor(nan, device='cuda:0', grad_fn=<SelectBackward>), '003610': tensor(nan, device='cuda:0', grad_fn=<SelectBackward>), '015590': tensor(nan, device='cuda:0', grad_fn=<SelectBackward>), '014680': tensor(nan, device='cuda:0', grad_fn=<SelectBackward>), '010820': tensor(nan, device='cuda:0', grad_fn=<SelectBackward>), '006040': tensor(nan, device='cuda:0', grad_fn=<SelectBackward>), '008060': tensor(nan, device='cuda:0', grad_fn=<SelectBackward>), '003680': tensor(nan, device='cuda:0', grad_fn=<SelectBackward>), '015020': tensor(nan, device='cuda:0', grad_fn=<SelectBackward>), '011280': tensor(nan, device='cuda:0', grad_fn=<SelectBackward>), '002310': tensor(nan, device='cuda:0', grad_fn=<SelectBackward>), '010660': tensor(nan, device='cuda:0', grad_fn=<SelectBackward>), '011150': tensor(nan, device='cuda:0', grad_fn=<SelectBackward>), '001770': tensor(nan, device='cuda:0', grad_fn=<SelectBackward>), '018470': tensor(nan, device='cuda:0', grad_fn=<SelectBackward>), '005850': tensor(nan, device='cuda:0', grad_fn=<SelectBackward>), '009970': tensor(nan, device='cuda:0', grad_fn=<SelectBackward>), '012510': tensor(nan, device='cuda:0', grad_fn=<SelectBackward>), '003850': tensor(nan, device='cuda:0', grad_fn=<SelectBackward>), '007630': tensor(nan, device='cuda:0', grad_fn=<SelectBackward>), '008250': tensor(nan, device='cuda:0', grad_fn=<SelectBackward>), '012690': tensor(nan, device='cuda:0', grad_fn=<SelectBackward>), '006370': tensor(nan, device='cuda:0', grad_fn=<SelectBackward>), '006980': tensor(nan, device='cuda:0', grad_fn=<SelectBackward>), '002920': tensor(nan, device='cuda:0', grad_fn=<SelectBackward>), '002220': tensor(nan, device='cuda:0', grad_fn=<SelectBackward>), '002450': tensor(nan, device='cuda:0', grad_fn=<SelectBackward>), '002460': tensor(nan, device='cuda:0', grad_fn=<SelectBackward>), '007340': tensor(nan, device='cuda:0', grad_fn=<SelectBackward>), '000890': tensor(nan, device='cuda:0', grad_fn=<SelectBackward>), '001290': tensor(nan, device='cuda:0', grad_fn=<SelectBackward>), '003010': tensor(nan, device='cuda:0', grad_fn=<SelectBackward>), '014280': tensor(nan, device='cuda:0', grad_fn=<SelectBackward>), '009810': tensor(nan, device='cuda:0', grad_fn=<SelectBackward>), '008730': tensor(nan, device='cuda:0', grad_fn=<SelectBackward>), '009270': tensor(nan, device='cuda:0', grad_fn=<SelectBackward>), '004140': tensor(nan, device='cuda:0', grad_fn=<SelectBackward>), '002960': tensor(nan, device='cuda:0', grad_fn=<SelectBackward>), '003000': tensor(nan, device='cuda:0', grad_fn=<SelectBackward>), '005810': tensor(nan, device='cuda:0', grad_fn=<SelectBackward>), '001270': tensor(nan, device='cuda:0', grad_fn=<SelectBackward>), '012200': tensor(nan, device='cuda:0', grad_fn=<SelectBackward>), '004710': tensor(nan, device='cuda:0', grad_fn=<SelectBackward>), '005190': tensor(nan, device='cuda:0', grad_fn=<SelectBackward>), '016610': tensor(nan, device='cuda:0', grad_fn=<SelectBackward>), '008930': tensor(nan, device='cuda:0', grad_fn=<SelectBackward>), '005500': tensor(nan, device='cuda:0', grad_fn=<SelectBackward>), '005490': tensor(nan, device='cuda:0', grad_fn=<SelectBackward>), '002410': tensor(nan, device='cuda:0', grad_fn=<SelectBackward>), '005690': tensor(nan, device='cuda:0', grad_fn=<SelectBackward>), '001230': tensor(nan, device='cuda:0', grad_fn=<SelectBackward>), '006340': tensor(nan, device='cuda:0', grad_fn=<SelectBackward>), '005950': tensor(nan, device='cuda:0', grad_fn=<SelectBackward>), '016360': tensor(nan, device='cuda:0', grad_fn=<SelectBackward>), '002810': tensor(nan, device='cuda:0', grad_fn=<SelectBackward>), '001750': tensor(nan, device='cuda:0', grad_fn=<SelectBackward>), '011780': tensor(nan, device='cuda:0', grad_fn=<SelectBackward>), '003470': tensor(nan, device='cuda:0', grad_fn=<SelectBackward>), '002620': tensor(nan, device='cuda:0', grad_fn=<SelectBackward>), '015260': tensor(nan, device='cuda:0', grad_fn=<SelectBackward>), '009460': tensor(nan, device='cuda:0', grad_fn=<SelectBackward>), '005720': tensor(nan, device='cuda:0', grad_fn=<SelectBackward>), '006660': tensor(nan, device='cuda:0', grad_fn=<SelectBackward>), '004490': tensor(nan, device='cuda:0', grad_fn=<SelectBackward>), '011000': tensor(nan, device='cuda:0', grad_fn=<SelectBackward>), '009310': tensor(nan, device='cuda:0', grad_fn=<SelectBackward>), '010100': tensor(nan, device='cuda:0', grad_fn=<SelectBackward>), '005070': tensor(nan, device='cuda:0', grad_fn=<SelectBackward>), '004830': tensor(nan, device='cuda:0', grad_fn=<SelectBackward>), '001720': tensor(nan, device='cuda:0', grad_fn=<SelectBackward>), '001200': tensor(nan, device='cuda:0', grad_fn=<SelectBackward>), '003460': tensor(nan, device='cuda:0', grad_fn=<SelectBackward>), '011700': tensor(nan, device='cuda:0', grad_fn=<SelectBackward>), '005420': tensor(nan, device='cuda:0', grad_fn=<SelectBackward>), '000500': tensor(nan, device='cuda:0', grad_fn=<SelectBackward>), '010950': tensor(nan, device='cuda:0', grad_fn=<SelectBackward>), '012450': tensor(nan, device='cuda:0', grad_fn=<SelectBackward>), '011230': tensor(nan, device='cuda:0', grad_fn=<SelectBackward>), '004020': tensor(nan, device='cuda:0', grad_fn=<SelectBackward>), '004770': tensor(nan, device='cuda:0', grad_fn=<SelectBackward>), '004560': tensor(nan, device='cuda:0', grad_fn=<SelectBackward>), '006090': tensor(nan, device='cuda:0', grad_fn=<SelectBackward>), '003530': tensor(nan, device='cuda:0', grad_fn=<SelectBackward>), '009470': tensor(nan, device='cuda:0', grad_fn=<SelectBackward>), '001510': tensor(nan, device='cuda:0', grad_fn=<SelectBackward>), '010770': tensor(nan, device='cuda:0', grad_fn=<SelectBackward>), '007110': tensor(nan, device='cuda:0', grad_fn=<SelectBackward>), '016380': tensor(nan, device='cuda:0', grad_fn=<SelectBackward>), '010780': tensor(nan, device='cuda:0', grad_fn=<SelectBackward>), '002360': tensor(nan, device='cuda:0', grad_fn=<SelectBackward>), '003830': tensor(nan, device='cuda:0', grad_fn=<SelectBackward>), '007810': tensor(nan, device='cuda:0', grad_fn=<SelectBackward>), '004170': tensor(nan, device='cuda:0', grad_fn=<SelectBackward>), '010060': tensor(nan, device='cuda:0', grad_fn=<SelectBackward>), '000520': tensor(nan, device='cuda:0', grad_fn=<SelectBackward>), '006490': tensor(nan, device='cuda:0', grad_fn=<SelectBackward>), '003120': tensor(nan, device='cuda:0', grad_fn=<SelectBackward>), '000720': tensor(nan, device='cuda:0', grad_fn=<SelectBackward>), '002710': tensor(nan, device='cuda:0', grad_fn=<SelectBackward>), '003060': tensor(nan, device='cuda:0', grad_fn=<SelectBackward>), '007700': tensor(nan, device='cuda:0', grad_fn=<SelectBackward>), '008700': tensor(nan, device='cuda:0', grad_fn=<SelectBackward>), '010620': tensor(nan, device='cuda:0', grad_fn=<SelectBackward>), '006360': tensor(nan, device='cuda:0', grad_fn=<SelectBackward>), '006110': tensor(nan, device='cuda:0', grad_fn=<SelectBackward>), '006200': tensor(nan, device='cuda:0', grad_fn=<SelectBackward>), '006400': tensor(nan, device='cuda:0', grad_fn=<SelectBackward>), '009150': tensor(nan, device='cuda:0', grad_fn=<SelectBackward>), '005960': tensor(nan, device='cuda:0', grad_fn=<SelectBackward>), '009070': tensor(nan, device='cuda:0', grad_fn=<SelectBackward>), '003070': tensor(nan, device='cuda:0', grad_fn=<SelectBackward>), '005180': tensor(nan, device='cuda:0', grad_fn=<SelectBackward>), '005250': tensor(nan, device='cuda:0', grad_fn=<SelectBackward>), '000480': tensor(nan, device='cuda:0', grad_fn=<SelectBackward>), '004310': tensor(nan, device='cuda:0', grad_fn=<SelectBackward>), '003920': tensor(nan, device='cuda:0', grad_fn=<SelectBackward>), '008350': tensor(nan, device='cuda:0', grad_fn=<SelectBackward>), '003350': tensor(nan, device='cuda:0', grad_fn=<SelectBackward>), '001880': tensor(nan, device='cuda:0', grad_fn=<SelectBackward>), '011760': tensor(nan, device='cuda:0', grad_fn=<SelectBackward>), '006260': tensor(nan, device='cuda:0', grad_fn=<SelectBackward>), '001740': tensor(nan, device='cuda:0', grad_fn=<SelectBackward>), '002100': tensor(nan, device='cuda:0', grad_fn=<SelectBackward>), '004870': tensor(nan, device='cuda:0', grad_fn=<SelectBackward>), '007590': tensor(nan, device='cuda:0', grad_fn=<SelectBackward>), '004430': tensor(nan, device='cuda:0', grad_fn=<SelectBackward>), '002780': tensor(nan, device='cuda:0', grad_fn=<SelectBackward>), '004090': tensor(nan, device='cuda:0', grad_fn=<SelectBackward>), '000650': tensor(nan, device='cuda:0', grad_fn=<SelectBackward>), '000430': tensor(nan, device='cuda:0', grad_fn=<SelectBackward>), '001080': tensor(nan, device='cuda:0', grad_fn=<SelectBackward>), '004700': tensor(nan, device='cuda:0', grad_fn=<SelectBackward>), '004360': tensor(nan, device='cuda:0', grad_fn=<SelectBackward>), '008970': tensor(nan, device='cuda:0', grad_fn=<SelectBackward>), '002880': tensor(nan, device='cuda:0', grad_fn=<SelectBackward>), '001260': tensor(nan, device='cuda:0', grad_fn=<SelectBackward>), '005680': tensor(nan, device='cuda:0', grad_fn=<SelectBackward>), '005800': tensor(nan, device='cuda:0', grad_fn=<SelectBackward>), '002630': tensor(nan, device='cuda:0', grad_fn=<SelectBackward>), '001550': tensor(nan, device='cuda:0', grad_fn=<SelectBackward>), '005430': tensor(nan, device='cuda:0', grad_fn=<SelectBackward>), '004910': tensor(nan, device='cuda:0', grad_fn=<SelectBackward>), '004690': tensor(nan, device='cuda:0', grad_fn=<SelectBackward>), '003080': tensor(nan, device='cuda:0', grad_fn=<SelectBackward>), '002600': tensor(nan, device='cuda:0', grad_fn=<SelectBackward>), '001570': tensor(nan, device='cuda:0', grad_fn=<SelectBackward>), '003960': tensor(nan, device='cuda:0', grad_fn=<SelectBackward>), '002070': tensor(nan, device='cuda:0', grad_fn=<SelectBackward>), '003570': tensor(nan, device='cuda:0', grad_fn=<SelectBackward>), '004960': tensor(nan, device='cuda:0', grad_fn=<SelectBackward>), '004370': tensor(nan, device='cuda:0', grad_fn=<SelectBackward>), '003720': tensor(nan, device='cuda:0', grad_fn=<SelectBackward>), '004980': tensor(nan, device='cuda:0', grad_fn=<SelectBackward>), '004970': tensor(nan, device='cuda:0', grad_fn=<SelectBackward>), '002870': tensor(nan, device='cuda:0', grad_fn=<SelectBackward>), '001630': tensor(nan, device='cuda:0', grad_fn=<SelectBackward>), '005740': tensor(nan, device='cuda:0', grad_fn=<SelectBackward>), '002390': tensor(nan, device='cuda:0', grad_fn=<SelectBackward>), '001380': tensor(nan, device='cuda:0', grad_fn=<SelectBackward>), '006120': tensor(nan, device='cuda:0', grad_fn=<SelectBackward>), '007540': tensor(nan, device='cuda:0', grad_fn=<SelectBackward>), '003280': tensor(nan, device='cuda:0', grad_fn=<SelectBackward>), '001250': tensor(nan, device='cuda:0', grad_fn=<SelectBackward>), '002990': tensor(nan, device='cuda:0', grad_fn=<SelectBackward>), '001470': tensor(nan, device='cuda:0', grad_fn=<SelectBackward>), '001820': tensor(nan, device='cuda:0', grad_fn=<SelectBackward>), '001020': tensor(nan, device='cuda:0', grad_fn=<SelectBackward>), '001520': tensor(nan, device='cuda:0', grad_fn=<SelectBackward>), '000880': tensor(nan, device='cuda:0', grad_fn=<SelectBackward>), '001060': tensor(nan, device='cuda:0', grad_fn=<SelectBackward>), '000670': tensor(nan, device='cuda:0', grad_fn=<SelectBackward>), '001340': tensor(nan, device='cuda:0', grad_fn=<SelectBackward>), '000180': tensor(nan, device='cuda:0', grad_fn=<SelectBackward>), '005110': tensor(nan, device='cuda:0', grad_fn=<SelectBackward>), '004450': tensor(nan, device='cuda:0', grad_fn=<SelectBackward>), '000040': tensor(nan, device='cuda:0', grad_fn=<SelectBackward>), '002240': tensor(nan, device='cuda:0', grad_fn=<SelectBackward>), '004100': tensor(nan, device='cuda:0', grad_fn=<SelectBackward>), '002820': tensor(nan, device='cuda:0', grad_fn=<SelectBackward>), '004840': tensor(nan, device='cuda:0', grad_fn=<SelectBackward>), '002350': tensor(nan, device='cuda:0', grad_fn=<SelectBackward>), '004060': tensor(nan, device='cuda:0', grad_fn=<SelectBackward>), '004000': tensor(nan, device='cuda:0', grad_fn=<SelectBackward>), '000020': tensor(nan, device='cuda:0', grad_fn=<SelectBackward>), '000210': tensor(nan, device='cuda:0', grad_fn=<SelectBackward>), '001120': tensor(nan, device='cuda:0', grad_fn=<SelectBackward>), '002720': tensor(nan, device='cuda:0', grad_fn=<SelectBackward>), '003240': tensor(nan, device='cuda:0', grad_fn=<SelectBackward>), '005030': tensor(nan, device='cuda:0', grad_fn=<SelectBackward>), '006390': tensor(nan, device='cuda:0', grad_fn=<SelectBackward>), '000590': tensor(nan, device='cuda:0', grad_fn=<SelectBackward>), '005390': tensor(nan, device='cuda:0', grad_fn=<SelectBackward>), '000990': tensor(nan, device='cuda:0', grad_fn=<SelectBackward>), '006570': tensor(nan, device='cuda:0', grad_fn=<SelectBackward>), '000220': tensor(nan, device='cuda:0', grad_fn=<SelectBackward>), '000860': tensor(nan, device='cuda:0', grad_fn=<SelectBackward>), '003540': tensor(nan, device='cuda:0', grad_fn=<SelectBackward>), '005940': tensor(nan, device='cuda:0', grad_fn=<SelectBackward>), '006800': tensor(nan, device='cuda:0', grad_fn=<SelectBackward>), '002700': tensor(nan, device='cuda:0', grad_fn=<SelectBackward>), '001360': tensor(nan, device='cuda:0', grad_fn=<SelectBackward>), '000810': tensor(nan, device='cuda:0', grad_fn=<SelectBackward>), '003230': tensor(nan, device='cuda:0', grad_fn=<SelectBackward>), '000370': tensor(nan, device='cuda:0', grad_fn=<SelectBackward>), '008260': tensor(nan, device='cuda:0', grad_fn=<SelectBackward>), '000230': tensor(nan, device='cuda:0', grad_fn=<SelectBackward>), '000490': tensor(nan, device='cuda:0', grad_fn=<SelectBackward>), '001800': tensor(nan, device='cuda:0', grad_fn=<SelectBackward>), '004540': tensor(nan, device='cuda:0', grad_fn=<SelectBackward>), '001420': tensor(nan, device='cuda:0', grad_fn=<SelectBackward>), '002020': tensor(nan, device='cuda:0', grad_fn=<SelectBackward>), '005930': tensor(nan, device='cuda:0', grad_fn=<SelectBackward>), '000300': tensor(nan, device='cuda:0', grad_fn=<SelectBackward>), '001460': tensor(nan, device='cuda:0', grad_fn=<SelectBackward>), '003620': tensor(nan, device='cuda:0', grad_fn=<SelectBackward>), '003410': tensor(nan, device='cuda:0', grad_fn=<SelectBackward>), '005610': tensor(nan, device='cuda:0', grad_fn=<SelectBackward>), '000540': tensor(nan, device='cuda:0', grad_fn=<SelectBackward>), '010050': tensor(nan, device='cuda:0', grad_fn=<SelectBackward>), '007570': tensor(nan, device='cuda:0', grad_fn=<SelectBackward>), '002320': tensor(nan, device='cuda:0', grad_fn=<SelectBackward>), '002200': tensor(nan, device='cuda:0', grad_fn=<SelectBackward>), '005380': tensor(nan, device='cuda:0', grad_fn=<SelectBackward>), '005360': tensor(nan, device='cuda:0', grad_fn=<SelectBackward>), '009830': tensor(nan, device='cuda:0', grad_fn=<SelectBackward>), '002030': tensor(nan, device='cuda:0', grad_fn=<SelectBackward>), '006380': tensor(nan, device='cuda:0', grad_fn=<SelectBackward>), '004990': tensor(nan, device='cuda:0', grad_fn=<SelectBackward>), '001070': tensor(nan, device='cuda:0', grad_fn=<SelectBackward>), '004410': tensor(nan, device='cuda:0', grad_fn=<SelectBackward>), '003560': tensor(nan, device='cuda:0', grad_fn=<SelectBackward>), '000680': tensor(nan, device='cuda:0', grad_fn=<SelectBackward>), '001210': tensor(nan, device='cuda:0', grad_fn=<SelectBackward>), '000140': tensor(nan, device='cuda:0', grad_fn=<SelectBackward>), '000320': tensor(nan, device='cuda:0', grad_fn=<SelectBackward>), '000270': tensor(nan, device='cuda:0', grad_fn=<SelectBackward>), '004800': tensor(nan, device='cuda:0', grad_fn=<SelectBackward>), '001040': tensor(nan, device='cuda:0', grad_fn=<SelectBackward>), '000150': tensor(nan, device='cuda:0', grad_fn=<SelectBackward>), '005010': tensor(nan, device='cuda:0', grad_fn=<SelectBackward>), '005830': tensor(nan, device='cuda:0', grad_fn=<SelectBackward>), '003090': tensor(nan, device='cuda:0', grad_fn=<SelectBackward>), '002900': tensor(nan, device='cuda:0', grad_fn=<SelectBackward>), '003780': tensor(nan, device='cuda:0', grad_fn=<SelectBackward>), '003520': tensor(nan, device='cuda:0', grad_fn=<SelectBackward>), '002380': tensor(nan, device='cuda:0', grad_fn=<SelectBackward>), '005300': tensor(nan, device='cuda:0', grad_fn=<SelectBackward>), '003200': tensor(nan, device='cuda:0', grad_fn=<SelectBackward>), '002270': tensor(nan, device='cuda:0', grad_fn=<SelectBackward>), '002790': tensor(nan, device='cuda:0', grad_fn=<SelectBackward>), '006220': tensor(nan, device='cuda:0', grad_fn=<SelectBackward>), '004150': tensor(nan, device='cuda:0', grad_fn=<SelectBackward>), '007210': tensor(nan, device='cuda:0', grad_fn=<SelectBackward>), '000400': tensor(nan, device='cuda:0', grad_fn=<SelectBackward>), '001130': tensor(nan, device='cuda:0', grad_fn=<SelectBackward>), '001680': tensor(nan, device='cuda:0', grad_fn=<SelectBackward>), '003550': tensor(nan, device='cuda:0', grad_fn=<SelectBackward>), '000640': tensor(nan, device='cuda:0', grad_fn=<SelectBackward>), '003690': tensor(nan, device='cuda:0', grad_fn=<SelectBackward>), '000970': tensor(nan, device='cuda:0', grad_fn=<SelectBackward>), '003300': tensor(nan, device='cuda:0', grad_fn=<SelectBackward>), '004250': tensor(nan, device='cuda:0', grad_fn=<SelectBackward>), '003030': tensor(nan, device='cuda:0', grad_fn=<SelectBackward>), '001440': tensor(nan, device='cuda:0', grad_fn=<SelectBackward>), '001790': tensor(nan, device='cuda:0', grad_fn=<SelectBackward>), '000070': tensor(nan, device='cuda:0', grad_fn=<SelectBackward>), '002420': tensor(nan, device='cuda:0', grad_fn=<SelectBackward>), '000240': tensor(nan, device='cuda:0', grad_fn=<SelectBackward>), '000950': tensor(nan, device='cuda:0', grad_fn=<SelectBackward>), '003490': tensor(nan, device='cuda:0', grad_fn=<SelectBackward>), '001530': tensor(nan, device='cuda:0', grad_fn=<SelectBackward>), '000100': tensor(nan, device='cuda:0', grad_fn=<SelectBackward>), '000120': tensor(nan, device='cuda:0', grad_fn=<SelectBackward>), '000060': tensor(nan, device='cuda:0', grad_fn=<SelectBackward>), '000050': tensor(nan, device='cuda:0', grad_fn=<SelectBackward>), '000700': tensor(nan, device='cuda:0', grad_fn=<SelectBackward>), '003480': tensor(nan, device='cuda:0', grad_fn=<SelectBackward>)}\n"
          ],
          "name": "stdout"
        }
      ]
    },
    {
      "cell_type": "code",
      "metadata": {
        "id": "949zvzQo5kOe"
      },
      "source": [
        "!pip install pymysql\n",
        "import pymysql"
      ],
      "execution_count": null,
      "outputs": []
    },
    {
      "cell_type": "code",
      "metadata": {
        "id": "3CxcydMg64Tp"
      },
      "source": [
        "conn = pymysql.connect(host='jukerdb.cwhsnjoqybdo.ap-northeast-2.rds.amazonaws.com', user='admin', password='',\n",
        "                       db='WEB', charset='utf8')\n",
        " \n",
        "# Connection 으로부터 Cursor 생성\n",
        "curs = conn.cursor()\n",
        " \n",
        "\n",
        "for sb in result:\n",
        "    #table : stockpreidct\n",
        "    #symbol, value, type, day\n",
        "    # SQL문 실행\n",
        "    sql = \"\"\"INSERT INTO stockpredict VALUES(%s,%s,%s,NOW())\"\"\"\n",
        "    val = (sb,result[sb],'L')\n",
        "    curs.execute(sql,val)\n",
        "    conn.commit()\n",
        "\n",
        "sql = \"select * from stockpredict\"\n",
        "curs.execute(sql)\n",
        "rows = curs.fetchall()\n",
        "print(rows)     # 전체 rows\n",
        "\n",
        "# Connection 닫기\n",
        "conn.close()"
      ],
      "execution_count": null,
      "outputs": []
    },
    {
      "cell_type": "code",
      "metadata": {
        "id": "j32SAzEXZUG4"
      },
      "source": [
        ""
      ],
      "execution_count": null,
      "outputs": []
    }
  ]
}