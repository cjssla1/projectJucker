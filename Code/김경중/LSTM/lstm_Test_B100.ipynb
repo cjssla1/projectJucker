{
  "nbformat": 4,
  "nbformat_minor": 0,
  "metadata": {
    "colab": {
      "name": "lstm_Test_B100.ipynb",
      "provenance": [],
      "collapsed_sections": [],
      "authorship_tag": "ABX9TyOL68S5H4KJ11LYqI7ebFyM"
    },
    "kernelspec": {
      "name": "python3",
      "display_name": "Python 3"
    },
    "accelerator": "GPU"
  },
  "cells": [
    {
      "cell_type": "code",
      "metadata": {
        "id": "7Lj99UuTmJP1",
        "colab_type": "code",
        "outputId": "089bf48c-e0f6-4e9f-9862-b9a75bef3151",
        "colab": {
          "base_uri": "https://localhost:8080/",
          "height": 341
        }
      },
      "source": [
        "!pip install torch torchvision\n",
        "!pip install -U finance-datareader\n"
      ],
      "execution_count": 18,
      "outputs": [
        {
          "output_type": "stream",
          "text": [
            "Requirement already satisfied: torch in /usr/local/lib/python3.6/dist-packages (1.5.0+cu101)\n",
            "Requirement already satisfied: torchvision in /usr/local/lib/python3.6/dist-packages (0.6.0+cu101)\n",
            "Requirement already satisfied: future in /usr/local/lib/python3.6/dist-packages (from torch) (0.16.0)\n",
            "Requirement already satisfied: numpy in /usr/local/lib/python3.6/dist-packages (from torch) (1.18.4)\n",
            "Requirement already satisfied: pillow>=4.1.1 in /usr/local/lib/python3.6/dist-packages (from torchvision) (7.0.0)\n",
            "Requirement already up-to-date: finance-datareader in /usr/local/lib/python3.6/dist-packages (0.9.6)\n",
            "Requirement already satisfied, skipping upgrade: requests-file in /usr/local/lib/python3.6/dist-packages (from finance-datareader) (1.5.1)\n",
            "Requirement already satisfied, skipping upgrade: pandas>=0.19.2 in /usr/local/lib/python3.6/dist-packages (from finance-datareader) (1.0.4)\n",
            "Requirement already satisfied, skipping upgrade: lxml in /usr/local/lib/python3.6/dist-packages (from finance-datareader) (4.2.6)\n",
            "Requirement already satisfied, skipping upgrade: requests>=2.3.0 in /usr/local/lib/python3.6/dist-packages (from finance-datareader) (2.23.0)\n",
            "Requirement already satisfied, skipping upgrade: six in /usr/local/lib/python3.6/dist-packages (from requests-file->finance-datareader) (1.12.0)\n",
            "Requirement already satisfied, skipping upgrade: python-dateutil>=2.6.1 in /usr/local/lib/python3.6/dist-packages (from pandas>=0.19.2->finance-datareader) (2.8.1)\n",
            "Requirement already satisfied, skipping upgrade: numpy>=1.13.3 in /usr/local/lib/python3.6/dist-packages (from pandas>=0.19.2->finance-datareader) (1.18.4)\n",
            "Requirement already satisfied, skipping upgrade: pytz>=2017.2 in /usr/local/lib/python3.6/dist-packages (from pandas>=0.19.2->finance-datareader) (2018.9)\n",
            "Requirement already satisfied, skipping upgrade: chardet<4,>=3.0.2 in /usr/local/lib/python3.6/dist-packages (from requests>=2.3.0->finance-datareader) (3.0.4)\n",
            "Requirement already satisfied, skipping upgrade: certifi>=2017.4.17 in /usr/local/lib/python3.6/dist-packages (from requests>=2.3.0->finance-datareader) (2020.4.5.1)\n",
            "Requirement already satisfied, skipping upgrade: urllib3!=1.25.0,!=1.25.1,<1.26,>=1.21.1 in /usr/local/lib/python3.6/dist-packages (from requests>=2.3.0->finance-datareader) (1.24.3)\n",
            "Requirement already satisfied, skipping upgrade: idna<3,>=2.5 in /usr/local/lib/python3.6/dist-packages (from requests>=2.3.0->finance-datareader) (2.9)\n"
          ],
          "name": "stdout"
        }
      ]
    },
    {
      "cell_type": "code",
      "metadata": {
        "id": "cewIb01TmOBe",
        "colab_type": "code",
        "colab": {}
      },
      "source": [
        "import FinanceDataReader as fdr\n",
        "import datetime\n",
        "import torch\n",
        "import torch.nn as nn\n",
        "from torch.utils.data import Dataset, DataLoader\n",
        "import torch.optim as optim\n",
        "import numpy as np\n",
        "import argparse\n",
        "import time\n",
        "from copy import deepcopy # Add Deepcopy for args\n",
        "from sklearn.metrics import mean_absolute_error\n",
        "import FinanceDataReader as fdr"
      ],
      "execution_count": 0,
      "outputs": []
    },
    {
      "cell_type": "code",
      "metadata": {
        "id": "BvQXGWmIhJpB",
        "colab_type": "code",
        "outputId": "11bf7bb0-9179-4b28-d545-1b18e1a52e23",
        "colab": {
          "base_uri": "https://localhost:8080/",
          "height": 35
        }
      },
      "source": [
        "from google.colab import drive\n",
        "drive.mount('/content/gdrive')"
      ],
      "execution_count": 20,
      "outputs": [
        {
          "output_type": "stream",
          "text": [
            "Drive already mounted at /content/gdrive; to attempt to forcibly remount, call drive.mount(\"/content/gdrive\", force_remount=True).\n"
          ],
          "name": "stdout"
        }
      ]
    },
    {
      "cell_type": "code",
      "metadata": {
        "id": "bBSXsheb8LYX",
        "colab_type": "code",
        "colab": {}
      },
      "source": [
        "class StockDataset(Dataset):\n",
        "    \n",
        "    def __init__(self, symbol, x_frames, y_frames, start, end):\n",
        "        \n",
        "        self.symbol = symbol\n",
        "        self.x_frames = x_frames\n",
        "        self.y_frames = y_frames\n",
        "        \n",
        "        self.start = datetime.datetime(*start)\n",
        "        self.end = datetime.datetime(*end)\n",
        "\n",
        "        self.data = fdr.DataReader(self.symbol, self.start, self.end)\n",
        "        print(self.data.isna().sum())\n",
        "        \n",
        "    def __len__(self):\n",
        "        return len(self.data) - (self.x_frames + self.y_frames) + 1\n",
        "    \n",
        "    def __getitem__(self, idx):\n",
        "        idx += self.x_frames\n",
        "        data = self.data.iloc[idx-self.x_frames:idx+self.y_frames]\n",
        "        data = data[['High', 'Low', 'Open', 'Close', 'Change', 'Volume']]\n",
        "        data = data.apply(lambda x: (x+1) / (x[self.x_frames-1]+1))\n",
        "        data = data.values\n",
        "        X = data[:self.x_frames]\n",
        "        y = data[self.x_frames:]\n",
        "        \n",
        "        return X, y"
      ],
      "execution_count": 0,
      "outputs": []
    },
    {
      "cell_type": "code",
      "metadata": {
        "id": "yUS97FmKWKyd",
        "colab_type": "code",
        "colab": {}
      },
      "source": [
        "class TestDataset(Dataset):\n",
        "    \n",
        "    def __init__(self, symbol, x_frames, y_frames):\n",
        "        \n",
        "        self.symbol = symbol\n",
        "        self.x_frames = x_frames\n",
        "        self.y_frames = y_frames\n",
        "        \n",
        "        self.start = datetime.datetime.now() - datetime.timedelta(days=int(x_frames+y_frames)*2)\n",
        "        self.end = datetime.date.today()\n",
        "        self.data = fdr.DataReader(self.symbol, self.start, self.end)\n",
        "        self.data = self.data.tail(x_frames+y_frames)\n",
        "        \n",
        "    def __len__(self):\n",
        "        return len(self.data) - (self.x_frames + self.y_frames) + 1\n",
        "    \n",
        "    def __getitem__(self, idx):\n",
        "        idx += self.x_frames\n",
        "        data = self.data.iloc[idx-self.x_frames:idx+self.y_frames]\n",
        "        data = data[['High', 'Low', 'Open', 'Close', 'Change', 'Volume']]\n",
        "        data = data.apply(lambda x: (x+1) / (x[self.x_frames-1]+1))\n",
        "        data = data.values\n",
        "        X = data[:self.x_frames]\n",
        "        y = data[self.x_frames:]\n",
        "        \n",
        "        return X, y"
      ],
      "execution_count": 0,
      "outputs": []
    },
    {
      "cell_type": "code",
      "metadata": {
        "id": "dmsemmlm87NZ",
        "colab_type": "code",
        "colab": {}
      },
      "source": [
        "class TestDataset2(Dataset):\n",
        "    \n",
        "    def __init__(self, symbol, x_frames, y_frames):\n",
        "        \n",
        "        self.symbol = symbol\n",
        "        self.x_frames = x_frames\n",
        "        self.y_frames = y_frames\n",
        "        \n",
        "        self.start = datetime.datetime.now() - datetime.timedelta(days=int(x_frames+y_frames)*2)\n",
        "        self.end = datetime.date.today()\n",
        "        self.data = fdr.DataReader(self.symbol, self.start, self.end)\n",
        "        self.data = self.data.tail(x_frames+y_frames)\n",
        "        \n",
        "    def __len__(self):\n",
        "        return len(self.data) - (self.x_frames + self.y_frames) + 1\n",
        "    \n",
        "    def __getitem__(self, idx):\n",
        "        idx += self.x_frames\n",
        "        data = self.data.iloc[idx-self.x_frames:idx+self.y_frames]\n",
        "        data = data[['High', 'Low', 'Open', 'Close', 'Change', 'Volume']]\n",
        "        #data = data.apply(lambda x: (x+1) / (x[self.x_frames-1]+1))\n",
        "        data = data.values\n",
        "        X = data[:self.x_frames]\n",
        "        y = data[self.x_frames:]\n",
        "        \n",
        "        return X, y"
      ],
      "execution_count": 0,
      "outputs": []
    },
    {
      "cell_type": "code",
      "metadata": {
        "id": "lQUj3Koj3viS",
        "colab_type": "code",
        "colab": {}
      },
      "source": [
        "class PredictDataset(Dataset):\n",
        "    \n",
        "    def __init__(self, symbol, x_frames):\n",
        "        \n",
        "        self.symbol = symbol\n",
        "        self.x_frames = x_frames\n",
        "        \n",
        "        self.start = datetime.datetime.now() - datetime.timedelta(days=(x_frames*2))\n",
        "        self.end = datetime.date.today()\n",
        "        self.data = fdr.DataReader(self.symbol, self.start, self.end)\n",
        "        self.data = self.data.tail(x_frames)\n",
        "        \n",
        "    def __len__(self):\n",
        "        return len(self.data) - (self.x_frames) + 1\n",
        "    \n",
        "    def __getitem__(self, idx):\n",
        "        idx += self.x_frames\n",
        "        data = self.data.iloc[idx-self.x_frames:idx]\n",
        "        data = data[['High', 'Low', 'Open', 'Close', 'Change', 'Volume']]\n",
        "        data = data.apply(lambda x: (x+1) / (x[self.x_frames-1]+1))\n",
        "        data = data.values\n",
        "        X = data[:self.x_frames]\n",
        "        \n",
        "        return X"
      ],
      "execution_count": 0,
      "outputs": []
    },
    {
      "cell_type": "code",
      "metadata": {
        "id": "dC9kbqbxGJC3",
        "colab_type": "code",
        "colab": {}
      },
      "source": [
        "class PredictDataset2(Dataset):\n",
        "    \n",
        "    def __init__(self, symbol, x_frames):\n",
        "        \n",
        "        self.symbol = symbol\n",
        "        self.x_frames = x_frames\n",
        "        \n",
        "        self.start = datetime.datetime.now() - datetime.timedelta(days=(x_frames*2))\n",
        "        self.end = datetime.date.today()\n",
        "        self.data = fdr.DataReader(self.symbol, self.start, self.end)\n",
        "        self.data = self.data.tail(x_frames)\n",
        "        \n",
        "    def __len__(self):\n",
        "        return len(self.data) - (self.x_frames) + 1\n",
        "    \n",
        "    def __getitem__(self, idx):\n",
        "        idx += self.x_frames\n",
        "        data = self.data.iloc[idx-self.x_frames:idx]\n",
        "        data = data[['High', 'Low', 'Open', 'Close', 'Change', 'Volume']]\n",
        "        #data = data.apply(lambda x: (x+1) / (x[self.x_frames-1]+1))\n",
        "        data = data.values\n",
        "        X = data[:self.x_frames]\n",
        "        \n",
        "        return X"
      ],
      "execution_count": 0,
      "outputs": []
    },
    {
      "cell_type": "code",
      "metadata": {
        "id": "3_Bk-ZX4mcnL",
        "colab_type": "code",
        "colab": {}
      },
      "source": [
        "class LSTM(nn.Module):\n",
        "    \n",
        "    def __init__(self, input_dim, hidden_dim, output_dim, num_layers, batch_size, dropout, use_bn):\n",
        "        super(LSTM, self).__init__()\n",
        "        self.input_dim = input_dim \n",
        "        self.hidden_dim = hidden_dim\n",
        "        self.output_dim = output_dim\n",
        "        self.num_layers = num_layers\n",
        "\n",
        "        self.batch_size = batch_size\n",
        "        self.dropout = dropout\n",
        "        self.use_bn = use_bn \n",
        "        \n",
        "        self.lstm = nn.LSTM(self.input_dim, self.hidden_dim, self.num_layers)\n",
        "        self.hidden = self.init_hidden()\n",
        "        self.regressor = self.make_regressor()\n",
        "        \n",
        "    def init_hidden(self):\n",
        "        return (torch.zeros(self.num_layers, self.batch_size, self.hidden_dim),\n",
        "                torch.zeros(self.num_layers, self.batch_size, self.hidden_dim))\n",
        "    \n",
        "    def make_regressor(self):\n",
        "        layers = []\n",
        "        if self.use_bn:\n",
        "            layers.append(nn.BatchNorm1d(self.hidden_dim))\n",
        "        layers.append(nn.Dropout(self.dropout))\n",
        "        \n",
        "        layers.append(nn.Linear(self.hidden_dim, self.hidden_dim // 2))\n",
        "        layers.append(nn.ReLU())\n",
        "        layers.append(nn.Linear(self.hidden_dim // 2, self.output_dim))\n",
        "        regressor = nn.Sequential(*layers)\n",
        "        return regressor\n",
        "    \n",
        "    def forward(self, x):\n",
        "        lstm_out, self.hidden = self.lstm(x, self.hidden)\n",
        "        y_pred = self.regressor(lstm_out[-1].view(self.batch_size, -1))\n",
        "        return y_pred"
      ],
      "execution_count": 0,
      "outputs": []
    },
    {
      "cell_type": "code",
      "metadata": {
        "id": "jaYA8Fntf-_k",
        "colab_type": "code",
        "colab": {
          "base_uri": "https://localhost:8080/",
          "height": 35
        },
        "outputId": "fd9367b3-405d-4be8-ed2e-b088bb490d08"
      },
      "source": [
        "#주식정보들\n",
        "Symbols = []\n",
        "with open('/content/gdrive/My Drive/Symbols.txt', 'r') as f:\n",
        "    data = f.readline()\n",
        "    Symbols = data.split(',')\n",
        "print(len(Symbols))"
      ],
      "execution_count": 49,
      "outputs": [
        {
          "output_type": "stream",
          "text": [
            "800\n"
          ],
          "name": "stdout"
        }
      ]
    },
    {
      "cell_type": "code",
      "metadata": {
        "id": "T-w0sPLzMK3i",
        "colab_type": "code",
        "outputId": "8051961a-c0f1-49d0-a474-aa1fac44519b",
        "colab": {
          "base_uri": "https://localhost:8080/",
          "height": 197
        }
      },
      "source": [
        "batch_size = 1\n",
        "input_dim = 6\n",
        "hidden_dim = 50\n",
        "num_layers = 2\n",
        "input_frame = 5\n",
        "output_frame = input_frame\n",
        "dropout = 0.0\n",
        "use_bn = True\n",
        "\n",
        "model = LSTM(input_dim,hidden_dim,output_frame,num_layers,batch_size,dropout,use_bn)\n",
        "modelPath = '/content/gdrive/My Drive/LSTM_batch_100_model.pt'\n",
        "model.load_state_dict(torch.load(modelPath))\n",
        "device = 'cuda' if torch.cuda.is_available() else 'cpu'\n",
        "\n",
        "model.to(device)"
      ],
      "execution_count": 52,
      "outputs": [
        {
          "output_type": "execute_result",
          "data": {
            "text/plain": [
              "LSTM(\n",
              "  (lstm): LSTM(6, 50, num_layers=2)\n",
              "  (regressor): Sequential(\n",
              "    (0): BatchNorm1d(50, eps=1e-05, momentum=0.1, affine=True, track_running_stats=True)\n",
              "    (1): Dropout(p=0.0, inplace=False)\n",
              "    (2): Linear(in_features=50, out_features=25, bias=True)\n",
              "    (3): ReLU()\n",
              "    (4): Linear(in_features=25, out_features=5, bias=True)\n",
              "  )\n",
              ")"
            ]
          },
          "metadata": {
            "tags": []
          },
          "execution_count": 52
        }
      ]
    },
    {
      "cell_type": "code",
      "metadata": {
        "id": "tfTMmwCehpm7",
        "colab_type": "code",
        "colab": {
          "base_uri": "https://localhost:8080/",
          "height": 1000
        },
        "outputId": "96271ec9-7283-48c6-cd5e-edde549d6d4b"
      },
      "source": [
        "result = {}\n",
        "i = 0\n",
        "for sb in Symbols:\n",
        "    i += 1\n",
        "    if i > 100: break\n",
        "    testset = TestDataset(sb,input_frame,output_frame)\n",
        "    \n",
        "    model.eval()\n",
        "    plr = DataLoader(testset,batch_size,shuffle=False)\n",
        "    for (X,y) in plr:\n",
        "        X = X.transpose(0, 1).float().to(device)\n",
        "        y_true = y[:, :, 3].float().to(device)\n",
        "        model.hidden = [hidden.to(device) for hidden in model.init_hidden()]\n",
        "        y_pred = model(X)\n",
        "        y_pred = y_pred.view(-1)\n",
        "        y_pred = np.exp(y_pred.cpu().detach().numpy())\n",
        "        result[sb] = y_pred[-1]\n",
        "        print(y_pred[-1])\n"
      ],
      "execution_count": 60,
      "outputs": [
        {
          "output_type": "stream",
          "text": [
            "1.1624048\n",
            "0.892911\n",
            "0.81651634\n",
            "0.5037261\n",
            "0.41969517\n",
            "1.1607664\n",
            "0.9722226\n",
            "0.8204193\n",
            "0.37150714\n",
            "1.1462983\n",
            "0.041508835\n",
            "0.9658922\n",
            "1.1578593\n",
            "0.71600837\n",
            "1.1795064\n",
            "0.7789415\n",
            "0.78994364\n",
            "0.20542632\n",
            "1.1894764\n",
            "1.2694548\n",
            "1.1081208\n",
            "0.84241825\n",
            "0.9729305\n",
            "1.1520772\n",
            "0.113934666\n",
            "1.1414564\n",
            "0.77740806\n",
            "0.919745\n",
            "1.0964398\n",
            "1.0316937\n",
            "1.2139648\n",
            "0.8288592\n",
            "0.88117003\n",
            "1.2652642\n",
            "0.889349\n",
            "1.1256745\n",
            "1.1000355\n",
            "0.5907799\n",
            "0.3606572\n",
            "1.1843495\n",
            "0.11066745\n",
            "1.0544693\n",
            "0.11639861\n",
            "1.178683\n",
            "0.49146935\n",
            "0.6863771\n",
            "0.959058\n",
            "0.30906302\n",
            "0.95460343\n",
            "0.9084868\n",
            "0.5989956\n",
            "0.84007704\n",
            "1.0358602\n",
            "0.9180938\n",
            "0.99855554\n",
            "0.8890304\n",
            "1.0817721\n",
            "1.2645481\n",
            "0.9060575\n",
            "1.245017\n",
            "1.10869\n",
            "1.2710062\n",
            "1.1165116\n",
            "0.31271243\n",
            "0.016451754\n",
            "0.44872272\n",
            "1.1526471\n",
            "1.1092799\n",
            "1.1233481\n",
            "1.1325866\n",
            "0.6031808\n",
            "1.0865531\n",
            "0.40411857\n",
            "1.0573027\n",
            "1.0406241\n",
            "0.88397616\n",
            "1.2369828\n",
            "0.5432397\n",
            "0.2935981\n",
            "0.6804177\n",
            "1.153687\n",
            "1.0038285\n",
            "0.047020286\n",
            "1.275864\n",
            "1.1469003\n",
            "0.98240256\n",
            "0.5443993\n",
            "1.1154196\n",
            "0.9640554\n",
            "1.1869357\n",
            "0.060209204\n",
            "1.1844474\n",
            "0.4026731\n",
            "1.186107\n",
            "0.29674363\n",
            "0.73124385\n",
            "0.93041384\n",
            "1.1988969\n",
            "1.0538205\n",
            "0.3525373\n"
          ],
          "name": "stdout"
        }
      ]
    },
    {
      "cell_type": "code",
      "metadata": {
        "id": "RbgrhqBs8d7c",
        "colab_type": "code",
        "colab": {}
      },
      "source": [
        "result2 = {}\n",
        "i = 0\n",
        "for sb in Symbols:\n",
        "    i += 1\n",
        "    if i > 100: break\n",
        "    testset2 = TestDataset2(sb,input_frame,output_frame)\n",
        "    \n",
        "    plr = DataLoader(testset2,batch_size,shuffle=False)\n",
        "\n",
        "    for (X,y) in plr:\n",
        "        y_true = y[:, :, 3].float().to(device)\n",
        "        y_true = y_true.view(-1)\n",
        "        result2[sb] = y_true[-1]\n"
      ],
      "execution_count": 0,
      "outputs": []
    },
    {
      "cell_type": "code",
      "metadata": {
        "id": "gAFRSGeGWfM9",
        "colab_type": "code",
        "colab": {}
      },
      "source": [
        "pred = []\n",
        "real = []\n",
        "result3 = {}\n",
        "for i in result:\n",
        "    result3[i] = result[i] * result2[i]\n",
        "    pred.append(result3[i])\n",
        "    real.append(result2[i])"
      ],
      "execution_count": 0,
      "outputs": []
    },
    {
      "cell_type": "code",
      "metadata": {
        "id": "lPbv3sbrA-ZJ",
        "colab_type": "code",
        "outputId": "fb2cc44e-67ec-46d9-ee2b-ee4daa344158",
        "colab": {
          "base_uri": "https://localhost:8080/",
          "height": 639
        }
      },
      "source": [
        "%matplotlib inline\n",
        "#데이터 생성과 화면 표시를 위한 라이브러리 호출\n",
        "import matplotlib.pyplot as plt\n",
        "from mpl_toolkits import mplot3d\n",
        "\n",
        "fig = plt.figure(figsize=(20,10))\n",
        "xl = [n for n in range(1,len(pred)+1)]\n",
        "\n",
        "# ====== test plot ====== #\n",
        "ax = fig.add_subplot(1, 1, 1)\n",
        "ax.plot(xl, pred, label='pred')\n",
        "ax.plot(xl, real, label='real')\n",
        "ax.set_xlabel('len')\n",
        "ax.set_ylabel('value')\n",
        "ax.grid()\n",
        "ax.legend()\n",
        "ax.set_title('pred vs real')"
      ],
      "execution_count": 63,
      "outputs": [
        {
          "output_type": "execute_result",
          "data": {
            "text/plain": [
              "Text(0.5, 1.0, 'pred vs real')"
            ]
          },
          "metadata": {
            "tags": []
          },
          "execution_count": 63
        },
        {
          "output_type": "display_data",
          "data": {
            "image/png": "[encoded data removed]",
            "text/plain": [
              "<Figure size 1440x720 with 1 Axes>"
            ]
          },
          "metadata": {
            "tags": [],
            "needs_background": "light"
          }
        }
      ]
    },
    {
      "cell_type": "code",
      "metadata": {
        "id": "r4SQiwmV3C9s",
        "colab_type": "code",
        "outputId": "59e249c7-8905-4670-847a-9f25998ee766",
        "colab": {
          "base_uri": "https://localhost:8080/",
          "height": 390
        }
      },
      "source": [
        "ok = fdr.DataReader('001040')\n",
        "\n",
        "ok.tail(10)"
      ],
      "execution_count": 64,
      "outputs": [
        {
          "output_type": "execute_result",
          "data": {
            "text/html": [
              "<div>\n",
              "<style scoped>\n",
              "    .dataframe tbody tr th:only-of-type {\n",
              "        vertical-align: middle;\n",
              "    }\n",
              "\n",
              "    .dataframe tbody tr th {\n",
              "        vertical-align: top;\n",
              "    }\n",
              "\n",
              "    .dataframe thead th {\n",
              "        text-align: right;\n",
              "    }\n",
              "</style>\n",
              "<table border=\"1\" class=\"dataframe\">\n",
              "  <thead>\n",
              "    <tr style=\"text-align: right;\">\n",
              "      <th></th>\n",
              "      <th>Open</th>\n",
              "      <th>High</th>\n",
              "      <th>Low</th>\n",
              "      <th>Close</th>\n",
              "      <th>Volume</th>\n",
              "      <th>Change</th>\n",
              "    </tr>\n",
              "    <tr>\n",
              "      <th>Date</th>\n",
              "      <th></th>\n",
              "      <th></th>\n",
              "      <th></th>\n",
              "      <th></th>\n",
              "      <th></th>\n",
              "      <th></th>\n",
              "    </tr>\n",
              "  </thead>\n",
              "  <tbody>\n",
              "    <tr>\n",
              "      <th>2020-05-26</th>\n",
              "      <td>91800</td>\n",
              "      <td>92400</td>\n",
              "      <td>88600</td>\n",
              "      <td>88800</td>\n",
              "      <td>122131</td>\n",
              "      <td>-0.024176</td>\n",
              "    </tr>\n",
              "    <tr>\n",
              "      <th>2020-05-27</th>\n",
              "      <td>89000</td>\n",
              "      <td>91500</td>\n",
              "      <td>88800</td>\n",
              "      <td>89100</td>\n",
              "      <td>124717</td>\n",
              "      <td>0.003378</td>\n",
              "    </tr>\n",
              "    <tr>\n",
              "      <th>2020-05-28</th>\n",
              "      <td>88500</td>\n",
              "      <td>89300</td>\n",
              "      <td>84900</td>\n",
              "      <td>87100</td>\n",
              "      <td>130808</td>\n",
              "      <td>-0.022447</td>\n",
              "    </tr>\n",
              "    <tr>\n",
              "      <th>2020-05-29</th>\n",
              "      <td>87000</td>\n",
              "      <td>91900</td>\n",
              "      <td>86100</td>\n",
              "      <td>91900</td>\n",
              "      <td>142308</td>\n",
              "      <td>0.055109</td>\n",
              "    </tr>\n",
              "    <tr>\n",
              "      <th>2020-06-01</th>\n",
              "      <td>90300</td>\n",
              "      <td>92000</td>\n",
              "      <td>89600</td>\n",
              "      <td>92000</td>\n",
              "      <td>71829</td>\n",
              "      <td>0.001088</td>\n",
              "    </tr>\n",
              "    <tr>\n",
              "      <th>2020-06-02</th>\n",
              "      <td>90400</td>\n",
              "      <td>92300</td>\n",
              "      <td>90300</td>\n",
              "      <td>91700</td>\n",
              "      <td>63436</td>\n",
              "      <td>-0.003261</td>\n",
              "    </tr>\n",
              "    <tr>\n",
              "      <th>2020-06-03</th>\n",
              "      <td>92400</td>\n",
              "      <td>93400</td>\n",
              "      <td>90500</td>\n",
              "      <td>91700</td>\n",
              "      <td>138883</td>\n",
              "      <td>0.000000</td>\n",
              "    </tr>\n",
              "    <tr>\n",
              "      <th>2020-06-04</th>\n",
              "      <td>91900</td>\n",
              "      <td>93300</td>\n",
              "      <td>90000</td>\n",
              "      <td>92000</td>\n",
              "      <td>92613</td>\n",
              "      <td>0.003272</td>\n",
              "    </tr>\n",
              "    <tr>\n",
              "      <th>2020-06-05</th>\n",
              "      <td>91400</td>\n",
              "      <td>91800</td>\n",
              "      <td>89800</td>\n",
              "      <td>91600</td>\n",
              "      <td>81650</td>\n",
              "      <td>-0.004348</td>\n",
              "    </tr>\n",
              "    <tr>\n",
              "      <th>2020-06-08</th>\n",
              "      <td>92300</td>\n",
              "      <td>92800</td>\n",
              "      <td>90300</td>\n",
              "      <td>91100</td>\n",
              "      <td>96566</td>\n",
              "      <td>-0.005459</td>\n",
              "    </tr>\n",
              "  </tbody>\n",
              "</table>\n",
              "</div>"
            ],
            "text/plain": [
              "             Open   High    Low  Close  Volume    Change\n",
              "Date                                                    \n",
              "2020-05-26  91800  92400  88600  88800  122131 -0.024176\n",
              "2020-05-27  89000  91500  88800  89100  124717  0.003378\n",
              "2020-05-28  88500  89300  84900  87100  130808 -0.022447\n",
              "2020-05-29  87000  91900  86100  91900  142308  0.055109\n",
              "2020-06-01  90300  92000  89600  92000   71829  0.001088\n",
              "2020-06-02  90400  92300  90300  91700   63436 -0.003261\n",
              "2020-06-03  92400  93400  90500  91700  138883  0.000000\n",
              "2020-06-04  91900  93300  90000  92000   92613  0.003272\n",
              "2020-06-05  91400  91800  89800  91600   81650 -0.004348\n",
              "2020-06-08  92300  92800  90300  91100   96566 -0.005459"
            ]
          },
          "metadata": {
            "tags": []
          },
          "execution_count": 64
        }
      ]
    },
    {
      "cell_type": "code",
      "metadata": {
        "id": "K6BrN8fh4fHi",
        "colab_type": "code",
        "outputId": "3e06bb01-fdd4-4b04-812f-06f9b556c6da",
        "colab": {
          "base_uri": "https://localhost:8080/",
          "height": 107
        }
      },
      "source": [
        "pr = PredictDataset('001040',input_frame)\n",
        "pr2 = PredictDataset2('001040',input_frame)\n",
        "\n",
        "xx = DataLoader(pr,1,False)\n",
        "xx2 = DataLoader(pr2,1,False)\n",
        "\n",
        "predict = 0\n",
        "\n",
        "for X in xx:\n",
        "    X = X.transpose(0, 1).float().to(device)\n",
        "    model.hidden = [hidden.to(device) for hidden in model.init_hidden()]\n",
        "    y_pred = model(X)\n",
        "    predict = y_pred\n",
        "    print(y_pred)\n",
        "\n",
        "for X in xx2:\n",
        "    X = X.transpose(0, 1).float().to(device)\n",
        "    Xtos = X[:,:,3].view(-1)\n",
        "    predict *= Xtos\n",
        "    print(Xtos)\n",
        "\n",
        "print(predict)"
      ],
      "execution_count": 65,
      "outputs": [
        {
          "output_type": "stream",
          "text": [
            "tensor([[-0.4893, -0.6488,  0.0621, -0.4486,  0.1537]], device='cuda:0',\n",
            "       grad_fn=<AddmmBackward>)\n",
            "tensor([91700., 91700., 92000., 91600., 91100.], device='cuda:0')\n",
            "tensor([[-44870.5508, -59495.8594,   5715.9097, -41094.4570,  14006.3154]],\n",
            "       device='cuda:0', grad_fn=<MulBackward0>)\n"
          ],
          "name": "stdout"
        }
      ]
    }
  ]
}