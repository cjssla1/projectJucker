{
  "nbformat": 4,
  "nbformat_minor": 0,
  "metadata": {
    "colab": {
      "name": "lstm_Train.ipynb",
      "provenance": [],
      "collapsed_sections": [],
      "authorship_tag": "ABX9TyNFbxgKbSb5nrisSbKkxHMk"
    },
    "kernelspec": {
      "name": "python3",
      "display_name": "Python 3"
    },
    "accelerator": "GPU"
  },
  "cells": [
    {
      "cell_type": "code",
      "metadata": {
        "id": "7Lj99UuTmJP1",
        "colab_type": "code",
        "outputId": "afc57931-8fbf-48a9-9196-2901c061334e",
        "colab": {
          "base_uri": "https://localhost:8080/",
          "height": 341
        }
      },
      "source": [
        "!pip install torch torchvision\n",
        "!pip install -U finance-datareader\n"
      ],
      "execution_count": 48,
      "outputs": [
        {
          "output_type": "stream",
          "text": [
            "Requirement already satisfied: torch in /usr/local/lib/python3.6/dist-packages (1.5.0+cu101)\n",
            "Requirement already satisfied: torchvision in /usr/local/lib/python3.6/dist-packages (0.6.0+cu101)\n",
            "Requirement already satisfied: future in /usr/local/lib/python3.6/dist-packages (from torch) (0.16.0)\n",
            "Requirement already satisfied: numpy in /usr/local/lib/python3.6/dist-packages (from torch) (1.18.4)\n",
            "Requirement already satisfied: pillow>=4.1.1 in /usr/local/lib/python3.6/dist-packages (from torchvision) (7.0.0)\n",
            "Requirement already up-to-date: finance-datareader in /usr/local/lib/python3.6/dist-packages (0.9.6)\n",
            "Requirement already satisfied, skipping upgrade: requests>=2.3.0 in /usr/local/lib/python3.6/dist-packages (from finance-datareader) (2.23.0)\n",
            "Requirement already satisfied, skipping upgrade: requests-file in /usr/local/lib/python3.6/dist-packages (from finance-datareader) (1.5.1)\n",
            "Requirement already satisfied, skipping upgrade: lxml in /usr/local/lib/python3.6/dist-packages (from finance-datareader) (4.2.6)\n",
            "Requirement already satisfied, skipping upgrade: pandas>=0.19.2 in /usr/local/lib/python3.6/dist-packages (from finance-datareader) (1.0.4)\n",
            "Requirement already satisfied, skipping upgrade: chardet<4,>=3.0.2 in /usr/local/lib/python3.6/dist-packages (from requests>=2.3.0->finance-datareader) (3.0.4)\n",
            "Requirement already satisfied, skipping upgrade: idna<3,>=2.5 in /usr/local/lib/python3.6/dist-packages (from requests>=2.3.0->finance-datareader) (2.9)\n",
            "Requirement already satisfied, skipping upgrade: urllib3!=1.25.0,!=1.25.1,<1.26,>=1.21.1 in /usr/local/lib/python3.6/dist-packages (from requests>=2.3.0->finance-datareader) (1.24.3)\n",
            "Requirement already satisfied, skipping upgrade: certifi>=2017.4.17 in /usr/local/lib/python3.6/dist-packages (from requests>=2.3.0->finance-datareader) (2020.4.5.1)\n",
            "Requirement already satisfied, skipping upgrade: six in /usr/local/lib/python3.6/dist-packages (from requests-file->finance-datareader) (1.12.0)\n",
            "Requirement already satisfied, skipping upgrade: python-dateutil>=2.6.1 in /usr/local/lib/python3.6/dist-packages (from pandas>=0.19.2->finance-datareader) (2.8.1)\n",
            "Requirement already satisfied, skipping upgrade: pytz>=2017.2 in /usr/local/lib/python3.6/dist-packages (from pandas>=0.19.2->finance-datareader) (2018.9)\n",
            "Requirement already satisfied, skipping upgrade: numpy>=1.13.3 in /usr/local/lib/python3.6/dist-packages (from pandas>=0.19.2->finance-datareader) (1.18.4)\n"
          ],
          "name": "stdout"
        }
      ]
    },
    {
      "cell_type": "code",
      "metadata": {
        "id": "cewIb01TmOBe",
        "colab_type": "code",
        "colab": {}
      },
      "source": [
        "import FinanceDataReader as fdr\n",
        "import datetime\n",
        "import torch\n",
        "import torch.nn as nn\n",
        "from torch.utils.data import Dataset, DataLoader\n",
        "import torch.optim as optim\n",
        "import numpy as np\n",
        "import argparse\n",
        "import time\n",
        "from copy import deepcopy # Add Deepcopy for args\n",
        "from sklearn.metrics import mean_absolute_error"
      ],
      "execution_count": 0,
      "outputs": []
    },
    {
      "cell_type": "code",
      "metadata": {
        "id": "IiI1OoV5v1dQ",
        "colab_type": "code",
        "colab": {}
      },
      "source": [
        "%matplotlib inline\n",
        "#데이터 생성과 화면 표시를 위한 라이브러리 호출\n",
        "import matplotlib.pyplot as plt\n",
        "from mpl_toolkits import mplot3d\n"
      ],
      "execution_count": 0,
      "outputs": []
    },
    {
      "cell_type": "code",
      "metadata": {
        "id": "bBSXsheb8LYX",
        "colab_type": "code",
        "colab": {}
      },
      "source": [
        "class StockDataset(Dataset):\n",
        "    \n",
        "    def __init__(self, symbol, x_frames, y_frames, start, end):\n",
        "        \n",
        "        self.symbol = symbol\n",
        "        self.x_frames = x_frames\n",
        "        self.y_frames = y_frames\n",
        "        \n",
        "        self.start = datetime.datetime(*start)\n",
        "        self.end = datetime.datetime(*end)\n",
        "\n",
        "        self.data = fdr.DataReader(self.symbol, self.start, self.end)\n",
        "        print(self.data.isna().sum())\n",
        "        \n",
        "    def __len__(self):\n",
        "        return len(self.data) - (self.x_frames + self.y_frames) + 1\n",
        "    \n",
        "    def __getitem__(self, idx):\n",
        "        idx += self.x_frames\n",
        "        data = self.data.iloc[idx-self.x_frames:idx+self.y_frames]\n",
        "        data = data[['High', 'Low', 'Open', 'Close', 'Change', 'Volume']]\n",
        "        data = data.apply(lambda x: (x+1) / (x[self.x_frames-1]+1))\n",
        "        data = data.values\n",
        "        X = data[:self.x_frames]\n",
        "        y = data[self.x_frames:]\n",
        "        \n",
        "        return X, y"
      ],
      "execution_count": 0,
      "outputs": []
    },
    {
      "cell_type": "code",
      "metadata": {
        "id": "yUS97FmKWKyd",
        "colab_type": "code",
        "colab": {}
      },
      "source": [
        "class TestDataset(Dataset):\n",
        "    \n",
        "    def __init__(self, symbol, x_frames, y_frames):\n",
        "        \n",
        "        self.symbol = symbol\n",
        "        self.x_frames = x_frames\n",
        "        self.y_frames = y_frames\n",
        "        \n",
        "        self.start = datetime.datetime.now() - datetime.timedelta(days=10)\n",
        "        self.end = datetime.date.today()\n",
        "        print(self.start)\n",
        "        print(self.end)\n",
        "        self.data = fdr.DataReader(self.symbol, self.start, self.end)\n",
        "        self.data = self.data.tail(6)\n",
        "        print(self.data)\n",
        "        print(self.data.isna().sum())\n",
        "        \n",
        "    def __len__(self):\n",
        "        return len(self.data) - (self.x_frames + self.y_frames) + 1\n",
        "    \n",
        "    def __getitem__(self, idx):\n",
        "        idx += self.x_frames\n",
        "        data = self.data.iloc[idx-self.x_frames:idx+self.y_frames]\n",
        "        data = data[['High', 'Low', 'Open', 'Close', 'Change', 'Volume']]\n",
        "        #data = data.apply(lambda x: (x+1) / (x[self.x_frames-1]+1))\n",
        "        data = data.values\n",
        "        X = data[:self.x_frames]\n",
        "        y = data[self.x_frames:]\n",
        "        \n",
        "        return X, y"
      ],
      "execution_count": 0,
      "outputs": []
    },
    {
      "cell_type": "code",
      "metadata": {
        "id": "3_Bk-ZX4mcnL",
        "colab_type": "code",
        "colab": {}
      },
      "source": [
        "class LSTM(nn.Module):\n",
        "    \n",
        "    def __init__(self, input_dim, hidden_dim, output_dim, num_layers, batch_size):\n",
        "        super(LSTM, self).__init__()\n",
        "        self.input_dim = input_dim \n",
        "        self.hidden_dim = hidden_dim\n",
        "        self.output_dim = output_dim\n",
        "        self.num_layers = num_layers\n",
        "\n",
        "        self.batch_size = batch_size\n",
        "        \n",
        "        self.lstm = nn.LSTM(self.input_dim, self.hidden_dim, self.num_layers)\n",
        "        self.hidden = self.init_hidden()\n",
        "        self.regressor = self.make_regressor()\n",
        "        \n",
        "    def init_hidden(self):\n",
        "        return (torch.zeros(self.num_layers, self.batch_size, self.hidden_dim),\n",
        "                torch.zeros(self.num_layers, self.batch_size, self.hidden_dim))\n",
        "    \n",
        "    def make_regressor(self):\n",
        "        layers = []\n",
        "        \n",
        "        layers.append(nn.Linear(self.hidden_dim, self.hidden_dim // 2))\n",
        "        layers.append(nn.ReLU())\n",
        "        layers.append(nn.Linear(self.hidden_dim // 2, self.output_dim))\n",
        "        regressor = nn.Sequential(*layers)\n",
        "        return regressor\n",
        "    \n",
        "    def forward(self, x):\n",
        "        lstm_out, self.hidden = self.lstm(x, self.hidden)\n",
        "        y_pred = self.regressor(lstm_out[-1].view(self.batch_size, -1))\n",
        "        return y_pred"
      ],
      "execution_count": 0,
      "outputs": []
    },
    {
      "cell_type": "code",
      "metadata": {
        "id": "MnnZ513P7j27",
        "colab_type": "code",
        "colab": {}
      },
      "source": [
        "def metric(y_pred, y_true):\n",
        "    perc_y_pred = np.exp(y_pred.cpu().detach().numpy())\n",
        "    perc_y_true = np.exp(y_true.cpu().detach().numpy())\n",
        "    mae = mean_absolute_error(perc_y_true, perc_y_pred, multioutput='raw_values')\n",
        "    return mae*100"
      ],
      "execution_count": 0,
      "outputs": []
    },
    {
      "cell_type": "code",
      "metadata": {
        "id": "9is74QBV5Fv4",
        "colab_type": "code",
        "colab": {}
      },
      "source": [
        "\n",
        "#trainloader = torch.cat(trainloader).view(len(trainloader), batch_size, -1)\n",
        "def train(model, trainStock, optimizer, loss_fn,batch_size,device):\n",
        "    trainloader = DataLoader(trainStock, batch_size, shuffle=True, drop_last=True)\n",
        "\n",
        "    model.train()\n",
        "    model.zero_grad()\n",
        "    optimizer.zero_grad()\n",
        "\n",
        "    train_acc = 0.0\n",
        "    train_loss = 0.0\n",
        "    for i, (X, y) in enumerate(trainloader):\n",
        "\n",
        "        X = X.transpose(0, 1).float().to(device)\n",
        "        y_true = y[:, :, 3].float().to(device)\n",
        "\n",
        "        model.zero_grad()\n",
        "        optimizer.zero_grad()\n",
        "        model.hidden = [hidden.to(device) for hidden in model.init_hidden()]\n",
        "\n",
        "        y_pred = model(X)\n",
        "        loss = loss_fn(y_pred.view(-1), y_true.view(-1))\n",
        "        loss.backward()\n",
        "        optimizer.step()\n",
        "\n",
        "        train_loss += loss.item()\n",
        "        train_acc += metric(y_pred, y_true)[0]\n",
        "\n",
        "    train_loss = train_loss / len(trainloader)\n",
        "    train_acc = train_acc / len(trainloader)\n",
        "    return model, train_loss, train_acc"
      ],
      "execution_count": 0,
      "outputs": []
    },
    {
      "cell_type": "code",
      "metadata": {
        "id": "t0pE06Orf6vu",
        "colab_type": "code",
        "colab": {}
      },
      "source": [
        "def validate(model, valStock, loss_fn,batch_size,device):\n",
        "    valloader = DataLoader(valStock, batch_size, shuffle=False, drop_last=True)\n",
        "    model.eval()\n",
        "\n",
        "    val_acc = 0.0\n",
        "    val_loss = 0.0\n",
        "    with torch.no_grad():\n",
        "        for i, (X, y) in enumerate(valloader):\n",
        "\n",
        "            X = X.transpose(0, 1).float().to(device)\n",
        "            y_true = y[:, :, 3].float().to(device)\n",
        "            model.hidden = [hidden.to(device) for hidden in model.init_hidden()]\n",
        "\n",
        "            y_pred = model(X)\n",
        "            loss = loss_fn(y_pred.view(-1), y_true.view(-1))\n",
        "\n",
        "            val_loss += loss.item()\n",
        "            val_acc += metric(y_pred, y_true)[0]\n",
        "\n",
        "    val_loss = val_loss / len(valloader)\n",
        "    val_acc = val_acc / len(valloader)\n",
        "    return val_loss, val_acc\n"
      ],
      "execution_count": 0,
      "outputs": []
    },
    {
      "cell_type": "code",
      "metadata": {
        "id": "Qzb5Nd-duGnT",
        "colab_type": "code",
        "colab": {}
      },
      "source": [
        "def test(model, testStock, loss_fn,batch_size,device):\n",
        "    testloader = DataLoader(testStock, batch_size, shuffle=False, drop_last=True)\n",
        "    model.eval()\n",
        "\n",
        "    test_acc = 0.0\n",
        "    test_result = []\n",
        "    with torch.no_grad():\n",
        "        for i, (X, y) in enumerate(testloader):\n",
        "\n",
        "            X = X.transpose(0, 1).float().to(device)\n",
        "            y_true = y[:, :, 3].float().to(device)\n",
        "            model.hidden = [hidden.to(device) for hidden in model.init_hidden()]\n",
        "\n",
        "            y_pred = model(X)\n",
        "            test_result.append([y_pred,y_true])\n",
        "            test_acc += metric(y_pred, y_true)[0]\n",
        "\n",
        "    test_acc = test_acc / len(testloader)\n",
        "    return test_acc, test_result"
      ],
      "execution_count": 0,
      "outputs": []
    },
    {
      "cell_type": "code",
      "metadata": {
        "id": "XAa8Et5sVEy0",
        "colab_type": "code",
        "outputId": "ef4069c2-61d0-4053-d616-179073480360",
        "colab": {
          "base_uri": "https://localhost:8080/",
          "height": 395
        }
      },
      "source": [
        "stock = StockDataset('001040',3,3,(2010,5,1),(2016,5,20))\n",
        "valstock = StockDataset('001040',3,3,(2017,5,1),(2018,5,20))\n",
        "teststock = StockDataset('001040',3,3,(2019,5,1),(2020,5,20))"
      ],
      "execution_count": 58,
      "outputs": [
        {
          "output_type": "stream",
          "text": [
            "Open      0\n",
            "High      0\n",
            "Low       0\n",
            "Close     0\n",
            "Volume    0\n",
            "Change    0\n",
            "dtype: int64\n",
            "Open      0\n",
            "High      0\n",
            "Low       0\n",
            "Close     0\n",
            "Volume    0\n",
            "Change    0\n",
            "dtype: int64\n",
            "Open      0\n",
            "High      0\n",
            "Low       0\n",
            "Close     0\n",
            "Volume    0\n",
            "Change    0\n",
            "dtype: int64\n"
          ],
          "name": "stdout"
        }
      ]
    },
    {
      "cell_type": "code",
      "metadata": {
        "id": "T-w0sPLzMK3i",
        "colab_type": "code",
        "outputId": "29444bca-2192-4e7b-93dc-0854c5d7a746",
        "colab": {
          "base_uri": "https://localhost:8080/",
          "height": 35
        }
      },
      "source": [
        "batch_size = 1\n",
        "input_dim = 6\n",
        "hidden_dim = 50\n",
        "output_dim = 3\n",
        "num_layers = 1\n",
        "epoch = 5\n",
        "\n",
        "model = LSTM(input_dim,hidden_dim,output_dim,num_layers,batch_size)\n",
        "loss_fn = torch.nn.MSELoss()\n",
        "optimizer = optim.Adam(model.parameters(), lr=0.01)\n",
        "device = 'cuda' if torch.cuda.is_available() else 'cpu'\n",
        "model.to(device)\n",
        "\n",
        "'''\n",
        "for i in range(5):\n",
        "    model, tl = train(model,stock,optimizer,loss_fn,batch_size,device)\n",
        "    vl = validate(model,valstock,loss_fn,batch_size,device)\n",
        "    print(tl,vl)\n",
        "ta = test(model,teststock,loss_fn,batch_size,device)\n",
        "print(tl,vl,ta)\n",
        "'''"
      ],
      "execution_count": 59,
      "outputs": [
        {
          "output_type": "execute_result",
          "data": {
            "text/plain": [
              "'\\nfor i in range(5):\\n    model, tl = train(model,stock,optimizer,loss_fn,batch_size,device)\\n    vl = validate(model,valstock,loss_fn,batch_size,device)\\n    print(tl,vl)\\nta = test(model,teststock,loss_fn,batch_size,device)\\nprint(tl,vl,ta)\\n'"
            ]
          },
          "metadata": {
            "tags": []
          },
          "execution_count": 59
        }
      ]
    },
    {
      "cell_type": "code",
      "metadata": {
        "id": "bUIO7FGF8Pyb",
        "colab_type": "code",
        "outputId": "6ead62f4-187c-4ad9-de6b-9751c7027626",
        "colab": {
          "base_uri": "https://localhost:8080/",
          "height": 107
        }
      },
      "source": [
        "#학습\n",
        "for e in range(epoch):  # loop over the dataset multiple times\n",
        "        ts = time.time()\n",
        "        model, train_loss, train_acc = train(model, stock ,optimizer, loss_fn, batch_size,device)\n",
        "        val_loss, val_acc = validate(model, valstock, loss_fn, batch_size,device)\n",
        "        te = time.time()\n",
        "        \n",
        "        print('Epoch {}, Acc(train/val): {:2.2f}/{:2.2f}, Loss(train/val) {:2.5f}/{:2.5f}. Took {:2.2f} sec'.format(e, train_acc, val_acc, train_loss, val_loss, te-ts))\n",
        "        \n",
        "test_acc,test_result = test(model, teststock, loss_fn, batch_size, device ) "
      ],
      "execution_count": 60,
      "outputs": [
        {
          "output_type": "stream",
          "text": [
            "Epoch 0, Acc(train/val): 9.91/5.54, Loss(train/val) 0.00499/0.00173. Took 19.69 sec\n",
            "Epoch 1, Acc(train/val): 8.51/15.20, Loss(train/val) 0.00202/0.00241. Took 19.64 sec\n",
            "Epoch 2, Acc(train/val): 7.08/5.24, Loss(train/val) 0.00162/0.00066. Took 19.73 sec\n",
            "Epoch 3, Acc(train/val): 6.55/4.55, Loss(train/val) 0.00145/0.00066. Took 19.47 sec\n",
            "Epoch 4, Acc(train/val): 5.74/3.53, Loss(train/val) 0.00132/0.00093. Took 19.80 sec\n"
          ],
          "name": "stdout"
        }
      ]
    },
    {
      "cell_type": "code",
      "metadata": {
        "id": "uJYY0v_w_HbD",
        "colab_type": "code",
        "outputId": "54e4ef49-8ff9-4c21-9979-0c541f1a32bc",
        "colab": {
          "base_uri": "https://localhost:8080/",
          "height": 35
        }
      },
      "source": [
        "print(test_acc)"
      ],
      "execution_count": 61,
      "outputs": [
        {
          "output_type": "stream",
          "text": [
            "4.5353594802496\n"
          ],
          "name": "stdout"
        }
      ]
    },
    {
      "cell_type": "code",
      "metadata": {
        "id": "gAFRSGeGWfM9",
        "colab_type": "code",
        "outputId": "5dc7f193-0cc7-4d76-e45b-f08ac1ed0d5b",
        "colab": {
          "base_uri": "https://localhost:8080/",
          "height": 323
        }
      },
      "source": [
        "testset = TestDataset('005930',3,3)"
      ],
      "execution_count": 78,
      "outputs": [
        {
          "output_type": "stream",
          "text": [
            "2020-05-26 14:15:43.556553\n",
            "2020-06-05\n",
            "             Open   High    Low  Close    Volume    Change\n",
            "Date                                                      \n",
            "2020-05-29  50000  50700  49700  50700  27596961  0.005952\n",
            "2020-06-01  50800  51200  50600  51200  16949183  0.009862\n",
            "2020-06-02  51000  51500  50800  51400  14247933  0.003906\n",
            "2020-06-03  51800  55000  51700  54500  49257814  0.060311\n",
            "2020-06-04  55800  57000  54600  54600  40220334  0.001835\n",
            "2020-06-05  54400  55900  54000  55500  22399065  0.016484\n",
            "Open      0\n",
            "High      0\n",
            "Low       0\n",
            "Close     0\n",
            "Volume    0\n",
            "Change    0\n",
            "dtype: int64\n"
          ],
          "name": "stdout"
        }
      ]
    },
    {
      "cell_type": "code",
      "metadata": {
        "id": "9AbU8cxU5TKZ",
        "colab_type": "code",
        "colab": {}
      },
      "source": [
        "model.eval()\n",
        "plr = DataLoader(testset,batch_size,shuffle=True)\n"
      ],
      "execution_count": 0,
      "outputs": []
    },
    {
      "cell_type": "code",
      "metadata": {
        "id": "rDAZhBad5ZXn",
        "colab_type": "code",
        "outputId": "b98528a5-dff2-46c1-e138-c9d9b264a8fc",
        "colab": {
          "base_uri": "https://localhost:8080/",
          "height": 53
        }
      },
      "source": [
        "\n",
        "for (X,y) in plr:\n",
        "    X = X.transpose(0, 1).float().to(device)\n",
        "    y_true = y[:, :, 3].float().to(device)\n",
        "    model.hidden = [hidden.to(device) for hidden in model.init_hidden()]\n",
        "    y_pred = model(X)\n",
        "    \n",
        "    print(y_pred,y_true)\n",
        "    \n",
        "print(y_pred[0][2]*y_true[0][2])"
      ],
      "execution_count": 80,
      "outputs": [
        {
          "output_type": "stream",
          "text": [
            "tensor([[0.9758, 1.0270, 0.9759]], device='cuda:0', grad_fn=<AddmmBackward>) tensor([[54500., 54600., 55500.]], device='cuda:0')\n",
            "tensor(54162.2812, device='cuda:0', grad_fn=<MulBackward0>)\n"
          ],
          "name": "stdout"
        }
      ]
    },
    {
      "cell_type": "code",
      "metadata": {
        "id": "XYycWPT87WR0",
        "colab_type": "code",
        "colab": {
          "base_uri": "https://localhost:8080/",
          "height": 35
        },
        "outputId": "e3e4d027-1fa1-4bd9-d902-539ed564cd03"
      },
      "source": [
        "'''from google.colab import drive\n",
        "drive.mount('/content/gdrive')\n",
        "modelPath = '/content/gdrive/My Drive/LSTM_batch_1_model.pt'\n",
        "torch.save(model.state_dict(), modelPath)'''"
      ],
      "execution_count": 65,
      "outputs": [
        {
          "output_type": "execute_result",
          "data": {
            "text/plain": [
              "\"from google.colab import drive\\ndrive.mount('/content/gdrive')\\nmodelPath = '/content/gdrive/My Drive/LSTM_batch_1_model.pt'\\ntorch.save(model.state_dict(), modelPath)\""
            ]
          },
          "metadata": {
            "tags": []
          },
          "execution_count": 65
        }
      ]
    },
    {
      "cell_type": "code",
      "metadata": {
        "id": "F_CnkIPG7bax",
        "colab_type": "code",
        "colab": {
          "base_uri": "https://localhost:8080/",
          "height": 713
        },
        "outputId": "ba98c7ac-ba43-4f89-e179-3cfbf8eac3f6"
      },
      "source": [
        "fig = plt.figure(figsize=(20,10))\n",
        "xl = [n for n in range(1,len(test_result)+1)]\n",
        "\n",
        "print(test_result)\n",
        "pred = []\n",
        "real = []\n",
        "for i in test_result:\n",
        "    pred.append(i[0][0][0])\n",
        "    real.append(i[1][0][2])\n",
        "\n",
        "print(pred)\n",
        "print(real)\n",
        "\n",
        "# ====== test plot ====== #\n",
        "ax = fig.add_subplot(1, 1, 1)\n",
        "ax.plot(xl, pred, 'o', label='pred')\n",
        "ax.plot(xl, real, 'x', label='real')\n",
        "ax.set_xlabel('len')\n",
        "ax.set_ylabel('value')\n",
        "ax.grid()\n",
        "ax.legend()\n",
        "ax.set_title('pred vs real')"
      ],
      "execution_count": 70,
      "outputs": [
        {
          "output_type": "stream",
          "text": [
            "[[tensor([[1.0016, 1.0206, 1.0250]], device='cuda:0'), tensor([[0.9915, 0.9617, 0.9489]], device='cuda:0')], [tensor([[1.0016, 1.0206, 1.0250]], device='cuda:0'), tensor([[0.9700, 0.9571, 0.9313]], device='cuda:0')], [tensor([[1.0017, 1.0207, 1.0250]], device='cuda:0'), tensor([[0.9867, 0.9602, 0.9425]], device='cuda:0')], [tensor([[1.0017, 1.0207, 1.0250]], device='cuda:0'), tensor([[0.9731, 0.9552, 0.9596]], device='cuda:0')], [tensor([[1.0016, 1.0206, 1.0250]], device='cuda:0'), tensor([[0.9816, 0.9862, 0.9677]], device='cuda:0')], [tensor([[1.0016, 1.0207, 1.0250]], device='cuda:0'), tensor([[1.0047, 0.9859, 0.9718]], device='cuda:0')], [tensor([[1.0016, 1.0206, 1.0250]], device='cuda:0'), tensor([[0.9813, 0.9673, 0.9673]], device='cuda:0')], [tensor([[1.0016, 1.0206, 1.0250]], device='cuda:0'), tensor([[0.9857, 0.9857, 0.9905]], device='cuda:0')], [tensor([[1.0016, 1.0206, 1.0250]], device='cuda:0'), tensor([[1.0000, 1.0048, 0.9758]], device='cuda:0')], [tensor([[1.0016, 1.0206, 1.0250]], device='cuda:0'), tensor([[1.0048, 0.9758, 0.9662]], device='cuda:0')], [tensor([[1.0016, 1.0206, 1.0250]], device='cuda:0'), tensor([[0.9712, 0.9615, 0.9663]], device='cuda:0')], [tensor([[1.0017, 1.0207, 1.0250]], device='cuda:0'), tensor([[0.9901, 0.9950, 0.9950]], device='cuda:0')], [tensor([[1.0017, 1.0207, 1.0250]], device='cuda:0'), tensor([[1.0050, 1.0050, 1.0100]], device='cuda:0')], [tensor([[1.0016, 1.0206, 1.0250]], device='cuda:0'), tensor([[1.0000, 1.0050, 1.0000]], device='cuda:0')], [tensor([[1.0016, 1.0206, 1.0250]], device='cuda:0'), tensor([[1.0050, 1.0000, 1.0000]], device='cuda:0')], [tensor([[1.0016, 1.0206, 1.0250]], device='cuda:0'), tensor([[0.9950, 0.9950, 1.0050]], device='cuda:0')], [tensor([[1.0016, 1.0206, 1.0250]], device='cuda:0'), tensor([[1.0000, 1.0100, 1.0100]], device='cuda:0')], [tensor([[1.0016, 1.0206, 1.0250]], device='cuda:0'), tensor([[1.0100, 1.0100, 0.9950]], device='cuda:0')], [tensor([[1.0016, 1.0206, 1.0250]], device='cuda:0'), tensor([[1.0000, 0.9852, 1.0000]], device='cuda:0')], [tensor([[1.0016, 1.0206, 1.0250]], device='cuda:0'), tensor([[0.9852, 1.0000, 0.9951]], device='cuda:0')], [tensor([[1.0016, 1.0206, 1.0250]], device='cuda:0'), tensor([[1.0150, 1.0100, 1.0250]], device='cuda:0')], [tensor([[1.0016, 1.0206, 1.0250]], device='cuda:0'), tensor([[0.9951, 1.0099, 1.0197]], device='cuda:0')], [tensor([[1.0016, 1.0206, 1.0250]], device='cuda:0'), tensor([[1.0149, 1.0248, 1.0248]], device='cuda:0')], [tensor([[1.0016, 1.0206, 1.0250]], device='cuda:0'), tensor([[1.0098, 1.0098, 1.0000]], device='cuda:0')], [tensor([[1.0016, 1.0206, 1.0250]], device='cuda:0'), tensor([[1.0000, 0.9903, 0.9903]], device='cuda:0')], [tensor([[1.0016, 1.0206, 1.0250]], device='cuda:0'), tensor([[0.9903, 0.9903, 0.9952]], device='cuda:0')], [tensor([[1.0016, 1.0206, 1.0250]], device='cuda:0'), tensor([[1.0000, 1.0049, 1.0000]], device='cuda:0')], [tensor([[1.0016, 1.0206, 1.0250]], device='cuda:0'), tensor([[1.0049, 1.0000, 1.0098]], device='cuda:0')], [tensor([[1.0015, 1.0206, 1.0249]], device='cuda:0'), tensor([[0.9951, 1.0049, 1.0049]], device='cuda:0')], [tensor([[1.0016, 1.0206, 1.0250]], device='cuda:0'), tensor([[1.0098, 1.0098, 1.0049]], device='cuda:0')], [tensor([[1.0016, 1.0206, 1.0250]], device='cuda:0'), tensor([[1.0000, 0.9952, 0.9903]], device='cuda:0')], [tensor([[1.0016, 1.0206, 1.0250]], device='cuda:0'), tensor([[0.9952, 0.9903, 0.9952]], device='cuda:0')], [tensor([[1.0016, 1.0206, 1.0250]], device='cuda:0'), tensor([[0.9951, 1.0000, 0.9903]], device='cuda:0')], [tensor([[1.0016, 1.0206, 1.0250]], device='cuda:0'), tensor([[1.0049, 0.9951, 0.9854]], device='cuda:0')], [tensor([[1.0016, 1.0206, 1.0250]], device='cuda:0'), tensor([[0.9903, 0.9806, 0.9806]], device='cuda:0')], [tensor([[1.0016, 1.0206, 1.0250]], device='cuda:0'), tensor([[0.9902, 0.9902, 0.9902]], device='cuda:0')], [tensor([[1.0016, 1.0206, 1.0250]], device='cuda:0'), tensor([[1., 1., 1.]], device='cuda:0')], [tensor([[1.0016, 1.0206, 1.0250]], device='cuda:0'), tensor([[1.0000, 1.0000, 0.9901]], device='cuda:0')], [tensor([[1.0016, 1.0206, 1.0250]], device='cuda:0'), tensor([[1.0000, 0.9901, 0.9851]], device='cuda:0')], [tensor([[1.0016, 1.0206, 1.0250]], device='cuda:0'), tensor([[0.9901, 0.9851, 0.9901]], device='cuda:0')], [tensor([[1.0016, 1.0206, 1.0250]], device='cuda:0'), tensor([[0.9950, 1.0000, 0.9790]], device='cuda:0')], [tensor([[1.0016, 1.0206, 1.0250]], device='cuda:0'), tensor([[1.0050, 0.9839, 0.9598]], device='cuda:0')], [tensor([[1.0016, 1.0206, 1.0250]], device='cuda:0'), tensor([[0.9790, 0.9550, 0.9510]], device='cuda:0')], [tensor([[1.0016, 1.0206, 1.0250]], device='cuda:0'), tensor([[0.9755, 0.9714, 0.9949]], device='cuda:0')], [tensor([[1.0017, 1.0207, 1.0250]], device='cuda:0'), tensor([[0.9958, 1.0199, 1.0304]], device='cuda:0')], [tensor([[1.0016, 1.0206, 1.0250]], device='cuda:0'), tensor([[1.0242, 1.0347, 1.0210]], device='cuda:0')], [tensor([[1.0016, 1.0206, 1.0250]], device='cuda:0'), tensor([[1.0103, 0.9969, 1.0092]], device='cuda:0')], [tensor([[1.0016, 1.0206, 1.0250]], device='cuda:0'), tensor([[0.9868, 0.9990, 0.9878]], device='cuda:0')], [tensor([[1.0015, 1.0206, 1.0249]], device='cuda:0'), tensor([[1.0124, 1.0010, 0.9856]], device='cuda:0')], [tensor([[1.0016, 1.0206, 1.0250]], device='cuda:0'), tensor([[0.9888, 0.9736, 0.9969]], device='cuda:0')], [tensor([[1.0016, 1.0206, 1.0250]], device='cuda:0'), tensor([[0.9846, 1.0082, 0.9959]], device='cuda:0')], [tensor([[1.0016, 1.0206, 1.0250]], device='cuda:0'), tensor([[1.0240, 1.0115, 1.0293]], device='cuda:0')], [tensor([[1.0016, 1.0206, 1.0250]], device='cuda:0'), tensor([[0.9878, 1.0051, 0.9908]], device='cuda:0')], [tensor([[1.0016, 1.0206, 1.0250]], device='cuda:0'), tensor([[1.0176, 1.0031, 0.9928]], device='cuda:0')], [tensor([[1.0016, 1.0206, 1.0250]], device='cuda:0'), tensor([[0.9858, 0.9756, 0.9766]], device='cuda:0')], [tensor([[1.0016, 1.0206, 1.0250]], device='cuda:0'), tensor([[0.9897, 0.9907, 0.9681]], device='cuda:0')], [tensor([[1.0016, 1.0206, 1.0250]], device='cuda:0'), tensor([[1.0010, 0.9781, 0.9729]], device='cuda:0')], [tensor([[1.0016, 1.0206, 1.0250]], device='cuda:0'), tensor([[0.9771, 0.9719, 0.9688]], device='cuda:0')], [tensor([[1.0016, 1.0206, 1.0250]], device='cuda:0'), tensor([[0.9947, 0.9915, 0.9702]], device='cuda:0')], [tensor([[1.0016, 1.0206, 1.0250]], device='cuda:0'), tensor([[0.9968, 0.9754, 0.9529]], device='cuda:0')], [tensor([[1.0016, 1.0206, 1.0250]], device='cuda:0'), tensor([[0.9785, 0.9560, 0.9249]], device='cuda:0')], [tensor([[1.0016, 1.0206, 1.0250]], device='cuda:0'), tensor([[0.9770, 0.9452, 0.9463]], device='cuda:0')], [tensor([[1.0017, 1.0207, 1.0250]], device='cuda:0'), tensor([[0.9675, 0.9686, 0.9641]], device='cuda:0')], [tensor([[1.0017, 1.0207, 1.0251]], device='cuda:0'), tensor([[1.0012, 0.9965, 1.0000]], device='cuda:0')], [tensor([[1.0016, 1.0206, 1.0250]], device='cuda:0'), tensor([[0.9954, 0.9988, 0.9328]], device='cuda:0')], [tensor([[1.0016, 1.0206, 1.0250]], device='cuda:0'), tensor([[1.0035, 0.9371, 0.9208]], device='cuda:0')], [tensor([[1.0016, 1.0206, 1.0250]], device='cuda:0'), tensor([[0.9339, 0.9176, 0.8921]], device='cuda:0')], [tensor([[1.0017, 1.0207, 1.0251]], device='cuda:0'), tensor([[0.9826, 0.9553, 0.9590]], device='cuda:0')], [tensor([[1.0017, 1.0207, 1.0251]], device='cuda:0'), tensor([[0.9722, 0.9760, 0.9722]], device='cuda:0')], [tensor([[1.0016, 1.0206, 1.0250]], device='cuda:0'), tensor([[1.0039, 1.0000, 1.0286]], device='cuda:0')], [tensor([[1.0016, 1.0206, 1.0250]], device='cuda:0'), tensor([[0.9961, 1.0246, 1.0363]], device='cuda:0')], [tensor([[1.0016, 1.0206, 1.0250]], device='cuda:0'), tensor([[1.0286, 1.0403, 1.0468]], device='cuda:0')], [tensor([[1.0016, 1.0206, 1.0250]], device='cuda:0'), tensor([[1.0114, 1.0177, 1.0215]], device='cuda:0')], [tensor([[1.0016, 1.0206, 1.0250]], device='cuda:0'), tensor([[1.0062, 1.0100, 1.0013]], device='cuda:0')], [tensor([[1.0016, 1.0206, 1.0250]], device='cuda:0'), tensor([[1.0037, 0.9950, 0.9689]], device='cuda:0')], [tensor([[1.0016, 1.0206, 1.0250]], device='cuda:0'), tensor([[0.9913, 0.9653, 0.9691]], device='cuda:0')], [tensor([[1.0016, 1.0206, 1.0250]], device='cuda:0'), tensor([[0.9738, 0.9775, 0.9888]], device='cuda:0')], [tensor([[1.0016, 1.0206, 1.0250]], device='cuda:0'), tensor([[1.0038, 1.0154, 1.0256]], device='cuda:0')], [tensor([[1.0016, 1.0206, 1.0250]], device='cuda:0'), tensor([[1.0115, 1.0217, 1.0409]], device='cuda:0')], [tensor([[1.0016, 1.0206, 1.0250]], device='cuda:0'), tensor([[1.0101, 1.0290, 1.0265]], device='cuda:0')], [tensor([[1.0016, 1.0206, 1.0250]], device='cuda:0'), tensor([[1.0187, 1.0162, 1.0075]], device='cuda:0')], [tensor([[1.0016, 1.0206, 1.0250]], device='cuda:0'), tensor([[0.9975, 0.9890, 0.9988]], device='cuda:0')], [tensor([[1.0016, 1.0206, 1.0250]], device='cuda:0'), tensor([[0.9914, 1.0012, 1.0037]], device='cuda:0')], [tensor([[1.0016, 1.0206, 1.0250]], device='cuda:0'), tensor([[1.0099, 1.0124, 1.0000]], device='cuda:0')], [tensor([[1.0016, 1.0206, 1.0250]], device='cuda:0'), tensor([[1.0025, 0.9902, 0.9926]], device='cuda:0')], [tensor([[1.0016, 1.0206, 1.0250]], device='cuda:0'), tensor([[0.9877, 0.9902, 0.9975]], device='cuda:0')], [tensor([[1.0016, 1.0206, 1.0250]], device='cuda:0'), tensor([[1.0025, 1.0099, 1.0099]], device='cuda:0')], [tensor([[1.0016, 1.0206, 1.0250]], device='cuda:0'), tensor([[1.0074, 1.0074, 1.0433]], device='cuda:0')], [tensor([[1.0016, 1.0206, 1.0250]], device='cuda:0'), tensor([[1.0000, 1.0356, 1.0356]], device='cuda:0')], [tensor([[1.0016, 1.0206, 1.0250]], device='cuda:0'), tensor([[1.0356, 1.0356, 1.0516]], device='cuda:0')], [tensor([[1.0016, 1.0206, 1.0250]], device='cuda:0'), tensor([[1.0000, 1.0154, 0.9976]], device='cuda:0')], [tensor([[1.0016, 1.0206, 1.0250]], device='cuda:0'), tensor([[1.0154, 0.9976, 0.9976]], device='cuda:0')], [tensor([[1.0016, 1.0206, 1.0250]], device='cuda:0'), tensor([[0.9825, 0.9825, 0.9860]], device='cuda:0')], [tensor([[1.0016, 1.0206, 1.0250]], device='cuda:0'), tensor([[1.0000, 1.0036, 1.0119]], device='cuda:0')], [tensor([[1.0016, 1.0206, 1.0250]], device='cuda:0'), tensor([[1.0036, 1.0119, 0.9929]], device='cuda:0')], [tensor([[1.0016, 1.0206, 1.0250]], device='cuda:0'), tensor([[1.0083, 0.9893, 0.9953]], device='cuda:0')], [tensor([[1.0016, 1.0206, 1.0250]], device='cuda:0'), tensor([[0.9812, 0.9871, 0.9718]], device='cuda:0')], [tensor([[1.0016, 1.0206, 1.0250]], device='cuda:0'), tensor([[1.0060, 0.9904, 0.9820]], device='cuda:0')], [tensor([[1.0016, 1.0206, 1.0250]], device='cuda:0'), tensor([[0.9845, 0.9762, 1.0000]], device='cuda:0')], [tensor([[1.0016, 1.0206, 1.0250]], device='cuda:0'), tensor([[0.9915, 1.0157, 0.9867]], device='cuda:0')], [tensor([[1.0016, 1.0206, 1.0250]], device='cuda:0'), tensor([[1.0244, 0.9951, 0.9488]], device='cuda:0')], [tensor([[1.0016, 1.0206, 1.0250]], device='cuda:0'), tensor([[0.9714, 0.9262, 0.9298]], device='cuda:0')], [tensor([[1.0017, 1.0207, 1.0250]], device='cuda:0'), tensor([[0.9534, 0.9571, 0.9718]], device='cuda:0')], [tensor([[1.0017, 1.0207, 1.0251]], device='cuda:0'), tensor([[1.0039, 1.0193, 1.0013]], device='cuda:0')], [tensor([[1.0016, 1.0206, 1.0250]], device='cuda:0'), tensor([[1.0154, 0.9974, 1.0230]], device='cuda:0')], [tensor([[1.0016, 1.0206, 1.0250]], device='cuda:0'), tensor([[0.9823, 1.0076, 1.0353]], device='cuda:0')], [tensor([[1.0016, 1.0206, 1.0250]], device='cuda:0'), tensor([[1.0257, 1.0539, 1.0668]], device='cuda:0')], [tensor([[1.0016, 1.0206, 1.0250]], device='cuda:0'), tensor([[1.0275, 1.0400, 1.0513]], device='cuda:0')], [tensor([[1.0016, 1.0206, 1.0249]], device='cuda:0'), tensor([[1.0122, 1.0231, 1.0146]], device='cuda:0')], [tensor([[1.0016, 1.0206, 1.0250]], device='cuda:0'), tensor([[1.0108, 1.0024, 1.0193]], device='cuda:0')], [tensor([[1.0016, 1.0206, 1.0250]], device='cuda:0'), tensor([[0.9917, 1.0083, 1.0095]], device='cuda:0')], [tensor([[1.0016, 1.0206, 1.0250]], device='cuda:0'), tensor([[1.0168, 1.0180, 1.0012]], device='cuda:0')], [tensor([[1.0016, 1.0206, 1.0250]], device='cuda:0'), tensor([[1.0012, 0.9847, 0.9717]], device='cuda:0')], [tensor([[1.0016, 1.0206, 1.0250]], device='cuda:0'), tensor([[0.9835, 0.9705, 0.9788]], device='cuda:0')], [tensor([[1.0016, 1.0206, 1.0250]], device='cuda:0'), tensor([[0.9868, 0.9952, 0.9988]], device='cuda:0')], [tensor([[1.0016, 1.0206, 1.0250]], device='cuda:0'), tensor([[1.0085, 1.0122, 1.0000]], device='cuda:0')], [tensor([[1.0016, 1.0206, 1.0250]], device='cuda:0'), tensor([[1.0036, 0.9916, 0.9976]], device='cuda:0')], [tensor([[1.0016, 1.0206, 1.0250]], device='cuda:0'), tensor([[0.9880, 0.9940, 0.9796]], device='cuda:0')], [tensor([[1.0016, 1.0206, 1.0250]], device='cuda:0'), tensor([[1.0061, 0.9915, 1.0012]], device='cuda:0')], [tensor([[1.0016, 1.0206, 1.0250]], device='cuda:0'), tensor([[0.9855, 0.9952, 1.0266]], device='cuda:0')], [tensor([[1.0016, 1.0206, 1.0250]], device='cuda:0'), tensor([[1.0098, 1.0417, 1.0931]], device='cuda:0')], [tensor([[1.0016, 1.0206, 1.0250]], device='cuda:0'), tensor([[1.0316, 1.0825, 1.1177]], device='cuda:0')], [tensor([[1.0016, 1.0206, 1.0250]], device='cuda:0'), tensor([[1.0494, 1.0835, 1.0765]], device='cuda:0')], [tensor([[1.0016, 1.0206, 1.0250]], device='cuda:0'), tensor([[1.0325, 1.0258, 1.0303]], device='cuda:0')], [tensor([[1.0016, 1.0206, 1.0250]], device='cuda:0'), tensor([[0.9935, 0.9978, 0.9881]], device='cuda:0')], [tensor([[1.0016, 1.0206, 1.0250]], device='cuda:0'), tensor([[1.0044, 0.9945, 0.9814]], device='cuda:0')], [tensor([[1.0016, 1.0206, 1.0250]], device='cuda:0'), tensor([[0.9902, 0.9771, 1.0218]], device='cuda:0')], [tensor([[1.0016, 1.0206, 1.0250]], device='cuda:0'), tensor([[0.9868, 1.0319, 1.0110]], device='cuda:0')], [tensor([[1.0016, 1.0206, 1.0250]], device='cuda:0'), tensor([[1.0457, 1.0245, 1.0312]], device='cuda:0')], [tensor([[1.0016, 1.0206, 1.0250]], device='cuda:0'), tensor([[0.9798, 0.9862, 0.9904]], device='cuda:0')], [tensor([[1.0016, 1.0206, 1.0250]], device='cuda:0'), tensor([[1.0065, 1.0109, 1.0196]], device='cuda:0')], [tensor([[1.0016, 1.0206, 1.0250]], device='cuda:0'), tensor([[1.0043, 1.0130, 0.9989]], device='cuda:0')], [tensor([[1.0016, 1.0206, 1.0250]], device='cuda:0'), tensor([[1.0086, 0.9946, 0.9925]], device='cuda:0')], [tensor([[1.0016, 1.0206, 1.0250]], device='cuda:0'), tensor([[0.9861, 0.9840, 0.9648]], device='cuda:0')], [tensor([[1.0016, 1.0206, 1.0250]], device='cuda:0'), tensor([[0.9978, 0.9784, 1.0022]], device='cuda:0')], [tensor([[1.0016, 1.0206, 1.0250]], device='cuda:0'), tensor([[0.9805, 1.0043, 1.0228]], device='cuda:0')], [tensor([[1.0016, 1.0206, 1.0250]], device='cuda:0'), tensor([[1.0243, 1.0431, 1.0519]], device='cuda:0')], [tensor([[1.0016, 1.0206, 1.0250]], device='cuda:0'), tensor([[1.0183, 1.0270, 1.0183]], device='cuda:0')], [tensor([[1.0016, 1.0206, 1.0250]], device='cuda:0'), tensor([[1.0085, 1.0000, 0.9936]], device='cuda:0')], [tensor([[1.0016, 1.0206, 1.0250]], device='cuda:0'), tensor([[0.9916, 0.9853, 0.9674]], device='cuda:0')], [tensor([[1.0016, 1.0206, 1.0250]], device='cuda:0'), tensor([[0.9936, 0.9756, 0.9936]], device='cuda:0')], [tensor([[1.0016, 1.0206, 1.0250]], device='cuda:0'), tensor([[0.9819, 1.0000, 0.9851]], device='cuda:0')], [tensor([[1.0016, 1.0206, 1.0250]], device='cuda:0'), tensor([[1.0185, 1.0033, 0.9913]], device='cuda:0')], [tensor([[1.0016, 1.0206, 1.0250]], device='cuda:0'), tensor([[0.9851, 0.9733, 0.9595]], device='cuda:0')], [tensor([[1.0016, 1.0206, 1.0250]], device='cuda:0'), tensor([[0.9881, 0.9740, 0.9827]], device='cuda:0')], [tensor([[1.0016, 1.0206, 1.0250]], device='cuda:0'), tensor([[0.9858, 0.9945, 0.9945]], device='cuda:0')], [tensor([[1.0016, 1.0206, 1.0250]], device='cuda:0'), tensor([[1.0089, 1.0089, 1.0656]], device='cuda:0')], [tensor([[1.0016, 1.0206, 1.0250]], device='cuda:0'), tensor([[1.0000, 1.0562, 1.0573]], device='cuda:0')], [tensor([[1.0016, 1.0206, 1.0250]], device='cuda:0'), tensor([[1.0562, 1.0573, 1.0573]], device='cuda:0')], [tensor([[1.0016, 1.0206, 1.0250]], device='cuda:0'), tensor([[1.0010, 1.0010, 1.0042]], device='cuda:0')], [tensor([[1.0016, 1.0206, 1.0250]], device='cuda:0'), tensor([[1.0000, 1.0031, 0.9969]], device='cuda:0')], [tensor([[1.0016, 1.0206, 1.0250]], device='cuda:0'), tensor([[1.0031, 0.9969, 1.0094]], device='cuda:0')], [tensor([[1.0016, 1.0206, 1.0250]], device='cuda:0'), tensor([[0.9938, 1.0062, 0.9855]], device='cuda:0')], [tensor([[1.0016, 1.0206, 1.0250]], device='cuda:0'), tensor([[1.0125, 0.9916, 1.0031]], device='cuda:0')], [tensor([[1.0016, 1.0206, 1.0250]], device='cuda:0'), tensor([[0.9794, 0.9907, 0.9938]], device='cuda:0')], [tensor([[1.0016, 1.0206, 1.0250]], device='cuda:0'), tensor([[1.0116, 1.0148, 1.0169]], device='cuda:0')], [tensor([[1.0016, 1.0206, 1.0250]], device='cuda:0'), tensor([[1.0031, 1.0052, 1.0000]], device='cuda:0')], [tensor([[1.0016, 1.0206, 1.0250]], device='cuda:0'), tensor([[1.0021, 0.9969, 1.0073]], device='cuda:0')], [tensor([[1.0016, 1.0206, 1.0250]], device='cuda:0'), tensor([[0.9948, 1.0052, 0.9990]], device='cuda:0')], [tensor([[1.0016, 1.0206, 1.0250]], device='cuda:0'), tensor([[1.0104, 1.0042, 1.0062]], device='cuda:0')], [tensor([[1.0016, 1.0206, 1.0250]], device='cuda:0'), tensor([[0.9938, 0.9959, 0.9670]], device='cuda:0')], [tensor([[1.0016, 1.0206, 1.0250]], device='cuda:0'), tensor([[1.0021, 0.9730, 0.9606]], device='cuda:0')], [tensor([[1.0016, 1.0206, 1.0250]], device='cuda:0'), tensor([[0.9710, 0.9586, 0.9348]], device='cuda:0')], [tensor([[1.0016, 1.0206, 1.0250]], device='cuda:0'), tensor([[0.9872, 0.9627, 0.9712]], device='cuda:0')], [tensor([[1.0017, 1.0207, 1.0250]], device='cuda:0'), tensor([[0.9752, 0.9838, 0.9816]], device='cuda:0')], [tensor([[1.0016, 1.0206, 1.0250]], device='cuda:0'), tensor([[1.0089, 1.0066, 1.0011]], device='cuda:0')], [tensor([[1.0016, 1.0206, 1.0250]], device='cuda:0'), tensor([[0.9978, 0.9923, 0.9901]], device='cuda:0')], [tensor([[1.0016, 1.0206, 1.0250]], device='cuda:0'), tensor([[0.9945, 0.9923, 1.0033]], device='cuda:0')], [tensor([[1.0016, 1.0206, 1.0250]], device='cuda:0'), tensor([[0.9978, 1.0088, 1.0188]], device='cuda:0')], [tensor([[1.0016, 1.0206, 1.0250]], device='cuda:0'), tensor([[1.0111, 1.0211, 1.0244]], device='cuda:0')], [tensor([[1.0016, 1.0206, 1.0249]], device='cuda:0'), tensor([[1.0099, 1.0132, 1.0154]], device='cuda:0')], [tensor([[1.0016, 1.0206, 1.0250]], device='cuda:0'), tensor([[1.0033, 1.0054, 1.0033]], device='cuda:0')], [tensor([[1.0016, 1.0206, 1.0250]], device='cuda:0'), tensor([[1.0022, 1.0000, 0.9935]], device='cuda:0')], [tensor([[1.0016, 1.0206, 1.0250]], device='cuda:0'), tensor([[0.9978, 0.9914, 0.9881]], device='cuda:0')], [tensor([[1.0016, 1.0206, 1.0250]], device='cuda:0'), tensor([[0.9935, 0.9903, 0.9903]], device='cuda:0')], [tensor([[1.0016, 1.0206, 1.0250]], device='cuda:0'), tensor([[0.9967, 0.9967, 0.9804]], device='cuda:0')], [tensor([[1.0016, 1.0206, 1.0250]], device='cuda:0'), tensor([[1.0000, 0.9836, 0.9421]], device='cuda:0')], [tensor([[1.0016, 1.0206, 1.0250]], device='cuda:0'), tensor([[0.9836, 0.9421, 0.9257]], device='cuda:0')], [tensor([[1.0016, 1.0206, 1.0250]], device='cuda:0'), tensor([[0.9578, 0.9411, 0.9344]], device='cuda:0')], [tensor([[1.0017, 1.0207, 1.0251]], device='cuda:0'), tensor([[0.9826, 0.9756, 0.9606]], device='cuda:0')], [tensor([[1.0017, 1.0207, 1.0250]], device='cuda:0'), tensor([[0.9929, 0.9776, 0.9681]], device='cuda:0')], [tensor([[1.0016, 1.0206, 1.0250]], device='cuda:0'), tensor([[0.9845, 0.9750, 1.0071]], device='cuda:0')], [tensor([[1.0016, 1.0206, 1.0250]], device='cuda:0'), tensor([[0.9903, 1.0229, 1.0145]], device='cuda:0')], [tensor([[1.0017, 1.0207, 1.0250]], device='cuda:0'), tensor([[1.0329, 1.0244, 1.0488]], device='cuda:0')], [tensor([[1.0016, 1.0206, 1.0250]], device='cuda:0'), tensor([[0.9917, 1.0153, 1.0118]], device='cuda:0')], [tensor([[1.0016, 1.0206, 1.0250]], device='cuda:0'), tensor([[1.0238, 1.0202, 1.0060]], device='cuda:0')], [tensor([[1.0016, 1.0206, 1.0250]], device='cuda:0'), tensor([[0.9965, 0.9826, 0.9872]], device='cuda:0')], [tensor([[1.0016, 1.0206, 1.0250]], device='cuda:0'), tensor([[0.9860, 0.9907, 1.0303]], device='cuda:0')], [tensor([[1.0016, 1.0206, 1.0250]], device='cuda:0'), tensor([[1.0047, 1.0450, 1.1290]], device='cuda:0')], [tensor([[1.0016, 1.0206, 1.0250]], device='cuda:0'), tensor([[1.0400, 1.1237, 1.1249]], device='cuda:0')], [tensor([[1.0016, 1.0206, 1.0250]], device='cuda:0'), tensor([[1.0804, 1.0815, 1.0827]], device='cuda:0')], [tensor([[1.0016, 1.0206, 1.0250]], device='cuda:0'), tensor([[1.0010, 1.0021, 0.9885]], device='cuda:0')], [tensor([[1.0016, 1.0206, 1.0250]], device='cuda:0'), tensor([[1.0010, 0.9874, 0.9780]], device='cuda:0')], [tensor([[1.0015, 1.0206, 1.0247]], device='cuda:0'), tensor([[0.9864, 0.9770, 0.9707]], device='cuda:0')], [tensor([[1.0016, 1.0206, 1.0250]], device='cuda:0'), tensor([[0.9905, 0.9841, 0.9491]], device='cuda:0')], [tensor([[1.0016, 1.0206, 1.0250]], device='cuda:0'), tensor([[0.9936, 0.9582, 0.9197]], device='cuda:0')], [tensor([[1.0016, 1.0206, 1.0250]], device='cuda:0'), tensor([[0.9644, 0.9256, 0.9267]], device='cuda:0')], [tensor([[1.0017, 1.0207, 1.0250]], device='cuda:0'), tensor([[0.9598, 0.9609, 0.9475]], device='cuda:0')], [tensor([[1.0017, 1.0207, 1.0251]], device='cuda:0'), tensor([[1.0012, 0.9872, 0.9790]], device='cuda:0')], [tensor([[1.0016, 1.0207, 1.0250]], device='cuda:0'), tensor([[0.9860, 0.9779, 0.9360]], device='cuda:0')], [tensor([[1.0016, 1.0206, 1.0250]], device='cuda:0'), tensor([[0.9917, 0.9493, 0.9363]], device='cuda:0')], [tensor([[1.0016, 1.0206, 1.0250]], device='cuda:0'), tensor([[0.9572, 0.9441, 0.9667]], device='cuda:0')], [tensor([[1.0017, 1.0207, 1.0250]], device='cuda:0'), tensor([[0.9863, 1.0099, 1.0261]], device='cuda:0')], [tensor([[1.0017, 1.0207, 1.0250]], device='cuda:0'), tensor([[1.0239, 1.0403, 1.0504]], device='cuda:0')], [tensor([[1.0016, 1.0206, 1.0250]], device='cuda:0'), tensor([[1.0160, 1.0258, 1.0000]], device='cuda:0')], [tensor([[1.0016, 1.0206, 1.0250]], device='cuda:0'), tensor([[1.0097, 0.9843, 0.9504]], device='cuda:0')], [tensor([[1.0016, 1.0206, 1.0250]], device='cuda:0'), tensor([[0.9748, 0.9412, 0.9161]], device='cuda:0')], [tensor([[1.0016, 1.0206, 1.0250]], device='cuda:0'), tensor([[0.9656, 0.9397, 0.8942]], device='cuda:0')], [tensor([[1.0017, 1.0207, 1.0250]], device='cuda:0'), tensor([[0.9732, 0.9261, 0.8764]], device='cuda:0')], [tensor([[1.0017, 1.0207, 1.0250]], device='cuda:0'), tensor([[0.9516, 0.9005, 0.8338]], device='cuda:0')], [tensor([[1.0017, 1.0207, 1.0251]], device='cuda:0'), tensor([[0.9464, 0.8762, 0.8941]], device='cuda:0')], [tensor([[1.0017, 1.0207, 1.0251]], device='cuda:0'), tensor([[0.9259, 0.9448, 0.9404]], device='cuda:0')], [tensor([[1.0017, 1.0207, 1.0251]], device='cuda:0'), tensor([[1.0204, 1.0157, 0.9576]], device='cuda:0')], [tensor([[1.0016, 1.0206, 1.0250]], device='cuda:0'), tensor([[0.9954, 0.9385, 0.8508]], device='cuda:0')], [tensor([[1.0016, 1.0206, 1.0250]], device='cuda:0'), tensor([[0.9428, 0.8547, 0.8934]], device='cuda:0')], [tensor([[1.0016, 1.0206, 1.0250]], device='cuda:0'), tensor([[0.9066, 0.9475, 0.8705]], device='cuda:0')], [tensor([[1.0017, 1.0207, 1.0251]], device='cuda:0'), tensor([[1.0452, 0.9602, 1.0832]], device='cuda:0')], [tensor([[1.0017, 1.0207, 1.0251]], device='cuda:0'), tensor([[0.9187, 1.0363, 1.1228]], device='cuda:0')], [tensor([[1.0017, 1.0207, 1.0251]], device='cuda:0'), tensor([[1.1281, 1.2222, 1.2298]], device='cuda:0')], [tensor([[1.0016, 1.0206, 1.0250]], device='cuda:0'), tensor([[1.0835, 1.0901, 1.0801]], device='cuda:0')], [tensor([[1.0016, 1.0206, 1.0249]], device='cuda:0'), tensor([[1.0062, 0.9969, 0.9877]], device='cuda:0')], [tensor([[1.0016, 1.0206, 1.0250]], device='cuda:0'), tensor([[0.9908, 0.9816, 0.9877]], device='cuda:0')], [tensor([[1.0016, 1.0206, 1.0250]], device='cuda:0'), tensor([[0.9907, 0.9969, 0.9614]], device='cuda:0')], [tensor([[1.0016, 1.0206, 1.0250]], device='cuda:0'), tensor([[1.0062, 0.9704, 0.9844]], device='cuda:0')], [tensor([[1.0016, 1.0206, 1.0250]], device='cuda:0'), tensor([[0.9643, 0.9783, 0.9829]], device='cuda:0')], [tensor([[1.0016, 1.0206, 1.0250]], device='cuda:0'), tensor([[1.0145, 1.0193, 1.1077]], device='cuda:0')], [tensor([[1.0016, 1.0206, 1.0250]], device='cuda:0'), tensor([[1.0048, 1.0919, 1.1204]], device='cuda:0')], [tensor([[1.0016, 1.0206, 1.0250]], device='cuda:0'), tensor([[1.0867, 1.1151, 1.1356]], device='cuda:0')], [tensor([[1.0016, 1.0206, 1.0250]], device='cuda:0'), tensor([[1.0261, 1.0450, 1.0639]], device='cuda:0')], [tensor([[1.0016, 1.0206, 1.0250]], device='cuda:0'), tensor([[1.0184, 1.0368, 1.0339]], device='cuda:0')], [tensor([[1.0016, 1.0206, 1.0250]], device='cuda:0'), tensor([[1.0181, 1.0153, 0.9972]], device='cuda:0')], [tensor([[1.0016, 1.0206, 1.0250]], device='cuda:0'), tensor([[0.9973, 0.9795, 0.9823]], device='cuda:0')], [tensor([[1.0016, 1.0206, 1.0250]], device='cuda:0'), tensor([[0.9822, 0.9850, 0.9685]], device='cuda:0')], [tensor([[1.0016, 1.0206, 1.0250]], device='cuda:0'), tensor([[1.0028, 0.9861, 1.0056]], device='cuda:0')], [tensor([[1.0016, 1.0206, 1.0250]], device='cuda:0'), tensor([[0.9833, 1.0028, 1.0000]], device='cuda:0')], [tensor([[1.0016, 1.0207, 1.0250]], device='cuda:0'), tensor([[1.0198, 1.0169, 0.9986]], device='cuda:0')], [tensor([[1.0016, 1.0206, 1.0250]], device='cuda:0'), tensor([[0.9972, 0.9792, 0.9875]], device='cuda:0')], [tensor([[1.0016, 1.0206, 1.0250]], device='cuda:0'), tensor([[0.9819, 0.9903, 0.9986]], device='cuda:0')], [tensor([[1.0016, 1.0206, 1.0250]], device='cuda:0'), tensor([[1.0085, 1.0170, 1.0141]], device='cuda:0')], [tensor([[1.0016, 1.0206, 1.0250]], device='cuda:0'), tensor([[1.0084, 1.0056, 1.1543]], device='cuda:0')], [tensor([[1.0016, 1.0206, 1.0250]], device='cuda:0'), tensor([[0.9972, 1.1446, 1.1335]], device='cuda:0')], [tensor([[1.0016, 1.0206, 1.0250]], device='cuda:0'), tensor([[1.1478, 1.1367, 1.1297]], device='cuda:0')], [tensor([[1.0016, 1.0206, 1.0249]], device='cuda:0'), tensor([[0.9903, 0.9842, 0.9550]], device='cuda:0')], [tensor([[1.0016, 1.0206, 1.0250]], device='cuda:0'), tensor([[0.9939, 0.9644, 1.0221]], device='cuda:0')], [tensor([[1.0015, 1.0206, 1.0249]], device='cuda:0'), tensor([[0.9704, 1.0284, 1.0272]], device='cuda:0')], [tensor([[1.0016, 1.0206, 1.0250]], device='cuda:0'), tensor([[1.0598, 1.0585, 1.0178]], device='cuda:0')], [tensor([[1.0016, 1.0206, 1.0250]], device='cuda:0'), tensor([[0.9988, 0.9604, 0.9460]], device='cuda:0')], [tensor([[1.0016, 1.0206, 1.0250]], device='cuda:0'), tensor([[0.9615, 0.9471, 0.9291]], device='cuda:0')], [tensor([[1.0016, 1.0206, 1.0250]], device='cuda:0'), tensor([[0.9850, 0.9663, 0.9875]], device='cuda:0')], [tensor([[1.0017, 1.0207, 1.0250]], device='cuda:0'), tensor([[0.9810, 1.0025, 1.0063]], device='cuda:0')], [tensor([[1.0016, 1.0206, 1.0250]], device='cuda:0'), tensor([[1.0220, 1.0259, 1.0349]], device='cuda:0')], [tensor([[1.0016, 1.0206, 1.0250]], device='cuda:0'), tensor([[1.0038, 1.0127, 1.0418]], device='cuda:0')], [tensor([[1.0016, 1.0206, 1.0250]], device='cuda:0'), tensor([[1.0088, 1.0378, 1.0631]], device='cuda:0')], [tensor([[1.0016, 1.0206, 1.0250]], device='cuda:0'), tensor([[1.0287, 1.0537, 1.0812]], device='cuda:0')]]\n",
            "[tensor(1.0016, device='cuda:0'), tensor(1.0016, device='cuda:0'), tensor(1.0017, device='cuda:0'), tensor(1.0017, device='cuda:0'), tensor(1.0016, device='cuda:0'), tensor(1.0016, device='cuda:0'), tensor(1.0016, device='cuda:0'), tensor(1.0016, device='cuda:0'), tensor(1.0016, device='cuda:0'), tensor(1.0016, device='cuda:0'), tensor(1.0016, device='cuda:0'), tensor(1.0017, device='cuda:0'), tensor(1.0017, device='cuda:0'), tensor(1.0016, device='cuda:0'), tensor(1.0016, device='cuda:0'), tensor(1.0016, device='cuda:0'), tensor(1.0016, device='cuda:0'), tensor(1.0016, device='cuda:0'), tensor(1.0016, device='cuda:0'), tensor(1.0016, device='cuda:0'), tensor(1.0016, device='cuda:0'), tensor(1.0016, device='cuda:0'), tensor(1.0016, device='cuda:0'), tensor(1.0016, device='cuda:0'), tensor(1.0016, device='cuda:0'), tensor(1.0016, device='cuda:0'), tensor(1.0016, device='cuda:0'), tensor(1.0016, device='cuda:0'), tensor(1.0015, device='cuda:0'), tensor(1.0016, device='cuda:0'), tensor(1.0016, device='cuda:0'), tensor(1.0016, device='cuda:0'), tensor(1.0016, device='cuda:0'), tensor(1.0016, device='cuda:0'), tensor(1.0016, device='cuda:0'), tensor(1.0016, device='cuda:0'), tensor(1.0016, device='cuda:0'), tensor(1.0016, device='cuda:0'), tensor(1.0016, device='cuda:0'), tensor(1.0016, device='cuda:0'), tensor(1.0016, device='cuda:0'), tensor(1.0016, device='cuda:0'), tensor(1.0016, device='cuda:0'), tensor(1.0016, device='cuda:0'), tensor(1.0017, device='cuda:0'), tensor(1.0016, device='cuda:0'), tensor(1.0016, device='cuda:0'), tensor(1.0016, device='cuda:0'), tensor(1.0015, device='cuda:0'), tensor(1.0016, device='cuda:0'), tensor(1.0016, device='cuda:0'), tensor(1.0016, device='cuda:0'), tensor(1.0016, device='cuda:0'), tensor(1.0016, device='cuda:0'), tensor(1.0016, device='cuda:0'), tensor(1.0016, device='cuda:0'), tensor(1.0016, device='cuda:0'), tensor(1.0016, device='cuda:0'), tensor(1.0016, device='cuda:0'), tensor(1.0016, device='cuda:0'), tensor(1.0016, device='cuda:0'), tensor(1.0016, device='cuda:0'), tensor(1.0017, device='cuda:0'), tensor(1.0017, device='cuda:0'), tensor(1.0016, device='cuda:0'), tensor(1.0016, device='cuda:0'), tensor(1.0016, device='cuda:0'), tensor(1.0017, device='cuda:0'), tensor(1.0017, device='cuda:0'), tensor(1.0016, device='cuda:0'), tensor(1.0016, device='cuda:0'), tensor(1.0016, device='cuda:0'), tensor(1.0016, device='cuda:0'), tensor(1.0016, device='cuda:0'), tensor(1.0016, device='cuda:0'), tensor(1.0016, device='cuda:0'), tensor(1.0016, device='cuda:0'), tensor(1.0016, device='cuda:0'), tensor(1.0016, device='cuda:0'), tensor(1.0016, device='cuda:0'), tensor(1.0016, device='cuda:0'), tensor(1.0016, device='cuda:0'), tensor(1.0016, device='cuda:0'), tensor(1.0016, device='cuda:0'), tensor(1.0016, device='cuda:0'), tensor(1.0016, device='cuda:0'), tensor(1.0016, device='cuda:0'), tensor(1.0016, device='cuda:0'), tensor(1.0016, device='cuda:0'), tensor(1.0016, device='cuda:0'), tensor(1.0016, device='cuda:0'), tensor(1.0016, device='cuda:0'), tensor(1.0016, device='cuda:0'), tensor(1.0016, device='cuda:0'), tensor(1.0016, device='cuda:0'), tensor(1.0016, device='cuda:0'), tensor(1.0016, device='cuda:0'), tensor(1.0016, device='cuda:0'), tensor(1.0016, device='cuda:0'), tensor(1.0016, device='cuda:0'), tensor(1.0016, device='cuda:0'), tensor(1.0016, device='cuda:0'), tensor(1.0017, device='cuda:0'), tensor(1.0017, device='cuda:0'), tensor(1.0016, device='cuda:0'), tensor(1.0016, device='cuda:0'), tensor(1.0016, device='cuda:0'), tensor(1.0016, device='cuda:0'), tensor(1.0016, device='cuda:0'), tensor(1.0016, device='cuda:0'), tensor(1.0016, device='cuda:0'), tensor(1.0016, device='cuda:0'), tensor(1.0016, device='cuda:0'), tensor(1.0016, device='cuda:0'), tensor(1.0016, device='cuda:0'), tensor(1.0016, device='cuda:0'), tensor(1.0016, device='cuda:0'), tensor(1.0016, device='cuda:0'), tensor(1.0016, device='cuda:0'), tensor(1.0016, device='cuda:0'), tensor(1.0016, device='cuda:0'), tensor(1.0016, device='cuda:0'), tensor(1.0016, device='cuda:0'), tensor(1.0016, device='cuda:0'), tensor(1.0016, device='cuda:0'), tensor(1.0016, device='cuda:0'), tensor(1.0016, device='cuda:0'), tensor(1.0016, device='cuda:0'), tensor(1.0016, device='cuda:0'), tensor(1.0016, device='cuda:0'), tensor(1.0016, device='cuda:0'), tensor(1.0016, device='cuda:0'), tensor(1.0016, device='cuda:0'), tensor(1.0016, device='cuda:0'), tensor(1.0016, device='cuda:0'), tensor(1.0016, device='cuda:0'), tensor(1.0016, device='cuda:0'), tensor(1.0016, device='cuda:0'), tensor(1.0016, device='cuda:0'), tensor(1.0016, device='cuda:0'), tensor(1.0016, device='cuda:0'), tensor(1.0016, device='cuda:0'), tensor(1.0016, device='cuda:0'), tensor(1.0016, device='cuda:0'), tensor(1.0016, device='cuda:0'), tensor(1.0016, device='cuda:0'), tensor(1.0016, device='cuda:0'), tensor(1.0016, device='cuda:0'), tensor(1.0016, device='cuda:0'), tensor(1.0016, device='cuda:0'), tensor(1.0016, device='cuda:0'), tensor(1.0016, device='cuda:0'), tensor(1.0016, device='cuda:0'), tensor(1.0016, device='cuda:0'), tensor(1.0016, device='cuda:0'), tensor(1.0016, device='cuda:0'), tensor(1.0016, device='cuda:0'), tensor(1.0016, device='cuda:0'), tensor(1.0016, device='cuda:0'), tensor(1.0016, device='cuda:0'), tensor(1.0016, device='cuda:0'), tensor(1.0016, device='cuda:0'), tensor(1.0016, device='cuda:0'), tensor(1.0016, device='cuda:0'), tensor(1.0017, device='cuda:0'), tensor(1.0016, device='cuda:0'), tensor(1.0016, device='cuda:0'), tensor(1.0016, device='cuda:0'), tensor(1.0016, device='cuda:0'), tensor(1.0016, device='cuda:0'), tensor(1.0016, device='cuda:0'), tensor(1.0016, device='cuda:0'), tensor(1.0016, device='cuda:0'), tensor(1.0016, device='cuda:0'), tensor(1.0016, device='cuda:0'), tensor(1.0016, device='cuda:0'), tensor(1.0016, device='cuda:0'), tensor(1.0016, device='cuda:0'), tensor(1.0016, device='cuda:0'), tensor(1.0017, device='cuda:0'), tensor(1.0017, device='cuda:0'), tensor(1.0016, device='cuda:0'), tensor(1.0016, device='cuda:0'), tensor(1.0017, device='cuda:0'), tensor(1.0016, device='cuda:0'), tensor(1.0016, device='cuda:0'), tensor(1.0016, device='cuda:0'), tensor(1.0016, device='cuda:0'), tensor(1.0016, device='cuda:0'), tensor(1.0016, device='cuda:0'), tensor(1.0016, device='cuda:0'), tensor(1.0016, device='cuda:0'), tensor(1.0016, device='cuda:0'), tensor(1.0015, device='cuda:0'), tensor(1.0016, device='cuda:0'), tensor(1.0016, device='cuda:0'), tensor(1.0016, device='cuda:0'), tensor(1.0017, device='cuda:0'), tensor(1.0017, device='cuda:0'), tensor(1.0016, device='cuda:0'), tensor(1.0016, device='cuda:0'), tensor(1.0016, device='cuda:0'), tensor(1.0017, device='cuda:0'), tensor(1.0017, device='cuda:0'), tensor(1.0016, device='cuda:0'), tensor(1.0016, device='cuda:0'), tensor(1.0016, device='cuda:0'), tensor(1.0016, device='cuda:0'), tensor(1.0017, device='cuda:0'), tensor(1.0017, device='cuda:0'), tensor(1.0017, device='cuda:0'), tensor(1.0017, device='cuda:0'), tensor(1.0017, device='cuda:0'), tensor(1.0016, device='cuda:0'), tensor(1.0016, device='cuda:0'), tensor(1.0016, device='cuda:0'), tensor(1.0017, device='cuda:0'), tensor(1.0017, device='cuda:0'), tensor(1.0017, device='cuda:0'), tensor(1.0016, device='cuda:0'), tensor(1.0016, device='cuda:0'), tensor(1.0016, device='cuda:0'), tensor(1.0016, device='cuda:0'), tensor(1.0016, device='cuda:0'), tensor(1.0016, device='cuda:0'), tensor(1.0016, device='cuda:0'), tensor(1.0016, device='cuda:0'), tensor(1.0016, device='cuda:0'), tensor(1.0016, device='cuda:0'), tensor(1.0016, device='cuda:0'), tensor(1.0016, device='cuda:0'), tensor(1.0016, device='cuda:0'), tensor(1.0016, device='cuda:0'), tensor(1.0016, device='cuda:0'), tensor(1.0016, device='cuda:0'), tensor(1.0016, device='cuda:0'), tensor(1.0016, device='cuda:0'), tensor(1.0016, device='cuda:0'), tensor(1.0016, device='cuda:0'), tensor(1.0016, device='cuda:0'), tensor(1.0016, device='cuda:0'), tensor(1.0016, device='cuda:0'), tensor(1.0016, device='cuda:0'), tensor(1.0016, device='cuda:0'), tensor(1.0015, device='cuda:0'), tensor(1.0016, device='cuda:0'), tensor(1.0016, device='cuda:0'), tensor(1.0016, device='cuda:0'), tensor(1.0016, device='cuda:0'), tensor(1.0017, device='cuda:0'), tensor(1.0016, device='cuda:0'), tensor(1.0016, device='cuda:0'), tensor(1.0016, device='cuda:0'), tensor(1.0016, device='cuda:0')]\n",
            "[tensor(0.9489, device='cuda:0'), tensor(0.9313, device='cuda:0'), tensor(0.9425, device='cuda:0'), tensor(0.9596, device='cuda:0'), tensor(0.9677, device='cuda:0'), tensor(0.9718, device='cuda:0'), tensor(0.9673, device='cuda:0'), tensor(0.9905, device='cuda:0'), tensor(0.9758, device='cuda:0'), tensor(0.9662, device='cuda:0'), tensor(0.9663, device='cuda:0'), tensor(0.9950, device='cuda:0'), tensor(1.0100, device='cuda:0'), tensor(1., device='cuda:0'), tensor(1., device='cuda:0'), tensor(1.0050, device='cuda:0'), tensor(1.0100, device='cuda:0'), tensor(0.9950, device='cuda:0'), tensor(1., device='cuda:0'), tensor(0.9951, device='cuda:0'), tensor(1.0250, device='cuda:0'), tensor(1.0197, device='cuda:0'), tensor(1.0248, device='cuda:0'), tensor(1., device='cuda:0'), tensor(0.9903, device='cuda:0'), tensor(0.9952, device='cuda:0'), tensor(1., device='cuda:0'), tensor(1.0098, device='cuda:0'), tensor(1.0049, device='cuda:0'), tensor(1.0049, device='cuda:0'), tensor(0.9903, device='cuda:0'), tensor(0.9952, device='cuda:0'), tensor(0.9903, device='cuda:0'), tensor(0.9854, device='cuda:0'), tensor(0.9806, device='cuda:0'), tensor(0.9902, device='cuda:0'), tensor(1., device='cuda:0'), tensor(0.9901, device='cuda:0'), tensor(0.9851, device='cuda:0'), tensor(0.9901, device='cuda:0'), tensor(0.9790, device='cuda:0'), tensor(0.9598, device='cuda:0'), tensor(0.9510, device='cuda:0'), tensor(0.9949, device='cuda:0'), tensor(1.0304, device='cuda:0'), tensor(1.0210, device='cuda:0'), tensor(1.0092, device='cuda:0'), tensor(0.9878, device='cuda:0'), tensor(0.9856, device='cuda:0'), tensor(0.9969, device='cuda:0'), tensor(0.9959, device='cuda:0'), tensor(1.0293, device='cuda:0'), tensor(0.9908, device='cuda:0'), tensor(0.9928, device='cuda:0'), tensor(0.9766, device='cuda:0'), tensor(0.9681, device='cuda:0'), tensor(0.9729, device='cuda:0'), tensor(0.9688, device='cuda:0'), tensor(0.9702, device='cuda:0'), tensor(0.9529, device='cuda:0'), tensor(0.9249, device='cuda:0'), tensor(0.9463, device='cuda:0'), tensor(0.9641, device='cuda:0'), tensor(1., device='cuda:0'), tensor(0.9328, device='cuda:0'), tensor(0.9208, device='cuda:0'), tensor(0.8921, device='cuda:0'), tensor(0.9590, device='cuda:0'), tensor(0.9722, device='cuda:0'), tensor(1.0286, device='cuda:0'), tensor(1.0363, device='cuda:0'), tensor(1.0468, device='cuda:0'), tensor(1.0215, device='cuda:0'), tensor(1.0013, device='cuda:0'), tensor(0.9689, device='cuda:0'), tensor(0.9691, device='cuda:0'), tensor(0.9888, device='cuda:0'), tensor(1.0256, device='cuda:0'), tensor(1.0409, device='cuda:0'), tensor(1.0265, device='cuda:0'), tensor(1.0075, device='cuda:0'), tensor(0.9988, device='cuda:0'), tensor(1.0037, device='cuda:0'), tensor(1., device='cuda:0'), tensor(0.9926, device='cuda:0'), tensor(0.9975, device='cuda:0'), tensor(1.0099, device='cuda:0'), tensor(1.0433, device='cuda:0'), tensor(1.0356, device='cuda:0'), tensor(1.0516, device='cuda:0'), tensor(0.9976, device='cuda:0'), tensor(0.9976, device='cuda:0'), tensor(0.9860, device='cuda:0'), tensor(1.0119, device='cuda:0'), tensor(0.9929, device='cuda:0'), tensor(0.9953, device='cuda:0'), tensor(0.9718, device='cuda:0'), tensor(0.9820, device='cuda:0'), tensor(1., device='cuda:0'), tensor(0.9867, device='cuda:0'), tensor(0.9488, device='cuda:0'), tensor(0.9298, device='cuda:0'), tensor(0.9718, device='cuda:0'), tensor(1.0013, device='cuda:0'), tensor(1.0230, device='cuda:0'), tensor(1.0353, device='cuda:0'), tensor(1.0668, device='cuda:0'), tensor(1.0513, device='cuda:0'), tensor(1.0146, device='cuda:0'), tensor(1.0193, device='cuda:0'), tensor(1.0095, device='cuda:0'), tensor(1.0012, device='cuda:0'), tensor(0.9717, device='cuda:0'), tensor(0.9788, device='cuda:0'), tensor(0.9988, device='cuda:0'), tensor(1., device='cuda:0'), tensor(0.9976, device='cuda:0'), tensor(0.9796, device='cuda:0'), tensor(1.0012, device='cuda:0'), tensor(1.0266, device='cuda:0'), tensor(1.0931, device='cuda:0'), tensor(1.1177, device='cuda:0'), tensor(1.0765, device='cuda:0'), tensor(1.0303, device='cuda:0'), tensor(0.9881, device='cuda:0'), tensor(0.9814, device='cuda:0'), tensor(1.0218, device='cuda:0'), tensor(1.0110, device='cuda:0'), tensor(1.0312, device='cuda:0'), tensor(0.9904, device='cuda:0'), tensor(1.0196, device='cuda:0'), tensor(0.9989, device='cuda:0'), tensor(0.9925, device='cuda:0'), tensor(0.9648, device='cuda:0'), tensor(1.0022, device='cuda:0'), tensor(1.0228, device='cuda:0'), tensor(1.0519, device='cuda:0'), tensor(1.0183, device='cuda:0'), tensor(0.9936, device='cuda:0'), tensor(0.9674, device='cuda:0'), tensor(0.9936, device='cuda:0'), tensor(0.9851, device='cuda:0'), tensor(0.9913, device='cuda:0'), tensor(0.9595, device='cuda:0'), tensor(0.9827, device='cuda:0'), tensor(0.9945, device='cuda:0'), tensor(1.0656, device='cuda:0'), tensor(1.0573, device='cuda:0'), tensor(1.0573, device='cuda:0'), tensor(1.0042, device='cuda:0'), tensor(0.9969, device='cuda:0'), tensor(1.0094, device='cuda:0'), tensor(0.9855, device='cuda:0'), tensor(1.0031, device='cuda:0'), tensor(0.9938, device='cuda:0'), tensor(1.0169, device='cuda:0'), tensor(1., device='cuda:0'), tensor(1.0073, device='cuda:0'), tensor(0.9990, device='cuda:0'), tensor(1.0062, device='cuda:0'), tensor(0.9670, device='cuda:0'), tensor(0.9606, device='cuda:0'), tensor(0.9348, device='cuda:0'), tensor(0.9712, device='cuda:0'), tensor(0.9816, device='cuda:0'), tensor(1.0011, device='cuda:0'), tensor(0.9901, device='cuda:0'), tensor(1.0033, device='cuda:0'), tensor(1.0188, device='cuda:0'), tensor(1.0244, device='cuda:0'), tensor(1.0154, device='cuda:0'), tensor(1.0033, device='cuda:0'), tensor(0.9935, device='cuda:0'), tensor(0.9881, device='cuda:0'), tensor(0.9903, device='cuda:0'), tensor(0.9804, device='cuda:0'), tensor(0.9421, device='cuda:0'), tensor(0.9257, device='cuda:0'), tensor(0.9344, device='cuda:0'), tensor(0.9606, device='cuda:0'), tensor(0.9681, device='cuda:0'), tensor(1.0071, device='cuda:0'), tensor(1.0145, device='cuda:0'), tensor(1.0488, device='cuda:0'), tensor(1.0118, device='cuda:0'), tensor(1.0060, device='cuda:0'), tensor(0.9872, device='cuda:0'), tensor(1.0303, device='cuda:0'), tensor(1.1290, device='cuda:0'), tensor(1.1249, device='cuda:0'), tensor(1.0827, device='cuda:0'), tensor(0.9885, device='cuda:0'), tensor(0.9780, device='cuda:0'), tensor(0.9707, device='cuda:0'), tensor(0.9491, device='cuda:0'), tensor(0.9197, device='cuda:0'), tensor(0.9267, device='cuda:0'), tensor(0.9475, device='cuda:0'), tensor(0.9790, device='cuda:0'), tensor(0.9360, device='cuda:0'), tensor(0.9363, device='cuda:0'), tensor(0.9667, device='cuda:0'), tensor(1.0261, device='cuda:0'), tensor(1.0504, device='cuda:0'), tensor(1., device='cuda:0'), tensor(0.9504, device='cuda:0'), tensor(0.9161, device='cuda:0'), tensor(0.8942, device='cuda:0'), tensor(0.8764, device='cuda:0'), tensor(0.8338, device='cuda:0'), tensor(0.8941, device='cuda:0'), tensor(0.9404, device='cuda:0'), tensor(0.9576, device='cuda:0'), tensor(0.8508, device='cuda:0'), tensor(0.8934, device='cuda:0'), tensor(0.8705, device='cuda:0'), tensor(1.0832, device='cuda:0'), tensor(1.1228, device='cuda:0'), tensor(1.2298, device='cuda:0'), tensor(1.0801, device='cuda:0'), tensor(0.9877, device='cuda:0'), tensor(0.9877, device='cuda:0'), tensor(0.9614, device='cuda:0'), tensor(0.9844, device='cuda:0'), tensor(0.9829, device='cuda:0'), tensor(1.1077, device='cuda:0'), tensor(1.1204, device='cuda:0'), tensor(1.1356, device='cuda:0'), tensor(1.0639, device='cuda:0'), tensor(1.0339, device='cuda:0'), tensor(0.9972, device='cuda:0'), tensor(0.9823, device='cuda:0'), tensor(0.9685, device='cuda:0'), tensor(1.0056, device='cuda:0'), tensor(1., device='cuda:0'), tensor(0.9986, device='cuda:0'), tensor(0.9875, device='cuda:0'), tensor(0.9986, device='cuda:0'), tensor(1.0141, device='cuda:0'), tensor(1.1543, device='cuda:0'), tensor(1.1335, device='cuda:0'), tensor(1.1297, device='cuda:0'), tensor(0.9550, device='cuda:0'), tensor(1.0221, device='cuda:0'), tensor(1.0272, device='cuda:0'), tensor(1.0178, device='cuda:0'), tensor(0.9460, device='cuda:0'), tensor(0.9291, device='cuda:0'), tensor(0.9875, device='cuda:0'), tensor(1.0063, device='cuda:0'), tensor(1.0349, device='cuda:0'), tensor(1.0418, device='cuda:0'), tensor(1.0631, device='cuda:0'), tensor(1.0812, device='cuda:0')]\n"
          ],
          "name": "stdout"
        },
        {
          "output_type": "execute_result",
          "data": {
            "text/plain": [
              "Text(0.5, 1.0, 'pred vs real')"
            ]
          },
          "metadata": {
            "tags": []
          },
          "execution_count": 70
        },
        {
          "output_type": "display_data",
          "data": {
            "image/png": "[encoded data removed]",
            "text/plain": [
              "<Figure size 1440x720 with 1 Axes>"
            ]
          },
          "metadata": {
            "tags": [],
            "needs_background": "light"
          }
        }
      ]
    }
  ]
}