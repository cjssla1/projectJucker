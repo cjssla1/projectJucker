{
  "nbformat": 4,
  "nbformat_minor": 0,
  "metadata": {
    "colab": {
      "name": "lstm_Test.ipynb",
      "provenance": [],
      "collapsed_sections": [],
      "authorship_tag": "ABX9TyM5Fo702MyPgpM6B+2XMLYQ"
    },
    "kernelspec": {
      "name": "python3",
      "display_name": "Python 3"
    },
    "accelerator": "GPU"
  },
  "cells": [
    {
      "cell_type": "code",
      "metadata": {
        "id": "7Lj99UuTmJP1",
        "colab_type": "code",
        "outputId": "ac887822-3f20-4cda-e962-ce7dc247c5e8",
        "colab": {
          "base_uri": "https://localhost:8080/",
          "height": 341
        }
      },
      "source": [
        "!pip install torch torchvision\n",
        "!pip install -U finance-datareader\n"
      ],
      "execution_count": 40,
      "outputs": [
        {
          "output_type": "stream",
          "text": [
            "Requirement already satisfied: torch in /usr/local/lib/python3.6/dist-packages (1.5.0+cu101)\n",
            "Requirement already satisfied: torchvision in /usr/local/lib/python3.6/dist-packages (0.6.0+cu101)\n",
            "Requirement already satisfied: future in /usr/local/lib/python3.6/dist-packages (from torch) (0.16.0)\n",
            "Requirement already satisfied: numpy in /usr/local/lib/python3.6/dist-packages (from torch) (1.18.4)\n",
            "Requirement already satisfied: pillow>=4.1.1 in /usr/local/lib/python3.6/dist-packages (from torchvision) (7.0.0)\n",
            "Requirement already up-to-date: finance-datareader in /usr/local/lib/python3.6/dist-packages (0.9.6)\n",
            "Requirement already satisfied, skipping upgrade: requests>=2.3.0 in /usr/local/lib/python3.6/dist-packages (from finance-datareader) (2.23.0)\n",
            "Requirement already satisfied, skipping upgrade: lxml in /usr/local/lib/python3.6/dist-packages (from finance-datareader) (4.2.6)\n",
            "Requirement already satisfied, skipping upgrade: pandas>=0.19.2 in /usr/local/lib/python3.6/dist-packages (from finance-datareader) (1.0.4)\n",
            "Requirement already satisfied, skipping upgrade: requests-file in /usr/local/lib/python3.6/dist-packages (from finance-datareader) (1.5.1)\n",
            "Requirement already satisfied, skipping upgrade: certifi>=2017.4.17 in /usr/local/lib/python3.6/dist-packages (from requests>=2.3.0->finance-datareader) (2020.4.5.1)\n",
            "Requirement already satisfied, skipping upgrade: chardet<4,>=3.0.2 in /usr/local/lib/python3.6/dist-packages (from requests>=2.3.0->finance-datareader) (3.0.4)\n",
            "Requirement already satisfied, skipping upgrade: urllib3!=1.25.0,!=1.25.1,<1.26,>=1.21.1 in /usr/local/lib/python3.6/dist-packages (from requests>=2.3.0->finance-datareader) (1.24.3)\n",
            "Requirement already satisfied, skipping upgrade: idna<3,>=2.5 in /usr/local/lib/python3.6/dist-packages (from requests>=2.3.0->finance-datareader) (2.9)\n",
            "Requirement already satisfied, skipping upgrade: numpy>=1.13.3 in /usr/local/lib/python3.6/dist-packages (from pandas>=0.19.2->finance-datareader) (1.18.4)\n",
            "Requirement already satisfied, skipping upgrade: python-dateutil>=2.6.1 in /usr/local/lib/python3.6/dist-packages (from pandas>=0.19.2->finance-datareader) (2.8.1)\n",
            "Requirement already satisfied, skipping upgrade: pytz>=2017.2 in /usr/local/lib/python3.6/dist-packages (from pandas>=0.19.2->finance-datareader) (2018.9)\n",
            "Requirement already satisfied, skipping upgrade: six in /usr/local/lib/python3.6/dist-packages (from requests-file->finance-datareader) (1.12.0)\n"
          ],
          "name": "stdout"
        }
      ]
    },
    {
      "cell_type": "code",
      "metadata": {
        "id": "cewIb01TmOBe",
        "colab_type": "code",
        "colab": {}
      },
      "source": [
        "import FinanceDataReader as fdr\n",
        "import datetime\n",
        "import torch\n",
        "import torch.nn as nn\n",
        "from torch.utils.data import Dataset, DataLoader\n",
        "import torch.optim as optim\n",
        "import numpy as np\n",
        "import argparse\n",
        "import time\n",
        "from copy import deepcopy # Add Deepcopy for args\n",
        "from sklearn.metrics import mean_absolute_error\n",
        "import FinanceDataReader as fdr"
      ],
      "execution_count": 0,
      "outputs": []
    },
    {
      "cell_type": "code",
      "metadata": {
        "id": "BvQXGWmIhJpB",
        "colab_type": "code",
        "outputId": "3a9fbbb4-697c-4aa4-cd45-d2a61daf2670",
        "colab": {
          "base_uri": "https://localhost:8080/",
          "height": 35
        }
      },
      "source": [
        "from google.colab import drive\n",
        "drive.mount('/content/gdrive')"
      ],
      "execution_count": 42,
      "outputs": [
        {
          "output_type": "stream",
          "text": [
            "Drive already mounted at /content/gdrive; to attempt to forcibly remount, call drive.mount(\"/content/gdrive\", force_remount=True).\n"
          ],
          "name": "stdout"
        }
      ]
    },
    {
      "cell_type": "code",
      "metadata": {
        "id": "bBSXsheb8LYX",
        "colab_type": "code",
        "colab": {}
      },
      "source": [
        "class StockDataset(Dataset):\n",
        "    \n",
        "    def __init__(self, symbol, x_frames, y_frames, start, end):\n",
        "        \n",
        "        self.symbol = symbol\n",
        "        self.x_frames = x_frames\n",
        "        self.y_frames = y_frames\n",
        "        \n",
        "        self.start = datetime.datetime(*start)\n",
        "        self.end = datetime.datetime(*end)\n",
        "\n",
        "        self.data = fdr.DataReader(self.symbol, self.start, self.end)\n",
        "        print(self.data.isna().sum())\n",
        "        \n",
        "    def __len__(self):\n",
        "        return len(self.data) - (self.x_frames + self.y_frames) + 1\n",
        "    \n",
        "    def __getitem__(self, idx):\n",
        "        idx += self.x_frames\n",
        "        data = self.data.iloc[idx-self.x_frames:idx+self.y_frames]\n",
        "        data = data[['High', 'Low', 'Open', 'Close', 'Change', 'Volume']]\n",
        "        data = data.apply(lambda x: (x+1) / (x[self.x_frames-1]+1))\n",
        "        data = data.values\n",
        "        X = data[:self.x_frames]\n",
        "        y = data[self.x_frames:]\n",
        "        \n",
        "        return X, y"
      ],
      "execution_count": 0,
      "outputs": []
    },
    {
      "cell_type": "code",
      "metadata": {
        "id": "yUS97FmKWKyd",
        "colab_type": "code",
        "colab": {}
      },
      "source": [
        "class TestDataset(Dataset):\n",
        "    \n",
        "    def __init__(self, symbol, x_frames, y_frames):\n",
        "        \n",
        "        self.symbol = symbol\n",
        "        self.x_frames = x_frames\n",
        "        self.y_frames = y_frames\n",
        "        \n",
        "        self.start = datetime.datetime.now() - datetime.timedelta(days=int(x_frames+y_frames)*2)\n",
        "        self.end = datetime.date.today()\n",
        "        self.data = fdr.DataReader(self.symbol, self.start, self.end)\n",
        "        self.data = self.data.tail(x_frames+y_frames)\n",
        "        \n",
        "    def __len__(self):\n",
        "        return len(self.data) - (self.x_frames + self.y_frames) + 1\n",
        "    \n",
        "    def __getitem__(self, idx):\n",
        "        idx += self.x_frames\n",
        "        data = self.data.iloc[idx-self.x_frames:idx+self.y_frames]\n",
        "        data = data[['High', 'Low', 'Open', 'Close', 'Change', 'Volume']]\n",
        "        data = data.apply(lambda x: (x+1) / (x[self.x_frames-1]+1))\n",
        "        data = data.values\n",
        "        X = data[:self.x_frames]\n",
        "        y = data[self.x_frames:]\n",
        "        \n",
        "        return X, y"
      ],
      "execution_count": 0,
      "outputs": []
    },
    {
      "cell_type": "code",
      "metadata": {
        "id": "dmsemmlm87NZ",
        "colab_type": "code",
        "colab": {}
      },
      "source": [
        "class TestDataset2(Dataset):\n",
        "    \n",
        "    def __init__(self, symbol, x_frames, y_frames):\n",
        "        \n",
        "        self.symbol = symbol\n",
        "        self.x_frames = x_frames\n",
        "        self.y_frames = y_frames\n",
        "        \n",
        "        self.start = datetime.datetime.now() - datetime.timedelta(days=int(x_frames+y_frames)*2)\n",
        "        self.end = datetime.date.today()\n",
        "        self.data = fdr.DataReader(self.symbol, self.start, self.end)\n",
        "        self.data = self.data.tail(x_frames+y_frames)\n",
        "        \n",
        "    def __len__(self):\n",
        "        return len(self.data) - (self.x_frames + self.y_frames) + 1\n",
        "    \n",
        "    def __getitem__(self, idx):\n",
        "        idx += self.x_frames\n",
        "        data = self.data.iloc[idx-self.x_frames:idx+self.y_frames]\n",
        "        data = data[['High', 'Low', 'Open', 'Close', 'Change', 'Volume']]\n",
        "        #data = data.apply(lambda x: (x+1) / (x[self.x_frames-1]+1))\n",
        "        data = data.values\n",
        "        X = data[:self.x_frames]\n",
        "        y = data[self.x_frames:]\n",
        "        \n",
        "        return X, y"
      ],
      "execution_count": 0,
      "outputs": []
    },
    {
      "cell_type": "code",
      "metadata": {
        "id": "lQUj3Koj3viS",
        "colab_type": "code",
        "colab": {}
      },
      "source": [
        "class PredictDataset(Dataset):\n",
        "    \n",
        "    def __init__(self, symbol, x_frames):\n",
        "        \n",
        "        self.symbol = symbol\n",
        "        self.x_frames = x_frames\n",
        "        \n",
        "        self.start = datetime.datetime.now() - datetime.timedelta(days=(x_frames*2))\n",
        "        self.end = datetime.date.today()\n",
        "        self.data = fdr.DataReader(self.symbol, self.start, self.end)\n",
        "        self.data = self.data.tail(x_frames)\n",
        "        \n",
        "    def __len__(self):\n",
        "        return len(self.data) - (self.x_frames) + 1\n",
        "    \n",
        "    def __getitem__(self, idx):\n",
        "        idx += self.x_frames\n",
        "        data = self.data.iloc[idx-self.x_frames:idx]\n",
        "        data = data[['High', 'Low', 'Open', 'Close', 'Change', 'Volume']]\n",
        "        data = data.apply(lambda x: (x+1) / (x[self.x_frames-1]+1))\n",
        "        data = data.values\n",
        "        X = data[:self.x_frames]\n",
        "        \n",
        "        return X"
      ],
      "execution_count": 0,
      "outputs": []
    },
    {
      "cell_type": "code",
      "metadata": {
        "id": "dC9kbqbxGJC3",
        "colab_type": "code",
        "colab": {}
      },
      "source": [
        "class PredictDataset2(Dataset):\n",
        "    \n",
        "    def __init__(self, symbol, x_frames):\n",
        "        \n",
        "        self.symbol = symbol\n",
        "        self.x_frames = x_frames\n",
        "        \n",
        "        self.start = datetime.datetime.now() - datetime.timedelta(days=(x_frames*2))\n",
        "        self.end = datetime.date.today()\n",
        "        self.data = fdr.DataReader(self.symbol, self.start, self.end)\n",
        "        self.data = self.data.tail(x_frames)\n",
        "        \n",
        "    def __len__(self):\n",
        "        return len(self.data) - (self.x_frames) + 1\n",
        "    \n",
        "    def __getitem__(self, idx):\n",
        "        idx += self.x_frames\n",
        "        data = self.data.iloc[idx-self.x_frames:idx]\n",
        "        data = data[['High', 'Low', 'Open', 'Close', 'Change', 'Volume']]\n",
        "        #data = data.apply(lambda x: (x+1) / (x[self.x_frames-1]+1))\n",
        "        data = data.values\n",
        "        X = data[:self.x_frames]\n",
        "        \n",
        "        return X"
      ],
      "execution_count": 0,
      "outputs": []
    },
    {
      "cell_type": "code",
      "metadata": {
        "id": "3_Bk-ZX4mcnL",
        "colab_type": "code",
        "colab": {}
      },
      "source": [
        "class LSTM(nn.Module):\n",
        "    \n",
        "    def __init__(self, input_dim, hidden_dim, output_dim, num_layers, batch_size):\n",
        "        super(LSTM, self).__init__()\n",
        "        self.input_dim = input_dim \n",
        "        self.hidden_dim = hidden_dim\n",
        "        self.output_dim = output_dim\n",
        "        self.num_layers = num_layers\n",
        "\n",
        "        self.batch_size = batch_size\n",
        "        \n",
        "        self.lstm = nn.LSTM(self.input_dim, self.hidden_dim, self.num_layers)\n",
        "        self.hidden = self.init_hidden()\n",
        "        self.regressor = self.make_regressor()\n",
        "        \n",
        "    def init_hidden(self):\n",
        "        return (torch.zeros(self.num_layers, self.batch_size, self.hidden_dim),\n",
        "                torch.zeros(self.num_layers, self.batch_size, self.hidden_dim))\n",
        "    \n",
        "    def make_regressor(self):\n",
        "        layers = []\n",
        "        \n",
        "        layers.append(nn.Linear(self.hidden_dim, self.hidden_dim // 2))\n",
        "        layers.append(nn.ReLU())\n",
        "        layers.append(nn.Linear(self.hidden_dim // 2, self.output_dim))\n",
        "        regressor = nn.Sequential(*layers)\n",
        "        return regressor\n",
        "    \n",
        "    def forward(self, x):\n",
        "        lstm_out, self.hidden = self.lstm(x, self.hidden)\n",
        "        y_pred = self.regressor(lstm_out[-1].view(self.batch_size, -1))\n",
        "        return y_pred"
      ],
      "execution_count": 0,
      "outputs": []
    },
    {
      "cell_type": "code",
      "metadata": {
        "id": "jaYA8Fntf-_k",
        "colab_type": "code",
        "colab": {}
      },
      "source": [
        "#테스트 데이터 생성\n",
        "symbols = \"001040,001450,024110,020150,102110,071050,086790,003670,032830,010950,005830,005940,180640,081660,003410,004020,005490,000120,051900,002790,122630,047810,011170,128940,005380,078930,011780,021240,036460,051910,006800,035420,034220,097950,011070,008770,000210,251270,000080,000720,018880,011790,005387,030200,018260,033780,008560,153130,012510,271560,012330,035720,015760,003550,028260,161390,028050,029780,007070,009540,069500,036570,009150,096770,090430,005930,005935,241560,105560,252670,000270,032640,004170,086280,012750,000660,010130,267250,004990,066570,009830,282330,023530,000810,316140,016360,139480,009240,017670,088980,034730,006400,000100,207940,006360,055550,035250,010140,007310,068270\".split(\",\")"
      ],
      "execution_count": 0,
      "outputs": []
    },
    {
      "cell_type": "code",
      "metadata": {
        "id": "T-w0sPLzMK3i",
        "colab_type": "code",
        "outputId": "860098c8-b914-4b96-92ed-854cd35be971",
        "colab": {
          "base_uri": "https://localhost:8080/",
          "height": 161
        }
      },
      "source": [
        "batch_size = 1\n",
        "input_dim = 6\n",
        "hidden_dim = 50\n",
        "num_layers = 1\n",
        "input_frame = 5\n",
        "output_frame = input_frame\n",
        "\n",
        "model = LSTM(input_dim,hidden_dim,output_frame,num_layers,batch_size)\n",
        "modelPath = '/content/gdrive/My Drive/LSTM_batch_1_model.pt'\n",
        "model.load_state_dict(torch.load(modelPath))\n",
        "device = 'cuda' if torch.cuda.is_available() else 'cpu'\n",
        "\n",
        "model.to(device)"
      ],
      "execution_count": 48,
      "outputs": [
        {
          "output_type": "execute_result",
          "data": {
            "text/plain": [
              "LSTM(\n",
              "  (lstm): LSTM(6, 50)\n",
              "  (regressor): Sequential(\n",
              "    (0): Linear(in_features=50, out_features=25, bias=True)\n",
              "    (1): ReLU()\n",
              "    (2): Linear(in_features=25, out_features=5, bias=True)\n",
              "  )\n",
              ")"
            ]
          },
          "metadata": {
            "tags": []
          },
          "execution_count": 48
        }
      ]
    },
    {
      "cell_type": "code",
      "metadata": {
        "id": "tfTMmwCehpm7",
        "colab_type": "code",
        "outputId": "fd293913-89b6-4d3b-ff55-945f219fba4b",
        "colab": {
          "base_uri": "https://localhost:8080/",
          "height": 1000
        }
      },
      "source": [
        "result = {}\n",
        "for sb in symbols:\n",
        "    testset = TestDataset(sb,input_frame,output_frame)\n",
        "    \n",
        "    model.eval()\n",
        "    plr = DataLoader(testset,batch_size,shuffle=False)\n",
        "\n",
        "    for (X,y) in plr:\n",
        "        X = X.transpose(0, 1).float().to(device)\n",
        "        y_true = y[:, :, 3].float().to(device)\n",
        "        model.hidden = [hidden.to(device) for hidden in model.init_hidden()]\n",
        "        y_pred = model(X)\n",
        "        y_pred = y_pred.view(-1)\n",
        "        y_true = y_true.view(-1)\n",
        "        y_pred = np.exp(y_pred.cpu().detach().numpy())\n",
        "        y_true = np.exp(y_true.cpu().detach().numpy())\n",
        "        result[sb] = (y_pred/y_true)[-1]\n",
        "        print((y_pred/y_true)[-1])\n"
      ],
      "execution_count": 79,
      "outputs": [
        {
          "output_type": "stream",
          "text": [
            "0.9797095\n",
            "0.91459244\n",
            "0.820266\n",
            "0.95452034\n",
            "0.8964393\n",
            "0.92474073\n",
            "0.92775613\n",
            "0.88665897\n",
            "0.8821902\n",
            "0.9046159\n",
            "0.8831923\n",
            "0.87624925\n",
            "0.9308756\n",
            "0.8737692\n",
            "0.91618085\n",
            "0.86394376\n",
            "0.87773\n",
            "0.95800567\n",
            "0.9550638\n",
            "0.9541481\n",
            "0.8174139\n",
            "0.9214692\n",
            "0.9523908\n",
            "0.8854588\n",
            "0.85582644\n",
            "0.9135455\n",
            "0.90534264\n",
            "0.88738936\n",
            "0.92850596\n",
            "0.8760541\n",
            "0.8593304\n",
            "0.95575655\n",
            "0.8118851\n",
            "0.9713855\n",
            "0.9375644\n",
            "0.93006015\n",
            "0.94729227\n",
            "0.92917943\n",
            "0.9280494\n",
            "0.89603597\n",
            "0.9300186\n",
            "0.95595\n",
            "0.85962254\n",
            "0.9408746\n",
            "1.0086863\n",
            "0.92705625\n",
            "0.8854994\n",
            "0.97855043\n",
            "1.0987465\n",
            "0.9886683\n",
            "0.8779526\n",
            "1.0262709\n",
            "0.9462973\n",
            "0.8274685\n",
            "0.85848385\n",
            "0.8861598\n",
            "0.8711849\n",
            "0.93376845\n",
            "1.0044742\n",
            "0.8607979\n",
            "0.89628947\n",
            "0.95873904\n",
            "0.9285807\n",
            "0.9154195\n",
            "0.9086651\n",
            "0.88887805\n",
            "0.8718678\n",
            "0.8487221\n",
            "0.8680432\n",
            "1.1473544\n",
            "0.91110796\n",
            "0.96597964\n",
            "0.9495464\n",
            "0.8706447\n",
            "0.97199035\n",
            "0.87687886\n",
            "0.9556367\n",
            "0.9398146\n",
            "0.9204529\n",
            "0.9187634\n",
            "0.9351529\n",
            "1.05053\n",
            "0.93080956\n",
            "0.87871754\n",
            "0.8820007\n",
            "0.8801068\n",
            "0.9372795\n",
            "0.907764\n",
            "0.9427227\n",
            "0.98899144\n",
            "0.90859985\n",
            "0.94639635\n",
            "0.9789174\n",
            "0.91307724\n",
            "0.94760025\n",
            "0.8321677\n",
            "0.92200696\n",
            "0.657605\n",
            "0.9426035\n",
            "0.79897636\n"
          ],
          "name": "stdout"
        }
      ]
    },
    {
      "cell_type": "code",
      "metadata": {
        "id": "RbgrhqBs8d7c",
        "colab_type": "code",
        "colab": {
          "base_uri": "https://localhost:8080/",
          "height": 1000
        },
        "outputId": "1b061b5c-0567-4061-eba3-10cf4ad48ce3"
      },
      "source": [
        "result2 = {}\n",
        "for sb in symbols:\n",
        "    testset2 = TestDataset2(sb,input_frame,output_frame)\n",
        "    \n",
        "    plr = DataLoader(testset2,batch_size,shuffle=False)\n",
        "\n",
        "    for (X,y) in plr:\n",
        "        y_true = y[:, :, 3].float().to(device)\n",
        "        y_true = y_true.view(-1)\n",
        "        result2[sb] = y_true[-1]\n",
        "        print(y_true[-1])\n"
      ],
      "execution_count": 80,
      "outputs": [
        {
          "output_type": "stream",
          "text": [
            "tensor(91600., device='cuda:0')\n",
            "tensor(25850., device='cuda:0')\n",
            "tensor(9730., device='cuda:0')\n",
            "tensor(47900., device='cuda:0')\n",
            "tensor(29105., device='cuda:0')\n",
            "tensor(55600., device='cuda:0')\n",
            "tensor(31250., device='cuda:0')\n",
            "tensor(61000., device='cuda:0')\n",
            "tensor(50400., device='cuda:0')\n",
            "tensor(76300., device='cuda:0')\n",
            "tensor(47800., device='cuda:0')\n",
            "tensor(10800., device='cuda:0')\n",
            "tensor(90700., device='cuda:0')\n",
            "tensor(42800., device='cuda:0')\n",
            "tensor(5400., device='cuda:0')\n",
            "tensor(24550., device='cuda:0')\n",
            "tensor(200500., device='cuda:0')\n",
            "tensor(164000., device='cuda:0')\n",
            "tensor(1401000., device='cuda:0')\n",
            "tensor(59100., device='cuda:0')\n",
            "tensor(13160., device='cuda:0')\n",
            "tensor(26850., device='cuda:0')\n",
            "tensor(193000., device='cuda:0')\n",
            "tensor(260500., device='cuda:0')\n",
            "tensor(111000., device='cuda:0')\n",
            "tensor(40250., device='cuda:0')\n",
            "tensor(76400., device='cuda:0')\n",
            "tensor(73000., device='cuda:0')\n",
            "tensor(31350., device='cuda:0')\n",
            "tensor(434000., device='cuda:0')\n",
            "tensor(6960., device='cuda:0')\n",
            "tensor(231000., device='cuda:0')\n",
            "tensor(12100., device='cuda:0')\n",
            "tensor(299000., device='cuda:0')\n",
            "tensor(153500., device='cuda:0')\n",
            "tensor(83200., device='cuda:0')\n",
            "tensor(94900., device='cuda:0')\n",
            "tensor(97000., device='cuda:0')\n",
            "tensor(37850., device='cuda:0')\n",
            "tensor(37200., device='cuda:0')\n",
            "tensor(10200., device='cuda:0')\n",
            "tensor(58600., device='cuda:0')\n",
            "tensor(67900., device='cuda:0')\n",
            "tensor(25300., device='cuda:0')\n",
            "tensor(184500., device='cuda:0')\n",
            "tensor(88300., device='cuda:0')\n",
            "tensor(3610., device='cuda:0')\n",
            "tensor(102360., device='cuda:0')\n",
            "tensor(105500., device='cuda:0')\n",
            "tensor(130500., device='cuda:0')\n",
            "tensor(219000., device='cuda:0')\n",
            "tensor(251000., device='cuda:0')\n",
            "tensor(22300., device='cuda:0')\n",
            "tensor(73600., device='cuda:0')\n",
            "tensor(112000., device='cuda:0')\n",
            "tensor(25750., device='cuda:0')\n",
            "tensor(13500., device='cuda:0')\n",
            "tensor(30900., device='cuda:0')\n",
            "tensor(41400., device='cuda:0')\n",
            "tensor(102500., device='cuda:0')\n",
            "tensor(29115., device='cuda:0')\n",
            "tensor(805000., device='cuda:0')\n",
            "tensor(131500., device='cuda:0')\n",
            "tensor(126500., device='cuda:0')\n",
            "tensor(175000., device='cuda:0')\n",
            "tensor(55500., device='cuda:0')\n",
            "tensor(47750., device='cuda:0')\n",
            "tensor(27050., device='cuda:0')\n",
            "tensor(38050., device='cuda:0')\n",
            "tensor(5060., device='cuda:0')\n",
            "tensor(36550., device='cuda:0')\n",
            "tensor(13300., device='cuda:0')\n",
            "tensor(252500., device='cuda:0')\n",
            "tensor(126000., device='cuda:0')\n",
            "tensor(93500., device='cuda:0')\n",
            "tensor(90400., device='cuda:0')\n",
            "tensor(386500., device='cuda:0')\n",
            "tensor(281000., device='cuda:0')\n",
            "tensor(36400., device='cuda:0')\n",
            "tensor(63000., device='cuda:0')\n",
            "tensor(16900., device='cuda:0')\n",
            "tensor(154500., device='cuda:0')\n",
            "tensor(93300., device='cuda:0')\n",
            "tensor(202000., device='cuda:0')\n",
            "tensor(10050., device='cuda:0')\n",
            "tensor(30900., device='cuda:0')\n",
            "tensor(118000., device='cuda:0')\n",
            "tensor(90800., device='cuda:0')\n",
            "tensor(223500., device='cuda:0')\n",
            "tensor(11700., device='cuda:0')\n",
            "tensor(257000., device='cuda:0')\n",
            "tensor(371500., device='cuda:0')\n",
            "tensor(51800., device='cuda:0')\n",
            "tensor(665000., device='cuda:0')\n",
            "tensor(29450., device='cuda:0')\n",
            "tensor(35000., device='cuda:0')\n",
            "tensor(25650., device='cuda:0')\n",
            "tensor(6730., device='cuda:0')\n",
            "tensor(571000., device='cuda:0')\n",
            "tensor(256500., device='cuda:0')\n"
          ],
          "name": "stdout"
        }
      ]
    },
    {
      "cell_type": "code",
      "metadata": {
        "id": "gAFRSGeGWfM9",
        "colab_type": "code",
        "colab": {}
      },
      "source": [
        "pred = []\n",
        "real = []\n",
        "result3 = {}\n",
        "for i in result:\n",
        "    result3[i] = result[i] * result2[i]\n",
        "    pred.append(result3[i])\n",
        "    real.append(result2[i])"
      ],
      "execution_count": 0,
      "outputs": []
    },
    {
      "cell_type": "code",
      "metadata": {
        "id": "CbkSTjpD-HiP",
        "colab_type": "code",
        "colab": {
          "base_uri": "https://localhost:8080/",
          "height": 109
        },
        "outputId": "484c678b-94d2-417b-9c8c-40ffd87fef77"
      },
      "source": [
        "print(result3)\n",
        "print(result2)\n",
        "print(pred)\n",
        "print(real)"
      ],
      "execution_count": 87,
      "outputs": [
        {
          "output_type": "stream",
          "text": [
            "{'001040': tensor(89741.3906, device='cuda:0'), '001450': tensor(23642.2148, device='cuda:0'), '024110': tensor(7981.1885, device='cuda:0'), '020150': tensor(45721.5234, device='cuda:0'), '102110': tensor(26090.8672, device='cuda:0'), '071050': tensor(51415.5859, device='cuda:0'), '086790': tensor(28992.3789, device='cuda:0'), '003670': tensor(54086.1953, device='cuda:0'), '032830': tensor(44462.3867, device='cuda:0'), '010950': tensor(69022.1953, device='cuda:0'), '005830': tensor(42216.5938, device='cuda:0'), '005940': tensor(9463.4922, device='cuda:0'), '180640': tensor(84430.4141, device='cuda:0'), '081660': tensor(37397.3242, device='cuda:0'), '003410': tensor(4947.3765, device='cuda:0'), '004020': tensor(21209.8184, device='cuda:0'), '005490': tensor(175984.8750, device='cuda:0'), '000120': tensor(157112.9219, device='cuda:0'), '051900': tensor(1338044.3750, device='cuda:0'), '002790': tensor(56390.1523, device='cuda:0'), '122630': tensor(10757.1670, device='cuda:0'), '047810': tensor(24741.4492, device='cuda:0'), '011170': tensor(183811.4219, device='cuda:0'), '128940': tensor(230662.0312, device='cuda:0'), '005380': tensor(94996.7344, device='cuda:0'), '078930': tensor(36770.2070, device='cuda:0'), '011780': tensor(69168.1797, device='cuda:0'), '021240': tensor(64779.4219, device='cuda:0'), '036460': tensor(29108.6621, device='cuda:0'), '051910': tensor(380207.4688, device='cuda:0'), '006800': tensor(5980.9395, device='cuda:0'), '035420': tensor(220779.7656, device='cuda:0'), '034220': tensor(9823.8096, device='cuda:0'), '097950': tensor(290444.2500, device='cuda:0'), '011070': tensor(143916.1250, device='cuda:0'), '008770': tensor(77381.0078, device='cuda:0'), '000210': tensor(89898.0391, device='cuda:0'), '251270': tensor(90130.4062, device='cuda:0'), '000080': tensor(35126.6680, device='cuda:0'), '000720': tensor(33332.5391, device='cuda:0'), '018880': tensor(9486.1895, device='cuda:0'), '011790': tensor(56018.6719, device='cuda:0'), '005387': tensor(58368.3711, device='cuda:0'), '030200': tensor(23804.1270, device='cuda:0'), '018260': tensor(186102.6250, device='cuda:0'), '033780': tensor(81859.0703, device='cuda:0'), '008560': tensor(3196.6528, device='cuda:0'), '153130': tensor(100164.4219, device='cuda:0'), '012510': tensor(115917.7578, device='cuda:0'), '271560': tensor(129021.2188, device='cuda:0'), '012330': tensor(192271.6094, device='cuda:0'), '035720': tensor(257593.9844, device='cuda:0'), '015760': tensor(21102.4297, device='cuda:0'), '003550': tensor(60901.6836, device='cuda:0'), '028260': tensor(96150.1875, device='cuda:0'), '161390': tensor(22818.6152, device='cuda:0'), '028050': tensor(11760.9961, device='cuda:0'), '029780': tensor(28853.4453, device='cuda:0'), '007070': tensor(41585.2305, device='cuda:0'), '009540': tensor(88231.7812, device='cuda:0'), '069500': tensor(26095.4688, device='cuda:0'), '036570': tensor(771784.9375, device='cuda:0'), '009150': tensor(122108.3594, device='cuda:0'), '096770': tensor(115800.5703, device='cuda:0'), '090430': tensor(159016.3906, device='cuda:0'), '005930': tensor(49332.7305, device='cuda:0'), '005935': tensor(41631.6875, device='cuda:0'), '241560': tensor(22957.9336, device='cuda:0'), '105560': tensor(33029.0430, device='cuda:0'), '252670': tensor(5805.6133, device='cuda:0'), '000270': tensor(33300.9961, device='cuda:0'), '032640': tensor(12847.5293, device='cuda:0'), '004170': tensor(239760.4688, device='cuda:0'), '086280': tensor(109701.2344, device='cuda:0'), '012750': tensor(90881.0938, device='cuda:0'), '000660': tensor(79269.8516, device='cuda:0'), '010130': tensor(369353.5625, device='cuda:0'), '267250': tensor(264087.9062, device='cuda:0'), '004990': tensor(33504.4844, device='cuda:0'), '066570': tensor(57882.0938, device='cuda:0'), '009830': tensor(15804.0840, device='cuda:0'), '282330': tensor(162306.8750, device='cuda:0'), '023530': tensor(86844.5312, device='cuda:0'), '000810': tensor(177500.9375, device='cuda:0'), '316140': tensor(8864.1064, device='cuda:0'), '016360': tensor(27195.3008, device='cuda:0'), '139480': tensor(110598.9844, device='cuda:0'), '009240': tensor(82424.9766, device='cuda:0'), '017670': tensor(210698.5156, device='cuda:0'), '088980': tensor(11571.2002, device='cuda:0'), '034730': tensor(233510.1562, device='cuda:0'), '006400': tensor(351586.2500, device='cuda:0'), '000100': tensor(50707.9219, device='cuda:0'), '207940': tensor(607196.3750, device='cuda:0'), '006360': tensor(27906.8281, device='cuda:0'), '055550': tensor(29125.8691, device='cuda:0'), '035250': tensor(23649.4785, device='cuda:0'), '010140': tensor(4425.6816, device='cuda:0'), '007310': tensor(538226.6250, device='cuda:0'), '068270': tensor(204937.4375, device='cuda:0')}\n",
            "{'001040': tensor(91600., device='cuda:0'), '001450': tensor(25850., device='cuda:0'), '024110': tensor(9730., device='cuda:0'), '020150': tensor(47900., device='cuda:0'), '102110': tensor(29105., device='cuda:0'), '071050': tensor(55600., device='cuda:0'), '086790': tensor(31250., device='cuda:0'), '003670': tensor(61000., device='cuda:0'), '032830': tensor(50400., device='cuda:0'), '010950': tensor(76300., device='cuda:0'), '005830': tensor(47800., device='cuda:0'), '005940': tensor(10800., device='cuda:0'), '180640': tensor(90700., device='cuda:0'), '081660': tensor(42800., device='cuda:0'), '003410': tensor(5400., device='cuda:0'), '004020': tensor(24550., device='cuda:0'), '005490': tensor(200500., device='cuda:0'), '000120': tensor(164000., device='cuda:0'), '051900': tensor(1401000., device='cuda:0'), '002790': tensor(59100., device='cuda:0'), '122630': tensor(13160., device='cuda:0'), '047810': tensor(26850., device='cuda:0'), '011170': tensor(193000., device='cuda:0'), '128940': tensor(260500., device='cuda:0'), '005380': tensor(111000., device='cuda:0'), '078930': tensor(40250., device='cuda:0'), '011780': tensor(76400., device='cuda:0'), '021240': tensor(73000., device='cuda:0'), '036460': tensor(31350., device='cuda:0'), '051910': tensor(434000., device='cuda:0'), '006800': tensor(6960., device='cuda:0'), '035420': tensor(231000., device='cuda:0'), '034220': tensor(12100., device='cuda:0'), '097950': tensor(299000., device='cuda:0'), '011070': tensor(153500., device='cuda:0'), '008770': tensor(83200., device='cuda:0'), '000210': tensor(94900., device='cuda:0'), '251270': tensor(97000., device='cuda:0'), '000080': tensor(37850., device='cuda:0'), '000720': tensor(37200., device='cuda:0'), '018880': tensor(10200., device='cuda:0'), '011790': tensor(58600., device='cuda:0'), '005387': tensor(67900., device='cuda:0'), '030200': tensor(25300., device='cuda:0'), '018260': tensor(184500., device='cuda:0'), '033780': tensor(88300., device='cuda:0'), '008560': tensor(3610., device='cuda:0'), '153130': tensor(102360., device='cuda:0'), '012510': tensor(105500., device='cuda:0'), '271560': tensor(130500., device='cuda:0'), '012330': tensor(219000., device='cuda:0'), '035720': tensor(251000., device='cuda:0'), '015760': tensor(22300., device='cuda:0'), '003550': tensor(73600., device='cuda:0'), '028260': tensor(112000., device='cuda:0'), '161390': tensor(25750., device='cuda:0'), '028050': tensor(13500., device='cuda:0'), '029780': tensor(30900., device='cuda:0'), '007070': tensor(41400., device='cuda:0'), '009540': tensor(102500., device='cuda:0'), '069500': tensor(29115., device='cuda:0'), '036570': tensor(805000., device='cuda:0'), '009150': tensor(131500., device='cuda:0'), '096770': tensor(126500., device='cuda:0'), '090430': tensor(175000., device='cuda:0'), '005930': tensor(55500., device='cuda:0'), '005935': tensor(47750., device='cuda:0'), '241560': tensor(27050., device='cuda:0'), '105560': tensor(38050., device='cuda:0'), '252670': tensor(5060., device='cuda:0'), '000270': tensor(36550., device='cuda:0'), '032640': tensor(13300., device='cuda:0'), '004170': tensor(252500., device='cuda:0'), '086280': tensor(126000., device='cuda:0'), '012750': tensor(93500., device='cuda:0'), '000660': tensor(90400., device='cuda:0'), '010130': tensor(386500., device='cuda:0'), '267250': tensor(281000., device='cuda:0'), '004990': tensor(36400., device='cuda:0'), '066570': tensor(63000., device='cuda:0'), '009830': tensor(16900., device='cuda:0'), '282330': tensor(154500., device='cuda:0'), '023530': tensor(93300., device='cuda:0'), '000810': tensor(202000., device='cuda:0'), '316140': tensor(10050., device='cuda:0'), '016360': tensor(30900., device='cuda:0'), '139480': tensor(118000., device='cuda:0'), '009240': tensor(90800., device='cuda:0'), '017670': tensor(223500., device='cuda:0'), '088980': tensor(11700., device='cuda:0'), '034730': tensor(257000., device='cuda:0'), '006400': tensor(371500., device='cuda:0'), '000100': tensor(51800., device='cuda:0'), '207940': tensor(665000., device='cuda:0'), '006360': tensor(29450., device='cuda:0'), '055550': tensor(35000., device='cuda:0'), '035250': tensor(25650., device='cuda:0'), '010140': tensor(6730., device='cuda:0'), '007310': tensor(571000., device='cuda:0'), '068270': tensor(256500., device='cuda:0')}\n",
            "[tensor(89741.3906, device='cuda:0'), tensor(23642.2148, device='cuda:0'), tensor(7981.1885, device='cuda:0'), tensor(45721.5234, device='cuda:0'), tensor(26090.8672, device='cuda:0'), tensor(51415.5859, device='cuda:0'), tensor(28992.3789, device='cuda:0'), tensor(54086.1953, device='cuda:0'), tensor(44462.3867, device='cuda:0'), tensor(69022.1953, device='cuda:0'), tensor(42216.5938, device='cuda:0'), tensor(9463.4922, device='cuda:0'), tensor(84430.4141, device='cuda:0'), tensor(37397.3242, device='cuda:0'), tensor(4947.3765, device='cuda:0'), tensor(21209.8184, device='cuda:0'), tensor(175984.8750, device='cuda:0'), tensor(157112.9219, device='cuda:0'), tensor(1338044.3750, device='cuda:0'), tensor(56390.1523, device='cuda:0'), tensor(10757.1670, device='cuda:0'), tensor(24741.4492, device='cuda:0'), tensor(183811.4219, device='cuda:0'), tensor(230662.0312, device='cuda:0'), tensor(94996.7344, device='cuda:0'), tensor(36770.2070, device='cuda:0'), tensor(69168.1797, device='cuda:0'), tensor(64779.4219, device='cuda:0'), tensor(29108.6621, device='cuda:0'), tensor(380207.4688, device='cuda:0'), tensor(5980.9395, device='cuda:0'), tensor(220779.7656, device='cuda:0'), tensor(9823.8096, device='cuda:0'), tensor(290444.2500, device='cuda:0'), tensor(143916.1250, device='cuda:0'), tensor(77381.0078, device='cuda:0'), tensor(89898.0391, device='cuda:0'), tensor(90130.4062, device='cuda:0'), tensor(35126.6680, device='cuda:0'), tensor(33332.5391, device='cuda:0'), tensor(9486.1895, device='cuda:0'), tensor(56018.6719, device='cuda:0'), tensor(58368.3711, device='cuda:0'), tensor(23804.1270, device='cuda:0'), tensor(186102.6250, device='cuda:0'), tensor(81859.0703, device='cuda:0'), tensor(3196.6528, device='cuda:0'), tensor(100164.4219, device='cuda:0'), tensor(115917.7578, device='cuda:0'), tensor(129021.2188, device='cuda:0'), tensor(192271.6094, device='cuda:0'), tensor(257593.9844, device='cuda:0'), tensor(21102.4297, device='cuda:0'), tensor(60901.6836, device='cuda:0'), tensor(96150.1875, device='cuda:0'), tensor(22818.6152, device='cuda:0'), tensor(11760.9961, device='cuda:0'), tensor(28853.4453, device='cuda:0'), tensor(41585.2305, device='cuda:0'), tensor(88231.7812, device='cuda:0'), tensor(26095.4688, device='cuda:0'), tensor(771784.9375, device='cuda:0'), tensor(122108.3594, device='cuda:0'), tensor(115800.5703, device='cuda:0'), tensor(159016.3906, device='cuda:0'), tensor(49332.7305, device='cuda:0'), tensor(41631.6875, device='cuda:0'), tensor(22957.9336, device='cuda:0'), tensor(33029.0430, device='cuda:0'), tensor(5805.6133, device='cuda:0'), tensor(33300.9961, device='cuda:0'), tensor(12847.5293, device='cuda:0'), tensor(239760.4688, device='cuda:0'), tensor(109701.2344, device='cuda:0'), tensor(90881.0938, device='cuda:0'), tensor(79269.8516, device='cuda:0'), tensor(369353.5625, device='cuda:0'), tensor(264087.9062, device='cuda:0'), tensor(33504.4844, device='cuda:0'), tensor(57882.0938, device='cuda:0'), tensor(15804.0840, device='cuda:0'), tensor(162306.8750, device='cuda:0'), tensor(86844.5312, device='cuda:0'), tensor(177500.9375, device='cuda:0'), tensor(8864.1064, device='cuda:0'), tensor(27195.3008, device='cuda:0'), tensor(110598.9844, device='cuda:0'), tensor(82424.9766, device='cuda:0'), tensor(210698.5156, device='cuda:0'), tensor(11571.2002, device='cuda:0'), tensor(233510.1562, device='cuda:0'), tensor(351586.2500, device='cuda:0'), tensor(50707.9219, device='cuda:0'), tensor(607196.3750, device='cuda:0'), tensor(27906.8281, device='cuda:0'), tensor(29125.8691, device='cuda:0'), tensor(23649.4785, device='cuda:0'), tensor(4425.6816, device='cuda:0'), tensor(538226.6250, device='cuda:0'), tensor(204937.4375, device='cuda:0')]\n",
            "[tensor(91600., device='cuda:0'), tensor(25850., device='cuda:0'), tensor(9730., device='cuda:0'), tensor(47900., device='cuda:0'), tensor(29105., device='cuda:0'), tensor(55600., device='cuda:0'), tensor(31250., device='cuda:0'), tensor(61000., device='cuda:0'), tensor(50400., device='cuda:0'), tensor(76300., device='cuda:0'), tensor(47800., device='cuda:0'), tensor(10800., device='cuda:0'), tensor(90700., device='cuda:0'), tensor(42800., device='cuda:0'), tensor(5400., device='cuda:0'), tensor(24550., device='cuda:0'), tensor(200500., device='cuda:0'), tensor(164000., device='cuda:0'), tensor(1401000., device='cuda:0'), tensor(59100., device='cuda:0'), tensor(13160., device='cuda:0'), tensor(26850., device='cuda:0'), tensor(193000., device='cuda:0'), tensor(260500., device='cuda:0'), tensor(111000., device='cuda:0'), tensor(40250., device='cuda:0'), tensor(76400., device='cuda:0'), tensor(73000., device='cuda:0'), tensor(31350., device='cuda:0'), tensor(434000., device='cuda:0'), tensor(6960., device='cuda:0'), tensor(231000., device='cuda:0'), tensor(12100., device='cuda:0'), tensor(299000., device='cuda:0'), tensor(153500., device='cuda:0'), tensor(83200., device='cuda:0'), tensor(94900., device='cuda:0'), tensor(97000., device='cuda:0'), tensor(37850., device='cuda:0'), tensor(37200., device='cuda:0'), tensor(10200., device='cuda:0'), tensor(58600., device='cuda:0'), tensor(67900., device='cuda:0'), tensor(25300., device='cuda:0'), tensor(184500., device='cuda:0'), tensor(88300., device='cuda:0'), tensor(3610., device='cuda:0'), tensor(102360., device='cuda:0'), tensor(105500., device='cuda:0'), tensor(130500., device='cuda:0'), tensor(219000., device='cuda:0'), tensor(251000., device='cuda:0'), tensor(22300., device='cuda:0'), tensor(73600., device='cuda:0'), tensor(112000., device='cuda:0'), tensor(25750., device='cuda:0'), tensor(13500., device='cuda:0'), tensor(30900., device='cuda:0'), tensor(41400., device='cuda:0'), tensor(102500., device='cuda:0'), tensor(29115., device='cuda:0'), tensor(805000., device='cuda:0'), tensor(131500., device='cuda:0'), tensor(126500., device='cuda:0'), tensor(175000., device='cuda:0'), tensor(55500., device='cuda:0'), tensor(47750., device='cuda:0'), tensor(27050., device='cuda:0'), tensor(38050., device='cuda:0'), tensor(5060., device='cuda:0'), tensor(36550., device='cuda:0'), tensor(13300., device='cuda:0'), tensor(252500., device='cuda:0'), tensor(126000., device='cuda:0'), tensor(93500., device='cuda:0'), tensor(90400., device='cuda:0'), tensor(386500., device='cuda:0'), tensor(281000., device='cuda:0'), tensor(36400., device='cuda:0'), tensor(63000., device='cuda:0'), tensor(16900., device='cuda:0'), tensor(154500., device='cuda:0'), tensor(93300., device='cuda:0'), tensor(202000., device='cuda:0'), tensor(10050., device='cuda:0'), tensor(30900., device='cuda:0'), tensor(118000., device='cuda:0'), tensor(90800., device='cuda:0'), tensor(223500., device='cuda:0'), tensor(11700., device='cuda:0'), tensor(257000., device='cuda:0'), tensor(371500., device='cuda:0'), tensor(51800., device='cuda:0'), tensor(665000., device='cuda:0'), tensor(29450., device='cuda:0'), tensor(35000., device='cuda:0'), tensor(25650., device='cuda:0'), tensor(6730., device='cuda:0'), tensor(571000., device='cuda:0'), tensor(256500., device='cuda:0')]\n"
          ],
          "name": "stdout"
        }
      ]
    },
    {
      "cell_type": "code",
      "metadata": {
        "id": "lPbv3sbrA-ZJ",
        "colab_type": "code",
        "colab": {
          "base_uri": "https://localhost:8080/",
          "height": 639
        },
        "outputId": "0bb3f0a7-1be1-4f61-cdd4-68f73407816b"
      },
      "source": [
        "%matplotlib inline\n",
        "#데이터 생성과 화면 표시를 위한 라이브러리 호출\n",
        "import matplotlib.pyplot as plt\n",
        "from mpl_toolkits import mplot3d\n",
        "\n",
        "fig = plt.figure(figsize=(20,10))\n",
        "xl = [n for n in range(1,len(pred)+1)]\n",
        "\n",
        "# ====== test plot ====== #\n",
        "ax = fig.add_subplot(1, 1, 1)\n",
        "ax.plot(xl, pred, label='pred')\n",
        "ax.plot(xl, real, label='real')\n",
        "ax.set_xlabel('len')\n",
        "ax.set_ylabel('value')\n",
        "ax.grid()\n",
        "ax.legend()\n",
        "ax.set_title('pred vs real')"
      ],
      "execution_count": 89,
      "outputs": [
        {
          "output_type": "execute_result",
          "data": {
            "text/plain": [
              "Text(0.5, 1.0, 'pred vs real')"
            ]
          },
          "metadata": {
            "tags": []
          },
          "execution_count": 89
        },
        {
          "output_type": "display_data",
          "data": {
            "image/png": "[encoded data removed]",
            "text/plain": [
              "<Figure size 1440x720 with 1 Axes>"
            ]
          },
          "metadata": {
            "tags": [],
            "needs_background": "light"
          }
        }
      ]
    },
    {
      "cell_type": "code",
      "metadata": {
        "id": "r4SQiwmV3C9s",
        "colab_type": "code",
        "outputId": "01a48d53-43a0-4e40-d7e8-a4a5ed6452cf",
        "colab": {
          "base_uri": "https://localhost:8080/",
          "height": 390
        }
      },
      "source": [
        "ok = fdr.DataReader('001040')\n",
        "\n",
        "ok.tail(10)"
      ],
      "execution_count": 83,
      "outputs": [
        {
          "output_type": "execute_result",
          "data": {
            "text/html": [
              "<div>\n",
              "<style scoped>\n",
              "    .dataframe tbody tr th:only-of-type {\n",
              "        vertical-align: middle;\n",
              "    }\n",
              "\n",
              "    .dataframe tbody tr th {\n",
              "        vertical-align: top;\n",
              "    }\n",
              "\n",
              "    .dataframe thead th {\n",
              "        text-align: right;\n",
              "    }\n",
              "</style>\n",
              "<table border=\"1\" class=\"dataframe\">\n",
              "  <thead>\n",
              "    <tr style=\"text-align: right;\">\n",
              "      <th></th>\n",
              "      <th>Open</th>\n",
              "      <th>High</th>\n",
              "      <th>Low</th>\n",
              "      <th>Close</th>\n",
              "      <th>Volume</th>\n",
              "      <th>Change</th>\n",
              "    </tr>\n",
              "    <tr>\n",
              "      <th>Date</th>\n",
              "      <th></th>\n",
              "      <th></th>\n",
              "      <th></th>\n",
              "      <th></th>\n",
              "      <th></th>\n",
              "      <th></th>\n",
              "    </tr>\n",
              "  </thead>\n",
              "  <tbody>\n",
              "    <tr>\n",
              "      <th>2020-05-25</th>\n",
              "      <td>88600</td>\n",
              "      <td>91400</td>\n",
              "      <td>88100</td>\n",
              "      <td>91000</td>\n",
              "      <td>115356</td>\n",
              "      <td>0.027088</td>\n",
              "    </tr>\n",
              "    <tr>\n",
              "      <th>2020-05-26</th>\n",
              "      <td>91800</td>\n",
              "      <td>92400</td>\n",
              "      <td>88600</td>\n",
              "      <td>88800</td>\n",
              "      <td>122131</td>\n",
              "      <td>-0.024176</td>\n",
              "    </tr>\n",
              "    <tr>\n",
              "      <th>2020-05-27</th>\n",
              "      <td>89000</td>\n",
              "      <td>91500</td>\n",
              "      <td>88800</td>\n",
              "      <td>89100</td>\n",
              "      <td>124717</td>\n",
              "      <td>0.003378</td>\n",
              "    </tr>\n",
              "    <tr>\n",
              "      <th>2020-05-28</th>\n",
              "      <td>88500</td>\n",
              "      <td>89300</td>\n",
              "      <td>84900</td>\n",
              "      <td>87100</td>\n",
              "      <td>130808</td>\n",
              "      <td>-0.022447</td>\n",
              "    </tr>\n",
              "    <tr>\n",
              "      <th>2020-05-29</th>\n",
              "      <td>87000</td>\n",
              "      <td>91900</td>\n",
              "      <td>86100</td>\n",
              "      <td>91900</td>\n",
              "      <td>142308</td>\n",
              "      <td>0.055109</td>\n",
              "    </tr>\n",
              "    <tr>\n",
              "      <th>2020-06-01</th>\n",
              "      <td>90300</td>\n",
              "      <td>92000</td>\n",
              "      <td>89600</td>\n",
              "      <td>92000</td>\n",
              "      <td>71829</td>\n",
              "      <td>0.001088</td>\n",
              "    </tr>\n",
              "    <tr>\n",
              "      <th>2020-06-02</th>\n",
              "      <td>90400</td>\n",
              "      <td>92300</td>\n",
              "      <td>90300</td>\n",
              "      <td>91700</td>\n",
              "      <td>63436</td>\n",
              "      <td>-0.003261</td>\n",
              "    </tr>\n",
              "    <tr>\n",
              "      <th>2020-06-03</th>\n",
              "      <td>92400</td>\n",
              "      <td>93400</td>\n",
              "      <td>90500</td>\n",
              "      <td>91700</td>\n",
              "      <td>138883</td>\n",
              "      <td>0.000000</td>\n",
              "    </tr>\n",
              "    <tr>\n",
              "      <th>2020-06-04</th>\n",
              "      <td>91900</td>\n",
              "      <td>93300</td>\n",
              "      <td>90000</td>\n",
              "      <td>92000</td>\n",
              "      <td>92613</td>\n",
              "      <td>0.003272</td>\n",
              "    </tr>\n",
              "    <tr>\n",
              "      <th>2020-06-05</th>\n",
              "      <td>91400</td>\n",
              "      <td>91800</td>\n",
              "      <td>89800</td>\n",
              "      <td>91600</td>\n",
              "      <td>81251</td>\n",
              "      <td>-0.004348</td>\n",
              "    </tr>\n",
              "  </tbody>\n",
              "</table>\n",
              "</div>"
            ],
            "text/plain": [
              "             Open   High    Low  Close  Volume    Change\n",
              "Date                                                    \n",
              "2020-05-25  88600  91400  88100  91000  115356  0.027088\n",
              "2020-05-26  91800  92400  88600  88800  122131 -0.024176\n",
              "2020-05-27  89000  91500  88800  89100  124717  0.003378\n",
              "2020-05-28  88500  89300  84900  87100  130808 -0.022447\n",
              "2020-05-29  87000  91900  86100  91900  142308  0.055109\n",
              "2020-06-01  90300  92000  89600  92000   71829  0.001088\n",
              "2020-06-02  90400  92300  90300  91700   63436 -0.003261\n",
              "2020-06-03  92400  93400  90500  91700  138883  0.000000\n",
              "2020-06-04  91900  93300  90000  92000   92613  0.003272\n",
              "2020-06-05  91400  91800  89800  91600   81251 -0.004348"
            ]
          },
          "metadata": {
            "tags": []
          },
          "execution_count": 83
        }
      ]
    },
    {
      "cell_type": "code",
      "metadata": {
        "id": "K6BrN8fh4fHi",
        "colab_type": "code",
        "outputId": "7aaa136f-e30b-4236-cf83-c57bdd427d62",
        "colab": {
          "base_uri": "https://localhost:8080/",
          "height": 107
        }
      },
      "source": [
        "pr = PredictDataset('001040',input_frame)\n",
        "pr2 = PredictDataset2('001040',input_frame)\n",
        "\n",
        "xx = DataLoader(pr,1,False)\n",
        "xx2 = DataLoader(pr2,1,False)\n",
        "\n",
        "predict = 0\n",
        "\n",
        "for X in xx:\n",
        "    X = X.transpose(0, 1).float().to(device)\n",
        "    model.hidden = [hidden.to(device) for hidden in model.init_hidden()]\n",
        "    y_pred = model(X)\n",
        "    predict = y_pred\n",
        "    print(y_pred)\n",
        "\n",
        "for X in xx2:\n",
        "    X = X.transpose(0, 1).float().to(device)\n",
        "    Xtos = X[:,:,3].view(-1)\n",
        "    predict *= Xtos\n",
        "    print(Xtos)\n",
        "\n",
        "print(predict)"
      ],
      "execution_count": 102,
      "outputs": [
        {
          "output_type": "stream",
          "text": [
            "tensor([[0.9909, 0.9748, 0.9774, 0.9744, 0.9780]], device='cuda:0',\n",
            "       grad_fn=<AddmmBackward>)\n",
            "tensor([92000., 91700., 91700., 92000., 91600.], device='cuda:0')\n",
            "tensor([[91163.5859, 89386.3906, 89628.9844, 89643.6641, 89585.1875]],\n",
            "       device='cuda:0', grad_fn=<MulBackward0>)\n"
          ],
          "name": "stdout"
        }
      ]
    }
  ]
}