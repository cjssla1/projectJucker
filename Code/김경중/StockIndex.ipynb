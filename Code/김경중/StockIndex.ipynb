{
  "nbformat": 4,
  "nbformat_minor": 0,
  "metadata": {
    "colab": {
      "name": "StockIndex.ipynb",
      "provenance": [],
      "collapsed_sections": [],
      "authorship_tag": "ABX9TyPAdnQC1ng9aj1lo0Q/1cw0"
    },
    "kernelspec": {
      "name": "python3",
      "display_name": "Python 3"
    }
  },
  "cells": [
    {
      "cell_type": "code",
      "metadata": {
        "id": "A021AIPIqdZa",
        "colab_type": "code",
        "outputId": "37b9066b-acb1-47d5-c1a8-8de1d2ff2910",
        "colab": {
          "base_uri": "https://localhost:8080/",
          "height": 413
        }
      },
      "source": [
        "!pip install -U finance-datareader\n",
        "!pip install torch torchvision"
      ],
      "execution_count": 1,
      "outputs": [
        {
          "output_type": "stream",
          "text": [
            "Collecting finance-datareader\n",
            "  Downloading https://files.pythonhosted.org/packages/2a/46/4e398780dfb1af6dba7b4ee8b440829b65e94b2726f1d2cc13015d41d172/finance_datareader-0.9.6-py3-none-any.whl\n",
            "Requirement already satisfied, skipping upgrade: pandas>=0.19.2 in /usr/local/lib/python3.6/dist-packages (from finance-datareader) (1.0.4)\n",
            "Requirement already satisfied, skipping upgrade: requests>=2.3.0 in /usr/local/lib/python3.6/dist-packages (from finance-datareader) (2.23.0)\n",
            "Collecting requests-file\n",
            "  Downloading https://files.pythonhosted.org/packages/77/86/cdb5e8eaed90796aa83a6d9f75cfbd37af553c47a291cd47bc410ef9bdb2/requests_file-1.5.1-py2.py3-none-any.whl\n",
            "Requirement already satisfied, skipping upgrade: lxml in /usr/local/lib/python3.6/dist-packages (from finance-datareader) (4.2.6)\n",
            "Requirement already satisfied, skipping upgrade: pytz>=2017.2 in /usr/local/lib/python3.6/dist-packages (from pandas>=0.19.2->finance-datareader) (2018.9)\n",
            "Requirement already satisfied, skipping upgrade: python-dateutil>=2.6.1 in /usr/local/lib/python3.6/dist-packages (from pandas>=0.19.2->finance-datareader) (2.8.1)\n",
            "Requirement already satisfied, skipping upgrade: numpy>=1.13.3 in /usr/local/lib/python3.6/dist-packages (from pandas>=0.19.2->finance-datareader) (1.18.5)\n",
            "Requirement already satisfied, skipping upgrade: idna<3,>=2.5 in /usr/local/lib/python3.6/dist-packages (from requests>=2.3.0->finance-datareader) (2.9)\n",
            "Requirement already satisfied, skipping upgrade: urllib3!=1.25.0,!=1.25.1,<1.26,>=1.21.1 in /usr/local/lib/python3.6/dist-packages (from requests>=2.3.0->finance-datareader) (1.24.3)\n",
            "Requirement already satisfied, skipping upgrade: chardet<4,>=3.0.2 in /usr/local/lib/python3.6/dist-packages (from requests>=2.3.0->finance-datareader) (3.0.4)\n",
            "Requirement already satisfied, skipping upgrade: certifi>=2017.4.17 in /usr/local/lib/python3.6/dist-packages (from requests>=2.3.0->finance-datareader) (2020.4.5.1)\n",
            "Requirement already satisfied, skipping upgrade: six in /usr/local/lib/python3.6/dist-packages (from requests-file->finance-datareader) (1.12.0)\n",
            "Installing collected packages: requests-file, finance-datareader\n",
            "Successfully installed finance-datareader-0.9.6 requests-file-1.5.1\n",
            "Requirement already satisfied: torch in /usr/local/lib/python3.6/dist-packages (1.5.0+cu101)\n",
            "Requirement already satisfied: torchvision in /usr/local/lib/python3.6/dist-packages (0.6.0+cu101)\n",
            "Requirement already satisfied: future in /usr/local/lib/python3.6/dist-packages (from torch) (0.16.0)\n",
            "Requirement already satisfied: numpy in /usr/local/lib/python3.6/dist-packages (from torch) (1.18.5)\n",
            "Requirement already satisfied: pillow>=4.1.1 in /usr/local/lib/python3.6/dist-packages (from torchvision) (7.0.0)\n"
          ],
          "name": "stdout"
        }
      ]
    },
    {
      "cell_type": "code",
      "metadata": {
        "id": "HjaUVOGvqksz",
        "colab_type": "code",
        "colab": {}
      },
      "source": [
        "import FinanceDataReader as fdr\n",
        "import datetime\n",
        "import torch\n",
        "import torch.nn as nn\n",
        "from torch.utils.data import Dataset, DataLoader\n",
        "import torch.optim as optim\n",
        "import numpy as np\n",
        "import time"
      ],
      "execution_count": 0,
      "outputs": []
    },
    {
      "cell_type": "code",
      "metadata": {
        "id": "s25ieQRrozAq",
        "colab_type": "code",
        "colab": {}
      },
      "source": [
        "#이동평균 칼럼 추가, 당일 포함 \n",
        "def MA(df,day):\n",
        "    \n",
        "    df['MA_{}'.format(day)] = df['Close'].rolling(window=day).mean() \n",
        "    #moveAverage(data,30) 30일 이동 평균 추가"
      ],
      "execution_count": 0,
      "outputs": []
    },
    {
      "cell_type": "code",
      "metadata": {
        "id": "1U1aqRC2uavM",
        "colab_type": "code",
        "colab": {}
      },
      "source": [
        "#지수 이동 평균\n",
        "def EMA(df, day):\n",
        "    df['EMA_{}'.format(day)] = df['Close'].ewm(span=day).mean()\n"
      ],
      "execution_count": 0,
      "outputs": []
    },
    {
      "cell_type": "code",
      "metadata": {
        "id": "DBbJdmsavKcC",
        "colab_type": "code",
        "colab": {}
      },
      "source": [
        "# 이격도(PPO)\n",
        "def PPO(df, day):\n",
        "    df['PPO_{}'.format(day)] = (df['Close']/df['MA_{}'.format(day)])*100\n",
        "    "
      ],
      "execution_count": 0,
      "outputs": []
    },
    {
      "cell_type": "code",
      "metadata": {
        "id": "-7Sx8WfIGluT",
        "colab_type": "code",
        "colab": {}
      },
      "source": [
        "#MACD\n",
        "def MACD(df):\n",
        "    \n",
        "    ma_12=df['Close'].ewm(span=12).mean() # 단기(12)\n",
        "    ma_26 = df['Close'].ewm(span=26).mean() # 장기(26) EMA\n",
        "    macd = ma_12 - ma_26 # MACD\n",
        "    macdSignal = macd.ewm(span=9).mean() # Signal\n",
        "    macdOscillator = macd - macdSignal # Oscillator\n",
        "    df['MACD'] = macdOscillator"
      ],
      "execution_count": 0,
      "outputs": []
    },
    {
      "cell_type": "code",
      "metadata": {
        "id": "iV_XOex3Gvg5",
        "colab_type": "code",
        "colab": {}
      },
      "source": [
        "#CCI\n",
        "def CCI(df):\n",
        "    #CCI = (M-N) / (0.015*D)\n",
        "    # M=특정일의 고가,저가, 종가의 평균\n",
        "    # N = 일정기간동안의 단순이동평균 통상적으로 20일로 사용\n",
        "    # D = M-N의 일정기간동안의 단순이동평균\n",
        "    M = ((df.High)+(df.Low)+(df.Close)) / 3\n",
        "    N = M.rolling(20).mean()\n",
        "    D = (M-N).rolling(20).mean()\n",
        "    CCI = (M - N)/ (0.015 * D)\n",
        "    df['CCI'] = CCI"
      ],
      "execution_count": 0,
      "outputs": []
    },
    {
      "cell_type": "code",
      "metadata": {
        "id": "MbI-3VZeHT0B",
        "colab_type": "code",
        "colab": {}
      },
      "source": [
        "#RSI\n",
        "def U(x):\n",
        "    if x >= 0:\n",
        "        return x\n",
        "    else :\n",
        "        return 0\n",
        "    \n",
        "def D(x):\n",
        "    if x <= 0:\n",
        "        return x*(-1)\n",
        "    else :\n",
        "        return 0\n",
        "\n",
        "def RSI(df):\n",
        "    df['diff_rsi'] = (df['Close'].shift(1)-df['Close'])\n",
        "    df['AU'] = df['diff_rsi'].apply(U).rolling(window=14).mean() \n",
        "    df['AD'] = df['diff_rsi'].apply(D).rolling(window=14).mean() \n",
        "    df['RSI'] = df['AU']/(df['AU']+df['AD'])"
      ],
      "execution_count": 0,
      "outputs": []
    },
    {
      "cell_type": "code",
      "metadata": {
        "id": "ecHWZsIVG0l7",
        "colab_type": "code",
        "colab": {}
      },
      "source": [
        "#모멘텀 스토캐스틱\n",
        "def MOMENT(df,day):\n",
        "    temp_df = df.copy()\n",
        "    temp_df = temp_df.reset_index()\n",
        "    for i in range(len(temp_df)-day+1):\n",
        "        temp_df.loc[i, 'high_st']= temp_df[i:i+day]['High'].max()\n",
        "        temp_df.loc[i, 'low_st']= temp_df[i:i+day]['Low'].min()\n",
        "        \n",
        "    temp_df['high_st_4'] = temp_df['high_st'].shift(4)\n",
        "    temp_df['low_st_4'] = temp_df['low_st'].shift(4)\n",
        "    \n",
        "    temp_df['fast_K'] = (temp_df['Close']-temp_df['low_st_4'])/(temp_df['high_st_4']-temp_df['low_st_4'])\n",
        "    temp_df['fast_D'] = temp_df['fast_K'].rolling(3).mean()\n",
        "    temp_df['slow_K'] = temp_df['fast_D']\n",
        "    temp_df['slow_D'] = temp_df['slow_K'].rolling(3).mean()\n",
        "    temp_df = temp_df.set_index('Date')\n",
        "    return temp_df"
      ],
      "execution_count": 0,
      "outputs": []
    },
    {
      "cell_type": "code",
      "metadata": {
        "id": "18I5WDcapeic",
        "colab_type": "code",
        "colab": {}
      },
      "source": [
        "data = fdr.DataReader('068270',\"2019-1-1\",\"2020-5-13\")\n"
      ],
      "execution_count": 0,
      "outputs": []
    },
    {
      "cell_type": "code",
      "metadata": {
        "id": "vlRywPoAssCq",
        "colab_type": "code",
        "colab": {}
      },
      "source": [
        "MA(data,30)\n",
        "EMA(data,30)\n",
        "PPO(data,30)\n",
        "MACD(data)\n",
        "RSI(data)\n",
        "CCI(data)\n",
        "m = MOMENT(data,30)"
      ],
      "execution_count": 0,
      "outputs": []
    },
    {
      "cell_type": "code",
      "metadata": {
        "id": "tK2M4WIds1ui",
        "colab_type": "code",
        "outputId": "d6cb59e9-7067-435b-f897-2f67961f6ab4",
        "colab": {
          "base_uri": "https://localhost:8080/",
          "height": 251
        }
      },
      "source": [
        "data['MA_30']\n"
      ],
      "execution_count": 24,
      "outputs": [
        {
          "output_type": "execute_result",
          "data": {
            "text/plain": [
              "Date\n",
              "2019-01-02              NaN\n",
              "2019-01-03              NaN\n",
              "2019-01-04              NaN\n",
              "2019-01-07              NaN\n",
              "2019-01-08              NaN\n",
              "                  ...      \n",
              "2020-05-07    204133.333333\n",
              "2020-05-08    205316.666667\n",
              "2020-05-11    206200.000000\n",
              "2020-05-12    207133.333333\n",
              "2020-05-13    208250.000000\n",
              "Name: MA_30, Length: 335, dtype: float64"
            ]
          },
          "metadata": {
            "tags": []
          },
          "execution_count": 24
        }
      ]
    },
    {
      "cell_type": "code",
      "metadata": {
        "id": "z0Wzcv2BvEv1",
        "colab_type": "code",
        "outputId": "26d46033-80a8-4030-b341-627e7c1aa0c6",
        "colab": {
          "base_uri": "https://localhost:8080/",
          "height": 251
        }
      },
      "source": [
        "data['EMA_30']"
      ],
      "execution_count": 25,
      "outputs": [
        {
          "output_type": "execute_result",
          "data": {
            "text/plain": [
              "Date\n",
              "2019-01-02    204879.000000\n",
              "2019-01-03    202904.816667\n",
              "2019-01-04    205476.206220\n",
              "2019-01-07    205706.222327\n",
              "2019-01-08    205300.496074\n",
              "                  ...      \n",
              "2020-05-07    202346.780452\n",
              "2020-05-08    202872.794617\n",
              "2020-05-11    203364.872383\n",
              "2020-05-12    203857.461262\n",
              "2020-05-13    204576.334729\n",
              "Name: EMA_30, Length: 335, dtype: float64"
            ]
          },
          "metadata": {
            "tags": []
          },
          "execution_count": 25
        }
      ]
    },
    {
      "cell_type": "code",
      "metadata": {
        "id": "5wtD4w5Mvcwr",
        "colab_type": "code",
        "outputId": "53059df2-b147-4018-e1fc-696bdb5cb037",
        "colab": {
          "base_uri": "https://localhost:8080/",
          "height": 251
        }
      },
      "source": [
        "data['PPO_30']"
      ],
      "execution_count": 26,
      "outputs": [
        {
          "output_type": "execute_result",
          "data": {
            "text/plain": [
              "Date\n",
              "2019-01-02           NaN\n",
              "2019-01-03           NaN\n",
              "2019-01-04           NaN\n",
              "2019-01-07           NaN\n",
              "2019-01-08           NaN\n",
              "                 ...    \n",
              "2020-05-07     99.934683\n",
              "2020-05-08    102.524556\n",
              "2020-05-11    102.085354\n",
              "2020-05-12    101.866752\n",
              "2020-05-13    103.241297\n",
              "Name: PPO_30, Length: 335, dtype: float64"
            ]
          },
          "metadata": {
            "tags": []
          },
          "execution_count": 26
        }
      ]
    },
    {
      "cell_type": "code",
      "metadata": {
        "id": "lalQFx_dRZLk",
        "colab_type": "code",
        "colab": {
          "base_uri": "https://localhost:8080/",
          "height": 251
        },
        "outputId": "8edd07fa-78b4-42dd-f0e6-291f95339d99"
      },
      "source": [
        "data['MACD']"
      ],
      "execution_count": 29,
      "outputs": [
        {
          "output_type": "execute_result",
          "data": {
            "text/plain": [
              "Date\n",
              "2019-01-02       0.000000\n",
              "2019-01-03     -38.101140\n",
              "2019-01-04     129.704276\n",
              "2019-01-07      69.310185\n",
              "2019-01-08     -29.742858\n",
              "                 ...     \n",
              "2020-05-07   -2294.429267\n",
              "2020-05-08   -1942.784424\n",
              "2020-05-11   -1676.140024\n",
              "2020-05-12   -1441.021100\n",
              "2020-05-13   -1011.340856\n",
              "Name: MACD, Length: 335, dtype: float64"
            ]
          },
          "metadata": {
            "tags": []
          },
          "execution_count": 29
        }
      ]
    },
    {
      "cell_type": "code",
      "metadata": {
        "id": "b4huFsnFSgc1",
        "colab_type": "code",
        "colab": {
          "base_uri": "https://localhost:8080/",
          "height": 251
        },
        "outputId": "dd687926-a409-4e7f-e07a-6d1d352f594d"
      },
      "source": [
        "data['CCI']"
      ],
      "execution_count": 36,
      "outputs": [
        {
          "output_type": "execute_result",
          "data": {
            "text/plain": [
              "Date\n",
              "2019-01-02          NaN\n",
              "2019-01-03          NaN\n",
              "2019-01-04          NaN\n",
              "2019-01-07          NaN\n",
              "2019-01-08          NaN\n",
              "                ...    \n",
              "2020-05-07   -33.908905\n",
              "2020-05-08    -7.725660\n",
              "2020-05-11     5.772787\n",
              "2020-05-12    13.111134\n",
              "2020-05-13    18.016916\n",
              "Name: CCI, Length: 335, dtype: float64"
            ]
          },
          "metadata": {
            "tags": []
          },
          "execution_count": 36
        }
      ]
    },
    {
      "cell_type": "code",
      "metadata": {
        "id": "koND0ujLRb3U",
        "colab_type": "code",
        "colab": {
          "base_uri": "https://localhost:8080/",
          "height": 251
        },
        "outputId": "bb29474d-cd22-4c9f-ac81-43e70a94b16d"
      },
      "source": [
        "data['RSI']"
      ],
      "execution_count": 30,
      "outputs": [
        {
          "output_type": "execute_result",
          "data": {
            "text/plain": [
              "Date\n",
              "2019-01-02         NaN\n",
              "2019-01-03         NaN\n",
              "2019-01-04         NaN\n",
              "2019-01-07         NaN\n",
              "2019-01-08         NaN\n",
              "                ...   \n",
              "2020-05-07    0.688525\n",
              "2020-05-08    0.575342\n",
              "2020-05-11    0.563380\n",
              "2020-05-12    0.500000\n",
              "2020-05-13    0.457143\n",
              "Name: RSI, Length: 335, dtype: float64"
            ]
          },
          "metadata": {
            "tags": []
          },
          "execution_count": 30
        }
      ]
    },
    {
      "cell_type": "code",
      "metadata": {
        "id": "DNGqO0y1ReQ8",
        "colab_type": "code",
        "colab": {
          "base_uri": "https://localhost:8080/",
          "height": 450
        },
        "outputId": "ee4dc3c6-3b75-4a64-aab9-26fe84824553"
      },
      "source": [
        "m"
      ],
      "execution_count": 32,
      "outputs": [
        {
          "output_type": "execute_result",
          "data": {
            "text/html": [
              "<div>\n",
              "<style scoped>\n",
              "    .dataframe tbody tr th:only-of-type {\n",
              "        vertical-align: middle;\n",
              "    }\n",
              "\n",
              "    .dataframe tbody tr th {\n",
              "        vertical-align: top;\n",
              "    }\n",
              "\n",
              "    .dataframe thead th {\n",
              "        text-align: right;\n",
              "    }\n",
              "</style>\n",
              "<table border=\"1\" class=\"dataframe\">\n",
              "  <thead>\n",
              "    <tr style=\"text-align: right;\">\n",
              "      <th></th>\n",
              "      <th>Open</th>\n",
              "      <th>High</th>\n",
              "      <th>Low</th>\n",
              "      <th>Close</th>\n",
              "      <th>Volume</th>\n",
              "      <th>Change</th>\n",
              "      <th>MA_30</th>\n",
              "      <th>EMA_30</th>\n",
              "      <th>PPO_30</th>\n",
              "      <th>MACD</th>\n",
              "      <th>diff_rsi</th>\n",
              "      <th>AU</th>\n",
              "      <th>AD</th>\n",
              "      <th>RSI</th>\n",
              "      <th>high_st</th>\n",
              "      <th>low_st</th>\n",
              "      <th>high_st_4</th>\n",
              "      <th>low_st_4</th>\n",
              "      <th>fast_K</th>\n",
              "      <th>fast_D</th>\n",
              "      <th>slow_K</th>\n",
              "      <th>slow_D</th>\n",
              "    </tr>\n",
              "    <tr>\n",
              "      <th>Date</th>\n",
              "      <th></th>\n",
              "      <th></th>\n",
              "      <th></th>\n",
              "      <th></th>\n",
              "      <th></th>\n",
              "      <th></th>\n",
              "      <th></th>\n",
              "      <th></th>\n",
              "      <th></th>\n",
              "      <th></th>\n",
              "      <th></th>\n",
              "      <th></th>\n",
              "      <th></th>\n",
              "      <th></th>\n",
              "      <th></th>\n",
              "      <th></th>\n",
              "      <th></th>\n",
              "      <th></th>\n",
              "      <th></th>\n",
              "      <th></th>\n",
              "      <th></th>\n",
              "      <th></th>\n",
              "    </tr>\n",
              "  </thead>\n",
              "  <tbody>\n",
              "    <tr>\n",
              "      <th>2019-01-02</th>\n",
              "      <td>214430</td>\n",
              "      <td>215862</td>\n",
              "      <td>203445</td>\n",
              "      <td>204879</td>\n",
              "      <td>1045357</td>\n",
              "      <td>-0.035954</td>\n",
              "      <td>NaN</td>\n",
              "      <td>204879.000000</td>\n",
              "      <td>NaN</td>\n",
              "      <td>0.000000</td>\n",
              "      <td>NaN</td>\n",
              "      <td>NaN</td>\n",
              "      <td>NaN</td>\n",
              "      <td>NaN</td>\n",
              "      <td>216817.0</td>\n",
              "      <td>185775.0</td>\n",
              "      <td>NaN</td>\n",
              "      <td>NaN</td>\n",
              "      <td>NaN</td>\n",
              "      <td>NaN</td>\n",
              "      <td>NaN</td>\n",
              "      <td>NaN</td>\n",
              "    </tr>\n",
              "    <tr>\n",
              "      <th>2019-01-03</th>\n",
              "      <td>204401</td>\n",
              "      <td>207744</td>\n",
              "      <td>199147</td>\n",
              "      <td>201058</td>\n",
              "      <td>951894</td>\n",
              "      <td>-0.018650</td>\n",
              "      <td>NaN</td>\n",
              "      <td>202904.816667</td>\n",
              "      <td>NaN</td>\n",
              "      <td>-38.101140</td>\n",
              "      <td>3821.0</td>\n",
              "      <td>NaN</td>\n",
              "      <td>NaN</td>\n",
              "      <td>NaN</td>\n",
              "      <td>216817.0</td>\n",
              "      <td>185775.0</td>\n",
              "      <td>NaN</td>\n",
              "      <td>NaN</td>\n",
              "      <td>NaN</td>\n",
              "      <td>NaN</td>\n",
              "      <td>NaN</td>\n",
              "      <td>NaN</td>\n",
              "    </tr>\n",
              "    <tr>\n",
              "      <th>2019-01-04</th>\n",
              "      <td>201058</td>\n",
              "      <td>211087</td>\n",
              "      <td>198670</td>\n",
              "      <td>210132</td>\n",
              "      <td>1132255</td>\n",
              "      <td>0.045131</td>\n",
              "      <td>NaN</td>\n",
              "      <td>205476.206220</td>\n",
              "      <td>NaN</td>\n",
              "      <td>129.704276</td>\n",
              "      <td>-9074.0</td>\n",
              "      <td>NaN</td>\n",
              "      <td>NaN</td>\n",
              "      <td>NaN</td>\n",
              "      <td>216817.0</td>\n",
              "      <td>185775.0</td>\n",
              "      <td>NaN</td>\n",
              "      <td>NaN</td>\n",
              "      <td>NaN</td>\n",
              "      <td>NaN</td>\n",
              "      <td>NaN</td>\n",
              "      <td>NaN</td>\n",
              "    </tr>\n",
              "    <tr>\n",
              "      <th>2019-01-07</th>\n",
              "      <td>216817</td>\n",
              "      <td>216817</td>\n",
              "      <td>205356</td>\n",
              "      <td>206311</td>\n",
              "      <td>1071752</td>\n",
              "      <td>-0.018184</td>\n",
              "      <td>NaN</td>\n",
              "      <td>205706.222327</td>\n",
              "      <td>NaN</td>\n",
              "      <td>69.310185</td>\n",
              "      <td>3821.0</td>\n",
              "      <td>NaN</td>\n",
              "      <td>NaN</td>\n",
              "      <td>NaN</td>\n",
              "      <td>216817.0</td>\n",
              "      <td>185775.0</td>\n",
              "      <td>NaN</td>\n",
              "      <td>NaN</td>\n",
              "      <td>NaN</td>\n",
              "      <td>NaN</td>\n",
              "      <td>NaN</td>\n",
              "      <td>NaN</td>\n",
              "    </tr>\n",
              "    <tr>\n",
              "      <th>2019-01-08</th>\n",
              "      <td>206788</td>\n",
              "      <td>209176</td>\n",
              "      <td>202968</td>\n",
              "      <td>203923</td>\n",
              "      <td>646883</td>\n",
              "      <td>-0.011575</td>\n",
              "      <td>NaN</td>\n",
              "      <td>205300.496074</td>\n",
              "      <td>NaN</td>\n",
              "      <td>-29.742858</td>\n",
              "      <td>2388.0</td>\n",
              "      <td>NaN</td>\n",
              "      <td>NaN</td>\n",
              "      <td>NaN</td>\n",
              "      <td>211564.0</td>\n",
              "      <td>185775.0</td>\n",
              "      <td>216817.0</td>\n",
              "      <td>185775.0</td>\n",
              "      <td>0.584627</td>\n",
              "      <td>NaN</td>\n",
              "      <td>NaN</td>\n",
              "      <td>NaN</td>\n",
              "    </tr>\n",
              "    <tr>\n",
              "      <th>...</th>\n",
              "      <td>...</td>\n",
              "      <td>...</td>\n",
              "      <td>...</td>\n",
              "      <td>...</td>\n",
              "      <td>...</td>\n",
              "      <td>...</td>\n",
              "      <td>...</td>\n",
              "      <td>...</td>\n",
              "      <td>...</td>\n",
              "      <td>...</td>\n",
              "      <td>...</td>\n",
              "      <td>...</td>\n",
              "      <td>...</td>\n",
              "      <td>...</td>\n",
              "      <td>...</td>\n",
              "      <td>...</td>\n",
              "      <td>...</td>\n",
              "      <td>...</td>\n",
              "      <td>...</td>\n",
              "      <td>...</td>\n",
              "      <td>...</td>\n",
              "      <td>...</td>\n",
              "    </tr>\n",
              "    <tr>\n",
              "      <th>2020-05-07</th>\n",
              "      <td>206000</td>\n",
              "      <td>207000</td>\n",
              "      <td>203500</td>\n",
              "      <td>204000</td>\n",
              "      <td>402708</td>\n",
              "      <td>-0.014493</td>\n",
              "      <td>204133.333333</td>\n",
              "      <td>202346.780452</td>\n",
              "      <td>99.934683</td>\n",
              "      <td>-2294.429267</td>\n",
              "      <td>3000.0</td>\n",
              "      <td>1500.000000</td>\n",
              "      <td>678.571429</td>\n",
              "      <td>0.688525</td>\n",
              "      <td>NaN</td>\n",
              "      <td>NaN</td>\n",
              "      <td>NaN</td>\n",
              "      <td>NaN</td>\n",
              "      <td>NaN</td>\n",
              "      <td>NaN</td>\n",
              "      <td>NaN</td>\n",
              "      <td>NaN</td>\n",
              "    </tr>\n",
              "    <tr>\n",
              "      <th>2020-05-08</th>\n",
              "      <td>206000</td>\n",
              "      <td>214000</td>\n",
              "      <td>205000</td>\n",
              "      <td>210500</td>\n",
              "      <td>895729</td>\n",
              "      <td>0.031863</td>\n",
              "      <td>205316.666667</td>\n",
              "      <td>202872.794617</td>\n",
              "      <td>102.524556</td>\n",
              "      <td>-1942.784424</td>\n",
              "      <td>-6500.0</td>\n",
              "      <td>1500.000000</td>\n",
              "      <td>1107.142857</td>\n",
              "      <td>0.575342</td>\n",
              "      <td>NaN</td>\n",
              "      <td>NaN</td>\n",
              "      <td>NaN</td>\n",
              "      <td>NaN</td>\n",
              "      <td>NaN</td>\n",
              "      <td>NaN</td>\n",
              "      <td>NaN</td>\n",
              "      <td>NaN</td>\n",
              "    </tr>\n",
              "    <tr>\n",
              "      <th>2020-05-11</th>\n",
              "      <td>215000</td>\n",
              "      <td>215500</td>\n",
              "      <td>210000</td>\n",
              "      <td>210500</td>\n",
              "      <td>695048</td>\n",
              "      <td>0.000000</td>\n",
              "      <td>206200.000000</td>\n",
              "      <td>203364.872383</td>\n",
              "      <td>102.085354</td>\n",
              "      <td>-1676.140024</td>\n",
              "      <td>0.0</td>\n",
              "      <td>1428.571429</td>\n",
              "      <td>1107.142857</td>\n",
              "      <td>0.563380</td>\n",
              "      <td>NaN</td>\n",
              "      <td>NaN</td>\n",
              "      <td>NaN</td>\n",
              "      <td>NaN</td>\n",
              "      <td>NaN</td>\n",
              "      <td>NaN</td>\n",
              "      <td>NaN</td>\n",
              "      <td>NaN</td>\n",
              "    </tr>\n",
              "    <tr>\n",
              "      <th>2020-05-12</th>\n",
              "      <td>212000</td>\n",
              "      <td>217500</td>\n",
              "      <td>210500</td>\n",
              "      <td>211000</td>\n",
              "      <td>982920</td>\n",
              "      <td>0.002375</td>\n",
              "      <td>207133.333333</td>\n",
              "      <td>203857.461262</td>\n",
              "      <td>101.866752</td>\n",
              "      <td>-1441.021100</td>\n",
              "      <td>-500.0</td>\n",
              "      <td>1142.857143</td>\n",
              "      <td>1142.857143</td>\n",
              "      <td>0.500000</td>\n",
              "      <td>NaN</td>\n",
              "      <td>NaN</td>\n",
              "      <td>NaN</td>\n",
              "      <td>NaN</td>\n",
              "      <td>NaN</td>\n",
              "      <td>NaN</td>\n",
              "      <td>NaN</td>\n",
              "      <td>NaN</td>\n",
              "    </tr>\n",
              "    <tr>\n",
              "      <th>2020-05-13</th>\n",
              "      <td>211000</td>\n",
              "      <td>215000</td>\n",
              "      <td>210000</td>\n",
              "      <td>215000</td>\n",
              "      <td>763378</td>\n",
              "      <td>0.018957</td>\n",
              "      <td>208250.000000</td>\n",
              "      <td>204576.334729</td>\n",
              "      <td>103.241297</td>\n",
              "      <td>-1011.340856</td>\n",
              "      <td>-4000.0</td>\n",
              "      <td>1142.857143</td>\n",
              "      <td>1357.142857</td>\n",
              "      <td>0.457143</td>\n",
              "      <td>NaN</td>\n",
              "      <td>NaN</td>\n",
              "      <td>NaN</td>\n",
              "      <td>NaN</td>\n",
              "      <td>NaN</td>\n",
              "      <td>NaN</td>\n",
              "      <td>NaN</td>\n",
              "      <td>NaN</td>\n",
              "    </tr>\n",
              "  </tbody>\n",
              "</table>\n",
              "<p>335 rows × 22 columns</p>\n",
              "</div>"
            ],
            "text/plain": [
              "              Open    High     Low   Close  ...    fast_K  fast_D  slow_K  slow_D\n",
              "Date                                        ...                                  \n",
              "2019-01-02  214430  215862  203445  204879  ...       NaN     NaN     NaN     NaN\n",
              "2019-01-03  204401  207744  199147  201058  ...       NaN     NaN     NaN     NaN\n",
              "2019-01-04  201058  211087  198670  210132  ...       NaN     NaN     NaN     NaN\n",
              "2019-01-07  216817  216817  205356  206311  ...       NaN     NaN     NaN     NaN\n",
              "2019-01-08  206788  209176  202968  203923  ...  0.584627     NaN     NaN     NaN\n",
              "...            ...     ...     ...     ...  ...       ...     ...     ...     ...\n",
              "2020-05-07  206000  207000  203500  204000  ...       NaN     NaN     NaN     NaN\n",
              "2020-05-08  206000  214000  205000  210500  ...       NaN     NaN     NaN     NaN\n",
              "2020-05-11  215000  215500  210000  210500  ...       NaN     NaN     NaN     NaN\n",
              "2020-05-12  212000  217500  210500  211000  ...       NaN     NaN     NaN     NaN\n",
              "2020-05-13  211000  215000  210000  215000  ...       NaN     NaN     NaN     NaN\n",
              "\n",
              "[335 rows x 22 columns]"
            ]
          },
          "metadata": {
            "tags": []
          },
          "execution_count": 32
        }
      ]
    }
  ]
}