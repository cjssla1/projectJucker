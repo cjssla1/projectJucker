{
  "nbformat": 4,
  "nbformat_minor": 0,
  "metadata": {
    "colab": {
      "name": "StockIndex.ipynb",
      "provenance": [],
      "collapsed_sections": [],
      "authorship_tag": "ABX9TyNFwOsVJSkFWzU8UChQh9UI"
    },
    "kernelspec": {
      "name": "python3",
      "display_name": "Python 3"
    }
  },
  "cells": [
    {
      "cell_type": "code",
      "metadata": {
        "id": "A021AIPIqdZa",
        "colab_type": "code",
        "colab": {
          "base_uri": "https://localhost:8080/",
          "height": 413
        },
        "outputId": "683a4708-5df0-4abc-9d11-4228de70e205"
      },
      "source": [
        "!pip install -U finance-datareader\n",
        "!pip install torch torchvision"
      ],
      "execution_count": 1,
      "outputs": [
        {
          "output_type": "stream",
          "text": [
            "Collecting finance-datareader\n",
            "  Downloading https://files.pythonhosted.org/packages/2a/46/4e398780dfb1af6dba7b4ee8b440829b65e94b2726f1d2cc13015d41d172/finance_datareader-0.9.6-py3-none-any.whl\n",
            "Requirement already satisfied, skipping upgrade: pandas>=0.19.2 in /usr/local/lib/python3.6/dist-packages (from finance-datareader) (1.0.4)\n",
            "Requirement already satisfied, skipping upgrade: lxml in /usr/local/lib/python3.6/dist-packages (from finance-datareader) (4.2.6)\n",
            "Requirement already satisfied, skipping upgrade: requests>=2.3.0 in /usr/local/lib/python3.6/dist-packages (from finance-datareader) (2.23.0)\n",
            "Collecting requests-file\n",
            "  Downloading https://files.pythonhosted.org/packages/77/86/cdb5e8eaed90796aa83a6d9f75cfbd37af553c47a291cd47bc410ef9bdb2/requests_file-1.5.1-py2.py3-none-any.whl\n",
            "Requirement already satisfied, skipping upgrade: pytz>=2017.2 in /usr/local/lib/python3.6/dist-packages (from pandas>=0.19.2->finance-datareader) (2018.9)\n",
            "Requirement already satisfied, skipping upgrade: python-dateutil>=2.6.1 in /usr/local/lib/python3.6/dist-packages (from pandas>=0.19.2->finance-datareader) (2.8.1)\n",
            "Requirement already satisfied, skipping upgrade: numpy>=1.13.3 in /usr/local/lib/python3.6/dist-packages (from pandas>=0.19.2->finance-datareader) (1.18.5)\n",
            "Requirement already satisfied, skipping upgrade: chardet<4,>=3.0.2 in /usr/local/lib/python3.6/dist-packages (from requests>=2.3.0->finance-datareader) (3.0.4)\n",
            "Requirement already satisfied, skipping upgrade: urllib3!=1.25.0,!=1.25.1,<1.26,>=1.21.1 in /usr/local/lib/python3.6/dist-packages (from requests>=2.3.0->finance-datareader) (1.24.3)\n",
            "Requirement already satisfied, skipping upgrade: certifi>=2017.4.17 in /usr/local/lib/python3.6/dist-packages (from requests>=2.3.0->finance-datareader) (2020.4.5.1)\n",
            "Requirement already satisfied, skipping upgrade: idna<3,>=2.5 in /usr/local/lib/python3.6/dist-packages (from requests>=2.3.0->finance-datareader) (2.9)\n",
            "Requirement already satisfied, skipping upgrade: six in /usr/local/lib/python3.6/dist-packages (from requests-file->finance-datareader) (1.12.0)\n",
            "Installing collected packages: requests-file, finance-datareader\n",
            "Successfully installed finance-datareader-0.9.6 requests-file-1.5.1\n",
            "Requirement already satisfied: torch in /usr/local/lib/python3.6/dist-packages (1.5.0+cu101)\n",
            "Requirement already satisfied: torchvision in /usr/local/lib/python3.6/dist-packages (0.6.0+cu101)\n",
            "Requirement already satisfied: numpy in /usr/local/lib/python3.6/dist-packages (from torch) (1.18.5)\n",
            "Requirement already satisfied: future in /usr/local/lib/python3.6/dist-packages (from torch) (0.16.0)\n",
            "Requirement already satisfied: pillow>=4.1.1 in /usr/local/lib/python3.6/dist-packages (from torchvision) (7.0.0)\n"
          ],
          "name": "stdout"
        }
      ]
    },
    {
      "cell_type": "code",
      "metadata": {
        "id": "HjaUVOGvqksz",
        "colab_type": "code",
        "colab": {}
      },
      "source": [
        "import FinanceDataReader as fdr\n",
        "import datetime\n",
        "import torch\n",
        "import torch.nn as nn\n",
        "from torch.utils.data import Dataset, DataLoader\n",
        "import torch.optim as optim\n",
        "import numpy as np\n",
        "import time"
      ],
      "execution_count": 0,
      "outputs": []
    },
    {
      "cell_type": "code",
      "metadata": {
        "id": "s25ieQRrozAq",
        "colab_type": "code",
        "colab": {}
      },
      "source": [
        "#이동평균 칼럼 추가, 당일 포함 \n",
        "def moveAverage(df,day):\n",
        "    \n",
        "    df['MA_{}'.format(day)] = df['Close'].rolling(window=day).mean() \n",
        "    #moveAverage(data,30) 30일 이동 평균 추가"
      ],
      "execution_count": 0,
      "outputs": []
    },
    {
      "cell_type": "code",
      "metadata": {
        "id": "1U1aqRC2uavM",
        "colab_type": "code",
        "colab": {}
      },
      "source": [
        "#지수 이동 평균\n",
        "def emoveAverage(df, day):\n",
        "    df['EMA_{}'.format(day)] = df['Close'].ewm(span=day).mean()\n"
      ],
      "execution_count": 0,
      "outputs": []
    },
    {
      "cell_type": "code",
      "metadata": {
        "id": "DBbJdmsavKcC",
        "colab_type": "code",
        "colab": {}
      },
      "source": [
        "# 이격도(PPO)\n",
        "def PPO(df, day):\n",
        "    df['PPO_{}'.format(day)] = (df['Close']/df['MA_{}'.format(day)])*100\n",
        "    "
      ],
      "execution_count": 0,
      "outputs": []
    },
    {
      "cell_type": "code",
      "metadata": {
        "id": "18I5WDcapeic",
        "colab_type": "code",
        "colab": {}
      },
      "source": [
        "data = fdr.DataReader('068270',\"2019-1-1\",\"2020-5-13\")"
      ],
      "execution_count": 0,
      "outputs": []
    },
    {
      "cell_type": "code",
      "metadata": {
        "id": "vlRywPoAssCq",
        "colab_type": "code",
        "colab": {}
      },
      "source": [
        "emoveAverage(data,30)\n",
        "PPO(data,30)"
      ],
      "execution_count": 0,
      "outputs": []
    },
    {
      "cell_type": "code",
      "metadata": {
        "id": "tK2M4WIds1ui",
        "colab_type": "code",
        "colab": {
          "base_uri": "https://localhost:8080/",
          "height": 251
        },
        "outputId": "241eeb43-aa1b-4c1a-8a74-47bacdebb399"
      },
      "source": [
        "data['MA_30']\n"
      ],
      "execution_count": 33,
      "outputs": [
        {
          "output_type": "execute_result",
          "data": {
            "text/plain": [
              "Date\n",
              "2019-01-02              NaN\n",
              "2019-01-03              NaN\n",
              "2019-01-04              NaN\n",
              "2019-01-07              NaN\n",
              "2019-01-08              NaN\n",
              "                  ...      \n",
              "2020-05-07    204133.333333\n",
              "2020-05-08    205316.666667\n",
              "2020-05-11    206200.000000\n",
              "2020-05-12    207133.333333\n",
              "2020-05-13    208250.000000\n",
              "Name: MA_30, Length: 335, dtype: float64"
            ]
          },
          "metadata": {
            "tags": []
          },
          "execution_count": 33
        }
      ]
    },
    {
      "cell_type": "code",
      "metadata": {
        "id": "z0Wzcv2BvEv1",
        "colab_type": "code",
        "colab": {
          "base_uri": "https://localhost:8080/",
          "height": 251
        },
        "outputId": "e5c51a35-c03c-42b9-f944-f1e71d954ff7"
      },
      "source": [
        "data['EMA_30']"
      ],
      "execution_count": 34,
      "outputs": [
        {
          "output_type": "execute_result",
          "data": {
            "text/plain": [
              "Date\n",
              "2019-01-02    204879.000000\n",
              "2019-01-03    202904.816667\n",
              "2019-01-04    205476.206220\n",
              "2019-01-07    205706.222327\n",
              "2019-01-08    205300.496074\n",
              "                  ...      \n",
              "2020-05-07    202346.780452\n",
              "2020-05-08    202872.794617\n",
              "2020-05-11    203364.872383\n",
              "2020-05-12    203857.461262\n",
              "2020-05-13    204576.334729\n",
              "Name: EMA_30, Length: 335, dtype: float64"
            ]
          },
          "metadata": {
            "tags": []
          },
          "execution_count": 34
        }
      ]
    },
    {
      "cell_type": "code",
      "metadata": {
        "id": "5wtD4w5Mvcwr",
        "colab_type": "code",
        "colab": {
          "base_uri": "https://localhost:8080/",
          "height": 251
        },
        "outputId": "dc846f47-7009-4901-8e12-034c411ea4ae"
      },
      "source": [
        "data['PPO_30']"
      ],
      "execution_count": 37,
      "outputs": [
        {
          "output_type": "execute_result",
          "data": {
            "text/plain": [
              "Date\n",
              "2019-01-02           NaN\n",
              "2019-01-03           NaN\n",
              "2019-01-04           NaN\n",
              "2019-01-07           NaN\n",
              "2019-01-08           NaN\n",
              "                 ...    \n",
              "2020-05-07     99.934683\n",
              "2020-05-08    102.524556\n",
              "2020-05-11    102.085354\n",
              "2020-05-12    101.866752\n",
              "2020-05-13    103.241297\n",
              "Name: PPO_30, Length: 335, dtype: float64"
            ]
          },
          "metadata": {
            "tags": []
          },
          "execution_count": 37
        }
      ]
    }
  ]
}