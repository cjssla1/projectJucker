{
  "nbformat": 4,
  "nbformat_minor": 0,
  "metadata": {
    "colab": {
      "name": "MLP_Train(one to one).ipynb",
      "provenance": [],
      "collapsed_sections": [],
      "authorship_tag": "ABX9TyNYvFSq9Le1x19SjMpHVpqq"
    },
    "kernelspec": {
      "name": "python3",
      "display_name": "Python 3"
    },
    "accelerator": "GPU"
  },
  "cells": [
    {
      "cell_type": "code",
      "metadata": {
        "id": "Nx04U5ab9uaC",
        "colab_type": "code",
        "outputId": "9ac45780-841b-4238-ea7a-dc5668405ba2",
        "colab": {
          "base_uri": "https://localhost:8080/",
          "height": 341
        }
      },
      "source": [
        "#파이토치 인스톨\n",
        "!pip install torch torchvision\n",
        "!pip install -U finance-datareader\n",
        "import FinanceDataReader as fdr\n",
        "import datetime\n",
        "import torch\n",
        "import torch.nn as nn\n",
        "from torch.utils.data import Dataset, DataLoader\n",
        "import torch.optim as optim\n",
        "import numpy as np\n",
        "import argparse\n",
        "import time\n",
        "from copy import deepcopy # Add Deepcopy for args\n",
        "from sklearn.metrics import mean_absolute_error"
      ],
      "execution_count": 31,
      "outputs": [
        {
          "output_type": "stream",
          "text": [
            "Requirement already satisfied: torch in /usr/local/lib/python3.6/dist-packages (1.5.0+cu101)\n",
            "Requirement already satisfied: torchvision in /usr/local/lib/python3.6/dist-packages (0.6.0+cu101)\n",
            "Requirement already satisfied: numpy in /usr/local/lib/python3.6/dist-packages (from torch) (1.18.4)\n",
            "Requirement already satisfied: future in /usr/local/lib/python3.6/dist-packages (from torch) (0.16.0)\n",
            "Requirement already satisfied: pillow>=4.1.1 in /usr/local/lib/python3.6/dist-packages (from torchvision) (7.0.0)\n",
            "Requirement already up-to-date: finance-datareader in /usr/local/lib/python3.6/dist-packages (0.9.6)\n",
            "Requirement already satisfied, skipping upgrade: lxml in /usr/local/lib/python3.6/dist-packages (from finance-datareader) (4.2.6)\n",
            "Requirement already satisfied, skipping upgrade: requests-file in /usr/local/lib/python3.6/dist-packages (from finance-datareader) (1.5.1)\n",
            "Requirement already satisfied, skipping upgrade: pandas>=0.19.2 in /usr/local/lib/python3.6/dist-packages (from finance-datareader) (1.0.3)\n",
            "Requirement already satisfied, skipping upgrade: requests>=2.3.0 in /usr/local/lib/python3.6/dist-packages (from finance-datareader) (2.23.0)\n",
            "Requirement already satisfied, skipping upgrade: six in /usr/local/lib/python3.6/dist-packages (from requests-file->finance-datareader) (1.12.0)\n",
            "Requirement already satisfied, skipping upgrade: numpy>=1.13.3 in /usr/local/lib/python3.6/dist-packages (from pandas>=0.19.2->finance-datareader) (1.18.4)\n",
            "Requirement already satisfied, skipping upgrade: pytz>=2017.2 in /usr/local/lib/python3.6/dist-packages (from pandas>=0.19.2->finance-datareader) (2018.9)\n",
            "Requirement already satisfied, skipping upgrade: python-dateutil>=2.6.1 in /usr/local/lib/python3.6/dist-packages (from pandas>=0.19.2->finance-datareader) (2.8.1)\n",
            "Requirement already satisfied, skipping upgrade: certifi>=2017.4.17 in /usr/local/lib/python3.6/dist-packages (from requests>=2.3.0->finance-datareader) (2020.4.5.1)\n",
            "Requirement already satisfied, skipping upgrade: urllib3!=1.25.0,!=1.25.1,<1.26,>=1.21.1 in /usr/local/lib/python3.6/dist-packages (from requests>=2.3.0->finance-datareader) (1.24.3)\n",
            "Requirement already satisfied, skipping upgrade: idna<3,>=2.5 in /usr/local/lib/python3.6/dist-packages (from requests>=2.3.0->finance-datareader) (2.9)\n",
            "Requirement already satisfied, skipping upgrade: chardet<4,>=3.0.2 in /usr/local/lib/python3.6/dist-packages (from requests>=2.3.0->finance-datareader) (3.0.4)\n"
          ],
          "name": "stdout"
        }
      ]
    },
    {
      "cell_type": "code",
      "metadata": {
        "id": "FYjn1Z4e96kx",
        "colab_type": "code",
        "outputId": "a23af355-b4ed-43e5-c383-fae3a0cba69d",
        "colab": {
          "base_uri": "https://localhost:8080/",
          "height": 35
        }
      },
      "source": [
        "%matplotlib inline\n",
        "#데이터 생성과 화면 표시를 위한 라이브러리 호출\n",
        "import matplotlib.pyplot as plt\n",
        "from mpl_toolkits import mplot3d\n",
        "\n",
        "#실험결과 비교를 위해 시드 고정\n",
        "seed = 444\n",
        "np.random.seed(seed)\n",
        "torch.manual_seed(seed)"
      ],
      "execution_count": 32,
      "outputs": [
        {
          "output_type": "execute_result",
          "data": {
            "text/plain": [
              "<torch._C.Generator at 0x7f7797c68590>"
            ]
          },
          "metadata": {
            "tags": []
          },
          "execution_count": 32
        }
      ]
    },
    {
      "cell_type": "code",
      "metadata": {
        "id": "zuXOQqXuBeVy",
        "colab_type": "code",
        "colab": {}
      },
      "source": [
        "class stockDataset(Dataset):\n",
        "    \n",
        "    def __init__(self, symbol, x_frames, y_frames):\n",
        "        \n",
        "        self.symbol = symbol\n",
        "        self.x_frames = x_frames\n",
        "        self.y_frames = y_frames\n",
        "        \n",
        "        self.start = datetime.datetime.now() - datetime.timedelta(days=(x_frames+y_frames)*2+10)\n",
        "        self.end = datetime.date.today()\n",
        "        self.data = fdr.DataReader(self.symbol, self.start, self.end)\n",
        "        self.data = self.data.tail(x_frames+y_frames)\n",
        "        print(self.data.isna().sum())\n",
        "        \n",
        "    def __len__(self):\n",
        "        return len(self.data) - (self.x_frames + self.y_frames) + 1\n",
        "    \n",
        "    def __getitem__(self, idx):\n",
        "        idx += self.x_frames\n",
        "        data = self.data.iloc[idx-self.x_frames:idx+self.y_frames]\n",
        "        data = data[['High', 'Low', 'Open', 'Close', 'Change', 'Volume']]\n",
        "        data = data.apply(lambda x: (x+1) / (x[self.x_frames-1]+1))\n",
        "        data = data.values\n",
        "        X = data[:self.x_frames]\n",
        "        y = data[self.x_frames:]\n",
        "        \n",
        "        return X, y"
      ],
      "execution_count": 0,
      "outputs": []
    },
    {
      "cell_type": "code",
      "metadata": {
        "id": "6pXbe3OHNAc6",
        "colab_type": "code",
        "colab": {}
      },
      "source": [
        "class StockDataset(Dataset):\n",
        "    \n",
        "    def __init__(self, symbol, x_frames, y_frames, start, end):\n",
        "        \n",
        "        self.symbol = symbol\n",
        "        self.x_frames = x_frames\n",
        "        self.y_frames = y_frames\n",
        "        \n",
        "        self.start = datetime.datetime(*start)\n",
        "        self.end = datetime.datetime(*end)\n",
        "\n",
        "        self.data = fdr.DataReader(self.symbol, self.start, self.end)\n",
        "        print(self.data.isna().sum())\n",
        "        \n",
        "    def __len__(self):\n",
        "        return len(self.data) - (self.x_frames + self.y_frames) + 1\n",
        "    \n",
        "    def __getitem__(self, idx):\n",
        "        idx += self.x_frames\n",
        "        data = self.data.iloc[idx-self.x_frames:idx+self.y_frames]\n",
        "        data = data[['High', 'Low', 'Open', 'Close', 'Change', 'Volume']]\n",
        "        if self.x_frames > 1:\n",
        "            data = data.apply(lambda x: (x+1) / (x[self.x_frames-1]+1))\n",
        "        else:\n",
        "            data = data.apply(lambda x: (x+1) / (10000))\n",
        "        data = data.values\n",
        "        X = data[:self.x_frames]\n",
        "        y = data[self.x_frames:]\n",
        "        \n",
        "        return X, y"
      ],
      "execution_count": 0,
      "outputs": []
    },
    {
      "cell_type": "code",
      "metadata": {
        "id": "r8qxu117W9cQ",
        "colab_type": "code",
        "colab": {}
      },
      "source": [
        "# 모델 정의\n",
        "    \n",
        "class MLPModel(nn.Module):\n",
        "    # input = 입력값 개수, output = 출력값 개수\n",
        "    def __init__(self,_input,_output,_hidden_layers): \n",
        "        super(MLPModel, self).__init__()\n",
        "        self.inputv = _input\n",
        "        self.outputv = _output\n",
        "        nodes = [_input] + _hidden_layers + [_output]\n",
        "        self.depth = len(nodes)\n",
        "        linears = [nn.Linear(nodes[i], nodes[i+1]) for i in range(self.depth-1)]\n",
        "        self.linears = nn.ModuleList(linears)\n",
        "        self.relu = nn.ReLU()\n",
        "        \n",
        "    \n",
        "    def forward(self, x):\n",
        "    # 인스턴스(샘플) x가 인풋으로 들어왔을 때 모델이 예측하는 y값을 리턴합니다.\n",
        "        for linear in self.linears[:-1]: \n",
        "          x = linear(x)\n",
        "          x = self.relu(x)\n",
        "        x = self.linears[-1](x)\n",
        "\n",
        "        return x"
      ],
      "execution_count": 0,
      "outputs": []
    },
    {
      "cell_type": "code",
      "metadata": {
        "id": "aOCWllGDKzDY",
        "colab_type": "code",
        "colab": {}
      },
      "source": [
        "\n",
        "#trainloader = torch.cat(trainloader).view(len(trainloader), batch_size, -1)\n",
        "def train(model, trainset, optimizer, loss_fn,device):\n",
        "    trainloader = DataLoader(trainset, shuffle=True, drop_last=True)\n",
        "\n",
        "    model.train()\n",
        "    model.zero_grad()\n",
        "    optimizer.zero_grad()\n",
        "\n",
        "    train_acc = 0.0\n",
        "    train_loss = 0.0\n",
        "    for i, (X, y) in enumerate(trainloader):\n",
        "\n",
        "        X = X.float().to(device)\n",
        "        y_true = y[:, :, 3].float().to(device)\n",
        "\n",
        "        model.zero_grad()\n",
        "        optimizer.zero_grad()\n",
        "\n",
        "        y_pred = model(X)\n",
        "        loss = loss_fn(y_pred.view(-1), y_true.view(-1))\n",
        "        \n",
        "        loss.backward()\n",
        "        optimizer.step()\n",
        "\n",
        "        train_loss += loss.item()\n",
        "\n",
        "    train_loss = train_loss / len(trainloader)\n",
        "    return model, train_loss"
      ],
      "execution_count": 0,
      "outputs": []
    },
    {
      "cell_type": "code",
      "metadata": {
        "id": "DS8T4O1afl8T",
        "colab_type": "code",
        "colab": {}
      },
      "source": [
        "def validate(model, valset, loss_fn,device):\n",
        "    valloader = DataLoader(valset, shuffle=False, drop_last=True)\n",
        "    model.eval()\n",
        "\n",
        "    val_loss = 0.0\n",
        "    with torch.no_grad():\n",
        "        for i, (X, y) in enumerate(valloader):\n",
        "\n",
        "            X = X.float().to(device)\n",
        "            y_true = y[:, :, 3].float().to(device)\n",
        "\n",
        "            y_pred = model(X)\n",
        "            loss = loss_fn(y_pred.view(-1), y_true.view(-1))\n",
        "\n",
        "            val_loss += loss.item()\n",
        "\n",
        "    val_loss = val_loss / len(valloader)\n",
        "    return val_loss\n"
      ],
      "execution_count": 0,
      "outputs": []
    },
    {
      "cell_type": "code",
      "metadata": {
        "id": "A_4lkKzlUIzw",
        "colab_type": "code",
        "colab": {}
      },
      "source": [
        "def test(model, testStock, loss_fn, device):\n",
        "    testloader = DataLoader(testStock, shuffle=False, drop_last=True)\n",
        "    model.eval()\n",
        "\n",
        "    test_acc = 0.0\n",
        "    test_result = []\n",
        "    with torch.no_grad():\n",
        "        for i, (X, y) in enumerate(testloader):\n",
        "\n",
        "            X = X.float().to(device)\n",
        "            y_true = y[:, :, 3].float().to(device)\n",
        "            \n",
        "            y_pred = model(X)\n",
        "            loss = loss_fn(y_pred.view(-1), y_true.view(-1))\n",
        "\n",
        "            test_result.append([y_pred,y_true])\n",
        "            test_acc += loss.item()\n",
        "\n",
        "    test_acc = test_acc / len(testloader)\n",
        "    return test_acc, test_result"
      ],
      "execution_count": 0,
      "outputs": []
    },
    {
      "cell_type": "code",
      "metadata": {
        "id": "srOp6JjQN1Q_",
        "colab_type": "code",
        "outputId": "9b6016a6-3225-4764-9540-2ce0ed9ee95f",
        "colab": {
          "base_uri": "https://localhost:8080/",
          "height": 395
        }
      },
      "source": [
        "trainset = StockDataset('001040',1,1,(2018,5,1),(2020,5,20))\n",
        "valset = StockDataset('005930',1,1,(2018,5,1),(2020,5,20))\n",
        "testset = StockDataset('005930',1,1,(2015,1,1),(2015,12,30))"
      ],
      "execution_count": 39,
      "outputs": [
        {
          "output_type": "stream",
          "text": [
            "Open      0\n",
            "High      0\n",
            "Low       0\n",
            "Close     0\n",
            "Volume    0\n",
            "Change    0\n",
            "dtype: int64\n",
            "Open      0\n",
            "High      0\n",
            "Low       0\n",
            "Close     0\n",
            "Volume    0\n",
            "Change    0\n",
            "dtype: int64\n",
            "Open      0\n",
            "High      0\n",
            "Low       0\n",
            "Close     0\n",
            "Volume    0\n",
            "Change    0\n",
            "dtype: int64\n"
          ],
          "name": "stdout"
        }
      ]
    },
    {
      "cell_type": "code",
      "metadata": {
        "id": "KGqgLAlGPBwT",
        "colab_type": "code",
        "outputId": "1d98c0de-2be6-4cac-a138-2596c4d277a8",
        "colab": {
          "base_uri": "https://localhost:8080/",
          "height": 251
        }
      },
      "source": [
        "batch_size = 1\n",
        "input_dim = 6\n",
        "hidden_dim = 50\n",
        "output_dim = 1\n",
        "layers = [200,100,50,25,15,10,5]\n",
        "epoch = 10\n",
        "\n",
        "model = MLPModel(input_dim,output_dim,layers)\n",
        "loss_fn = torch.nn.MSELoss()\n",
        "optimizer = optim.Adam(model.parameters(), lr=0.01)\n",
        "device = 'cuda' if torch.cuda.is_available() else 'cpu'\n",
        "model.to(device)"
      ],
      "execution_count": 40,
      "outputs": [
        {
          "output_type": "execute_result",
          "data": {
            "text/plain": [
              "MLPModel(\n",
              "  (linears): ModuleList(\n",
              "    (0): Linear(in_features=6, out_features=200, bias=True)\n",
              "    (1): Linear(in_features=200, out_features=100, bias=True)\n",
              "    (2): Linear(in_features=100, out_features=50, bias=True)\n",
              "    (3): Linear(in_features=50, out_features=25, bias=True)\n",
              "    (4): Linear(in_features=25, out_features=15, bias=True)\n",
              "    (5): Linear(in_features=15, out_features=10, bias=True)\n",
              "    (6): Linear(in_features=10, out_features=5, bias=True)\n",
              "    (7): Linear(in_features=5, out_features=1, bias=True)\n",
              "  )\n",
              "  (relu): ReLU()\n",
              ")"
            ]
          },
          "metadata": {
            "tags": []
          },
          "execution_count": 40
        }
      ]
    },
    {
      "cell_type": "code",
      "metadata": {
        "id": "Z4U0U_TdV9xC",
        "colab_type": "code",
        "colab": {}
      },
      "source": [
        "list_epoch = []\n",
        "list_train_loss = []\n",
        "list_val_loss = []"
      ],
      "execution_count": 0,
      "outputs": []
    },
    {
      "cell_type": "code",
      "metadata": {
        "id": "0PL7AhfyPjkA",
        "colab_type": "code",
        "outputId": "10df4d5f-9460-4d94-dca6-1ae381b82c88",
        "colab": {
          "base_uri": "https://localhost:8080/",
          "height": 215
        }
      },
      "source": [
        "for e in range(epoch):  # loop over the dataset multiple times\n",
        "        ts = time.time()\n",
        "        model, train_loss = train(model, trainset ,optimizer, loss_fn,device)\n",
        "        val_loss = validate(model, valset, loss_fn,device)\n",
        "        te = time.time()\n",
        "\n",
        "        list_epoch.append(e)\n",
        "        list_train_loss.append(train_loss)\n",
        "        list_val_loss.append(val_loss)\n",
        "        print('Epoch {}, Loss(train/val) {:2.5f}/{:2.5f}. Took {:2.2f} sec'.format(e, train_loss, val_loss, te-ts))\n",
        "\n",
        "test_acc, test_result = test(model, testset, loss_fn,device)\n",
        "print(test_acc)"
      ],
      "execution_count": 42,
      "outputs": [
        {
          "output_type": "stream",
          "text": [
            "Epoch 0, Loss(train/val) 2.17272/5490.43444. Took 10.20 sec\n",
            "Epoch 1, Loss(train/val) 0.95096/2962.50129. Took 10.22 sec\n",
            "Epoch 2, Loss(train/val) 0.48494/978.94341. Took 10.52 sec\n",
            "Epoch 3, Loss(train/val) 0.46614/2375.66550. Took 10.38 sec\n",
            "Epoch 4, Loss(train/val) 0.58535/1882.85402. Took 10.05 sec\n",
            "Epoch 5, Loss(train/val) 0.29639/1294.23502. Took 10.33 sec\n",
            "Epoch 6, Loss(train/val) 0.45171/3477.13261. Took 10.21 sec\n",
            "Epoch 7, Loss(train/val) 0.40054/765.25410. Took 10.26 sec\n",
            "Epoch 8, Loss(train/val) 0.50433/1953.32689. Took 10.27 sec\n",
            "Epoch 9, Loss(train/val) 0.47943/810.61320. Took 10.53 sec\n",
            "0.42398855512441413\n"
          ],
          "name": "stdout"
        }
      ]
    },
    {
      "cell_type": "code",
      "metadata": {
        "id": "OANyPaziXbLe",
        "colab_type": "code",
        "colab": {}
      },
      "source": [
        "class pltClass():\n",
        "\n",
        "    def __init__(self,_list_epoch, _list_train_loss, _list_val_loss):\n",
        "        self.list_epoch = _list_epoch\n",
        "        self.list_train_loss= _list_train_loss\n",
        "        self.list_val_loss = _list_val_loss\n",
        "\n",
        "\n",
        "    def printFigure(self):\n",
        "        fig = plt.figure(figsize=(24,5))\n",
        "\n",
        "\n",
        "        # ====== train plot ====== #\n",
        "        ax3 = fig.add_subplot(1, 2, 1)\n",
        "        ax3.plot(self.list_epoch, self.list_train_loss, marker='x', label='train')\n",
        "\n",
        "        ax3.set_xlabel('epoch')\n",
        "        ax3.set_ylabel('loss')\n",
        "        ax3.grid()\n",
        "        ax3.legend()\n",
        "        ax3.set_title('epoch vs loss')\n",
        "\n",
        "        # ====== valid plot ====== #\n",
        "        ax2 = fig.add_subplot(1, 2, 2)\n",
        "        ax2.plot(self.list_epoch, self.list_val_loss, '--', label='val')\n",
        "        ax2.set_xlabel('epoch')\n",
        "        ax2.set_ylabel('loss')\n",
        "        #ax1.set_ylim(0, 5)\n",
        "        ax2.grid()\n",
        "        ax2.legend()\n",
        "        ax2.set_title('epoch vs loss')\n",
        "\n",
        "\n",
        "        plt.show()\n",
        "\n"
      ],
      "execution_count": 0,
      "outputs": []
    },
    {
      "cell_type": "code",
      "metadata": {
        "id": "egasKQaTrHJ_",
        "colab_type": "code",
        "outputId": "0d9acc74-dccd-436b-a44e-79bbde452db5",
        "colab": {
          "base_uri": "https://localhost:8080/",
          "height": 350
        }
      },
      "source": [
        "\n",
        "pltc = pltClass(list_epoch, list_train_loss,list_val_loss)\n",
        "pltc.printFigure()"
      ],
      "execution_count": 44,
      "outputs": [
        {
          "output_type": "display_data",
          "data": {
            "image/png": "[encoded data removed]",
            "text/plain": [
              "<Figure size 1728x360 with 2 Axes>"
            ]
          },
          "metadata": {
            "tags": [],
            "needs_background": "light"
          }
        }
      ]
    },
    {
      "cell_type": "code",
      "metadata": {
        "id": "evdZZfvlBPOl",
        "colab_type": "code",
        "outputId": "a891e5f8-92e9-47a4-e3e9-e2911d75704f",
        "colab": {
          "base_uri": "https://localhost:8080/",
          "height": 35
        }
      },
      "source": [
        "'''model.to('cpu')\n",
        "model.eval()\n",
        "\n",
        "prediction = model(torch.Tensor(test_X))\n",
        "pred = []\n",
        "real = test_y\n",
        "for i in prediction[:].T:\n",
        "    for j in i:\n",
        "        pred.append(j.item())\n",
        "\n",
        "print(real)\n",
        "print(pred)\n",
        "'''"
      ],
      "execution_count": 45,
      "outputs": [
        {
          "output_type": "execute_result",
          "data": {
            "text/plain": [
              "\"model.to('cpu')\\nmodel.eval()\\n\\nprediction = model(torch.Tensor(test_X))\\npred = []\\nreal = test_y\\nfor i in prediction[:].T:\\n    for j in i:\\n        pred.append(j.item())\\n\\nprint(real)\\nprint(pred)\\n\""
            ]
          },
          "metadata": {
            "tags": []
          },
          "execution_count": 45
        }
      ]
    },
    {
      "cell_type": "code",
      "metadata": {
        "id": "aOmarF8-P-Uy",
        "colab_type": "code",
        "colab": {
          "base_uri": "https://localhost:8080/",
          "height": 35
        },
        "outputId": "4543ed1c-881c-43dc-d737-4cad41e6cd15"
      },
      "source": [
        "'''from google.colab import drive\n",
        "drive.mount('/content/gdrive')'''"
      ],
      "execution_count": 46,
      "outputs": [
        {
          "output_type": "execute_result",
          "data": {
            "text/plain": [
              "\"from google.colab import drive\\ndrive.mount('/content/gdrive')\""
            ]
          },
          "metadata": {
            "tags": []
          },
          "execution_count": 46
        }
      ]
    },
    {
      "cell_type": "code",
      "metadata": {
        "id": "PSCbtLacQF5f",
        "colab_type": "code",
        "colab": {
          "base_uri": "https://localhost:8080/",
          "height": 35
        },
        "outputId": "fafc097e-8e6b-4b9a-ccf7-12350d323f3b"
      },
      "source": [
        "'''modelPath = '/content/gdrive/My Drive/MLP_batch_1_model.pt'\n",
        "torch.save(model.state_dict(), modelPath)'''"
      ],
      "execution_count": 47,
      "outputs": [
        {
          "output_type": "execute_result",
          "data": {
            "text/plain": [
              "\"modelPath = '/content/gdrive/My Drive/MLP_batch_1_model.pt'\\ntorch.save(model.state_dict(), modelPath)\""
            ]
          },
          "metadata": {
            "tags": []
          },
          "execution_count": 47
        }
      ]
    },
    {
      "cell_type": "code",
      "metadata": {
        "id": "M-LdVdn_ThcK",
        "colab_type": "code",
        "outputId": "7d05e328-96bd-48d2-958f-746984f8ca40",
        "colab": {
          "base_uri": "https://localhost:8080/",
          "height": 695
        }
      },
      "source": [
        "fig = plt.figure(figsize=(20,10))\n",
        "xl = [n for n in range(1,len(test_result)+1)]\n",
        "\n",
        "pred = []\n",
        "real = []\n",
        "for i in test_result:\n",
        "    pred.append(i[1])\n",
        "    real.append(i[0])\n",
        "\n",
        "print(pred)\n",
        "print(real)\n",
        "\n",
        "# ====== valid plot ====== #\n",
        "ax2 = fig.add_subplot(1, 1, 1)\n",
        "ax2.plot(xl, pred, 'o', label='pred')\n",
        "ax2.plot(xl, real, 'x', label='real')\n",
        "ax2.set_xlabel('len')\n",
        "ax2.set_ylabel('value')\n",
        "#ax1.set_ylim(0, 5)\n",
        "ax2.grid()\n",
        "ax2.legend()\n",
        "ax2.set_title('pred vs real')"
      ],
      "execution_count": 49,
      "outputs": [
        {
          "output_type": "stream",
          "text": [
            "[tensor([[2.6661]], device='cuda:0'), tensor([[2.5901]], device='cuda:0'), tensor([[2.6141]], device='cuda:0'), tensor([[2.6281]], device='cuda:0'), tensor([[2.6281]], device='cuda:0'), tensor([[2.6321]], device='cuda:0'), tensor([[2.6781]], device='cuda:0'), tensor([[2.6901]], device='cuda:0'), tensor([[2.6681]], device='cuda:0'), tensor([[2.6321]], device='cuda:0'), tensor([[2.6861]], device='cuda:0'), tensor([[2.7441]], device='cuda:0'), tensor([[2.7901]], device='cuda:0'), tensor([[2.7561]], device='cuda:0'), tensor([[2.7721]], device='cuda:0'), tensor([[2.7781]], device='cuda:0'), tensor([[2.8001]], device='cuda:0'), tensor([[2.7561]], device='cuda:0'), tensor([[2.7201]], device='cuda:0'), tensor([[2.7301]], device='cuda:0'), tensor([[2.7361]], device='cuda:0'), tensor([[2.7321]], device='cuda:0'), tensor([[2.7181]], device='cuda:0'), tensor([[2.7161]], device='cuda:0'), tensor([[2.7441]], device='cuda:0'), tensor([[2.7901]], device='cuda:0'), tensor([[2.7561]], device='cuda:0'), tensor([[2.7101]], device='cuda:0'), tensor([[2.6881]], device='cuda:0'), tensor([[2.7221]], device='cuda:0'), tensor([[2.7481]], device='cuda:0'), tensor([[2.7541]], device='cuda:0'), tensor([[2.7341]], device='cuda:0'), tensor([[2.7341]], device='cuda:0'), tensor([[2.7581]], device='cuda:0'), tensor([[2.7501]], device='cuda:0'), tensor([[2.7141]], device='cuda:0'), tensor([[2.8461]], device='cuda:0'), tensor([[2.8361]], device='cuda:0'), tensor([[2.8741]], device='cuda:0'), tensor([[2.8441]], device='cuda:0'), tensor([[2.8841]], device='cuda:0'), tensor([[2.8401]], device='cuda:0'), tensor([[2.8421]], device='cuda:0'), tensor([[2.9481]], device='cuda:0'), tensor([[2.8941]], device='cuda:0'), tensor([[2.9141]], device='cuda:0'), tensor([[2.9401]], device='cuda:0'), tensor([[2.9941]], device='cuda:0'), tensor([[3.0061]], device='cuda:0'), tensor([[2.9401]], device='cuda:0'), tensor([[2.9281]], device='cuda:0'), tensor([[2.9341]], device='cuda:0'), tensor([[2.9521]], device='cuda:0'), tensor([[2.9701]], device='cuda:0'), tensor([[2.8421]], device='cuda:0'), tensor([[2.8421]], device='cuda:0'), tensor([[2.8561]], device='cuda:0'), tensor([[2.8821]], device='cuda:0'), tensor([[2.8461]], device='cuda:0'), tensor([[2.8681]], device='cuda:0'), tensor([[2.8681]], device='cuda:0'), tensor([[2.9401]], device='cuda:0'), tensor([[2.9241]], device='cuda:0'), tensor([[2.9581]], device='cuda:0'), tensor([[2.9661]], device='cuda:0'), tensor([[2.9801]], device='cuda:0'), tensor([[2.9581]], device='cuda:0'), tensor([[2.9481]], device='cuda:0'), tensor([[2.8921]], device='cuda:0'), tensor([[2.9541]], device='cuda:0'), tensor([[2.9001]], device='cuda:0'), tensor([[2.8601]], device='cuda:0'), tensor([[2.8881]], device='cuda:0'), tensor([[2.9221]], device='cuda:0'), tensor([[2.9021]], device='cuda:0'), tensor([[2.8201]], device='cuda:0'), tensor([[2.7901]], device='cuda:0'), tensor([[2.7321]], device='cuda:0'), tensor([[2.7701]], device='cuda:0'), tensor([[2.8201]], device='cuda:0'), tensor([[2.8001]], device='cuda:0'), tensor([[2.7241]], device='cuda:0'), tensor([[2.7401]], device='cuda:0'), tensor([[2.6761]], device='cuda:0'), tensor([[2.6721]], device='cuda:0'), tensor([[2.6621]], device='cuda:0'), tensor([[2.6661]], device='cuda:0'), tensor([[2.6801]], device='cuda:0'), tensor([[2.6521]], device='cuda:0'), tensor([[2.6401]], device='cuda:0'), tensor([[2.6761]], device='cuda:0'), tensor([[2.7321]], device='cuda:0'), tensor([[2.7041]], device='cuda:0'), tensor([[2.7001]], device='cuda:0'), tensor([[2.7241]], device='cuda:0'), tensor([[2.6281]], device='cuda:0'), tensor([[2.6181]], device='cuda:0'), tensor([[2.6141]], device='cuda:0'), tensor([[2.5821]], device='cuda:0'), tensor([[2.6061]], device='cuda:0'), tensor([[2.5461]], device='cuda:0'), tensor([[2.6741]], device='cuda:0'), tensor([[2.6821]], device='cuda:0'), tensor([[2.6281]], device='cuda:0'), tensor([[2.5641]], device='cuda:0'), tensor([[2.5241]], device='cuda:0'), tensor([[2.5141]], device='cuda:0'), tensor([[2.5541]], device='cuda:0'), tensor([[2.5401]], device='cuda:0'), tensor([[2.5101]], device='cuda:0'), tensor([[2.5081]], device='cuda:0'), tensor([[2.5301]], device='cuda:0'), tensor([[2.5321]], device='cuda:0'), tensor([[2.5621]], device='cuda:0'), tensor([[2.6421]], device='cuda:0'), tensor([[2.6041]], device='cuda:0'), tensor([[2.5381]], device='cuda:0'), tensor([[2.5561]], device='cuda:0'), tensor([[2.5621]], device='cuda:0'), tensor([[2.5361]], device='cuda:0'), tensor([[2.5901]], device='cuda:0'), tensor([[2.5981]], device='cuda:0'), tensor([[2.5361]], device='cuda:0'), tensor([[2.4601]], device='cuda:0'), tensor([[2.4801]], device='cuda:0'), tensor([[2.4781]], device='cuda:0'), tensor([[2.5301]], device='cuda:0'), tensor([[2.5181]], device='cuda:0'), tensor([[2.5321]], device='cuda:0'), tensor([[2.4501]], device='cuda:0'), tensor([[2.4701]], device='cuda:0'), tensor([[2.5641]], device='cuda:0'), tensor([[2.6101]], device='cuda:0'), tensor([[2.5501]], device='cuda:0'), tensor([[2.5261]], device='cuda:0'), tensor([[2.5061]], device='cuda:0'), tensor([[2.4681]], device='cuda:0'), tensor([[2.4581]], device='cuda:0'), tensor([[2.4601]], device='cuda:0'), tensor([[2.4601]], device='cuda:0'), tensor([[2.5261]], device='cuda:0'), tensor([[2.4301]], device='cuda:0'), tensor([[2.3701]], device='cuda:0'), tensor([[2.3501]], device='cuda:0'), tensor([[2.3641]], device='cuda:0'), tensor([[2.3181]], device='cuda:0'), tensor([[2.2301]], device='cuda:0'), tensor([[2.2721]], device='cuda:0'), tensor([[2.2821]], device='cuda:0'), tensor([[2.3141]], device='cuda:0'), tensor([[2.3081]], device='cuda:0'), tensor([[2.2801]], device='cuda:0'), tensor([[2.2081]], device='cuda:0'), tensor([[2.2621]], device='cuda:0'), tensor([[2.3081]], device='cuda:0'), tensor([[2.2781]], device='cuda:0'), tensor([[2.2021]], device='cuda:0'), tensor([[2.1581]], device='cuda:0'), tensor([[2.1581]], device='cuda:0'), tensor([[2.1341]], device='cuda:0'), tensor([[2.1341]], device='cuda:0'), tensor([[2.1621]], device='cuda:0'), tensor([[2.1781]], device='cuda:0'), tensor([[2.1701]], device='cuda:0'), tensor([[2.1801]], device='cuda:0'), tensor([[2.2441]], device='cuda:0'), tensor([[2.2581]], device='cuda:0'), tensor([[2.2241]], device='cuda:0'), tensor([[2.2621]], device='cuda:0'), tensor([[2.2941]], device='cuda:0'), tensor([[2.2681]], device='cuda:0'), tensor([[2.2301]], device='cuda:0'), tensor([[2.2481]], device='cuda:0'), tensor([[2.2461]], device='cuda:0'), tensor([[2.3041]], device='cuda:0'), tensor([[2.3141]], device='cuda:0'), tensor([[2.3801]], device='cuda:0'), tensor([[2.3001]], device='cuda:0'), tensor([[2.2901]], device='cuda:0'), tensor([[2.2621]], device='cuda:0'), tensor([[2.2521]], device='cuda:0'), tensor([[2.2241]], device='cuda:0'), tensor([[2.2681]], device='cuda:0'), tensor([[2.2681]], device='cuda:0'), tensor([[2.2381]], device='cuda:0'), tensor([[2.2301]], device='cuda:0'), tensor([[2.3021]], device='cuda:0'), tensor([[2.5021]], device='cuda:0'), tensor([[2.5401]], device='cuda:0'), tensor([[2.5201]], device='cuda:0'), tensor([[2.5041]], device='cuda:0'), tensor([[2.5081]], device='cuda:0'), tensor([[2.5381]], device='cuda:0'), tensor([[2.5301]], device='cuda:0'), tensor([[2.5121]], device='cuda:0'), tensor([[2.5321]], device='cuda:0'), tensor([[2.5401]], device='cuda:0'), tensor([[2.5601]], device='cuda:0'), tensor([[2.5781]], device='cuda:0'), tensor([[2.5841]], device='cuda:0'), tensor([[2.5961]], device='cuda:0'), tensor([[2.6161]], device='cuda:0'), tensor([[2.6501]], device='cuda:0'), tensor([[2.7441]], device='cuda:0'), tensor([[2.7661]], device='cuda:0'), tensor([[2.7041]], device='cuda:0'), tensor([[2.6601]], device='cuda:0'), tensor([[2.6841]], device='cuda:0'), tensor([[2.6761]], device='cuda:0'), tensor([[2.6881]], device='cuda:0'), tensor([[2.6421]], device='cuda:0'), tensor([[2.6661]], device='cuda:0'), tensor([[2.6341]], device='cuda:0'), tensor([[2.6001]], device='cuda:0'), tensor([[2.5261]], device='cuda:0'), tensor([[2.5401]], device='cuda:0'), tensor([[2.5621]], device='cuda:0'), tensor([[2.5781]], device='cuda:0'), tensor([[2.5701]], device='cuda:0'), tensor([[2.5641]], device='cuda:0'), tensor([[2.5981]], device='cuda:0'), tensor([[2.5981]], device='cuda:0'), tensor([[2.6701]], device='cuda:0'), tensor([[2.6541]], device='cuda:0'), tensor([[2.5681]], device='cuda:0'), tensor([[2.6421]], device='cuda:0'), tensor([[2.6001]], device='cuda:0'), tensor([[2.5801]], device='cuda:0'), tensor([[2.5381]], device='cuda:0'), tensor([[2.5241]], device='cuda:0'), tensor([[2.5241]], device='cuda:0'), tensor([[2.5261]], device='cuda:0'), tensor([[2.5661]], device='cuda:0'), tensor([[2.5681]], device='cuda:0'), tensor([[2.5221]], device='cuda:0'), tensor([[2.5541]], device='cuda:0'), tensor([[2.5981]], device='cuda:0'), tensor([[2.5801]], device='cuda:0'), tensor([[2.5561]], device='cuda:0'), tensor([[2.5601]], device='cuda:0'), tensor([[2.5841]], device='cuda:0'), tensor([[2.5901]], device='cuda:0'), tensor([[2.5701]], device='cuda:0'), tensor([[2.5321]], device='cuda:0'), tensor([[2.5081]], device='cuda:0'), tensor([[2.5201]], device='cuda:0')]\n",
            "[tensor([[[3.2520]]], device='cuda:0'), tensor([[[3.2469]]], device='cuda:0'), tensor([[[3.2615]]], device='cuda:0'), tensor([[[3.2375]]], device='cuda:0'), tensor([[[3.2815]]], device='cuda:0'), tensor([[[3.2197]]], device='cuda:0'), tensor([[[3.2124]]], device='cuda:0'), tensor([[[3.2613]]], device='cuda:0'), tensor([[[3.3106]]], device='cuda:0'), tensor([[[3.3001]]], device='cuda:0'), tensor([[[3.2688]]], device='cuda:0'), tensor([[[3.2605]]], device='cuda:0'), tensor([[[3.3312]]], device='cuda:0'), tensor([[[3.4101]]], device='cuda:0'), tensor([[[3.4479]]], device='cuda:0'), tensor([[[3.3811]]], device='cuda:0'), tensor([[[3.3414]]], device='cuda:0'), tensor([[[3.3536]]], device='cuda:0'), tensor([[[3.3451]]], device='cuda:0'), tensor([[[3.3513]]], device='cuda:0'), tensor([[[3.3772]]], device='cuda:0'), tensor([[[3.3160]]], device='cuda:0'), tensor([[[3.3189]]], device='cuda:0'), tensor([[[3.3157]]], device='cuda:0'), tensor([[[3.3016]]], device='cuda:0'), tensor([[[3.3093]]], device='cuda:0'), tensor([[[3.3381]]], device='cuda:0'), tensor([[[3.3554]]], device='cuda:0'), tensor([[[3.3082]]], device='cuda:0'), tensor([[[3.2778]]], device='cuda:0'), tensor([[[3.2979]]], device='cuda:0'), tensor([[[3.3200]]], device='cuda:0'), tensor([[[3.3240]]], device='cuda:0'), tensor([[[3.3780]]], device='cuda:0'), tensor([[[3.3349]]], device='cuda:0'), tensor([[[3.3423]]], device='cuda:0'), tensor([[[3.3384]]], device='cuda:0'), tensor([[[3.3378]]], device='cuda:0'), tensor([[[3.5486]]], device='cuda:0'), tensor([[[3.4453]]], device='cuda:0'), tensor([[[3.4306]]], device='cuda:0'), tensor([[[3.4300]]], device='cuda:0'), tensor([[[3.4385]]], device='cuda:0'), tensor([[[3.4393]]], device='cuda:0'), tensor([[[3.4290]]], device='cuda:0'), tensor([[[3.6074]]], device='cuda:0'), tensor([[[3.5803]]], device='cuda:0'), tensor([[[3.4925]]], device='cuda:0'), tensor([[[3.5075]]], device='cuda:0'), tensor([[[3.5520]]], device='cuda:0'), tensor([[[3.5656]]], device='cuda:0'), tensor([[[3.5577]]], device='cuda:0'), tensor([[[3.5181]]], device='cuda:0'), tensor([[[3.5090]]], device='cuda:0'), tensor([[[3.5015]]], device='cuda:0'), tensor([[[3.5289]]], device='cuda:0'), tensor([[[3.5836]]], device='cuda:0'), tensor([[[3.4735]]], device='cuda:0'), tensor([[[3.4218]]], device='cuda:0'), tensor([[[3.4537]]], device='cuda:0'), tensor([[[3.4355]]], device='cuda:0'), tensor([[[3.4415]]], device='cuda:0'), tensor([[[3.4368]]], device='cuda:0'), tensor([[[3.4889]]], device='cuda:0'), tensor([[[3.5076]]], device='cuda:0'), tensor([[[3.5233]]], device='cuda:0'), tensor([[[3.5248]]], device='cuda:0'), tensor([[[3.5341]]], device='cuda:0'), tensor([[[3.5216]]], device='cuda:0'), tensor([[[3.5177]]], device='cuda:0'), tensor([[[3.4928]]], device='cuda:0'), tensor([[[3.4976]]], device='cuda:0'), tensor([[[3.4901]]], device='cuda:0'), tensor([[[3.4569]]], device='cuda:0'), tensor([[[3.4468]]], device='cuda:0'), tensor([[[3.4924]]], device='cuda:0'), tensor([[[3.4817]]], device='cuda:0'), tensor([[[3.5337]]], device='cuda:0'), tensor([[[3.4356]]], device='cuda:0'), tensor([[[3.3916]]], device='cuda:0'), tensor([[[3.3404]]], device='cuda:0'), tensor([[[3.4736]]], device='cuda:0'), tensor([[[3.3995]]], device='cuda:0'), tensor([[[3.3543]]], device='cuda:0'), tensor([[[3.3128]]], device='cuda:0'), tensor([[[3.2873]]], device='cuda:0'), tensor([[[3.2780]]], device='cuda:0'), tensor([[[3.2664]]], device='cuda:0'), tensor([[[3.2628]]], device='cuda:0'), tensor([[[3.2594]]], device='cuda:0'), tensor([[[3.2619]]], device='cuda:0'), tensor([[[3.2359]]], device='cuda:0'), tensor([[[3.2490]]], device='cuda:0'), tensor([[[3.2983]]], device='cuda:0'), tensor([[[3.3056]]], device='cuda:0'), tensor([[[3.2835]]], device='cuda:0'), tensor([[[3.2988]]], device='cuda:0'), tensor([[[3.3552]]], device='cuda:0'), tensor([[[3.2716]]], device='cuda:0'), tensor([[[3.3148]]], device='cuda:0'), tensor([[[3.1939]]], device='cuda:0'), tensor([[[3.1874]]], device='cuda:0'), tensor([[[3.1933]]], device='cuda:0'), tensor([[[3.3766]]], device='cuda:0'), tensor([[[3.2587]]], device='cuda:0'), tensor([[[3.2464]]], device='cuda:0'), tensor([[[3.2124]]], device='cuda:0'), tensor([[[3.1734]]], device='cuda:0'), tensor([[[3.1970]]], device='cuda:0'), tensor([[[3.1713]]], device='cuda:0'), tensor([[[3.1241]]], device='cuda:0'), tensor([[[3.1527]]], device='cuda:0'), tensor([[[3.1064]]], device='cuda:0'), tensor([[[3.1243]]], device='cuda:0'), tensor([[[3.1373]]], device='cuda:0'), tensor([[[3.1642]]], device='cuda:0'), tensor([[[3.2181]]], device='cuda:0'), tensor([[[3.1974]]], device='cuda:0'), tensor([[[3.1706]]], device='cuda:0'), tensor([[[3.1450]]], device='cuda:0'), tensor([[[3.1637]]], device='cuda:0'), tensor([[[3.1457]]], device='cuda:0'), tensor([[[3.1588]]], device='cuda:0'), tensor([[[3.1791]]], device='cuda:0'), tensor([[[3.1571]]], device='cuda:0'), tensor([[[3.0919]]], device='cuda:0'), tensor([[[3.1076]]], device='cuda:0'), tensor([[[3.1081]]], device='cuda:0'), tensor([[[3.1508]]], device='cuda:0'), tensor([[[3.1152]]], device='cuda:0'), tensor([[[3.1201]]], device='cuda:0'), tensor([[[3.2740]]], device='cuda:0'), tensor([[[3.0631]]], device='cuda:0'), tensor([[[3.1329]]], device='cuda:0'), tensor([[[3.2476]]], device='cuda:0'), tensor([[[3.1642]]], device='cuda:0'), tensor([[[3.1297]]], device='cuda:0'), tensor([[[3.1386]]], device='cuda:0'), tensor([[[3.0956]]], device='cuda:0'), tensor([[[3.0688]]], device='cuda:0'), tensor([[[3.0997]]], device='cuda:0'), tensor([[[3.1113]]], device='cuda:0'), tensor([[[3.1567]]], device='cuda:0'), tensor([[[3.1589]]], device='cuda:0'), tensor([[[3.2013]]], device='cuda:0'), tensor([[[2.9771]]], device='cuda:0'), tensor([[[3.0164]]], device='cuda:0'), tensor([[[3.0012]]], device='cuda:0'), tensor([[[3.1317]]], device='cuda:0'), tensor([[[2.9546]]], device='cuda:0'), tensor([[[2.8903]]], device='cuda:0'), tensor([[[2.9681]]], device='cuda:0'), tensor([[[2.9503]]], device='cuda:0'), tensor([[[2.9058]]], device='cuda:0'), tensor([[[2.9003]]], device='cuda:0'), tensor([[[2.9126]]], device='cuda:0'), tensor([[[3.1637]]], device='cuda:0'), tensor([[[2.9429]]], device='cuda:0'), tensor([[[3.1000]]], device='cuda:0'), tensor([[[3.1195]]], device='cuda:0'), tensor([[[3.0452]]], device='cuda:0'), tensor([[[3.2924]]], device='cuda:0'), tensor([[[3.1906]]], device='cuda:0'), tensor([[[3.1460]]], device='cuda:0'), tensor([[[3.0571]]], device='cuda:0'), tensor([[[2.8578]]], device='cuda:0'), tensor([[[2.9188]]], device='cuda:0'), tensor([[[2.9560]]], device='cuda:0'), tensor([[[2.9404]]], device='cuda:0'), tensor([[[2.8723]]], device='cuda:0'), tensor([[[2.8750]]], device='cuda:0'), tensor([[[2.9647]]], device='cuda:0'), tensor([[[3.0634]]], device='cuda:0'), tensor([[[2.8863]]], device='cuda:0'), tensor([[[2.8617]]], device='cuda:0'), tensor([[[2.9000]]], device='cuda:0'), tensor([[[3.0456]]], device='cuda:0'), tensor([[[2.9929]]], device='cuda:0'), tensor([[[3.2257]]], device='cuda:0'), tensor([[[2.9503]]], device='cuda:0'), tensor([[[2.9520]]], device='cuda:0'), tensor([[[2.9055]]], device='cuda:0'), tensor([[[2.8833]]], device='cuda:0'), tensor([[[2.8801]]], device='cuda:0'), tensor([[[3.1843]]], device='cuda:0'), tensor([[[2.9309]]], device='cuda:0'), tensor([[[2.9403]]], device='cuda:0'), tensor([[[2.9081]]], device='cuda:0'), tensor([[[3.1111]]], device='cuda:0'), tensor([[[3.9224]]], device='cuda:0'), tensor([[[3.5540]]], device='cuda:0'), tensor([[[3.2636]]], device='cuda:0'), tensor([[[3.1190]]], device='cuda:0'), tensor([[[3.0988]]], device='cuda:0'), tensor([[[3.1492]]], device='cuda:0'), tensor([[[3.1323]]], device='cuda:0'), tensor([[[3.1077]]], device='cuda:0'), tensor([[[3.1322]]], device='cuda:0'), tensor([[[3.1398]]], device='cuda:0'), tensor([[[3.1775]]], device='cuda:0'), tensor([[[3.2093]]], device='cuda:0'), tensor([[[3.1813]]], device='cuda:0'), tensor([[[3.1760]]], device='cuda:0'), tensor([[[3.2292]]], device='cuda:0'), tensor([[[3.7522]]], device='cuda:0'), tensor([[[3.6060]]], device='cuda:0'), tensor([[[3.4675]]], device='cuda:0'), tensor([[[3.3582]]], device='cuda:0'), tensor([[[3.3048]]], device='cuda:0'), tensor([[[3.2633]]], device='cuda:0'), tensor([[[3.2674]]], device='cuda:0'), tensor([[[3.2585]]], device='cuda:0'), tensor([[[3.2429]]], device='cuda:0'), tensor([[[3.2522]]], device='cuda:0'), tensor([[[3.2448]]], device='cuda:0'), tensor([[[3.2048]]], device='cuda:0'), tensor([[[3.1903]]], device='cuda:0'), tensor([[[3.1481]]], device='cuda:0'), tensor([[[3.1520]]], device='cuda:0'), tensor([[[3.1645]]], device='cuda:0'), tensor([[[3.1660]]], device='cuda:0'), tensor([[[3.1712]]], device='cuda:0'), tensor([[[3.1802]]], device='cuda:0'), tensor([[[3.2001]]], device='cuda:0'), tensor([[[3.2284]]], device='cuda:0'), tensor([[[3.2570]]], device='cuda:0'), tensor([[[3.5479]]], device='cuda:0'), tensor([[[3.2325]]], device='cuda:0'), tensor([[[3.2244]]], device='cuda:0'), tensor([[[3.1745]]], device='cuda:0'), tensor([[[3.1422]]], device='cuda:0'), tensor([[[3.1329]]], device='cuda:0'), tensor([[[3.1300]]], device='cuda:0'), tensor([[[3.1277]]], device='cuda:0'), tensor([[[3.2179]]], device='cuda:0'), tensor([[[3.1687]]], device='cuda:0'), tensor([[[3.1447]]], device='cuda:0'), tensor([[[3.1358]]], device='cuda:0'), tensor([[[3.1852]]], device='cuda:0'), tensor([[[3.1785]]], device='cuda:0'), tensor([[[3.1435]]], device='cuda:0'), tensor([[[3.1467]]], device='cuda:0'), tensor([[[3.1677]]], device='cuda:0'), tensor([[[3.1834]]], device='cuda:0'), tensor([[[3.1793]]], device='cuda:0'), tensor([[[3.1662]]], device='cuda:0'), tensor([[[3.1345]]], device='cuda:0')]\n"
          ],
          "name": "stdout"
        },
        {
          "output_type": "execute_result",
          "data": {
            "text/plain": [
              "Text(0.5, 1.0, 'pred vs real')"
            ]
          },
          "metadata": {
            "tags": []
          },
          "execution_count": 49
        },
        {
          "output_type": "display_data",
          "data": {
            "image/png": "[encoded data removed]",
            "text/plain": [
              "<Figure size 1440x720 with 1 Axes>"
            ]
          },
          "metadata": {
            "tags": [],
            "needs_background": "light"
          }
        }
      ]
    }
  ]
}