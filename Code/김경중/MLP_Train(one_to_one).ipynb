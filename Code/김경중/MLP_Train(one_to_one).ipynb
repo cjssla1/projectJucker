{
  "nbformat": 4,
  "nbformat_minor": 0,
  "metadata": {
    "colab": {
      "name": "MLP_Train(one to one).ipynb",
      "provenance": [],
      "collapsed_sections": [],
      "authorship_tag": "ABX9TyM0xdemmjVO5yVBsNyxbUTw"
    },
    "kernelspec": {
      "name": "python3",
      "display_name": "Python 3"
    },
    "accelerator": "GPU"
  },
  "cells": [
    {
      "cell_type": "code",
      "metadata": {
        "id": "Nx04U5ab9uaC",
        "colab_type": "code",
        "outputId": "b2a07b3b-2b36-4bfb-b39f-44fb0a4d9763",
        "colab": {
          "base_uri": "https://localhost:8080/",
          "height": 341
        }
      },
      "source": [
        "#파이토치 인스톨\n",
        "!pip install torch torchvision\n",
        "!pip install -U finance-datareader\n",
        "import FinanceDataReader as fdr\n",
        "import datetime\n",
        "import torch\n",
        "import torch.nn as nn\n",
        "from torch.utils.data import Dataset, DataLoader\n",
        "import torch.optim as optim\n",
        "import numpy as np\n",
        "import argparse\n",
        "import time\n",
        "from copy import deepcopy # Add Deepcopy for args\n",
        "from sklearn.metrics import mean_absolute_error"
      ],
      "execution_count": 31,
      "outputs": [
        {
          "output_type": "stream",
          "text": [
            "Requirement already satisfied: torch in /usr/local/lib/python3.6/dist-packages (1.5.0+cu101)\n",
            "Requirement already satisfied: torchvision in /usr/local/lib/python3.6/dist-packages (0.6.0+cu101)\n",
            "Requirement already satisfied: future in /usr/local/lib/python3.6/dist-packages (from torch) (0.16.0)\n",
            "Requirement already satisfied: numpy in /usr/local/lib/python3.6/dist-packages (from torch) (1.18.4)\n",
            "Requirement already satisfied: pillow>=4.1.1 in /usr/local/lib/python3.6/dist-packages (from torchvision) (7.0.0)\n",
            "Requirement already up-to-date: finance-datareader in /usr/local/lib/python3.6/dist-packages (0.9.6)\n",
            "Requirement already satisfied, skipping upgrade: lxml in /usr/local/lib/python3.6/dist-packages (from finance-datareader) (4.2.6)\n",
            "Requirement already satisfied, skipping upgrade: pandas>=0.19.2 in /usr/local/lib/python3.6/dist-packages (from finance-datareader) (1.0.3)\n",
            "Requirement already satisfied, skipping upgrade: requests>=2.3.0 in /usr/local/lib/python3.6/dist-packages (from finance-datareader) (2.23.0)\n",
            "Requirement already satisfied, skipping upgrade: requests-file in /usr/local/lib/python3.6/dist-packages (from finance-datareader) (1.5.1)\n",
            "Requirement already satisfied, skipping upgrade: python-dateutil>=2.6.1 in /usr/local/lib/python3.6/dist-packages (from pandas>=0.19.2->finance-datareader) (2.8.1)\n",
            "Requirement already satisfied, skipping upgrade: pytz>=2017.2 in /usr/local/lib/python3.6/dist-packages (from pandas>=0.19.2->finance-datareader) (2018.9)\n",
            "Requirement already satisfied, skipping upgrade: numpy>=1.13.3 in /usr/local/lib/python3.6/dist-packages (from pandas>=0.19.2->finance-datareader) (1.18.4)\n",
            "Requirement already satisfied, skipping upgrade: urllib3!=1.25.0,!=1.25.1,<1.26,>=1.21.1 in /usr/local/lib/python3.6/dist-packages (from requests>=2.3.0->finance-datareader) (1.24.3)\n",
            "Requirement already satisfied, skipping upgrade: certifi>=2017.4.17 in /usr/local/lib/python3.6/dist-packages (from requests>=2.3.0->finance-datareader) (2020.4.5.1)\n",
            "Requirement already satisfied, skipping upgrade: chardet<4,>=3.0.2 in /usr/local/lib/python3.6/dist-packages (from requests>=2.3.0->finance-datareader) (3.0.4)\n",
            "Requirement already satisfied, skipping upgrade: idna<3,>=2.5 in /usr/local/lib/python3.6/dist-packages (from requests>=2.3.0->finance-datareader) (2.9)\n",
            "Requirement already satisfied, skipping upgrade: six in /usr/local/lib/python3.6/dist-packages (from requests-file->finance-datareader) (1.12.0)\n"
          ],
          "name": "stdout"
        }
      ]
    },
    {
      "cell_type": "code",
      "metadata": {
        "id": "FYjn1Z4e96kx",
        "colab_type": "code",
        "outputId": "56bc86b3-d28f-40ed-d045-214777812cc3",
        "colab": {
          "base_uri": "https://localhost:8080/",
          "height": 35
        }
      },
      "source": [
        "%matplotlib inline\n",
        "#데이터 생성과 화면 표시를 위한 라이브러리 호출\n",
        "import matplotlib.pyplot as plt\n",
        "from mpl_toolkits import mplot3d\n",
        "\n",
        "#실험결과 비교를 위해 시드 고정\n",
        "seed = 444\n",
        "np.random.seed(seed)\n",
        "torch.manual_seed(seed)"
      ],
      "execution_count": 32,
      "outputs": [
        {
          "output_type": "execute_result",
          "data": {
            "text/plain": [
              "<torch._C.Generator at 0x7f64ed020790>"
            ]
          },
          "metadata": {
            "tags": []
          },
          "execution_count": 32
        }
      ]
    },
    {
      "cell_type": "code",
      "metadata": {
        "id": "zuXOQqXuBeVy",
        "colab_type": "code",
        "colab": {}
      },
      "source": [
        "class stockDataset(Dataset):\n",
        "    \n",
        "    def __init__(self, symbol, x_frames, y_frames):\n",
        "        \n",
        "        self.symbol = symbol\n",
        "        self.x_frames = x_frames\n",
        "        self.y_frames = y_frames\n",
        "        \n",
        "        self.start = datetime.datetime.now() - datetime.timedelta(days=(x_frames+y_frames)*2+10)\n",
        "        self.end = datetime.date.today()\n",
        "        self.data = fdr.DataReader(self.symbol, self.start, self.end)\n",
        "        self.data = self.data.tail(x_frames+y_frames)\n",
        "        print(self.data.isna().sum())\n",
        "        \n",
        "    def __len__(self):\n",
        "        return len(self.data) - (self.x_frames + self.y_frames) + 1\n",
        "    \n",
        "    def __getitem__(self, idx):\n",
        "        idx += self.x_frames\n",
        "        data = self.data.iloc[idx-self.x_frames:idx+self.y_frames]\n",
        "        data = data[['High', 'Low', 'Open', 'Close', 'Change', 'Volume']]\n",
        "        data = data.apply(lambda x: (x+1) / (x[self.x_frames-1]+1))\n",
        "        data = data.values\n",
        "        X = data[:self.x_frames]\n",
        "        y = data[self.x_frames:]\n",
        "        \n",
        "        return X, y"
      ],
      "execution_count": 0,
      "outputs": []
    },
    {
      "cell_type": "code",
      "metadata": {
        "id": "6pXbe3OHNAc6",
        "colab_type": "code",
        "colab": {}
      },
      "source": [
        "class StockDataset(Dataset):\n",
        "    \n",
        "    def __init__(self, symbol, x_frames, y_frames, start, end):\n",
        "        \n",
        "        self.symbol = symbol\n",
        "        self.x_frames = x_frames\n",
        "        self.y_frames = y_frames\n",
        "        \n",
        "        self.start = datetime.datetime(*start)\n",
        "        self.end = datetime.datetime(*end)\n",
        "\n",
        "        self.data = fdr.DataReader(self.symbol, self.start, self.end)\n",
        "        print(self.data.isna().sum())\n",
        "        \n",
        "    def __len__(self):\n",
        "        return len(self.data) - (self.x_frames + self.y_frames) + 1\n",
        "    \n",
        "    def __getitem__(self, idx):\n",
        "        idx += self.x_frames\n",
        "        data = self.data.iloc[idx-self.x_frames:idx+self.y_frames]\n",
        "        data = data[['High', 'Low', 'Open', 'Close', 'Change', 'Volume']]\n",
        "        if self.x_frames > 1:\n",
        "            data = data.apply(lambda x: (x+1) / (x[self.x_frames-1]+1))\n",
        "        else:\n",
        "            data = data.apply(lambda x: (x+1) / (10000))\n",
        "        data = data.values\n",
        "        X = data[:self.x_frames]\n",
        "        y = data[self.x_frames:]\n",
        "        \n",
        "        return X, y"
      ],
      "execution_count": 0,
      "outputs": []
    },
    {
      "cell_type": "code",
      "metadata": {
        "id": "r8qxu117W9cQ",
        "colab_type": "code",
        "colab": {}
      },
      "source": [
        "# 모델 정의\n",
        "    \n",
        "class MLPModel(nn.Module):\n",
        "    # input = 입력값 개수, output = 출력값 개수\n",
        "    def __init__(self,_input,_output,_hidden_layers): \n",
        "        super(MLPModel, self).__init__()\n",
        "        self.inputv = _input\n",
        "        self.outputv = _output\n",
        "        nodes = [_input] + _hidden_layers + [_output]\n",
        "        self.depth = len(nodes)\n",
        "        linears = [nn.Linear(nodes[i], nodes[i+1]) for i in range(self.depth-1)]\n",
        "        self.linears = nn.ModuleList(linears)\n",
        "        self.relu = nn.ReLU()\n",
        "        \n",
        "    \n",
        "    def forward(self, x):\n",
        "    # 인스턴스(샘플) x가 인풋으로 들어왔을 때 모델이 예측하는 y값을 리턴합니다.\n",
        "        for linear in self.linears[:-1]: \n",
        "          x = linear(x)\n",
        "          x = self.relu(x)\n",
        "        x = self.linears[-1](x)\n",
        "\n",
        "        return x"
      ],
      "execution_count": 0,
      "outputs": []
    },
    {
      "cell_type": "code",
      "metadata": {
        "id": "aOCWllGDKzDY",
        "colab_type": "code",
        "colab": {}
      },
      "source": [
        "\n",
        "#trainloader = torch.cat(trainloader).view(len(trainloader), batch_size, -1)\n",
        "def train(model, trainset, optimizer, loss_fn,device):\n",
        "    trainloader = DataLoader(trainset, shuffle=True, drop_last=True)\n",
        "\n",
        "    model.train()\n",
        "    model.zero_grad()\n",
        "    optimizer.zero_grad()\n",
        "\n",
        "    train_acc = 0.0\n",
        "    train_loss = 0.0\n",
        "    for i, (X, y) in enumerate(trainloader):\n",
        "\n",
        "        X = X.float().to(device)\n",
        "        y_true = y[:, :, 3].float().to(device)\n",
        "\n",
        "        model.zero_grad()\n",
        "        optimizer.zero_grad()\n",
        "\n",
        "        y_pred = model(X)\n",
        "        loss = loss_fn(y_pred.view(-1), y_true.view(-1))\n",
        "        \n",
        "        loss.backward()\n",
        "        optimizer.step()\n",
        "\n",
        "        train_loss += loss.item()\n",
        "\n",
        "    train_loss = train_loss / len(trainloader)\n",
        "    return model, train_loss"
      ],
      "execution_count": 0,
      "outputs": []
    },
    {
      "cell_type": "code",
      "metadata": {
        "id": "DS8T4O1afl8T",
        "colab_type": "code",
        "colab": {}
      },
      "source": [
        "def validate(model, valset, loss_fn,device):\n",
        "    valloader = DataLoader(valset, shuffle=False, drop_last=True)\n",
        "    model.eval()\n",
        "\n",
        "    val_loss = 0.0\n",
        "    with torch.no_grad():\n",
        "        for i, (X, y) in enumerate(valloader):\n",
        "\n",
        "            X = X.float().to(device)\n",
        "            y_true = y[:, :, 3].float().to(device)\n",
        "\n",
        "            y_pred = model(X)\n",
        "            loss = loss_fn(y_pred.view(-1), y_true.view(-1))\n",
        "\n",
        "            val_loss += loss.item()\n",
        "\n",
        "    val_loss = val_loss / len(valloader)\n",
        "    return val_loss\n"
      ],
      "execution_count": 0,
      "outputs": []
    },
    {
      "cell_type": "code",
      "metadata": {
        "id": "A_4lkKzlUIzw",
        "colab_type": "code",
        "colab": {}
      },
      "source": [
        "def test(model, testStock, loss_fn, device):\n",
        "    testloader = DataLoader(testStock, shuffle=False, drop_last=True)\n",
        "    model.eval()\n",
        "\n",
        "    test_acc = 0.0\n",
        "    with torch.no_grad():\n",
        "        for i, (X, y) in enumerate(testloader):\n",
        "\n",
        "            X = X.float().to(device)\n",
        "            y_true = y[:, :, 3].float().to(device)\n",
        "            \n",
        "            y_pred = model(X)\n",
        "            loss = loss_fn(y_pred.view(-1), y_true.view(-1))\n",
        "\n",
        "            test_acc += loss.item()\n",
        "\n",
        "    test_acc = test_acc / len(testloader)\n",
        "    return test_acc"
      ],
      "execution_count": 0,
      "outputs": []
    },
    {
      "cell_type": "code",
      "metadata": {
        "id": "srOp6JjQN1Q_",
        "colab_type": "code",
        "outputId": "9b252dd1-545f-4469-8890-47c7892e414b",
        "colab": {
          "base_uri": "https://localhost:8080/",
          "height": 395
        }
      },
      "source": [
        "trainset = StockDataset('001040',1,1,(2018,5,1),(2020,5,20))\n",
        "valset = StockDataset('005930',1,1,(2018,5,1),(2020,5,20))\n",
        "testset = StockDataset('005930',1,1,(2015,1,1),(2015,12,30))"
      ],
      "execution_count": 39,
      "outputs": [
        {
          "output_type": "stream",
          "text": [
            "Open      0\n",
            "High      0\n",
            "Low       0\n",
            "Close     0\n",
            "Volume    0\n",
            "Change    0\n",
            "dtype: int64\n",
            "Open      0\n",
            "High      0\n",
            "Low       0\n",
            "Close     0\n",
            "Volume    0\n",
            "Change    0\n",
            "dtype: int64\n",
            "Open      0\n",
            "High      0\n",
            "Low       0\n",
            "Close     0\n",
            "Volume    0\n",
            "Change    0\n",
            "dtype: int64\n"
          ],
          "name": "stdout"
        }
      ]
    },
    {
      "cell_type": "code",
      "metadata": {
        "id": "KGqgLAlGPBwT",
        "colab_type": "code",
        "outputId": "9a2404ab-79b0-4612-dbd4-442bf9654449",
        "colab": {
          "base_uri": "https://localhost:8080/",
          "height": 251
        }
      },
      "source": [
        "batch_size = 1\n",
        "input_dim = 6\n",
        "hidden_dim = 50\n",
        "output_dim = 1\n",
        "layers = [200,100,50,25,15,10,5]\n",
        "epoch = 10\n",
        "\n",
        "model = MLPModel(input_dim,output_dim,layers)\n",
        "loss_fn = torch.nn.MSELoss()\n",
        "optimizer = optim.Adam(model.parameters(), lr=0.01)\n",
        "device = 'cuda' if torch.cuda.is_available() else 'cpu'\n",
        "model.to(device)"
      ],
      "execution_count": 40,
      "outputs": [
        {
          "output_type": "execute_result",
          "data": {
            "text/plain": [
              "MLPModel(\n",
              "  (linears): ModuleList(\n",
              "    (0): Linear(in_features=6, out_features=200, bias=True)\n",
              "    (1): Linear(in_features=200, out_features=100, bias=True)\n",
              "    (2): Linear(in_features=100, out_features=50, bias=True)\n",
              "    (3): Linear(in_features=50, out_features=25, bias=True)\n",
              "    (4): Linear(in_features=25, out_features=15, bias=True)\n",
              "    (5): Linear(in_features=15, out_features=10, bias=True)\n",
              "    (6): Linear(in_features=10, out_features=5, bias=True)\n",
              "    (7): Linear(in_features=5, out_features=1, bias=True)\n",
              "  )\n",
              "  (relu): ReLU()\n",
              ")"
            ]
          },
          "metadata": {
            "tags": []
          },
          "execution_count": 40
        }
      ]
    },
    {
      "cell_type": "code",
      "metadata": {
        "id": "Z4U0U_TdV9xC",
        "colab_type": "code",
        "colab": {}
      },
      "source": [
        "list_epoch = []\n",
        "list_train_loss = []\n",
        "list_val_loss = []"
      ],
      "execution_count": 0,
      "outputs": []
    },
    {
      "cell_type": "code",
      "metadata": {
        "id": "0PL7AhfyPjkA",
        "colab_type": "code",
        "outputId": "6f275f3c-b18d-4b86-a466-af4bcb926c9b",
        "colab": {
          "base_uri": "https://localhost:8080/",
          "height": 215
        }
      },
      "source": [
        "for e in range(epoch):  # loop over the dataset multiple times\n",
        "        ts = time.time()\n",
        "        model, train_loss = train(model, trainset ,optimizer, loss_fn,device)\n",
        "        val_loss = validate(model, valset, loss_fn,device)\n",
        "        te = time.time()\n",
        "\n",
        "        list_epoch.append(e)\n",
        "        list_train_loss.append(train_loss)\n",
        "        list_val_loss.append(val_loss)\n",
        "        print('Epoch {}, Loss(train/val) {:2.5f}/{:2.5f}. Took {:2.2f} sec'.format(e, train_loss, val_loss, te-ts))\n",
        "\n",
        "test_acc = test(model, testset, loss_fn,device)\n",
        "print(test_acc)"
      ],
      "execution_count": 42,
      "outputs": [
        {
          "output_type": "stream",
          "text": [
            "Epoch 0, Loss(train/val) 2.17272/5490.50190. Took 6.72 sec\n",
            "Epoch 1, Loss(train/val) 0.95095/2962.68055. Took 6.59 sec\n",
            "Epoch 2, Loss(train/val) 0.48495/978.98430. Took 6.40 sec\n",
            "Epoch 3, Loss(train/val) 0.46615/2375.66675. Took 6.49 sec\n",
            "Epoch 4, Loss(train/val) 0.58535/1882.72890. Took 6.46 sec\n",
            "Epoch 5, Loss(train/val) 0.29639/1294.18623. Took 6.38 sec\n",
            "Epoch 6, Loss(train/val) 0.45171/3477.47019. Took 6.39 sec\n",
            "Epoch 7, Loss(train/val) 0.40058/765.15761. Took 6.59 sec\n",
            "Epoch 8, Loss(train/val) 0.50430/1953.16214. Took 6.59 sec\n",
            "Epoch 9, Loss(train/val) 0.47941/814.36698. Took 6.48 sec\n",
            "0.4246196795692328\n"
          ],
          "name": "stdout"
        }
      ]
    },
    {
      "cell_type": "code",
      "metadata": {
        "id": "OANyPaziXbLe",
        "colab_type": "code",
        "colab": {}
      },
      "source": [
        "class pltClass():\n",
        "\n",
        "    def __init__(self,_list_epoch, _list_train_loss, _list_val_loss):\n",
        "        self.list_epoch = _list_epoch\n",
        "        self.list_train_loss= _list_train_loss\n",
        "        self.list_val_loss = _list_val_loss\n",
        "\n",
        "\n",
        "    def printFigure(self):\n",
        "        fig = plt.figure(figsize=(24,5))\n",
        "\n",
        "\n",
        "        # ====== train plot ====== #\n",
        "        ax3 = fig.add_subplot(1, 2, 1)\n",
        "        ax3.plot(self.list_epoch, self.list_train_loss, marker='x', label='train')\n",
        "\n",
        "        ax3.set_xlabel('epoch')\n",
        "        ax3.set_ylabel('loss')\n",
        "        ax3.grid()\n",
        "        ax3.legend()\n",
        "        ax3.set_title('epoch vs loss')\n",
        "\n",
        "        # ====== valid plot ====== #\n",
        "        ax2 = fig.add_subplot(1, 2, 2)\n",
        "        ax2.plot(self.list_epoch, self.list_val_loss, '--', label='val')\n",
        "        ax2.set_xlabel('epoch')\n",
        "        ax2.set_ylabel('loss')\n",
        "        #ax1.set_ylim(0, 5)\n",
        "        ax2.grid()\n",
        "        ax2.legend()\n",
        "        ax2.set_title('epoch vs loss')\n",
        "\n",
        "\n",
        "        plt.show()\n",
        "\n"
      ],
      "execution_count": 0,
      "outputs": []
    },
    {
      "cell_type": "code",
      "metadata": {
        "id": "egasKQaTrHJ_",
        "colab_type": "code",
        "colab": {
          "base_uri": "https://localhost:8080/",
          "height": 350
        },
        "outputId": "d013b310-9cef-4e17-d75f-a954351cc435"
      },
      "source": [
        "\n",
        "pltc = pltClass(list_epoch, list_train_loss,list_val_loss)\n",
        "pltc.printFigure()"
      ],
      "execution_count": 44,
      "outputs": [
        {
          "output_type": "display_data",
          "data": {
            "image/png": "[encoded data removed]",
            "text/plain": [
              "<Figure size 1728x360 with 2 Axes>"
            ]
          },
          "metadata": {
            "tags": [],
            "needs_background": "light"
          }
        }
      ]
    },
    {
      "cell_type": "code",
      "metadata": {
        "id": "evdZZfvlBPOl",
        "colab_type": "code",
        "outputId": "86aba0e8-6175-45c2-aff3-3e361817efa6",
        "colab": {
          "base_uri": "https://localhost:8080/",
          "height": 35
        }
      },
      "source": [
        "'''model.to('cpu')\n",
        "model.eval()\n",
        "\n",
        "prediction = model(torch.Tensor(test_X))\n",
        "pred = []\n",
        "real = test_y\n",
        "for i in prediction[:].T:\n",
        "    for j in i:\n",
        "        pred.append(j.item())\n",
        "\n",
        "print(real)\n",
        "print(pred)\n",
        "'''"
      ],
      "execution_count": 45,
      "outputs": [
        {
          "output_type": "execute_result",
          "data": {
            "text/plain": [
              "\"model.to('cpu')\\nmodel.eval()\\n\\nprediction = model(torch.Tensor(test_X))\\npred = []\\nreal = test_y\\nfor i in prediction[:].T:\\n    for j in i:\\n        pred.append(j.item())\\n\\nprint(real)\\nprint(pred)\\n\""
            ]
          },
          "metadata": {
            "tags": []
          },
          "execution_count": 45
        }
      ]
    },
    {
      "cell_type": "code",
      "metadata": {
        "id": "KRUkytQIntur",
        "colab_type": "code",
        "colab": {}
      },
      "source": [
        "#modelPath = '/content/gdrive/My Drive/model.pt'\n",
        "#torch.save(model.state_dict(), modelPath)"
      ],
      "execution_count": 0,
      "outputs": []
    },
    {
      "cell_type": "code",
      "metadata": {
        "id": "M-LdVdn_ThcK",
        "colab_type": "code",
        "outputId": "f8e9ffef-92f0-4092-8b86-a3bc43b8e806",
        "colab": {
          "base_uri": "https://localhost:8080/",
          "height": 55
        }
      },
      "source": [
        "'''fig = plt.figure(figsize=(20,10))\n",
        "xl = [n for n in range(1,len(pred)+1)]\n",
        "\n",
        "# ====== valid plot ====== #\n",
        "ax2 = fig.add_subplot(1, 1, 1)\n",
        "ax2.plot(xl, pred, 'o', label='pred')\n",
        "ax2.plot(xl, real, 'x', label='real')\n",
        "ax2.set_xlabel('len')\n",
        "ax2.set_ylabel('value')\n",
        "#ax1.set_ylim(0, 5)\n",
        "ax2.grid()\n",
        "ax2.legend()\n",
        "ax2.set_title('pred vs real')\n",
        "'''"
      ],
      "execution_count": 47,
      "outputs": [
        {
          "output_type": "execute_result",
          "data": {
            "text/plain": [
              "\"fig = plt.figure(figsize=(20,10))\\nxl = [n for n in range(1,len(pred)+1)]\\n\\n# ====== valid plot ====== #\\nax2 = fig.add_subplot(1, 1, 1)\\nax2.plot(xl, pred, 'o', label='pred')\\nax2.plot(xl, real, 'x', label='real')\\nax2.set_xlabel('len')\\nax2.set_ylabel('value')\\n#ax1.set_ylim(0, 5)\\nax2.grid()\\nax2.legend()\\nax2.set_title('pred vs real')\\n\""
            ]
          },
          "metadata": {
            "tags": []
          },
          "execution_count": 47
        }
      ]
    }
  ]
}